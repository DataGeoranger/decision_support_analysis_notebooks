{
 "cells": [
  {
   "cell_type": "markdown",
   "metadata": {},
   "source": [
    "# Run PESTPP-IES using a variety of available localization techniques"
   ]
  },
  {
   "cell_type": "code",
   "execution_count": null,
   "metadata": {
    "execution": {
     "iopub.execute_input": "2020-11-09T18:31:06.362752Z",
     "iopub.status.busy": "2020-11-09T18:31:06.362112Z",
     "iopub.status.idle": "2020-11-09T18:31:06.958430Z",
     "shell.execute_reply": "2020-11-09T18:31:06.958937Z"
    }
   },
   "outputs": [],
   "source": [
    "%matplotlib inline\n",
    "import os\n",
    "import shutil\n",
    "import numpy as np\n",
    "import pandas as pd\n",
    "import matplotlib.pyplot as plt\n",
    "import matplotlib as mpl\n",
    "plt.rcParams['font.size']=12\n",
    "import flopy\n",
    "import pyemu\n",
    "%matplotlib inline"
   ]
  },
  {
   "cell_type": "markdown",
   "metadata": {},
   "source": [
    "## SUPER IMPORTANT: SET HOW MANY PARALLEL WORKERS TO USE"
   ]
  },
  {
   "cell_type": "code",
   "execution_count": null,
   "metadata": {
    "execution": {
     "iopub.execute_input": "2020-11-09T18:31:06.962091Z",
     "iopub.status.busy": "2020-11-09T18:31:06.961624Z",
     "iopub.status.idle": "2020-11-09T18:31:06.963125Z",
     "shell.execute_reply": "2020-11-09T18:31:06.963661Z"
    }
   },
   "outputs": [],
   "source": [
    "num_workers = 5"
   ]
  },
  {
   "cell_type": "code",
   "execution_count": null,
   "metadata": {
    "execution": {
     "iopub.execute_input": "2020-11-09T18:31:06.966329Z",
     "iopub.status.busy": "2020-11-09T18:31:06.965810Z",
     "iopub.status.idle": "2020-11-09T18:31:06.967127Z",
     "shell.execute_reply": "2020-11-09T18:31:06.967675Z"
    }
   },
   "outputs": [],
   "source": [
    "t_d = \"template_history\"\n",
    "m_d = \"master_ies\""
   ]
  },
  {
   "cell_type": "code",
   "execution_count": null,
   "metadata": {
    "execution": {
     "iopub.execute_input": "2020-11-09T18:31:06.970339Z",
     "iopub.status.busy": "2020-11-09T18:31:06.969874Z",
     "iopub.status.idle": "2020-11-09T18:31:07.024123Z",
     "shell.execute_reply": "2020-11-09T18:31:07.024458Z"
    }
   },
   "outputs": [],
   "source": [
    "m = flopy.modflow.Modflow.load(\"freyberg.nam\",model_ws=t_d,check=False,forgive=False)"
   ]
  },
  {
   "cell_type": "code",
   "execution_count": null,
   "metadata": {
    "execution": {
     "iopub.execute_input": "2020-11-09T18:31:07.046692Z",
     "iopub.status.busy": "2020-11-09T18:31:07.046170Z",
     "iopub.status.idle": "2020-11-09T18:31:07.212165Z",
     "shell.execute_reply": "2020-11-09T18:31:07.212731Z"
    }
   },
   "outputs": [],
   "source": [
    "# plot some model attributes\n",
    "fig = plt.figure(figsize=(12,7))\n",
    "ax = plt.subplot(111,aspect=\"equal\")\n",
    "mm = flopy.plot.PlotMapView(model=m)\n",
    "mm.plot_grid()\n",
    "mm.plot_ibound()\n",
    "mm.plot_bc('SFR')\n",
    "mm.plot_bc(\"GHB\")\n",
    "ax = mm.ax\n",
    "#m.wel.stress_period_data.plot(ax=ax,mflay=2)\n",
    "\n",
    "# plot obs locations\n",
    "obs = pd.read_csv(os.path.join(\"..\",\"base_model_files\",\"obs_loc.csv\"))\n",
    "                  \n",
    "obs_x = [m.sr.xcentergrid[r-1,c-1] for r,c in obs.loc[:,[\"row\",\"col\"]].values]\n",
    "obs_y = [m.sr.ycentergrid[r-1,c-1] for r,c in obs.loc[:,[\"row\",\"col\"]].values]\n",
    "ax.scatter(obs_x,obs_y,marker='.',label=\"water-level obs\",s=80)\n",
    "\n",
    "#plot names on the pumping well locations\n",
    "wel_data = m.wel.stress_period_data[0]\n",
    "wel_x = m.sr.xcentergrid[wel_data[\"i\"],wel_data[\"j\"]]\n",
    "wel_y = m.sr.ycentergrid[wel_data[\"i\"],wel_data[\"j\"]]\n",
    "for i,(x,y) in enumerate(zip(wel_x,wel_y)):\n",
    "    ax.scatter([x],[y],color=\"red\",marker=\"s\",s=50)\n",
    "    #ax.text(x,y,\"{0}\".format(i+1),ha=\"center\",va=\"center\")\n",
    "\n",
    "ax.set_ylabel(\"y(m)\")\n",
    "ax.set_xlabel(\"x(m)\")\n",
    "plt.show()"
   ]
  },
  {
   "cell_type": "code",
   "execution_count": null,
   "metadata": {
    "execution": {
     "iopub.execute_input": "2020-11-09T18:31:07.217711Z",
     "iopub.status.busy": "2020-11-09T18:31:07.217264Z",
     "iopub.status.idle": "2020-11-09T18:31:07.378960Z",
     "shell.execute_reply": "2020-11-09T18:31:07.379376Z"
    }
   },
   "outputs": [],
   "source": [
    "pst = pyemu.Pst(os.path.join(t_d,\"freyberg.pst\"))\n",
    "#pst.write_par_summary_table(filename=\"none\")"
   ]
  },
  {
   "cell_type": "code",
   "execution_count": null,
   "metadata": {
    "execution": {
     "iopub.execute_input": "2020-11-09T18:31:07.395615Z",
     "iopub.status.busy": "2020-11-09T18:31:07.395012Z",
     "iopub.status.idle": "2020-11-09T18:31:08.062418Z",
     "shell.execute_reply": "2020-11-09T18:31:08.062887Z"
    }
   },
   "outputs": [],
   "source": [
    "#pst.pestpp_options = {}\n",
    "pst.pestpp_options[\"ies_num_reals\"] = 50  # enough?\n",
    "pst.pestpp_options[\"ies_par_en\"] = \"prior.jcb\"\n",
    "pst.pestpp_options[\"ies_bad_phi_sigma\"] = 1.5\n",
    "pst.pestpp_options[\"overdue_giveup_fac\"] = 1.5\n",
    "pst.pestpp_options[\"ies_save_rescov\"] = True\n",
    "pst.control_data.noptmax = 3\n",
    "pst.pestpp_options[\"ies_drop_conflicts\"] = True\n",
    "pst.pestpp_options[\"ies_pdc_sigma_distance\"] = 2.0\n",
    "pst.pestpp_options[\"ies_no_noise\"] = True\n",
    "pst.write(os.path.join(t_d,\"freyberg_ies.pst\"))\n"
   ]
  },
  {
   "cell_type": "markdown",
   "metadata": {},
   "source": [
    "### PESTPP-IES with simple temporal localization (and common sense)\n",
    "\n",
    "Now let's add some localization.  The obvious stuff is temporal - scenario parameters can't influence historic observations (and the inverse is true) so let's tell PESTPP-IES about this.  Also, should porosity be adjusted at all given the observations we have???"
   ]
  },
  {
   "cell_type": "code",
   "execution_count": null,
   "metadata": {
    "execution": {
     "iopub.execute_input": "2020-11-09T18:31:08.066069Z",
     "iopub.status.busy": "2020-11-09T18:31:08.065611Z",
     "iopub.status.idle": "2020-11-09T18:31:08.077786Z",
     "shell.execute_reply": "2020-11-09T18:31:08.078223Z"
    }
   },
   "outputs": [],
   "source": [
    "arr_df = pd.read_csv(os.path.join(t_d,\"arr_pars.csv\"),index_col=0)\n",
    "arr_df = arr_df.loc[arr_df.model_file.apply(lambda x: \"rech\" in x),:]\n",
    "arr_df.head()"
   ]
  },
  {
   "cell_type": "code",
   "execution_count": null,
   "metadata": {
    "execution": {
     "iopub.execute_input": "2020-11-09T18:31:08.082055Z",
     "iopub.status.busy": "2020-11-09T18:31:08.081528Z",
     "iopub.status.idle": "2020-11-09T18:31:08.083852Z",
     "shell.execute_reply": "2020-11-09T18:31:08.084294Z"
    }
   },
   "outputs": [],
   "source": [
    "# find which recharge par groups apply across all stress periods\n",
    "vc = arr_df.prefix.value_counts()\n",
    "vc = vc[vc > 1]\n",
    "broadcast_rch_prefixes = list(vc.index.values)\n",
    "broadcast_rch_prefixes"
   ]
  },
  {
   "cell_type": "code",
   "execution_count": null,
   "metadata": {
    "execution": {
     "iopub.execute_input": "2020-11-09T18:31:08.087105Z",
     "iopub.status.busy": "2020-11-09T18:31:08.086694Z",
     "iopub.status.idle": "2020-11-09T18:31:08.088422Z",
     "shell.execute_reply": "2020-11-09T18:31:08.088845Z"
    }
   },
   "outputs": [],
   "source": [
    "arr_df = arr_df.loc[arr_df.prefix.apply(lambda x: x not in broadcast_rch_prefixes),:]"
   ]
  },
  {
   "cell_type": "code",
   "execution_count": null,
   "metadata": {
    "execution": {
     "iopub.execute_input": "2020-11-09T18:31:08.097367Z",
     "iopub.status.busy": "2020-11-09T18:31:08.096815Z",
     "iopub.status.idle": "2020-11-09T18:31:08.098806Z",
     "shell.execute_reply": "2020-11-09T18:31:08.099231Z"
    }
   },
   "outputs": [],
   "source": [
    "arr_df.head()"
   ]
  },
  {
   "cell_type": "code",
   "execution_count": null,
   "metadata": {
    "execution": {
     "iopub.execute_input": "2020-11-09T18:31:08.103122Z",
     "iopub.status.busy": "2020-11-09T18:31:08.102715Z",
     "iopub.status.idle": "2020-11-09T18:31:08.104209Z",
     "shell.execute_reply": "2020-11-09T18:31:08.104661Z"
    }
   },
   "outputs": [],
   "source": [
    "arr_df.loc[:,\"kper\"] = arr_df.model_file.apply(lambda x: int(x.split('.')[1].split('_')[1]))\n",
    "rch_kper = {prefix:kper for kper,prefix in zip(arr_df.kper,arr_df.prefix)}"
   ]
  },
  {
   "cell_type": "code",
   "execution_count": null,
   "metadata": {
    "execution": {
     "iopub.execute_input": "2020-11-09T18:31:08.112121Z",
     "iopub.status.busy": "2020-11-09T18:31:08.111553Z",
     "iopub.status.idle": "2020-11-09T18:31:08.177452Z",
     "shell.execute_reply": "2020-11-09T18:31:08.177905Z"
    }
   },
   "outputs": [],
   "source": [
    "par = pst.parameter_data\n",
    "loc_matrix_cols = [g for g in pst.adj_par_groups if \"hk\" in g or \"vk\" in g \n",
    "                   or \"ss\" in g or \"sy\" in g or \"pr\" in g or \"cond\" in g or \"strk\" in g or \"strt\" in g\n",
    "                  or \"welflux_k02\" in g or \"flow\" in g]\n",
    "broadcast_rch_groups = [g for g in pst.adj_par_groups if True in [g.endswith(prefix) for prefix in broadcast_rch_prefixes]]\n",
    "loc_matrix_cols.extend(broadcast_rch_groups)\n",
    "static_loc_cols = loc_matrix_cols.copy()\n",
    "static_pars = par.loc[par.pargp.apply(lambda x: x in loc_matrix_cols),\"parnme\"]\n",
    "dont_groups = [g for g in loc_matrix_cols if \"pr\" in g]\n",
    "temporal_pars = par.loc[par.pargp.apply(lambda x: x not in loc_matrix_cols),\"parnme\"]\n",
    "loc_matrix_cols.extend(list(temporal_pars.values))\n",
    "tpar_kper = {}\n",
    "m = flopy.modflow.Modflow.load(\"freyberg.nam\",model_ws=t_d,check=False)\n",
    "dts = pd.to_datetime(m.start_datetime) + pd.to_timedelta(np.cumsum(m.dis.perlen.array),unit=\"d\")\n",
    "dts -= pd.to_timedelta(1,unit='d')\n",
    "#print(dts)\n",
    "tpar_dt = {}\n",
    "for tpar in temporal_pars:\n",
    "    if \"welflux\" in tpar:\n",
    "        kper = int(tpar.split('_')[1])\n",
    "    elif \"rech\" in tpar:\n",
    "        kper = rch_kper[tpar.split('_')[1]]\n",
    "    else:\n",
    "        raise Exception(tpar)\n",
    "    dt = dts[kper]\n",
    "    tpar_dt[tpar] = dt\n",
    "    "
   ]
  },
  {
   "cell_type": "code",
   "execution_count": null,
   "metadata": {
    "execution": {
     "iopub.execute_input": "2020-11-09T18:31:08.188451Z",
     "iopub.status.busy": "2020-11-09T18:31:08.188022Z",
     "iopub.status.idle": "2020-11-09T18:31:08.336963Z",
     "shell.execute_reply": "2020-11-09T18:31:08.337446Z"
    }
   },
   "outputs": [],
   "source": [
    "nz_obs = pst.observation_data.loc[pst.nnz_obs_names,:]\n",
    "nz_obs.loc[:,\"datetime\"] = pd.to_datetime(nz_obs.obsnme.apply(lambda x: x.split('_')[-1]))\n",
    "loc = pyemu.Matrix.from_names(pst.nnz_obs_names,loc_matrix_cols).to_dataframe()\n",
    "loc.loc[:,:]= 0.0\n",
    "loc.loc[:,static_loc_cols] = 1.0\n",
    "loc.loc[:,dont_groups] = 0.0\n",
    "lower = pd.to_timedelta(0,unit='d')\n",
    "upper = pd.to_timedelta(180,unit='d')\n",
    "for pname,dt in tpar_dt.items():\n",
    "    d = nz_obs.datetime - dt\n",
    "    d = d[d.apply(lambda x: x>lower and x<upper)]\n",
    "    loc.loc[d.index,pname] = 1.0\n",
    "#loc.loc[:,dont_groups] = 0.0\n",
    "pyemu.Matrix.from_dataframe(loc).to_ascii(os.path.join(t_d,\"loc.mat\"))"
   ]
  },
  {
   "cell_type": "code",
   "execution_count": null,
   "metadata": {
    "execution": {
     "iopub.execute_input": "2020-11-09T18:31:08.351694Z",
     "iopub.status.busy": "2020-11-09T18:31:08.351271Z",
     "iopub.status.idle": "2020-11-09T18:36:10.383151Z",
     "shell.execute_reply": "2020-11-09T18:36:10.383618Z"
    }
   },
   "outputs": [],
   "source": [
    "pst.pestpp_options[\"ies_localizer\"] = \"loc.mat\"\n",
    "pst.write(os.path.join(t_d,\"freyberg_ies.pst\"))\n",
    "pyemu.os_utils.start_workers(t_d,\"pestpp-ies\",\"freyberg_ies.pst\",num_workers=num_workers,master_dir=m_d)"
   ]
  },
  {
   "cell_type": "code",
   "execution_count": null,
   "metadata": {
    "execution": {
     "iopub.execute_input": "2020-11-09T18:36:10.394622Z",
     "iopub.status.busy": "2020-11-09T18:36:10.388139Z",
     "iopub.status.idle": "2020-11-09T18:36:10.880107Z",
     "shell.execute_reply": "2020-11-09T18:36:10.880646Z"
    }
   },
   "outputs": [],
   "source": [
    "phi = pd.read_csv(os.path.join(m_d,\"freyberg_ies.phi.actual.csv\"),index_col=0)\n",
    "phi.index = phi.total_runs\n",
    "phi.iloc[:,6:].apply(np.log10).plot(legend=False,lw=0.5,color='k')\n",
    "plt.ylabel('log $\\Phi$')\n",
    "plt.show()\n",
    "phi.iloc[-1,6:].hist()\n",
    "plt.title('Final $\\Phi$ Distribution');"
   ]
  },
  {
   "cell_type": "code",
   "execution_count": null,
   "metadata": {
    "execution": {
     "iopub.execute_input": "2020-11-09T18:36:10.885927Z",
     "iopub.status.busy": "2020-11-09T18:36:10.885409Z",
     "iopub.status.idle": "2020-11-09T18:36:12.478092Z",
     "shell.execute_reply": "2020-11-09T18:36:12.478612Z"
    }
   },
   "outputs": [],
   "source": [
    "oe_pr = pd.read_csv(os.path.join(m_d,\"freyberg_ies.0.obs.csv\"),index_col=0)\n",
    "oe_pt = pd.read_csv(os.path.join(m_d,\"freyberg_ies.{0}.obs.csv\".format(pst.control_data.noptmax)),index_col=0)\n",
    "obs = pst.observation_data\n",
    "fnames = pst.pestpp_options[\"forecasts\"].split(\",\")\n",
    "for forecast in fnames:\n",
    "    fig,ax = plt.subplots(1,1,figsize=(10,5))\n",
    "    oe_pr.loc[:,forecast].hist(ax=ax,color=\"0.5\",alpha=0.5, label='prior')\n",
    "    oe_pt.loc[:,forecast].hist(ax=ax,color=\"b\",alpha=0.5, label='posterior')\n",
    "    ax.plot([obs.loc[forecast,\"obsval\"],obs.loc[forecast,\"obsval\"]],ax.get_ylim(),\"r\", label='truth')\n",
    "    ax.set_title(forecast)\n",
    "    ax.legend(loc='upper right')\n",
    "    plt.show()"
   ]
  },
  {
   "cell_type": "code",
   "execution_count": null,
   "metadata": {
    "execution": {
     "iopub.execute_input": "2020-11-09T18:36:12.486086Z",
     "iopub.status.busy": "2020-11-09T18:36:12.485559Z",
     "iopub.status.idle": "2020-11-09T18:36:12.864121Z",
     "shell.execute_reply": "2020-11-09T18:36:12.864756Z"
    }
   },
   "outputs": [],
   "source": [
    "rw_obs = pd.read_csv(os.path.join(m_d,\"freyberg_ies.adjusted.obs_data.csv\"),index_col=0)\n",
    "rw_obs = rw_obs.weight.to_dict()\n",
    "nz_obs = pst.observation_data.loc[pst.nnz_obs_names,:].copy()\n",
    "nz_obs.loc[:,\"datetime\"] = pd.to_datetime(nz_obs.obsnme.apply(lambda x: x.split(\"_\")[-1]))\n",
    "pst_base = pyemu.Pst(os.path.join(t_d,\"freyberg.pst\"))\n",
    "oe_base = pd.read_csv(os.path.join(m_d,\"freyberg_ies.obs+noise.csv\"),index_col=0)\n",
    "for nz_group in pst.nnz_obs_groups:\n",
    "    nz_obs_group = nz_obs.loc[nz_obs.obgnme==nz_group,:]\n",
    "    fig,ax = plt.subplots(1,1,figsize=(10,2))\n",
    "    ax.plot(nz_obs_group.datetime,nz_obs_group.obsval,\"r-\")\n",
    "    pdc_obs = nz_obs_group.loc[nz_obs_group.obsnme.apply(lambda x: rw_obs[x]==0),:]\n",
    "   \n",
    "    ax.scatter(pdc_obs.datetime,pdc_obs.obsval,marker='.',s=50,zorder=20,color='k',ls='-',lw=2,fc=\"k\")\n",
    "    [ax.plot(nz_obs_group.datetime,oe_pr.loc[r,nz_obs_group.obsnme],color=\"0.5\",lw=0.1) for r in oe_pr.index]\n",
    "    [ax.plot(nz_obs_group.datetime,oe_pt.loc[r,nz_obs_group.obsnme],color=\"b\",lw=0.1,alpha=0.5) for r in oe_pt.index]\n",
    "    #[ax.plot(nz_obs_group.datetime,oe_base.loc[r,nz_obs_group.obsnme],color=\"r\",lw=0.1,alpha=0.5) for r in oe_base.index]\n",
    "    mn = oe_base.loc[:,nz_obs_group.obsnme].min()\n",
    "    mx = oe_base.loc[:,nz_obs_group.obsnme].max()\n",
    "    \n",
    "    ax.fill_between(nz_obs_group.datetime,mn,mx,fc=\"r\",alpha=0.15)\n",
    "    ax.set_title(nz_group)\n",
    "    #vmin = min(nz_obs_group.obsval.min(),oe_pt.loc[:,nz_obs_group.obsnme].min().min())\n",
    "    #vmax = max(nz_obs_group.obsval.max(),oe_pt.loc[:,nz_obs_group.obsnme].max().max())\n",
    "    vmin = nz_obs_group.obsval.min() * 0.9\n",
    "    vmax = nz_obs_group.obsval.max() * 1.1\n",
    "    ax.set_ylim(vmin,vmax)\n",
    "plt.show()"
   ]
  },
  {
   "cell_type": "code",
   "execution_count": null,
   "metadata": {
    "execution": {
     "iopub.execute_input": "2020-11-09T18:36:12.868806Z",
     "iopub.status.busy": "2020-11-09T18:36:12.868318Z",
     "iopub.status.idle": "2020-11-09T18:36:21.350015Z",
     "shell.execute_reply": "2020-11-09T18:36:21.350689Z"
    }
   },
   "outputs": [],
   "source": [
    "pe_pr = pd.read_csv(os.path.join(m_d,\"freyberg_ies.0.par.csv\"),index_col=0)\n",
    "pe_pt = pd.read_csv(os.path.join(m_d,\"freyberg_ies.{0}.par.csv\".format(pst.control_data.noptmax)),index_col=0)\n",
    "#pe_pr.index = pe_pt.index\n",
    "#par = pst.parameter_data\n",
    "pe_pr = pe_pr.loc[pe_pr.index.intersection(pe_pt.index),:]\n",
    "print(pe_pr.shape,pe_pt.shape)\n",
    "pdict = par.groupby(\"pargp\").groups\n",
    "pyemu.plot_utils.ensemble_helper({\"0.5\":pe_pr,\"b\":pe_pt},plot_cols=pdict)\n",
    "#pyemu.plot_utils.ensemble_change_summary(pe_pr,pe_pt,pst=pst,bins=20)"
   ]
  },
  {
   "cell_type": "markdown",
   "metadata": {},
   "source": [
    "### PESTPP-IES with par-by-par distance based localization\n",
    "\n",
    "This is industrial strength localization that combines the temporal localization from before with a distance-based cutoff between each spatially-distributed parameter type and each spatially-discrete observation.  In this way, we are defining a \"window\" around each observation and only parameters that are within this window are allowed to be conditioned from said observtion.  Its painful to setup and subjective (since a circular windows around each obseravtion is a coarse approximation) but in practice, it seems to yeild robust forecast estimates.\n",
    "\n",
    "For the first time now, we will be using a fully-localized solve, meaning each parameter is upgraded independently.  This means PESTPP-IES has to run through the upgrade calculations once for each parameter - this can be very slow.  Currently, PESTPP-IES can multithread these calculations but the optimal number of threads is very problem specific.  Through testing, 3 threads seems to be a good choice for this problem (the PESTPP-IES log file records the time it takes to solve groups of 1000 pars for each lambda so you can test for your problem too)."
   ]
  },
  {
   "cell_type": "code",
   "execution_count": null,
   "metadata": {
    "execution": {
     "iopub.execute_input": "2020-11-09T18:36:21.354765Z",
     "iopub.status.busy": "2020-11-09T18:36:21.354054Z",
     "iopub.status.idle": "2020-11-09T18:36:21.436812Z",
     "shell.execute_reply": "2020-11-09T18:36:21.437471Z"
    }
   },
   "outputs": [],
   "source": [
    "m = flopy.modflow.Modflow.load(\"freyberg.nam\",model_ws=t_d)"
   ]
  },
  {
   "cell_type": "markdown",
   "metadata": {},
   "source": [
    "Work out where each parameter and observation are located"
   ]
  },
  {
   "cell_type": "code",
   "execution_count": null,
   "metadata": {
    "execution": {
     "iopub.execute_input": "2020-11-09T18:36:21.446963Z",
     "iopub.status.busy": "2020-11-09T18:36:21.446304Z",
     "iopub.status.idle": "2020-11-09T18:36:21.952632Z",
     "shell.execute_reply": "2020-11-09T18:36:21.952995Z"
    }
   },
   "outputs": [],
   "source": [
    "par = pst.parameter_data\n",
    "\n",
    "gr_par = par.loc[par.pargp.apply(lambda x: \"gr\" in x and \"prsity\" not in x),:].copy()\n",
    "print(gr_par.pargp.unique())\n",
    "gr_par.groupby(\"pargp\").groups\n",
    "gr_par.loc[:,\"i\"] = gr_par.parnme.apply(lambda x: int(x[-6:-3]))\n",
    "gr_par.loc[:,\"j\"] = gr_par.parnme.apply(lambda x: int(x[-3:]))\n",
    "gr_par.loc[:,\"x\"] = gr_par.apply(lambda x: m.sr.xcentergrid[x.i,x.j],axis=1)\n",
    "gr_par.loc[:,\"y\"] = gr_par.apply(lambda x: m.sr.ycentergrid[x.i,x.j],axis=1)\n",
    "\n",
    "obs = pst.observation_data.loc[pst.nnz_obs_names,:]\n",
    "\n",
    "nobs = obs.loc[obs.obsnme.apply(lambda x: x.startswith(\"trgw\")),:].copy()\n",
    "nobs.loc[:,\"i\"] = nobs.obsnme.apply(lambda x: int(x.split('_')[1]))\n",
    "nobs.loc[:,\"j\"] = nobs.obsnme.apply(lambda x: int(x.split('_')[2]))\n",
    "nobs.loc[:,\"x\"] = nobs.apply(lambda x: m.sr.xcentergrid[x.i,x.j],axis=1)\n",
    "nobs.loc[:,\"y\"] = nobs.apply(lambda x: m.sr.ycentergrid[x.i,x.j],axis=1)\n",
    "nobs.loc[:,\"xy\"] = nobs.apply(lambda x: \"{0}_{1}\".format(x.x,x.y),axis=1)"
   ]
  },
  {
   "cell_type": "markdown",
   "metadata": {},
   "source": [
    "And pilot point parameters"
   ]
  },
  {
   "cell_type": "code",
   "execution_count": null,
   "metadata": {
    "execution": {
     "iopub.execute_input": "2020-11-09T18:36:21.957052Z",
     "iopub.status.busy": "2020-11-09T18:36:21.956491Z",
     "iopub.status.idle": "2020-11-09T18:36:22.005792Z",
     "shell.execute_reply": "2020-11-09T18:36:22.006326Z"
    }
   },
   "outputs": [],
   "source": [
    "pp_tpl = [f for f in os.listdir(t_d) if \"pp\" in f and f.endswith(\".tpl\")]\n",
    "pp_tpl_dfs = [pyemu.pp_utils.pp_tpl_to_dataframe(os.path.join(t_d,f)) for f in pp_tpl]\n",
    "pp_par = pd.concat(pp_tpl_dfs)\n",
    "pp_par.index = pp_par.parnme\n",
    "#pp_par = par.loc[par.pargp.apply(lambda x: \"pp\" in x),:].copy()\n",
    "pp_par.head()"
   ]
  },
  {
   "cell_type": "markdown",
   "metadata": {},
   "source": [
    "We will set up localization such that parameters are only informed by observations within a user-specfied distance (we can use 5000 meters)"
   ]
  },
  {
   "cell_type": "code",
   "execution_count": null,
   "metadata": {
    "execution": {
     "iopub.execute_input": "2020-11-09T18:36:22.015601Z",
     "iopub.status.busy": "2020-11-09T18:36:22.013709Z",
     "iopub.status.idle": "2020-11-09T18:36:24.548464Z",
     "shell.execute_reply": "2020-11-09T18:36:24.549023Z"
    }
   },
   "outputs": [],
   "source": [
    "spatial_loc = pyemu.Matrix.from_names(pst.nnz_obs_names,pst.adj_par_names).to_dataframe()\n",
    "spatial_loc.values[:,:] = 1.0\n",
    "\n",
    "loc_dist = 5000.0\n",
    "sadj = set(pst.adj_par_names)\n",
    "dont_pars = set(par.loc[par.pargp.apply(lambda x: x in dont_groups),\"parnme\"].tolist())\n",
    "\n",
    "print('obsname            fraction grid retained   fraction pilot points retained')\n",
    "xy_groups = nobs.groupby('xy').groups\n",
    "print(len(xy_groups))\n",
    "#for oname in nobs.obsnme:\n",
    "for xy,onames in xy_groups.items():\n",
    "    oname = onames[0]\n",
    "    xx,yy = nobs.loc[oname,['x','y']]\n",
    "    \n",
    "    # localization for grid-based parameters\n",
    "    gr_par.loc[:,\"dist\"] = gr_par.apply(lambda x: (x.x - xx)**2 + (x.y - yy)**2,axis=1).apply(np.sqrt)\n",
    "    gr_too_far = gr_par.loc[gr_par.dist > loc_dist,\"parnme\"]\n",
    "    gr_too_far = gr_too_far.loc[gr_too_far.apply(lambda x: x in sadj)]\n",
    "    spatial_loc.loc[:,gr_too_far] = 0.0\n",
    "    \n",
    "    # localization for pilot point parameters\n",
    "    pp_par.loc[:,\"dist\"] = pp_par.apply(lambda x: (x.x - xx)**2 + (x.y - yy)**2,axis=1).apply(np.sqrt)\n",
    "    pp_too_far = pp_par.loc[pp_par.dist > loc_dist,\"parnme\"]\n",
    "    pp_too_far = pp_too_far.loc[pp_too_far.apply(lambda x: x in sadj)]\n",
    "    spatial_loc.loc[onames,pp_too_far] = 0.0\n",
    "    print(oname,gr_too_far.shape[0]/gr_par.shape[0],pp_too_far.shape[0]/pp_par.shape[0])\n",
    "    \n",
    "#loc.loc[:,dont_pars] = 0.0\n",
    "#spars = par.loc[par.parnme.apply(lambda x: \"ss\" in x or \"sy\" in x),\"parnme\"]\n",
    "#loc.loc[:,spars] = 0.0\n",
    "spatial_loc.loc[loc.index,temporal_pars] = loc.loc[:,temporal_pars]\n",
    "print('\\n\\nTotal number of parameters still informed by each observation')\n",
    "spatial_loc.sum(axis=1)"
   ]
  },
  {
   "cell_type": "markdown",
   "metadata": {},
   "source": [
    "Save the localizer to a file and set the appropriate PESTPP-IES flags"
   ]
  },
  {
   "cell_type": "code",
   "execution_count": null,
   "metadata": {
    "execution": {
     "iopub.execute_input": "2020-11-09T18:36:24.561180Z",
     "iopub.status.busy": "2020-11-09T18:36:24.560611Z",
     "iopub.status.idle": "2020-11-09T18:36:25.529787Z",
     "shell.execute_reply": "2020-11-09T18:36:25.530138Z"
    }
   },
   "outputs": [],
   "source": [
    "pyemu.Matrix.from_dataframe(spatial_loc).to_coo(os.path.join(t_d,\"spatial_loc.jcb\"))\n",
    "pst.pestpp_options[\"ies_localizer\"] = \"spatial_loc.jcb\"\n",
    "pst.pestpp_options[\"ies_num_threads\"] = 10\n",
    "pst.write(os.path.join(t_d,\"freyberg_ies.pst\"))"
   ]
  },
  {
   "cell_type": "markdown",
   "metadata": {},
   "source": [
    "now let's run it"
   ]
  },
  {
   "cell_type": "code",
   "execution_count": null,
   "metadata": {
    "execution": {
     "iopub.execute_input": "2020-11-09T18:36:25.533119Z",
     "iopub.status.busy": "2020-11-09T18:36:25.532603Z",
     "iopub.status.idle": "2020-11-09T18:48:13.022244Z",
     "shell.execute_reply": "2020-11-09T18:48:13.022805Z"
    }
   },
   "outputs": [],
   "source": [
    "pyemu.os_utils.start_workers(t_d,\"pestpp-ies\",\"freyberg_ies.pst\",num_workers=num_workers,master_dir=m_d)"
   ]
  },
  {
   "cell_type": "code",
   "execution_count": null,
   "metadata": {
    "execution": {
     "iopub.execute_input": "2020-11-09T18:48:13.027391Z",
     "iopub.status.busy": "2020-11-09T18:48:13.026852Z",
     "iopub.status.idle": "2020-11-09T18:48:13.339104Z",
     "shell.execute_reply": "2020-11-09T18:48:13.339617Z"
    }
   },
   "outputs": [],
   "source": [
    "phi = pd.read_csv(os.path.join(m_d,\"freyberg_ies.phi.actual.csv\"),index_col=0)\n",
    "phi.index = phi.total_runs\n",
    "phi.iloc[:,6:].apply(np.log10).plot(legend=False,lw=0.5,color='k')\n",
    "plt.ylabel('log $\\Phi$')\n",
    "plt.show()\n",
    "phi.iloc[-1,6:].hist()\n",
    "plt.title('Final $\\Phi$ Distribution');"
   ]
  },
  {
   "cell_type": "code",
   "execution_count": null,
   "metadata": {
    "execution": {
     "iopub.execute_input": "2020-11-09T18:48:13.345888Z",
     "iopub.status.busy": "2020-11-09T18:48:13.345385Z",
     "iopub.status.idle": "2020-11-09T18:48:15.237454Z",
     "shell.execute_reply": "2020-11-09T18:48:15.237905Z"
    }
   },
   "outputs": [],
   "source": [
    "oe_pr_last = oe_pr.copy()\n",
    "oe_pt_last = oe_pt.copy()\n",
    "oe_pr = pd.read_csv(os.path.join(m_d,\"freyberg_ies.0.obs.csv\"),index_col=0)\n",
    "oe_pt = pd.read_csv(os.path.join(m_d,\"freyberg_ies.{0}.obs.csv\".format(pst.control_data.noptmax)),index_col=0)\n",
    "obs = pst.observation_data\n",
    "fnames = pst.pestpp_options[\"forecasts\"].split(\",\")\n",
    "for forecast in fnames:\n",
    "    fig,[ax,ax_last] = plt.subplots(1,2,figsize=(10,5))\n",
    "    oe_pr.loc[:,forecast].hist(ax=ax,color=\"0.5\",alpha=0.5, label='prior')\n",
    "    oe_pt.loc[:,forecast].hist(ax=ax,color=\"b\",alpha=0.5, label='posterior')\n",
    "    ax.plot([obs.loc[forecast,\"obsval\"],obs.loc[forecast,\"obsval\"]],ax.get_ylim(),\"r\", label='truth')\n",
    "    ax.set_title(forecast)\n",
    "    ax.legend(loc='upper right')\n",
    "    \n",
    "    oe_pr_last.loc[:,forecast].hist(ax=ax_last,color=\"0.5\",alpha=0.5, label='prior')\n",
    "    oe_pt_last.loc[:,forecast].hist(ax=ax_last,color=\"b\",alpha=0.5, label='posterior')\n",
    "    ax_last.plot([obs.loc[forecast,\"obsval\"],obs.loc[forecast,\"obsval\"]],ax.get_ylim(),\"r\", label='truth')\n",
    "    ax_last.set_title(\"last \" + forecast)\n",
    "    ax.legend(loc='upper right')\n",
    "    plt.show()"
   ]
  },
  {
   "cell_type": "code",
   "execution_count": null,
   "metadata": {
    "execution": {
     "iopub.execute_input": "2020-11-09T18:48:15.249429Z",
     "iopub.status.busy": "2020-11-09T18:48:15.249011Z",
     "iopub.status.idle": "2020-11-09T18:48:15.409635Z",
     "shell.execute_reply": "2020-11-09T18:48:15.410281Z"
    }
   },
   "outputs": [],
   "source": [
    "nz_obs = pst.observation_data.loc[pst.nnz_obs_names,:].copy()\n",
    "nz_obs.loc[:,\"datetime\"] = pd.to_datetime(nz_obs.obsnme.apply(lambda x: x.split(\"_\")[-1]))\n",
    "pst_base = pyemu.Pst(os.path.join(t_d,\"freyberg.pst\"))\n",
    "oe_base = pd.read_csv(os.path.join(m_d,\"freyberg_ies.obs+noise.csv\"),index_col=0)\n",
    "for nz_group in pst.nnz_obs_groups:\n",
    "    nz_obs_group = nz_obs.loc[nz_obs.obgnme==nz_group,:]\n",
    "    fig,ax = plt.subplots(1,1,figsize=(10,2))\n",
    "    ax.plot(nz_obs_group.datetime,nz_obs_group.obsval,\"r-\")\n",
    "    pdc_obs = nz_obs_group.loc[nz_obs_group.obsnme.apply(lambda x: rw_obs[x]==0),:]\n",
    "   \n",
    "    ax.scatter(pdc_obs.datetime,pdc_obs.obsval,marker='.',s=50,zorder=20,color='k',ls='-',lw=2,fc=\"k\")\n",
    "    [ax.plot(nz_obs_group.datetime,oe_pr.loc[r,nz_obs_group.obsnme],color=\"0.5\",lw=0.1) for r in oe_pr.index]\n",
    "    [ax.plot(nz_obs_group.datetime,oe_pt.loc[r,nz_obs_group.obsnme],color=\"b\",lw=0.1,alpha=0.5) for r in oe_pt.index]\n",
    "    #[ax.plot(nz_obs_group.datetime,oe_base.loc[r,nz_obs_group.obsnme],color=\"r\",lw=0.1,alpha=0.5) for r in oe_base.index]\n",
    "    mn = oe_base.loc[:,nz_obs_group.obsnme].min()\n",
    "    mx = oe_base.loc[:,nz_obs_group.obsnme].max()\n",
    "    \n",
    "    ax.fill_between(nz_obs_group.datetime,mn,mx,fc=\"r\",alpha=0.15)\n",
    "    ax.set_title(nz_group)\n",
    "    #vmin = min(nz_obs_group.obsval.min(),oe_pt.loc[:,nz_obs_group.obsnme].min().min())\n",
    "    #vmax = max(nz_obs_group.obsval.max(),oe_pt.loc[:,nz_obs_group.obsnme].max().max())\n",
    "    vmin = nz_obs_group.obsval.min() * 0.9\n",
    "    vmax = nz_obs_group.obsval.max() * 1.1\n",
    "    ax.set_ylim(vmin,vmax)\n",
    "plt.show()"
   ]
  },
  {
   "cell_type": "code",
   "execution_count": null,
   "metadata": {
    "execution": {
     "iopub.execute_input": "2020-11-09T18:48:15.414119Z",
     "iopub.status.busy": "2020-11-09T18:48:15.413637Z",
     "iopub.status.idle": "2020-11-09T18:48:22.860864Z",
     "shell.execute_reply": "2020-11-09T18:48:22.861373Z"
    }
   },
   "outputs": [],
   "source": [
    "pe_pr = pd.read_csv(os.path.join(m_d,\"freyberg_ies.0.par.csv\"),index_col=0)\n",
    "pe_pt = pd.read_csv(os.path.join(m_d,\"freyberg_ies.{0}.par.csv\".format(pst.control_data.noptmax)),index_col=0)\n",
    "par = pst.parameter_data\n",
    "pdict = par.groupby(\"pargp\").groups\n",
    "pyemu.plot_utils.ensemble_helper({\"0.5\":pe_pr,\"b\":pe_pt},plot_cols=pdict)\n",
    "#pyemu.plot_utils.ensemble_change_summary(pe_pr,pe_pt,pst=pst,bins=20)"
   ]
  },
  {
   "cell_type": "markdown",
   "metadata": {},
   "source": [
    "Nice!  Those are pretty solid results for a) matching historic state observations and b) getting pretty good forecasts"
   ]
  },
  {
   "cell_type": "markdown",
   "metadata": {},
   "source": [
    "### EXTRA: PESTPP-IES with automatic adaptive localization\n",
    "\n",
    "PESTPP-IES includes functionality for automatic localization.  In practice, this form of localization doesnt resolve the level of localization that more rigorous explicit localization that you get through a localization matrix.  However, its better than no localization at all.  Just like par-by-par distance based localization above, we still need to solve the upgrade equations once for each parameter....\n",
    "\n",
    "The one control value for `autoadaloc` is `ies_autoadaloc_sigma_distance` which is the statistical difference background or error correlation estimate and the current correlation coefficient.  Any correlation coefficient that is less than the error mean plus/minus error standard deviation times `ies_autoadaloc_sigma_distance` is treated as a non-significant correlation and is localized out. So large `ies_autoadaloc_sigma_distance` values result in stronger localization.  The default value is 1.0"
   ]
  },
  {
   "cell_type": "code",
   "execution_count": null,
   "metadata": {
    "execution": {
     "iopub.execute_input": "2020-11-09T18:48:22.877711Z",
     "iopub.status.busy": "2020-11-09T18:48:22.877208Z",
     "iopub.status.idle": "2020-11-09T18:56:33.990219Z",
     "shell.execute_reply": "2020-11-09T18:56:33.989645Z"
    }
   },
   "outputs": [],
   "source": [
    "pst.pestpp_options.pop(\"ies_localizer\")\n",
    "pst.pestpp_options[\"ies_autoadaloc\"] = True\n",
    "pst.pestpp_options['ies_num_threads'] = 3\n",
    "# these upgrade calcs take a while, so let's only do one lambda\n",
    "pst.pestpp_options[\"ies_lambda_mults\"] = 1.0\n",
    "pst.write(os.path.join(t_d,\"freyberg_ies.pst\"))\n",
    "pyemu.os_utils.start_workers(t_d,\"pestpp-ies\",\"freyberg_ies.pst\",num_workers=num_workers,master_dir=m_d)"
   ]
  },
  {
   "cell_type": "code",
   "execution_count": null,
   "metadata": {
    "execution": {
     "iopub.execute_input": "2020-11-09T18:56:33.996049Z",
     "iopub.status.busy": "2020-11-09T18:56:33.995540Z",
     "iopub.status.idle": "2020-11-09T18:56:34.330842Z",
     "shell.execute_reply": "2020-11-09T18:56:34.331346Z"
    }
   },
   "outputs": [],
   "source": [
    "phi = pd.read_csv(os.path.join(m_d,\"freyberg_ies.phi.actual.csv\"),index_col=0)\n",
    "phi.index = phi.total_runs\n",
    "phi.iloc[:,6:].apply(np.log10).plot(legend=False,lw=0.5,color='k')\n",
    "plt.ylabel('log $\\Phi$')\n",
    "plt.show()\n",
    "phi.iloc[-1,6:].hist()\n",
    "plt.title('Final $\\Phi$ Distribution');"
   ]
  },
  {
   "cell_type": "code",
   "execution_count": null,
   "metadata": {
    "execution": {
     "iopub.execute_input": "2020-11-09T18:56:34.338422Z",
     "iopub.status.busy": "2020-11-09T18:56:34.337841Z",
     "iopub.status.idle": "2020-11-09T18:56:36.563320Z",
     "shell.execute_reply": "2020-11-09T18:56:36.563837Z"
    }
   },
   "outputs": [],
   "source": [
    "oe_pr_last = oe_pr.copy()\n",
    "oe_pt_last = oe_pt.copy()\n",
    "oe_pr = pd.read_csv(os.path.join(m_d,\"freyberg_ies.0.obs.csv\"),index_col=0)\n",
    "oe_pt = pd.read_csv(os.path.join(m_d,\"freyberg_ies.{0}.obs.csv\".format(pst.control_data.noptmax)),index_col=0)\n",
    "obs = pst.observation_data\n",
    "fnames = pst.pestpp_options[\"forecasts\"].split(\",\")\n",
    "for forecast in fnames:\n",
    "    fig,[ax,ax_last] = plt.subplots(1,2,figsize=(10,5))\n",
    "    oe_pr.loc[:,forecast].hist(ax=ax,color=\"0.5\",alpha=0.5, label='prior')\n",
    "    oe_pt.loc[:,forecast].hist(ax=ax,color=\"b\",alpha=0.5, label='posterior')\n",
    "    ax.plot([obs.loc[forecast,\"obsval\"],obs.loc[forecast,\"obsval\"]],ax.get_ylim(),\"r\", label='truth')\n",
    "    ax.set_title(forecast)\n",
    "    ax.legend(loc='upper right')\n",
    "    \n",
    "    oe_pr_last.loc[:,forecast].hist(ax=ax_last,color=\"0.5\",alpha=0.5, label='prior')\n",
    "    oe_pt_last.loc[:,forecast].hist(ax=ax_last,color=\"b\",alpha=0.5, label='posterior')\n",
    "    ax_last.plot([obs.loc[forecast,\"obsval\"],obs.loc[forecast,\"obsval\"]],ax.get_ylim(),\"r\", label='truth')\n",
    "    ax_last.set_title(\"last \" + forecast)\n",
    "    ax.legend(loc='upper right')\n",
    "    plt.show()"
   ]
  },
  {
   "cell_type": "code",
   "execution_count": null,
   "metadata": {
    "execution": {
     "iopub.execute_input": "2020-11-09T18:56:36.577721Z",
     "iopub.status.busy": "2020-11-09T18:56:36.577233Z",
     "iopub.status.idle": "2020-11-09T18:56:36.810836Z",
     "shell.execute_reply": "2020-11-09T18:56:36.810321Z"
    }
   },
   "outputs": [],
   "source": [
    "nz_obs = pst.observation_data.loc[pst.nnz_obs_names,:].copy()\n",
    "nz_obs.loc[:,\"datetime\"] = pd.to_datetime(nz_obs.obsnme.apply(lambda x: x.split(\"_\")[-1]))\n",
    "pst_base = pyemu.Pst(os.path.join(t_d,\"freyberg.pst\"))\n",
    "oe_base = pd.read_csv(os.path.join(m_d,\"freyberg_ies.obs+noise.csv\"),index_col=0)\n",
    "for nz_group in pst.nnz_obs_groups:\n",
    "    nz_obs_group = nz_obs.loc[nz_obs.obgnme==nz_group,:]\n",
    "    fig,ax = plt.subplots(1,1,figsize=(10,2))\n",
    "    ax.plot(nz_obs_group.datetime,nz_obs_group.obsval,\"r-\")\n",
    "    pdc_obs = nz_obs_group.loc[nz_obs_group.obsnme.apply(lambda x: rw_obs[x]==0),:]\n",
    "   \n",
    "    ax.scatter(pdc_obs.datetime,pdc_obs.obsval,marker='.',s=50,zorder=20,color='k',ls='-',lw=2,fc=\"k\")\n",
    "    [ax.plot(nz_obs_group.datetime,oe_pr.loc[r,nz_obs_group.obsnme],color=\"0.5\",lw=0.1) for r in oe_pr.index]\n",
    "    [ax.plot(nz_obs_group.datetime,oe_pt.loc[r,nz_obs_group.obsnme],color=\"b\",lw=0.1,alpha=0.5) for r in oe_pt.index]\n",
    "    #[ax.plot(nz_obs_group.datetime,oe_base.loc[r,nz_obs_group.obsnme],color=\"r\",lw=0.1,alpha=0.5) for r in oe_base.index]\n",
    "    mn = oe_base.loc[:,nz_obs_group.obsnme].min()\n",
    "    mx = oe_base.loc[:,nz_obs_group.obsnme].max()\n",
    "    \n",
    "    ax.fill_between(nz_obs_group.datetime,mn,mx,fc=\"r\",alpha=0.15)\n",
    "    ax.set_title(nz_group)\n",
    "    #vmin = min(nz_obs_group.obsval.min(),oe_pt.loc[:,nz_obs_group.obsnme].min().min())\n",
    "    #vmax = max(nz_obs_group.obsval.max(),oe_pt.loc[:,nz_obs_group.obsnme].max().max())\n",
    "    vmin = nz_obs_group.obsval.min() * 0.9\n",
    "    vmax = nz_obs_group.obsval.max() * 1.1\n",
    "    ax.set_ylim(vmin,vmax)\n",
    "plt.show()"
   ]
  },
  {
   "cell_type": "markdown",
   "metadata": {},
   "source": [
    "Not bad!  considering how easy it is to implement automatic adaptive localization, this is an easy step into the localized solve process..."
   ]
  },
  {
   "cell_type": "code",
   "execution_count": null,
   "metadata": {},
   "outputs": [],
   "source": []
  }
 ],
 "metadata": {
  "kernelspec": {
   "display_name": "Python 3",
   "language": "python",
   "name": "python3"
  },
  "language_info": {
   "codemirror_mode": {
    "name": "ipython",
    "version": 3
   },
   "file_extension": ".py",
   "mimetype": "text/x-python",
   "name": "python",
   "nbconvert_exporter": "python",
   "pygments_lexer": "ipython3",
   "version": "3.8.6"
  }
 },
 "nbformat": 4,
 "nbformat_minor": 2
}
