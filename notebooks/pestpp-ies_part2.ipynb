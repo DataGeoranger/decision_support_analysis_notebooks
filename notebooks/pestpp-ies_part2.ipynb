{
 "cells": [
  {
   "cell_type": "markdown",
   "metadata": {},
   "source": [
    "# Run PESTPP-IES using a variety of available localization techniques"
   ]
  },
  {
   "cell_type": "code",
   "execution_count": null,
   "metadata": {
    "execution": {
     "iopub.execute_input": "2020-11-14T00:33:02.316576Z",
     "iopub.status.busy": "2020-11-14T00:33:02.315848Z",
     "iopub.status.idle": "2020-11-14T00:33:02.864810Z",
     "shell.execute_reply": "2020-11-14T00:33:02.865285Z"
    }
   },
   "outputs": [],
   "source": [
    "%matplotlib inline\n",
    "import os\n",
    "import shutil\n",
    "import numpy as np\n",
    "import pandas as pd\n",
    "import matplotlib.pyplot as plt\n",
    "import matplotlib as mpl\n",
    "plt.rcParams['font.size']=12\n",
    "import flopy\n",
    "import pyemu\n",
    "%matplotlib inline"
   ]
  },
  {
   "cell_type": "markdown",
   "metadata": {},
   "source": [
    "## SUPER IMPORTANT: SET HOW MANY PARALLEL WORKERS TO USE"
   ]
  },
  {
   "cell_type": "code",
   "execution_count": null,
   "metadata": {
    "execution": {
     "iopub.execute_input": "2020-11-14T00:33:02.868602Z",
     "iopub.status.busy": "2020-11-14T00:33:02.868138Z",
     "iopub.status.idle": "2020-11-14T00:33:02.869671Z",
     "shell.execute_reply": "2020-11-14T00:33:02.870220Z"
    }
   },
   "outputs": [],
   "source": [
    "num_workers = 5"
   ]
  },
  {
   "cell_type": "code",
   "execution_count": null,
   "metadata": {
    "execution": {
     "iopub.execute_input": "2020-11-14T00:33:02.872720Z",
     "iopub.status.busy": "2020-11-14T00:33:02.872253Z",
     "iopub.status.idle": "2020-11-14T00:33:02.873873Z",
     "shell.execute_reply": "2020-11-14T00:33:02.874408Z"
    }
   },
   "outputs": [],
   "source": [
    "t_d = \"template_history\"\n",
    "m_d = \"master_ies\""
   ]
  },
  {
   "cell_type": "code",
   "execution_count": null,
   "metadata": {
    "execution": {
     "iopub.execute_input": "2020-11-14T00:33:02.877170Z",
     "iopub.status.busy": "2020-11-14T00:33:02.876682Z",
     "iopub.status.idle": "2020-11-14T00:33:02.966058Z",
     "shell.execute_reply": "2020-11-14T00:33:02.966555Z"
    }
   },
   "outputs": [],
   "source": [
    "m = flopy.modflow.Modflow.load(\"freyberg.nam\",model_ws=t_d,check=False,forgive=False)"
   ]
  },
  {
   "cell_type": "code",
   "execution_count": null,
   "metadata": {
    "execution": {
     "iopub.execute_input": "2020-11-14T00:33:02.981685Z",
     "iopub.status.busy": "2020-11-14T00:33:02.981223Z",
     "iopub.status.idle": "2020-11-14T00:33:03.147449Z",
     "shell.execute_reply": "2020-11-14T00:33:03.147019Z"
    }
   },
   "outputs": [],
   "source": [
    "# plot some model attributes\n",
    "fig = plt.figure(figsize=(12,7))\n",
    "ax = plt.subplot(111,aspect=\"equal\")\n",
    "mm = flopy.plot.PlotMapView(model=m)\n",
    "mm.plot_grid()\n",
    "mm.plot_ibound()\n",
    "mm.plot_bc('SFR')\n",
    "mm.plot_bc(\"GHB\")\n",
    "ax = mm.ax\n",
    "#m.wel.stress_period_data.plot(ax=ax,mflay=2)\n",
    "\n",
    "# plot obs locations\n",
    "obs = pd.read_csv(os.path.join(\"..\",\"base_model_files\",\"obs_loc.csv\"))\n",
    "                  \n",
    "obs_x = [m.sr.xcentergrid[r-1,c-1] for r,c in obs.loc[:,[\"row\",\"col\"]].values]\n",
    "obs_y = [m.sr.ycentergrid[r-1,c-1] for r,c in obs.loc[:,[\"row\",\"col\"]].values]\n",
    "ax.scatter(obs_x,obs_y,marker='.',label=\"water-level obs\",s=80)\n",
    "\n",
    "#plot names on the pumping well locations\n",
    "wel_data = m.wel.stress_period_data[0]\n",
    "wel_x = m.sr.xcentergrid[wel_data[\"i\"],wel_data[\"j\"]]\n",
    "wel_y = m.sr.ycentergrid[wel_data[\"i\"],wel_data[\"j\"]]\n",
    "for i,(x,y) in enumerate(zip(wel_x,wel_y)):\n",
    "    ax.scatter([x],[y],color=\"red\",marker=\"s\",s=50)\n",
    "    #ax.text(x,y,\"{0}\".format(i+1),ha=\"center\",va=\"center\")\n",
    "\n",
    "ax.set_ylabel(\"y(m)\")\n",
    "ax.set_xlabel(\"x(m)\")\n",
    "plt.show()"
   ]
  },
  {
   "cell_type": "code",
   "execution_count": null,
   "metadata": {
    "execution": {
     "iopub.execute_input": "2020-11-14T00:33:03.151406Z",
     "iopub.status.busy": "2020-11-14T00:33:03.150991Z",
     "iopub.status.idle": "2020-11-14T00:33:03.292228Z",
     "shell.execute_reply": "2020-11-14T00:33:03.292678Z"
    }
   },
   "outputs": [],
   "source": [
    "pst = pyemu.Pst(os.path.join(t_d,\"freyberg.pst\"))\n",
    "#pst.write_par_summary_table(filename=\"none\")"
   ]
  },
  {
   "cell_type": "code",
   "execution_count": null,
   "metadata": {
    "execution": {
     "iopub.execute_input": "2020-11-14T00:33:03.308684Z",
     "iopub.status.busy": "2020-11-14T00:33:03.308205Z",
     "iopub.status.idle": "2020-11-14T00:33:03.847936Z",
     "shell.execute_reply": "2020-11-14T00:33:03.848370Z"
    }
   },
   "outputs": [],
   "source": [
    "#pst.pestpp_options = {}\n",
    "pst.pestpp_options[\"ies_num_reals\"] = 50  # enough?\n",
    "pst.pestpp_options[\"ies_par_en\"] = \"prior.jcb\"\n",
    "pst.pestpp_options[\"ies_bad_phi_sigma\"] = 2.0\n",
    "pst.pestpp_options[\"overdue_giveup_fac\"] = 1.5\n",
    "pst.pestpp_options[\"ies_save_rescov\"] = True\n",
    "pst.control_data.noptmax = 3\n",
    "pst.pestpp_options[\"ies_drop_conflicts\"] = True\n",
    "pst.pestpp_options[\"ies_pdc_sigma_distance\"] = 2.0\n",
    "pst.pestpp_options[\"ies_no_noise\"] = True\n",
    "pst.write(os.path.join(t_d,\"freyberg_ies.pst\"))\n"
   ]
  },
  {
   "cell_type": "markdown",
   "metadata": {},
   "source": [
    "### PESTPP-IES with simple temporal localization (and common sense)\n",
    "\n",
    "Now let's add some localization.  The obvious stuff is temporal - scenario parameters can't influence historic observations (and the inverse is true) so let's tell PESTPP-IES about this.  Also, should porosity be adjusted at all given the observations we have???"
   ]
  },
  {
   "cell_type": "code",
   "execution_count": null,
   "metadata": {
    "execution": {
     "iopub.execute_input": "2020-11-14T00:33:03.851304Z",
     "iopub.status.busy": "2020-11-14T00:33:03.850860Z",
     "iopub.status.idle": "2020-11-14T00:33:03.862780Z",
     "shell.execute_reply": "2020-11-14T00:33:03.863209Z"
    }
   },
   "outputs": [],
   "source": [
    "arr_df = pd.read_csv(os.path.join(t_d,\"arr_pars.csv\"),index_col=0)\n",
    "arr_df = arr_df.loc[arr_df.model_file.apply(lambda x: \"rech\" in x),:]\n",
    "arr_df.head()"
   ]
  },
  {
   "cell_type": "code",
   "execution_count": null,
   "metadata": {
    "execution": {
     "iopub.execute_input": "2020-11-14T00:33:03.866875Z",
     "iopub.status.busy": "2020-11-14T00:33:03.866341Z",
     "iopub.status.idle": "2020-11-14T00:33:03.868531Z",
     "shell.execute_reply": "2020-11-14T00:33:03.868957Z"
    }
   },
   "outputs": [],
   "source": [
    "# find which recharge par groups apply across all stress periods\n",
    "vc = arr_df.prefix.value_counts()\n",
    "vc = vc[vc > 1]\n",
    "broadcast_rch_prefixes = list(vc.index.values)\n",
    "broadcast_rch_prefixes"
   ]
  },
  {
   "cell_type": "code",
   "execution_count": null,
   "metadata": {
    "execution": {
     "iopub.execute_input": "2020-11-14T00:33:03.871870Z",
     "iopub.status.busy": "2020-11-14T00:33:03.871455Z",
     "iopub.status.idle": "2020-11-14T00:33:03.873023Z",
     "shell.execute_reply": "2020-11-14T00:33:03.873476Z"
    }
   },
   "outputs": [],
   "source": [
    "arr_df = arr_df.loc[arr_df.prefix.apply(lambda x: x not in broadcast_rch_prefixes),:]"
   ]
  },
  {
   "cell_type": "code",
   "execution_count": null,
   "metadata": {
    "execution": {
     "iopub.execute_input": "2020-11-14T00:33:03.881672Z",
     "iopub.status.busy": "2020-11-14T00:33:03.881209Z",
     "iopub.status.idle": "2020-11-14T00:33:03.883815Z",
     "shell.execute_reply": "2020-11-14T00:33:03.884136Z"
    }
   },
   "outputs": [],
   "source": [
    "arr_df.head()"
   ]
  },
  {
   "cell_type": "code",
   "execution_count": null,
   "metadata": {
    "execution": {
     "iopub.execute_input": "2020-11-14T00:33:03.888316Z",
     "iopub.status.busy": "2020-11-14T00:33:03.887907Z",
     "iopub.status.idle": "2020-11-14T00:33:03.889587Z",
     "shell.execute_reply": "2020-11-14T00:33:03.889151Z"
    }
   },
   "outputs": [],
   "source": [
    "arr_df.loc[:,\"kper\"] = arr_df.model_file.apply(lambda x: int(x.split('.')[1].split('_')[1]))\n",
    "rch_kper = {prefix:kper for kper,prefix in zip(arr_df.kper,arr_df.prefix)}"
   ]
  },
  {
   "cell_type": "code",
   "execution_count": null,
   "metadata": {
    "execution": {
     "iopub.execute_input": "2020-11-14T00:33:03.896557Z",
     "iopub.status.busy": "2020-11-14T00:33:03.894163Z",
     "iopub.status.idle": "2020-11-14T00:33:03.957808Z",
     "shell.execute_reply": "2020-11-14T00:33:03.957201Z"
    }
   },
   "outputs": [],
   "source": [
    "par = pst.parameter_data\n",
    "loc_matrix_cols = [g for g in pst.adj_par_groups if \"hk\" in g or \"vk\" in g \n",
    "                   or \"ss\" in g or \"sy\" in g or \"pr\" in g or \"cond\" in g or \"strk\" in g or \"strt\" in g\n",
    "                  or \"welflux_k02\" in g or \"flow\" in g]\n",
    "broadcast_rch_groups = [g for g in pst.adj_par_groups if True in [g.endswith(prefix) for prefix in broadcast_rch_prefixes]]\n",
    "loc_matrix_cols.extend(broadcast_rch_groups)\n",
    "static_loc_cols = loc_matrix_cols.copy()\n",
    "static_pars = par.loc[par.pargp.apply(lambda x: x in loc_matrix_cols),\"parnme\"]\n",
    "dont_groups = [g for g in loc_matrix_cols if \"pr\" in g]\n",
    "temporal_pars = par.loc[par.pargp.apply(lambda x: x not in loc_matrix_cols),\"parnme\"]\n",
    "loc_matrix_cols.extend(list(temporal_pars.values))\n",
    "tpar_kper = {}\n",
    "m = flopy.modflow.Modflow.load(\"freyberg.nam\",model_ws=t_d,check=False)\n",
    "dts = pd.to_datetime(m.start_datetime) + pd.to_timedelta(np.cumsum(m.dis.perlen.array),unit=\"d\")\n",
    "dts -= pd.to_timedelta(1,unit='d')\n",
    "#print(dts)\n",
    "tpar_dt = {}\n",
    "for tpar in temporal_pars:\n",
    "    if \"welflux\" in tpar:\n",
    "        kper = int(tpar.split('_')[1])\n",
    "    elif \"rech\" in tpar:\n",
    "        kper = rch_kper[tpar.split('_')[1]]\n",
    "    else:\n",
    "        raise Exception(tpar)\n",
    "    dt = dts[kper]\n",
    "    tpar_dt[tpar] = dt\n",
    "    "
   ]
  },
  {
   "cell_type": "code",
   "execution_count": null,
   "metadata": {
    "execution": {
     "iopub.execute_input": "2020-11-14T00:33:04.087592Z",
     "iopub.status.busy": "2020-11-14T00:33:04.087153Z",
     "iopub.status.idle": "2020-11-14T00:33:04.100967Z",
     "shell.execute_reply": "2020-11-14T00:33:04.101400Z"
    }
   },
   "outputs": [],
   "source": [
    "nz_obs = pst.observation_data.loc[pst.nnz_obs_names,:]\n",
    "nz_obs.loc[:,\"datetime\"] = pd.to_datetime(nz_obs.obsnme.apply(lambda x: x.split('_')[-1]))\n",
    "loc = pyemu.Matrix.from_names(pst.nnz_obs_names,loc_matrix_cols).to_dataframe()\n",
    "loc.loc[:,:]= 0.0\n",
    "loc.loc[:,static_loc_cols] = 1.0\n",
    "loc.loc[:,dont_groups] = 0.0\n",
    "lower = pd.to_timedelta(0,unit='d')\n",
    "upper = pd.to_timedelta(180,unit='d')\n",
    "for pname,dt in tpar_dt.items():\n",
    "    d = nz_obs.datetime - dt\n",
    "    d = d[d.apply(lambda x: x>lower and x<upper)]\n",
    "    loc.loc[d.index,pname] = 1.0\n",
    "#loc.loc[:,dont_groups] = 0.0\n",
    "pyemu.Matrix.from_dataframe(loc).to_ascii(os.path.join(t_d,\"loc.mat\"))"
   ]
  },
  {
   "cell_type": "code",
   "execution_count": null,
   "metadata": {
    "execution": {
     "iopub.execute_input": "2020-11-14T00:33:04.114170Z",
     "iopub.status.busy": "2020-11-14T00:33:04.112564Z",
     "iopub.status.idle": "2020-11-14T01:06:02.384046Z",
     "shell.execute_reply": "2020-11-14T01:06:02.384576Z"
    }
   },
   "outputs": [],
   "source": [
    "pst.pestpp_options[\"ies_localizer\"] = \"loc.mat\"\n",
    "pst.write(os.path.join(t_d,\"freyberg_ies.pst\"))\n",
    "pyemu.os_utils.start_workers(t_d,\"pestpp-ies\",\"freyberg_ies.pst\",num_workers=num_workers,master_dir=m_d)"
   ]
  },
  {
   "cell_type": "code",
   "execution_count": null,
   "metadata": {
    "execution": {
     "iopub.execute_input": "2020-11-14T01:06:02.389256Z",
     "iopub.status.busy": "2020-11-14T01:06:02.388709Z",
     "iopub.status.idle": "2020-11-14T01:06:02.849675Z",
     "shell.execute_reply": "2020-11-14T01:06:02.850173Z"
    }
   },
   "outputs": [],
   "source": [
    "phi = pd.read_csv(os.path.join(m_d,\"freyberg_ies.phi.actual.csv\"),index_col=0)\n",
    "phi.index = phi.total_runs\n",
    "phi.iloc[:,6:].apply(np.log10).plot(legend=False,lw=0.5,color='k')\n",
    "plt.ylabel('log $\\Phi$')\n",
    "plt.show()\n",
    "phi.iloc[-1,6:].hist()\n",
    "plt.title('Final $\\Phi$ Distribution');"
   ]
  },
  {
   "cell_type": "code",
   "execution_count": null,
   "metadata": {
    "execution": {
     "iopub.execute_input": "2020-11-14T01:06:02.855111Z",
     "iopub.status.busy": "2020-11-14T01:06:02.854621Z",
     "iopub.status.idle": "2020-11-14T01:06:04.231903Z",
     "shell.execute_reply": "2020-11-14T01:06:04.232333Z"
    }
   },
   "outputs": [],
   "source": [
    "oe_pr = pd.read_csv(os.path.join(m_d,\"freyberg_ies.0.obs.csv\"),index_col=0)\n",
    "oe_pt = pd.read_csv(os.path.join(m_d,\"freyberg_ies.{0}.obs.csv\".format(pst.control_data.noptmax)),index_col=0)\n",
    "obs = pst.observation_data\n",
    "fnames = pst.pestpp_options[\"forecasts\"].split(\",\")\n",
    "for forecast in fnames:\n",
    "    fig,ax = plt.subplots(1,1,figsize=(10,5))\n",
    "    oe_pr.loc[:,forecast].hist(ax=ax,color=\"0.5\",alpha=0.5, label='prior')\n",
    "    oe_pt.loc[:,forecast].hist(ax=ax,color=\"b\",alpha=0.5, label='posterior')\n",
    "    ax.plot([obs.loc[forecast,\"obsval\"],obs.loc[forecast,\"obsval\"]],ax.get_ylim(),\"r\", label='truth')\n",
    "    ax.set_title(forecast)\n",
    "    ax.legend(loc='upper right')\n",
    "    plt.show()"
   ]
  },
  {
   "cell_type": "code",
   "execution_count": null,
   "metadata": {
    "execution": {
     "iopub.execute_input": "2020-11-14T01:06:04.273947Z",
     "iopub.status.busy": "2020-11-14T01:06:04.273361Z",
     "iopub.status.idle": "2020-11-14T01:06:11.575483Z",
     "shell.execute_reply": "2020-11-14T01:06:11.574854Z"
    }
   },
   "outputs": [],
   "source": [
    "rw_obs = pd.read_csv(os.path.join(m_d,\"freyberg_ies.adjusted.obs_data.csv\"),index_col=0)\n",
    "rw_obs = rw_obs.weight.to_dict()\n",
    "nz_obs = pst.observation_data.loc[pst.nnz_obs_names,:].copy()\n",
    "nz_obs.loc[:,\"datetime\"] = pd.to_datetime(nz_obs.obsnme.apply(lambda x: x.split(\"_\")[-1]))\n",
    "pst_base = pyemu.Pst(os.path.join(t_d,\"freyberg.pst\"))\n",
    "oe_base = pd.read_csv(os.path.join(m_d,\"freyberg_ies.obs+noise.csv\"),index_col=0)\n",
    "for nz_group in pst.nnz_obs_groups:\n",
    "    nz_obs_group = nz_obs.loc[nz_obs.obgnme==nz_group,:]\n",
    "    fig,ax = plt.subplots(1,1,figsize=(10,2))\n",
    "    ax.plot(nz_obs_group.datetime,nz_obs_group.obsval,\"r-\")\n",
    "    pdc_obs = nz_obs_group.loc[nz_obs_group.obsnme.apply(lambda x: rw_obs[x]==0),:]\n",
    "   \n",
    "    ax.scatter(pdc_obs.datetime,pdc_obs.obsval,marker='.',s=50,zorder=20,color='k',ls='-',lw=2,fc=\"k\")\n",
    "    [ax.plot(nz_obs_group.datetime,oe_pr.loc[r,nz_obs_group.obsnme],color=\"0.5\",lw=0.1) for r in oe_pr.index]\n",
    "    [ax.plot(nz_obs_group.datetime,oe_pt.loc[r,nz_obs_group.obsnme],color=\"b\",lw=0.1,alpha=0.5) for r in oe_pt.index]\n",
    "    #[ax.plot(nz_obs_group.datetime,oe_base.loc[r,nz_obs_group.obsnme],color=\"r\",lw=0.1,alpha=0.5) for r in oe_base.index]\n",
    "    mn = oe_base.loc[:,nz_obs_group.obsnme].min()\n",
    "    mx = oe_base.loc[:,nz_obs_group.obsnme].max()\n",
    "    \n",
    "    ax.fill_between(nz_obs_group.datetime,mn,mx,fc=\"r\",alpha=0.15)\n",
    "    ax.set_title(nz_group)\n",
    "    #vmin = min(nz_obs_group.obsval.min(),oe_pt.loc[:,nz_obs_group.obsnme].min().min())\n",
    "    #vmax = max(nz_obs_group.obsval.max(),oe_pt.loc[:,nz_obs_group.obsnme].max().max())\n",
    "    vmin = nz_obs_group.obsval.min() * 0.9\n",
    "    vmax = nz_obs_group.obsval.max() * 1.1\n",
    "    ax.set_ylim(vmin,vmax)\n",
    "plt.show()"
   ]
  },
  {
   "cell_type": "code",
   "execution_count": null,
   "metadata": {
    "execution": {
     "iopub.execute_input": "2020-11-14T01:06:11.579098Z",
     "iopub.status.busy": "2020-11-14T01:06:11.578627Z",
     "iopub.status.idle": "2020-11-14T01:06:18.434822Z",
     "shell.execute_reply": "2020-11-14T01:06:18.435273Z"
    }
   },
   "outputs": [],
   "source": [
    "pe_pr = pd.read_csv(os.path.join(m_d,\"freyberg_ies.0.par.csv\"),index_col=0)\n",
    "pe_pt = pd.read_csv(os.path.join(m_d,\"freyberg_ies.{0}.par.csv\".format(pst.control_data.noptmax)),index_col=0)\n",
    "#pe_pr.index = pe_pt.index\n",
    "#par = pst.parameter_data\n",
    "pe_pr = pe_pr.loc[pe_pr.index.intersection(pe_pt.index),:]\n",
    "print(pe_pr.shape,pe_pt.shape)\n",
    "pdict = par.groupby(\"pargp\").groups\n",
    "pyemu.plot_utils.ensemble_helper({\"0.5\":pe_pr,\"b\":pe_pt},plot_cols=pdict)\n",
    "#pyemu.plot_utils.ensemble_change_summary(pe_pr,pe_pt,pst=pst,bins=20)"
   ]
  },
  {
   "cell_type": "markdown",
   "metadata": {},
   "source": [
    "### PESTPP-IES with par-by-par distance based localization\n",
    "\n",
    "This is industrial strength localization that combines the temporal localization from before with a distance-based cutoff between each spatially-distributed parameter type and each spatially-discrete observation.  In this way, we are defining a \"window\" around each observation and only parameters that are within this window are allowed to be conditioned from said observtion.  Its painful to setup and subjective (since a circular windows around each obseravtion is a coarse approximation) but in practice, it seems to yeild robust forecast estimates.\n",
    "\n",
    "For the first time now, we will be using a fully-localized solve, meaning each parameter is upgraded independently.  This means PESTPP-IES has to run through the upgrade calculations once for each parameter - this can be very slow.  Currently, PESTPP-IES can multithread these calculations but the optimal number of threads is very problem specific.  Through testing, 3 threads seems to be a good choice for this problem (the PESTPP-IES log file records the time it takes to solve groups of 1000 pars for each lambda so you can test for your problem too)."
   ]
  },
  {
   "cell_type": "code",
   "execution_count": null,
   "metadata": {
    "execution": {
     "iopub.execute_input": "2020-11-14T01:06:18.438040Z",
     "iopub.status.busy": "2020-11-14T01:06:18.437589Z",
     "iopub.status.idle": "2020-11-14T01:06:18.554707Z",
     "shell.execute_reply": "2020-11-14T01:06:18.555022Z"
    }
   },
   "outputs": [],
   "source": [
    "m = flopy.modflow.Modflow.load(\"freyberg.nam\",model_ws=t_d)"
   ]
  },
  {
   "cell_type": "markdown",
   "metadata": {},
   "source": [
    "Work out where each parameter and observation are located"
   ]
  },
  {
   "cell_type": "code",
   "execution_count": null,
   "metadata": {
    "execution": {
     "iopub.execute_input": "2020-11-14T01:06:18.563194Z",
     "iopub.status.busy": "2020-11-14T01:06:18.562775Z",
     "iopub.status.idle": "2020-11-14T01:06:19.108196Z",
     "shell.execute_reply": "2020-11-14T01:06:19.109057Z"
    }
   },
   "outputs": [],
   "source": [
    "par = pst.parameter_data\n",
    "\n",
    "gr_par = par.loc[par.pargp.apply(lambda x: \"gr\" in x and \"prsity\" not in x),:].copy()\n",
    "print(gr_par.pargp.unique())\n",
    "gr_par.groupby(\"pargp\").groups\n",
    "gr_par.loc[:,\"i\"] = gr_par.parnme.apply(lambda x: int(x[-6:-3]))\n",
    "gr_par.loc[:,\"j\"] = gr_par.parnme.apply(lambda x: int(x[-3:]))\n",
    "gr_par.loc[:,\"x\"] = gr_par.apply(lambda x: m.sr.xcentergrid[x.i,x.j],axis=1)\n",
    "gr_par.loc[:,\"y\"] = gr_par.apply(lambda x: m.sr.ycentergrid[x.i,x.j],axis=1)\n",
    "\n",
    "obs = pst.observation_data.loc[pst.nnz_obs_names,:]\n",
    "\n",
    "nobs = obs.loc[obs.obsnme.apply(lambda x: x.startswith(\"trgw\")),:].copy()\n",
    "nobs.loc[:,\"i\"] = nobs.obsnme.apply(lambda x: int(x.split('_')[1]))\n",
    "nobs.loc[:,\"j\"] = nobs.obsnme.apply(lambda x: int(x.split('_')[2]))\n",
    "nobs.loc[:,\"x\"] = nobs.apply(lambda x: m.sr.xcentergrid[x.i,x.j],axis=1)\n",
    "nobs.loc[:,\"y\"] = nobs.apply(lambda x: m.sr.ycentergrid[x.i,x.j],axis=1)\n",
    "nobs.loc[:,\"xy\"] = nobs.apply(lambda x: \"{0}_{1}\".format(x.x,x.y),axis=1)"
   ]
  },
  {
   "cell_type": "markdown",
   "metadata": {},
   "source": [
    "And pilot point parameters"
   ]
  },
  {
   "cell_type": "code",
   "execution_count": null,
   "metadata": {
    "execution": {
     "iopub.execute_input": "2020-11-14T01:06:19.112802Z",
     "iopub.status.busy": "2020-11-14T01:06:19.112338Z",
     "iopub.status.idle": "2020-11-14T01:06:19.165198Z",
     "shell.execute_reply": "2020-11-14T01:06:19.164703Z"
    }
   },
   "outputs": [],
   "source": [
    "pp_tpl = [f for f in os.listdir(t_d) if \"pp\" in f and f.endswith(\".tpl\")]\n",
    "pp_tpl_dfs = [pyemu.pp_utils.pp_tpl_to_dataframe(os.path.join(t_d,f)) for f in pp_tpl]\n",
    "pp_par = pd.concat(pp_tpl_dfs)\n",
    "pp_par.index = pp_par.parnme\n",
    "#pp_par = par.loc[par.pargp.apply(lambda x: \"pp\" in x),:].copy()\n",
    "pp_par.head()"
   ]
  },
  {
   "cell_type": "markdown",
   "metadata": {},
   "source": [
    "We will set up localization such that parameters are only informed by observations within a user-specfied distance (we can use 5000 meters)"
   ]
  },
  {
   "cell_type": "code",
   "execution_count": null,
   "metadata": {
    "execution": {
     "iopub.execute_input": "2020-11-14T01:06:19.172432Z",
     "iopub.status.busy": "2020-11-14T01:06:19.170659Z",
     "iopub.status.idle": "2020-11-14T01:06:21.032710Z",
     "shell.execute_reply": "2020-11-14T01:06:21.033203Z"
    }
   },
   "outputs": [],
   "source": [
    "spatial_loc = pyemu.Matrix.from_names(pst.nnz_obs_names,pst.adj_par_names).to_dataframe()\n",
    "spatial_loc.values[:,:] = 1.0\n",
    "\n",
    "loc_dist = 5000.0\n",
    "sadj = set(pst.adj_par_names)\n",
    "dont_pars = set(par.loc[par.pargp.apply(lambda x: x in dont_groups),\"parnme\"].tolist())\n",
    "\n",
    "print('obsname            fraction grid retained   fraction pilot points retained')\n",
    "xy_groups = nobs.groupby('xy').groups\n",
    "print(len(xy_groups))\n",
    "#for oname in nobs.obsnme:\n",
    "for xy,onames in xy_groups.items():\n",
    "    oname = onames[0]\n",
    "    xx,yy = nobs.loc[oname,['x','y']]\n",
    "    \n",
    "    # localization for grid-based parameters\n",
    "    gr_par.loc[:,\"dist\"] = gr_par.apply(lambda x: (x.x - xx)**2 + (x.y - yy)**2,axis=1).apply(np.sqrt)\n",
    "    gr_too_far = gr_par.loc[gr_par.dist > loc_dist,\"parnme\"]\n",
    "    gr_too_far = gr_too_far.loc[gr_too_far.apply(lambda x: x in sadj)]\n",
    "    spatial_loc.loc[:,gr_too_far] = 0.0\n",
    "    \n",
    "    # localization for pilot point parameters\n",
    "    pp_par.loc[:,\"dist\"] = pp_par.apply(lambda x: (x.x - xx)**2 + (x.y - yy)**2,axis=1).apply(np.sqrt)\n",
    "    pp_too_far = pp_par.loc[pp_par.dist > loc_dist,\"parnme\"]\n",
    "    pp_too_far = pp_too_far.loc[pp_too_far.apply(lambda x: x in sadj)]\n",
    "    spatial_loc.loc[onames,pp_too_far] = 0.0\n",
    "    print(oname,gr_too_far.shape[0]/gr_par.shape[0],pp_too_far.shape[0]/pp_par.shape[0])\n",
    "    \n",
    "#loc.loc[:,dont_pars] = 0.0\n",
    "#spars = par.loc[par.parnme.apply(lambda x: \"ss\" in x or \"sy\" in x),\"parnme\"]\n",
    "#loc.loc[:,spars] = 0.0\n",
    "spatial_loc.loc[loc.index,temporal_pars] = loc.loc[:,temporal_pars]\n",
    "print('\\n\\nTotal number of parameters still informed by each observation')\n",
    "spatial_loc.sum(axis=1)"
   ]
  },
  {
   "cell_type": "markdown",
   "metadata": {},
   "source": [
    "Save the localizer to a file and set the appropriate PESTPP-IES flags"
   ]
  },
  {
   "cell_type": "code",
   "execution_count": null,
   "metadata": {
    "execution": {
     "iopub.execute_input": "2020-11-14T01:06:21.045301Z",
     "iopub.status.busy": "2020-11-14T01:06:21.044823Z",
     "iopub.status.idle": "2020-11-14T01:06:21.837830Z",
     "shell.execute_reply": "2020-11-14T01:06:21.838276Z"
    }
   },
   "outputs": [],
   "source": [
    "pyemu.Matrix.from_dataframe(spatial_loc).to_coo(os.path.join(t_d,\"spatial_loc.jcb\"))\n",
    "pst.pestpp_options[\"ies_localizer\"] = \"spatial_loc.jcb\"\n",
    "pst.pestpp_options[\"ies_num_threads\"] = 10\n",
    "pst.write(os.path.join(t_d,\"freyberg_ies.pst\"))"
   ]
  },
  {
   "cell_type": "markdown",
   "metadata": {},
   "source": [
    "now let's run it"
   ]
  },
  {
   "cell_type": "code",
   "execution_count": null,
   "metadata": {
    "execution": {
     "iopub.execute_input": "2020-11-14T01:06:21.841059Z",
     "iopub.status.busy": "2020-11-14T01:06:21.840565Z",
     "iopub.status.idle": "2020-11-14T01:44:15.649052Z",
     "shell.execute_reply": "2020-11-14T01:44:15.649559Z"
    }
   },
   "outputs": [],
   "source": [
    "pyemu.os_utils.start_workers(t_d,\"pestpp-ies\",\"freyberg_ies.pst\",num_workers=num_workers,master_dir=m_d)"
   ]
  },
  {
   "cell_type": "code",
   "execution_count": null,
   "metadata": {
    "execution": {
     "iopub.execute_input": "2020-11-14T01:44:15.674985Z",
     "iopub.status.busy": "2020-11-14T01:44:15.670613Z",
     "iopub.status.idle": "2020-11-14T01:44:16.010616Z",
     "shell.execute_reply": "2020-11-14T01:44:16.011123Z"
    }
   },
   "outputs": [],
   "source": [
    "phi = pd.read_csv(os.path.join(m_d,\"freyberg_ies.phi.actual.csv\"),index_col=0)\n",
    "phi.index = phi.total_runs\n",
    "phi.iloc[:,6:].apply(np.log10).plot(legend=False,lw=0.5,color='k')\n",
    "plt.ylabel('log $\\Phi$')\n",
    "plt.show()\n",
    "phi.iloc[-1,6:].hist()\n",
    "plt.title('Final $\\Phi$ Distribution');"
   ]
  },
  {
   "cell_type": "code",
   "execution_count": null,
   "metadata": {
    "execution": {
     "iopub.execute_input": "2020-11-14T01:44:16.017203Z",
     "iopub.status.busy": "2020-11-14T01:44:16.016717Z",
     "iopub.status.idle": "2020-11-14T01:44:17.719377Z",
     "shell.execute_reply": "2020-11-14T01:44:17.719822Z"
    }
   },
   "outputs": [],
   "source": [
    "oe_pr_last = oe_pr.copy()\n",
    "oe_pt_last = oe_pt.copy()\n",
    "oe_pr = pd.read_csv(os.path.join(m_d,\"freyberg_ies.0.obs.csv\"),index_col=0)\n",
    "oe_pt = pd.read_csv(os.path.join(m_d,\"freyberg_ies.{0}.obs.csv\".format(pst.control_data.noptmax)),index_col=0)\n",
    "obs = pst.observation_data\n",
    "fnames = pst.pestpp_options[\"forecasts\"].split(\",\")\n",
    "for forecast in fnames:\n",
    "    fig,[ax,ax_last] = plt.subplots(1,2,figsize=(10,5))\n",
    "    oe_pr.loc[:,forecast].hist(ax=ax,color=\"0.5\",alpha=0.5, label='prior')\n",
    "    oe_pt.loc[:,forecast].hist(ax=ax,color=\"b\",alpha=0.5, label='posterior')\n",
    "    ax.plot([obs.loc[forecast,\"obsval\"],obs.loc[forecast,\"obsval\"]],ax.get_ylim(),\"r\", label='truth')\n",
    "    ax.set_title(forecast)\n",
    "    ax.legend(loc='upper right')\n",
    "    \n",
    "    oe_pr_last.loc[:,forecast].hist(ax=ax_last,color=\"0.5\",alpha=0.5, label='prior')\n",
    "    oe_pt_last.loc[:,forecast].hist(ax=ax_last,color=\"b\",alpha=0.5, label='posterior')\n",
    "    ax_last.plot([obs.loc[forecast,\"obsval\"],obs.loc[forecast,\"obsval\"]],ax.get_ylim(),\"r\", label='truth')\n",
    "    ax_last.set_title(\"last \" + forecast)\n",
    "    ax.legend(loc='upper right')\n",
    "    plt.show()"
   ]
  },
  {
   "cell_type": "code",
   "execution_count": null,
   "metadata": {
    "execution": {
     "iopub.execute_input": "2020-11-14T01:44:17.731285Z",
     "iopub.status.busy": "2020-11-14T01:44:17.730868Z",
     "iopub.status.idle": "2020-11-14T01:44:24.804502Z",
     "shell.execute_reply": "2020-11-14T01:44:24.803847Z"
    }
   },
   "outputs": [],
   "source": [
    "nz_obs = pst.observation_data.loc[pst.nnz_obs_names,:].copy()\n",
    "nz_obs.loc[:,\"datetime\"] = pd.to_datetime(nz_obs.obsnme.apply(lambda x: x.split(\"_\")[-1]))\n",
    "pst_base = pyemu.Pst(os.path.join(t_d,\"freyberg.pst\"))\n",
    "oe_base = pd.read_csv(os.path.join(m_d,\"freyberg_ies.obs+noise.csv\"),index_col=0)\n",
    "for nz_group in pst.nnz_obs_groups:\n",
    "    nz_obs_group = nz_obs.loc[nz_obs.obgnme==nz_group,:]\n",
    "    fig,ax = plt.subplots(1,1,figsize=(10,2))\n",
    "    ax.plot(nz_obs_group.datetime,nz_obs_group.obsval,\"r-\")\n",
    "    pdc_obs = nz_obs_group.loc[nz_obs_group.obsnme.apply(lambda x: rw_obs[x]==0),:]\n",
    "   \n",
    "    ax.scatter(pdc_obs.datetime,pdc_obs.obsval,marker='.',s=50,zorder=20,color='k',ls='-',lw=2,fc=\"k\")\n",
    "    [ax.plot(nz_obs_group.datetime,oe_pr.loc[r,nz_obs_group.obsnme],color=\"0.5\",lw=0.1) for r in oe_pr.index]\n",
    "    [ax.plot(nz_obs_group.datetime,oe_pt.loc[r,nz_obs_group.obsnme],color=\"b\",lw=0.1,alpha=0.5) for r in oe_pt.index]\n",
    "    #[ax.plot(nz_obs_group.datetime,oe_base.loc[r,nz_obs_group.obsnme],color=\"r\",lw=0.1,alpha=0.5) for r in oe_base.index]\n",
    "    mn = oe_base.loc[:,nz_obs_group.obsnme].min()\n",
    "    mx = oe_base.loc[:,nz_obs_group.obsnme].max()\n",
    "    \n",
    "    ax.fill_between(nz_obs_group.datetime,mn,mx,fc=\"r\",alpha=0.15)\n",
    "    ax.set_title(nz_group)\n",
    "    #vmin = min(nz_obs_group.obsval.min(),oe_pt.loc[:,nz_obs_group.obsnme].min().min())\n",
    "    #vmax = max(nz_obs_group.obsval.max(),oe_pt.loc[:,nz_obs_group.obsnme].max().max())\n",
    "    vmin = nz_obs_group.obsval.min() * 0.9\n",
    "    vmax = nz_obs_group.obsval.max() * 1.1\n",
    "    ax.set_ylim(vmin,vmax)\n",
    "plt.show()"
   ]
  },
  {
   "cell_type": "code",
   "execution_count": null,
   "metadata": {
    "execution": {
     "iopub.execute_input": "2020-11-14T01:44:24.807728Z",
     "iopub.status.busy": "2020-11-14T01:44:24.807321Z",
     "iopub.status.idle": "2020-11-14T01:44:31.733439Z",
     "shell.execute_reply": "2020-11-14T01:44:31.733887Z"
    }
   },
   "outputs": [],
   "source": [
    "pe_pr = pd.read_csv(os.path.join(m_d,\"freyberg_ies.0.par.csv\"),index_col=0)\n",
    "pe_pt = pd.read_csv(os.path.join(m_d,\"freyberg_ies.{0}.par.csv\".format(pst.control_data.noptmax)),index_col=0)\n",
    "par = pst.parameter_data\n",
    "pdict = par.groupby(\"pargp\").groups\n",
    "pyemu.plot_utils.ensemble_helper({\"0.5\":pe_pr,\"b\":pe_pt},plot_cols=pdict)\n",
    "#pyemu.plot_utils.ensemble_change_summary(pe_pr,pe_pt,pst=pst,bins=20)"
   ]
  },
  {
   "cell_type": "markdown",
   "metadata": {},
   "source": [
    "Nice!  Those are pretty solid results for a) matching historic state observations and b) getting pretty good forecasts"
   ]
  },
  {
   "cell_type": "markdown",
   "metadata": {},
   "source": [
    "### EXTRA: PESTPP-IES with automatic adaptive localization\n",
    "\n",
    "PESTPP-IES includes functionality for automatic localization.  In practice, this form of localization doesnt resolve the level of localization that more rigorous explicit localization that you get through a localization matrix.  However, its better than no localization at all.  Just like par-by-par distance based localization above, we still need to solve the upgrade equations once for each parameter....\n",
    "\n",
    "The one control value for `autoadaloc` is `ies_autoadaloc_sigma_distance` which is the statistical difference background or error correlation estimate and the current correlation coefficient.  Any correlation coefficient that is less than the error mean plus/minus error standard deviation times `ies_autoadaloc_sigma_distance` is treated as a non-significant correlation and is localized out. So large `ies_autoadaloc_sigma_distance` values result in stronger localization.  The default value is 1.0"
   ]
  },
  {
   "cell_type": "code",
   "execution_count": null,
   "metadata": {
    "execution": {
     "iopub.execute_input": "2020-11-14T01:44:31.747649Z",
     "iopub.status.busy": "2020-11-14T01:44:31.747210Z",
     "iopub.status.idle": "2020-11-14T02:12:26.504107Z",
     "shell.execute_reply": "2020-11-14T02:12:26.504617Z"
    }
   },
   "outputs": [],
   "source": [
    "pst.pestpp_options.pop(\"ies_localizer\")\n",
    "pst.pestpp_options[\"ies_autoadaloc\"] = True\n",
    "pst.pestpp_options['ies_num_threads'] = 3\n",
    "# these upgrade calcs take a while, so let's only do one lambda\n",
    "pst.pestpp_options[\"ies_lambda_mults\"] = 1.0\n",
    "pst.write(os.path.join(t_d,\"freyberg_ies.pst\"))\n",
    "pyemu.os_utils.start_workers(t_d,\"pestpp-ies\",\"freyberg_ies.pst\",num_workers=num_workers,master_dir=m_d)"
   ]
  },
  {
   "cell_type": "code",
   "execution_count": null,
   "metadata": {
    "execution": {
     "iopub.execute_input": "2020-11-14T02:12:26.537384Z",
     "iopub.status.busy": "2020-11-14T02:12:26.529968Z",
     "iopub.status.idle": "2020-11-14T02:12:26.819243Z",
     "shell.execute_reply": "2020-11-14T02:12:26.819742Z"
    }
   },
   "outputs": [],
   "source": [
    "phi = pd.read_csv(os.path.join(m_d,\"freyberg_ies.phi.actual.csv\"),index_col=0)\n",
    "phi.index = phi.total_runs\n",
    "phi.iloc[:,6:].apply(np.log10).plot(legend=False,lw=0.5,color='k')\n",
    "plt.ylabel('log $\\Phi$')\n",
    "plt.show()\n",
    "phi.iloc[-1,6:].hist()\n",
    "plt.title('Final $\\Phi$ Distribution');"
   ]
  },
  {
   "cell_type": "code",
   "execution_count": null,
   "metadata": {
    "execution": {
     "iopub.execute_input": "2020-11-14T02:12:26.825857Z",
     "iopub.status.busy": "2020-11-14T02:12:26.825379Z",
     "iopub.status.idle": "2020-11-14T02:12:28.913993Z",
     "shell.execute_reply": "2020-11-14T02:12:28.914512Z"
    }
   },
   "outputs": [],
   "source": [
    "oe_pr_last = oe_pr.copy()\n",
    "oe_pt_last = oe_pt.copy()\n",
    "oe_pr = pd.read_csv(os.path.join(m_d,\"freyberg_ies.0.obs.csv\"),index_col=0)\n",
    "oe_pt = pd.read_csv(os.path.join(m_d,\"freyberg_ies.{0}.obs.csv\".format(pst.control_data.noptmax)),index_col=0)\n",
    "obs = pst.observation_data\n",
    "fnames = pst.pestpp_options[\"forecasts\"].split(\",\")\n",
    "for forecast in fnames:\n",
    "    fig,[ax,ax_last] = plt.subplots(1,2,figsize=(10,5))\n",
    "    oe_pr.loc[:,forecast].hist(ax=ax,color=\"0.5\",alpha=0.5, label='prior')\n",
    "    oe_pt.loc[:,forecast].hist(ax=ax,color=\"b\",alpha=0.5, label='posterior')\n",
    "    ax.plot([obs.loc[forecast,\"obsval\"],obs.loc[forecast,\"obsval\"]],ax.get_ylim(),\"r\", label='truth')\n",
    "    ax.set_title(forecast)\n",
    "    ax.legend(loc='upper right')\n",
    "    \n",
    "    oe_pr_last.loc[:,forecast].hist(ax=ax_last,color=\"0.5\",alpha=0.5, label='prior')\n",
    "    oe_pt_last.loc[:,forecast].hist(ax=ax_last,color=\"b\",alpha=0.5, label='posterior')\n",
    "    ax_last.plot([obs.loc[forecast,\"obsval\"],obs.loc[forecast,\"obsval\"]],ax.get_ylim(),\"r\", label='truth')\n",
    "    ax_last.set_title(\"last \" + forecast)\n",
    "    ax.legend(loc='upper right')\n",
    "    plt.show()"
   ]
  },
  {
   "cell_type": "code",
   "execution_count": null,
   "metadata": {
    "execution": {
     "iopub.execute_input": "2020-11-14T02:12:28.927681Z",
     "iopub.status.busy": "2020-11-14T02:12:28.927154Z",
     "iopub.status.idle": "2020-11-14T02:12:36.288282Z",
     "shell.execute_reply": "2020-11-14T02:12:36.287617Z"
    }
   },
   "outputs": [],
   "source": [
    "nz_obs = pst.observation_data.loc[pst.nnz_obs_names,:].copy()\n",
    "nz_obs.loc[:,\"datetime\"] = pd.to_datetime(nz_obs.obsnme.apply(lambda x: x.split(\"_\")[-1]))\n",
    "pst_base = pyemu.Pst(os.path.join(t_d,\"freyberg.pst\"))\n",
    "oe_base = pd.read_csv(os.path.join(m_d,\"freyberg_ies.obs+noise.csv\"),index_col=0)\n",
    "for nz_group in pst.nnz_obs_groups:\n",
    "    nz_obs_group = nz_obs.loc[nz_obs.obgnme==nz_group,:]\n",
    "    fig,ax = plt.subplots(1,1,figsize=(10,2))\n",
    "    ax.plot(nz_obs_group.datetime,nz_obs_group.obsval,\"r-\")\n",
    "    pdc_obs = nz_obs_group.loc[nz_obs_group.obsnme.apply(lambda x: rw_obs[x]==0),:]\n",
    "   \n",
    "    ax.scatter(pdc_obs.datetime,pdc_obs.obsval,marker='.',s=50,zorder=20,color='k',ls='-',lw=2,fc=\"k\")\n",
    "    [ax.plot(nz_obs_group.datetime,oe_pr.loc[r,nz_obs_group.obsnme],color=\"0.5\",lw=0.1) for r in oe_pr.index]\n",
    "    [ax.plot(nz_obs_group.datetime,oe_pt.loc[r,nz_obs_group.obsnme],color=\"b\",lw=0.1,alpha=0.5) for r in oe_pt.index]\n",
    "    #[ax.plot(nz_obs_group.datetime,oe_base.loc[r,nz_obs_group.obsnme],color=\"r\",lw=0.1,alpha=0.5) for r in oe_base.index]\n",
    "    mn = oe_base.loc[:,nz_obs_group.obsnme].min()\n",
    "    mx = oe_base.loc[:,nz_obs_group.obsnme].max()\n",
    "    \n",
    "    ax.fill_between(nz_obs_group.datetime,mn,mx,fc=\"r\",alpha=0.15)\n",
    "    ax.set_title(nz_group)\n",
    "    #vmin = min(nz_obs_group.obsval.min(),oe_pt.loc[:,nz_obs_group.obsnme].min().min())\n",
    "    #vmax = max(nz_obs_group.obsval.max(),oe_pt.loc[:,nz_obs_group.obsnme].max().max())\n",
    "    vmin = nz_obs_group.obsval.min() * 0.9\n",
    "    vmax = nz_obs_group.obsval.max() * 1.1\n",
    "    ax.set_ylim(vmin,vmax)\n",
    "plt.show()"
   ]
  },
  {
   "cell_type": "markdown",
   "metadata": {},
   "source": [
    "Not bad!  considering how easy it is to implement automatic adaptive localization, this is an easy step into the localized solve process..."
   ]
  },
  {
   "cell_type": "code",
   "execution_count": null,
   "metadata": {},
   "outputs": [],
   "source": []
  }
 ],
 "metadata": {
  "kernelspec": {
   "display_name": "Python 3",
   "language": "python",
   "name": "python3"
  },
  "language_info": {
   "codemirror_mode": {
    "name": "ipython",
    "version": 3
   },
   "file_extension": ".py",
   "mimetype": "text/x-python",
   "name": "python",
   "nbconvert_exporter": "python",
   "pygments_lexer": "ipython3",
   "version": "3.8.6"
  }
 },
 "nbformat": 4,
 "nbformat_minor": 2
}
