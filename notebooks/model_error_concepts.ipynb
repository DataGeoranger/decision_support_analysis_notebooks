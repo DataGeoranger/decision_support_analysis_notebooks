{
 "cells": [
  {
   "cell_type": "markdown",
   "metadata": {},
   "source": [
    "# A short but intense dive into model error concepts"
   ]
  },
  {
   "cell_type": "code",
   "execution_count": 1,
   "metadata": {
    "execution": {
     "iopub.execute_input": "2020-11-14T04:51:51.828133Z",
     "iopub.status.busy": "2020-11-14T04:51:51.827402Z",
     "iopub.status.idle": "2020-11-14T04:51:52.388885Z",
     "shell.execute_reply": "2020-11-14T04:51:52.389226Z"
    }
   },
   "outputs": [],
   "source": [
    "import os\n",
    "import numpy as np\n",
    "import pandas as pd\n",
    "import matplotlib.pyplot as plt\n",
    "plt.rcParams[\"font.size\"] = 15\n",
    "import flopy\n",
    "import pyemu\n",
    "import prep_deps"
   ]
  },
  {
   "cell_type": "markdown",
   "metadata": {},
   "source": [
    "### A simple cross section model\n",
    "\n",
    "We will use a 10-cell very simple cross section model to demonstrate some interesting concepts related to model error.  This model has a constant head on the left and a specified inflow on the right.  There are two stress periods (both steady state).  The first stress period is considered \"historic\" and the second is considered \"forecast\" - the inflow on the right side increases in the forecast period"
   ]
  },
  {
   "cell_type": "code",
   "execution_count": 2,
   "metadata": {
    "execution": {
     "iopub.execute_input": "2020-11-14T04:51:52.393471Z",
     "iopub.status.busy": "2020-11-14T04:51:52.392967Z",
     "iopub.status.idle": "2020-11-14T04:51:52.503754Z",
     "shell.execute_reply": "2020-11-14T04:51:52.504209Z"
    }
   },
   "outputs": [
    {
     "data": {
      "text/plain": [
       "<matplotlib.collections.PatchCollection at 0x245116c5580>"
      ]
     },
     "execution_count": 2,
     "metadata": {},
     "output_type": "execute_result"
    },
    {
     "data": {
      "image/png": "[encoded data removed]",
      "text/plain": [
       "<Figure size 432x288 with 1 Axes>"
      ]
     },
     "metadata": {
      "needs_background": "light"
     },
     "output_type": "display_data"
    }
   ],
   "source": [
    "t_d = \"template_xsec\"\n",
    "nam_file = \"10par_xsec.nam\"\n",
    "m = flopy.modflow.Modflow.load(nam_file,model_ws=t_d)\n",
    "mm = flopy.plot.PlotCrossSection(model=m,line={\"row\":0})\n",
    "mm.plot_grid()\n",
    "mm.plot_bc(\"wel\")\n",
    "mm.plot_ibound()"
   ]
  },
  {
   "cell_type": "markdown",
   "metadata": {},
   "source": [
    "Load the pest control file and plot the 'truth' observations - the outputs from the truth model"
   ]
  },
  {
   "cell_type": "code",
   "execution_count": 3,
   "metadata": {
    "execution": {
     "iopub.execute_input": "2020-11-14T04:51:52.507393Z",
     "iopub.status.busy": "2020-11-14T04:51:52.506499Z",
     "iopub.status.idle": "2020-11-14T04:51:52.903579Z",
     "shell.execute_reply": "2020-11-14T04:51:52.904028Z"
    }
   },
   "outputs": [],
   "source": [
    "prep_deps.prep_template(t_d)\n",
    "pst = pyemu.Pst(os.path.join(t_d,\"pest.pst\"))"
   ]
  },
  {
   "cell_type": "code",
   "execution_count": 4,
   "metadata": {
    "execution": {
     "iopub.execute_input": "2020-11-14T04:51:52.918851Z",
     "iopub.status.busy": "2020-11-14T04:51:52.918132Z",
     "iopub.status.idle": "2020-11-14T04:51:53.056292Z",
     "shell.execute_reply": "2020-11-14T04:51:53.056722Z"
    }
   },
   "outputs": [
    {
     "data": {
      "image/png": "[encoded data removed]",
      "text/plain": [
       "<Figure size 720x360 with 1 Axes>"
      ]
     },
     "metadata": {
      "needs_background": "light"
     },
     "output_type": "display_data"
    }
   ],
   "source": [
    "fig,ax = plt.subplots(1,1,figsize=(10,5))\n",
    "obs = pst.observation_data\n",
    "ax.plot(obs.obsval[:10].values,\"r--\",label=\"historic conditions\")\n",
    "ax.plot(obs.obsval[10:].values,'b--',label=\"forecast conditions\")\n",
    "obs_idx = [3,5]\n",
    "ax.scatter(obs_idx,obs.obsval.iloc[obs_idx].values,marker='o',c='r',label=\"obs\")\n",
    "ax.scatter([7,7],obs.obsval.iloc[[7,17]].values,marker=\"*\",s=200,c='g',label=\"forecasts\")\n",
    "ax.grid()\n",
    "ax.legend()\n",
    "ax.set_ylabel(\"water level\")\n",
    "ax.set_xlabel(\"model cell\")\n",
    "ax.set_ylim(0,8)\n",
    "t = ax.set_title(\"outputs from the 'true' model\")"
   ]
  },
  {
   "cell_type": "markdown",
   "metadata": {},
   "source": [
    "### Introducing model error\n",
    "\n",
    "To simulate model error, we will introduce a difference between the truth model and the model we will be using for history matching and uncertainty analysis - this is model error in the conceptual sense.  What we will do is lower the stage of the left hand boundary from 1.5 in the truth to 1.0 in the model we will use.  \n",
    "\n",
    "To be clear, the observations and \"true\" forecast values were generated with the model that has boundary stage of 1.5 and a uniform HK of 2.5 - this model serves as the \"truth\" or model of reality. In practice, we will never know the \"true\" value of the forecasts - that's why we are modeling! \n",
    "\n",
    "Now let's see what happens when we try to assimilate those two head observations through history matching "
   ]
  },
  {
   "cell_type": "code",
   "execution_count": 5,
   "metadata": {
    "execution": {
     "iopub.execute_input": "2020-11-14T04:51:53.060596Z",
     "iopub.status.busy": "2020-11-14T04:51:53.060186Z",
     "iopub.status.idle": "2020-11-14T04:51:53.122190Z",
     "shell.execute_reply": "2020-11-14T04:51:53.122749Z"
    }
   },
   "outputs": [],
   "source": [
    "pst = pyemu.Pst(os.path.join(t_d,\"pest.pst\"))"
   ]
  },
  {
   "cell_type": "code",
   "execution_count": 6,
   "metadata": {
    "execution": {
     "iopub.execute_input": "2020-11-14T04:51:53.130554Z",
     "iopub.status.busy": "2020-11-14T04:51:53.130070Z",
     "iopub.status.idle": "2020-11-14T04:51:53.138165Z",
     "shell.execute_reply": "2020-11-14T04:51:53.138671Z"
    }
   },
   "outputs": [
    {
     "data": {
      "text/html": [
       "<div>\n",
       "<style scoped>\n",
       "    .dataframe tbody tr th:only-of-type {\n",
       "        vertical-align: middle;\n",
       "    }\n",
       "\n",
       "    .dataframe tbody tr th {\n",
       "        vertical-align: top;\n",
       "    }\n",
       "\n",
       "    .dataframe thead th {\n",
       "        text-align: right;\n",
       "    }\n",
       "</style>\n",
       "<table border=\"1\" class=\"dataframe\">\n",
       "  <thead>\n",
       "    <tr style=\"text-align: right;\">\n",
       "      <th></th>\n",
       "      <th>parnme</th>\n",
       "      <th>partrans</th>\n",
       "      <th>parchglim</th>\n",
       "      <th>parval1</th>\n",
       "      <th>parlbnd</th>\n",
       "      <th>parubnd</th>\n",
       "      <th>pargp</th>\n",
       "      <th>scale</th>\n",
       "      <th>offset</th>\n",
       "      <th>dercom</th>\n",
       "      <th>extra</th>\n",
       "    </tr>\n",
       "    <tr>\n",
       "      <th>parnme</th>\n",
       "      <th></th>\n",
       "      <th></th>\n",
       "      <th></th>\n",
       "      <th></th>\n",
       "      <th></th>\n",
       "      <th></th>\n",
       "      <th></th>\n",
       "      <th></th>\n",
       "      <th></th>\n",
       "      <th></th>\n",
       "      <th></th>\n",
       "    </tr>\n",
       "  </thead>\n",
       "  <tbody>\n",
       "    <tr>\n",
       "      <th>stage</th>\n",
       "      <td>stage</td>\n",
       "      <td>fixed</td>\n",
       "      <td>factor</td>\n",
       "      <td>1.0</td>\n",
       "      <td>0.10</td>\n",
       "      <td>3.0</td>\n",
       "      <td>k</td>\n",
       "      <td>1.0</td>\n",
       "      <td>0.0</td>\n",
       "      <td>1</td>\n",
       "      <td>NaN</td>\n",
       "    </tr>\n",
       "    <tr>\n",
       "      <th>k_01</th>\n",
       "      <td>k_01</td>\n",
       "      <td>log</td>\n",
       "      <td>factor</td>\n",
       "      <td>2.5</td>\n",
       "      <td>0.25</td>\n",
       "      <td>25.0</td>\n",
       "      <td>k</td>\n",
       "      <td>1.0</td>\n",
       "      <td>0.0</td>\n",
       "      <td>1</td>\n",
       "      <td>NaN</td>\n",
       "    </tr>\n",
       "    <tr>\n",
       "      <th>k_02</th>\n",
       "      <td>k_02</td>\n",
       "      <td>log</td>\n",
       "      <td>factor</td>\n",
       "      <td>2.5</td>\n",
       "      <td>0.25</td>\n",
       "      <td>25.0</td>\n",
       "      <td>k</td>\n",
       "      <td>1.0</td>\n",
       "      <td>0.0</td>\n",
       "      <td>1</td>\n",
       "      <td>NaN</td>\n",
       "    </tr>\n",
       "    <tr>\n",
       "      <th>k_03</th>\n",
       "      <td>k_03</td>\n",
       "      <td>log</td>\n",
       "      <td>factor</td>\n",
       "      <td>2.5</td>\n",
       "      <td>0.25</td>\n",
       "      <td>25.0</td>\n",
       "      <td>k</td>\n",
       "      <td>1.0</td>\n",
       "      <td>0.0</td>\n",
       "      <td>1</td>\n",
       "      <td>NaN</td>\n",
       "    </tr>\n",
       "    <tr>\n",
       "      <th>k_04</th>\n",
       "      <td>k_04</td>\n",
       "      <td>log</td>\n",
       "      <td>factor</td>\n",
       "      <td>2.5</td>\n",
       "      <td>0.25</td>\n",
       "      <td>25.0</td>\n",
       "      <td>k</td>\n",
       "      <td>1.0</td>\n",
       "      <td>0.0</td>\n",
       "      <td>1</td>\n",
       "      <td>NaN</td>\n",
       "    </tr>\n",
       "    <tr>\n",
       "      <th>k_05</th>\n",
       "      <td>k_05</td>\n",
       "      <td>log</td>\n",
       "      <td>factor</td>\n",
       "      <td>2.5</td>\n",
       "      <td>0.25</td>\n",
       "      <td>25.0</td>\n",
       "      <td>k</td>\n",
       "      <td>1.0</td>\n",
       "      <td>0.0</td>\n",
       "      <td>1</td>\n",
       "      <td>NaN</td>\n",
       "    </tr>\n",
       "    <tr>\n",
       "      <th>k_06</th>\n",
       "      <td>k_06</td>\n",
       "      <td>log</td>\n",
       "      <td>factor</td>\n",
       "      <td>2.5</td>\n",
       "      <td>0.25</td>\n",
       "      <td>25.0</td>\n",
       "      <td>k</td>\n",
       "      <td>1.0</td>\n",
       "      <td>0.0</td>\n",
       "      <td>1</td>\n",
       "      <td>NaN</td>\n",
       "    </tr>\n",
       "    <tr>\n",
       "      <th>k_07</th>\n",
       "      <td>k_07</td>\n",
       "      <td>log</td>\n",
       "      <td>factor</td>\n",
       "      <td>2.5</td>\n",
       "      <td>0.25</td>\n",
       "      <td>25.0</td>\n",
       "      <td>k</td>\n",
       "      <td>1.0</td>\n",
       "      <td>0.0</td>\n",
       "      <td>1</td>\n",
       "      <td>NaN</td>\n",
       "    </tr>\n",
       "    <tr>\n",
       "      <th>k_08</th>\n",
       "      <td>k_08</td>\n",
       "      <td>log</td>\n",
       "      <td>factor</td>\n",
       "      <td>2.5</td>\n",
       "      <td>0.25</td>\n",
       "      <td>25.0</td>\n",
       "      <td>k</td>\n",
       "      <td>1.0</td>\n",
       "      <td>0.0</td>\n",
       "      <td>1</td>\n",
       "      <td>NaN</td>\n",
       "    </tr>\n",
       "    <tr>\n",
       "      <th>k_09</th>\n",
       "      <td>k_09</td>\n",
       "      <td>log</td>\n",
       "      <td>factor</td>\n",
       "      <td>2.5</td>\n",
       "      <td>0.25</td>\n",
       "      <td>25.0</td>\n",
       "      <td>k</td>\n",
       "      <td>1.0</td>\n",
       "      <td>0.0</td>\n",
       "      <td>1</td>\n",
       "      <td>NaN</td>\n",
       "    </tr>\n",
       "    <tr>\n",
       "      <th>k_10</th>\n",
       "      <td>k_10</td>\n",
       "      <td>log</td>\n",
       "      <td>factor</td>\n",
       "      <td>2.5</td>\n",
       "      <td>0.25</td>\n",
       "      <td>25.0</td>\n",
       "      <td>k</td>\n",
       "      <td>1.0</td>\n",
       "      <td>0.0</td>\n",
       "      <td>1</td>\n",
       "      <td>NaN</td>\n",
       "    </tr>\n",
       "  </tbody>\n",
       "</table>\n",
       "</div>"
      ],
      "text/plain": [
       "       parnme partrans parchglim  parval1  parlbnd  parubnd pargp  scale  \\\n",
       "parnme                                                                     \n",
       "stage   stage    fixed    factor      1.0     0.10      3.0     k    1.0   \n",
       "k_01     k_01      log    factor      2.5     0.25     25.0     k    1.0   \n",
       "k_02     k_02      log    factor      2.5     0.25     25.0     k    1.0   \n",
       "k_03     k_03      log    factor      2.5     0.25     25.0     k    1.0   \n",
       "k_04     k_04      log    factor      2.5     0.25     25.0     k    1.0   \n",
       "k_05     k_05      log    factor      2.5     0.25     25.0     k    1.0   \n",
       "k_06     k_06      log    factor      2.5     0.25     25.0     k    1.0   \n",
       "k_07     k_07      log    factor      2.5     0.25     25.0     k    1.0   \n",
       "k_08     k_08      log    factor      2.5     0.25     25.0     k    1.0   \n",
       "k_09     k_09      log    factor      2.5     0.25     25.0     k    1.0   \n",
       "k_10     k_10      log    factor      2.5     0.25     25.0     k    1.0   \n",
       "\n",
       "        offset dercom  extra  \n",
       "parnme                        \n",
       "stage      0.0      1    NaN  \n",
       "k_01       0.0      1    NaN  \n",
       "k_02       0.0      1    NaN  \n",
       "k_03       0.0      1    NaN  \n",
       "k_04       0.0      1    NaN  \n",
       "k_05       0.0      1    NaN  \n",
       "k_06       0.0      1    NaN  \n",
       "k_07       0.0      1    NaN  \n",
       "k_08       0.0      1    NaN  \n",
       "k_09       0.0      1    NaN  \n",
       "k_10       0.0      1    NaN  "
      ]
     },
     "execution_count": 6,
     "metadata": {},
     "output_type": "execute_result"
    }
   ],
   "source": [
    "pst.parameter_data"
   ]
  },
  {
   "cell_type": "markdown",
   "metadata": {},
   "source": [
    "See the `stage` parameter with the \"fixed\" transform and a value of 1.0? "
   ]
  },
  {
   "cell_type": "code",
   "execution_count": 7,
   "metadata": {
    "execution": {
     "iopub.execute_input": "2020-11-14T04:51:53.147493Z",
     "iopub.status.busy": "2020-11-14T04:51:53.146933Z",
     "iopub.status.idle": "2020-11-14T04:51:53.149025Z",
     "shell.execute_reply": "2020-11-14T04:51:53.149529Z"
    }
   },
   "outputs": [
    {
     "data": {
      "text/html": [
       "<div>\n",
       "<style scoped>\n",
       "    .dataframe tbody tr th:only-of-type {\n",
       "        vertical-align: middle;\n",
       "    }\n",
       "\n",
       "    .dataframe tbody tr th {\n",
       "        vertical-align: top;\n",
       "    }\n",
       "\n",
       "    .dataframe thead th {\n",
       "        text-align: right;\n",
       "    }\n",
       "</style>\n",
       "<table border=\"1\" class=\"dataframe\">\n",
       "  <thead>\n",
       "    <tr style=\"text-align: right;\">\n",
       "      <th></th>\n",
       "      <th>obsnme</th>\n",
       "      <th>obsval</th>\n",
       "      <th>weight</th>\n",
       "      <th>obgnme</th>\n",
       "      <th>extra</th>\n",
       "    </tr>\n",
       "    <tr>\n",
       "      <th>obsnme</th>\n",
       "      <th></th>\n",
       "      <th></th>\n",
       "      <th></th>\n",
       "      <th></th>\n",
       "      <th></th>\n",
       "    </tr>\n",
       "  </thead>\n",
       "  <tbody>\n",
       "    <tr>\n",
       "      <th>h01_01</th>\n",
       "      <td>h01_01</td>\n",
       "      <td>1.5</td>\n",
       "      <td>0.0</td>\n",
       "      <td>head</td>\n",
       "      <td>NaN</td>\n",
       "    </tr>\n",
       "    <tr>\n",
       "      <th>h01_02</th>\n",
       "      <td>h01_02</td>\n",
       "      <td>1.7</td>\n",
       "      <td>0.0</td>\n",
       "      <td>head</td>\n",
       "      <td>NaN</td>\n",
       "    </tr>\n",
       "    <tr>\n",
       "      <th>h01_03</th>\n",
       "      <td>h01_03</td>\n",
       "      <td>1.9</td>\n",
       "      <td>0.0</td>\n",
       "      <td>head</td>\n",
       "      <td>NaN</td>\n",
       "    </tr>\n",
       "    <tr>\n",
       "      <th>h01_04</th>\n",
       "      <td>h01_04</td>\n",
       "      <td>2.1</td>\n",
       "      <td>10.0</td>\n",
       "      <td>head</td>\n",
       "      <td>NaN</td>\n",
       "    </tr>\n",
       "    <tr>\n",
       "      <th>h01_05</th>\n",
       "      <td>h01_05</td>\n",
       "      <td>2.3</td>\n",
       "      <td>0.0</td>\n",
       "      <td>head</td>\n",
       "      <td>NaN</td>\n",
       "    </tr>\n",
       "    <tr>\n",
       "      <th>h01_06</th>\n",
       "      <td>h01_06</td>\n",
       "      <td>2.5</td>\n",
       "      <td>10.0</td>\n",
       "      <td>head</td>\n",
       "      <td>NaN</td>\n",
       "    </tr>\n",
       "    <tr>\n",
       "      <th>h01_07</th>\n",
       "      <td>h01_07</td>\n",
       "      <td>2.7</td>\n",
       "      <td>0.0</td>\n",
       "      <td>head</td>\n",
       "      <td>NaN</td>\n",
       "    </tr>\n",
       "    <tr>\n",
       "      <th>h01_08</th>\n",
       "      <td>h01_08</td>\n",
       "      <td>2.9</td>\n",
       "      <td>0.0</td>\n",
       "      <td>head</td>\n",
       "      <td>NaN</td>\n",
       "    </tr>\n",
       "    <tr>\n",
       "      <th>h01_09</th>\n",
       "      <td>h01_09</td>\n",
       "      <td>3.1</td>\n",
       "      <td>0.0</td>\n",
       "      <td>head</td>\n",
       "      <td>NaN</td>\n",
       "    </tr>\n",
       "    <tr>\n",
       "      <th>h01_10</th>\n",
       "      <td>h01_10</td>\n",
       "      <td>3.3</td>\n",
       "      <td>0.0</td>\n",
       "      <td>head</td>\n",
       "      <td>NaN</td>\n",
       "    </tr>\n",
       "    <tr>\n",
       "      <th>h02_01</th>\n",
       "      <td>h02_01</td>\n",
       "      <td>1.5</td>\n",
       "      <td>0.0</td>\n",
       "      <td>head</td>\n",
       "      <td>NaN</td>\n",
       "    </tr>\n",
       "    <tr>\n",
       "      <th>h02_02</th>\n",
       "      <td>h02_02</td>\n",
       "      <td>1.9</td>\n",
       "      <td>0.0</td>\n",
       "      <td>head</td>\n",
       "      <td>NaN</td>\n",
       "    </tr>\n",
       "    <tr>\n",
       "      <th>h02_03</th>\n",
       "      <td>h02_03</td>\n",
       "      <td>2.3</td>\n",
       "      <td>0.0</td>\n",
       "      <td>head</td>\n",
       "      <td>NaN</td>\n",
       "    </tr>\n",
       "    <tr>\n",
       "      <th>h02_04</th>\n",
       "      <td>h02_04</td>\n",
       "      <td>2.7</td>\n",
       "      <td>0.0</td>\n",
       "      <td>head</td>\n",
       "      <td>NaN</td>\n",
       "    </tr>\n",
       "    <tr>\n",
       "      <th>h02_05</th>\n",
       "      <td>h02_05</td>\n",
       "      <td>3.1</td>\n",
       "      <td>0.0</td>\n",
       "      <td>head</td>\n",
       "      <td>NaN</td>\n",
       "    </tr>\n",
       "    <tr>\n",
       "      <th>h02_06</th>\n",
       "      <td>h02_06</td>\n",
       "      <td>3.5</td>\n",
       "      <td>0.0</td>\n",
       "      <td>head</td>\n",
       "      <td>NaN</td>\n",
       "    </tr>\n",
       "    <tr>\n",
       "      <th>h02_07</th>\n",
       "      <td>h02_07</td>\n",
       "      <td>3.9</td>\n",
       "      <td>0.0</td>\n",
       "      <td>head</td>\n",
       "      <td>NaN</td>\n",
       "    </tr>\n",
       "    <tr>\n",
       "      <th>h02_08</th>\n",
       "      <td>h02_08</td>\n",
       "      <td>4.3</td>\n",
       "      <td>0.0</td>\n",
       "      <td>head</td>\n",
       "      <td>NaN</td>\n",
       "    </tr>\n",
       "    <tr>\n",
       "      <th>h02_09</th>\n",
       "      <td>h02_09</td>\n",
       "      <td>4.7</td>\n",
       "      <td>0.0</td>\n",
       "      <td>head</td>\n",
       "      <td>NaN</td>\n",
       "    </tr>\n",
       "    <tr>\n",
       "      <th>h02_10</th>\n",
       "      <td>h02_10</td>\n",
       "      <td>5.1</td>\n",
       "      <td>0.0</td>\n",
       "      <td>head</td>\n",
       "      <td>NaN</td>\n",
       "    </tr>\n",
       "  </tbody>\n",
       "</table>\n",
       "</div>"
      ],
      "text/plain": [
       "        obsnme  obsval  weight obgnme  extra\n",
       "obsnme                                      \n",
       "h01_01  h01_01     1.5     0.0   head    NaN\n",
       "h01_02  h01_02     1.7     0.0   head    NaN\n",
       "h01_03  h01_03     1.9     0.0   head    NaN\n",
       "h01_04  h01_04     2.1    10.0   head    NaN\n",
       "h01_05  h01_05     2.3     0.0   head    NaN\n",
       "h01_06  h01_06     2.5    10.0   head    NaN\n",
       "h01_07  h01_07     2.7     0.0   head    NaN\n",
       "h01_08  h01_08     2.9     0.0   head    NaN\n",
       "h01_09  h01_09     3.1     0.0   head    NaN\n",
       "h01_10  h01_10     3.3     0.0   head    NaN\n",
       "h02_01  h02_01     1.5     0.0   head    NaN\n",
       "h02_02  h02_02     1.9     0.0   head    NaN\n",
       "h02_03  h02_03     2.3     0.0   head    NaN\n",
       "h02_04  h02_04     2.7     0.0   head    NaN\n",
       "h02_05  h02_05     3.1     0.0   head    NaN\n",
       "h02_06  h02_06     3.5     0.0   head    NaN\n",
       "h02_07  h02_07     3.9     0.0   head    NaN\n",
       "h02_08  h02_08     4.3     0.0   head    NaN\n",
       "h02_09  h02_09     4.7     0.0   head    NaN\n",
       "h02_10  h02_10     5.1     0.0   head    NaN"
      ]
     },
     "execution_count": 7,
     "metadata": {},
     "output_type": "execute_result"
    }
   ],
   "source": [
    "pst.observation_data"
   ]
  },
  {
   "cell_type": "markdown",
   "metadata": {},
   "source": [
    "We are monitoring the simulated water levels in all model cells from both stress periods.  The `obsval` values are the outputs from the \"truth\" model without any noise."
   ]
  },
  {
   "cell_type": "markdown",
   "metadata": {},
   "source": [
    "First let calculate the initial residuals by running the model one time"
   ]
  },
  {
   "cell_type": "code",
   "execution_count": 8,
   "metadata": {
    "execution": {
     "iopub.execute_input": "2020-11-14T04:51:53.159079Z",
     "iopub.status.busy": "2020-11-14T04:51:53.158561Z",
     "iopub.status.idle": "2020-11-14T04:51:54.402714Z",
     "shell.execute_reply": "2020-11-14T04:51:54.403216Z"
    }
   },
   "outputs": [
    {
     "name": "stdout",
     "output_type": "stream",
     "text": [
      "noptmax:0, npar_adj:10, nnz_obs:2\n"
     ]
    },
    {
     "data": {
      "text/plain": [
       "50.0"
      ]
     },
     "execution_count": 8,
     "metadata": {},
     "output_type": "execute_result"
    }
   ],
   "source": [
    "pst.control_data.noptmax = 0\n",
    "pst.write(os.path.join(t_d,\"pest.pst\"))\n",
    "pyemu.os_utils.run(\"pestpp-glm pest.pst\",cwd=t_d)\n",
    "pst = pyemu.Pst(os.path.join(t_d,\"pest.pst\"))\n",
    "init_res = pst.res.copy()\n",
    "pst.phi"
   ]
  },
  {
   "cell_type": "markdown",
   "metadata": {},
   "source": [
    "Ok, so the initial phi is 50.  Remember we are using the true or correct HK values in all cells and we dont have any noise added to the observations.  Let's look at the residuals at the two observation locations:"
   ]
  },
  {
   "cell_type": "code",
   "execution_count": 9,
   "metadata": {
    "execution": {
     "iopub.execute_input": "2020-11-14T04:51:54.411153Z",
     "iopub.status.busy": "2020-11-14T04:51:54.410582Z",
     "iopub.status.idle": "2020-11-14T04:51:54.413039Z",
     "shell.execute_reply": "2020-11-14T04:51:54.413363Z"
    }
   },
   "outputs": [
    {
     "data": {
      "text/html": [
       "<div>\n",
       "<style scoped>\n",
       "    .dataframe tbody tr th:only-of-type {\n",
       "        vertical-align: middle;\n",
       "    }\n",
       "\n",
       "    .dataframe tbody tr th {\n",
       "        vertical-align: top;\n",
       "    }\n",
       "\n",
       "    .dataframe thead th {\n",
       "        text-align: right;\n",
       "    }\n",
       "</style>\n",
       "<table border=\"1\" class=\"dataframe\">\n",
       "  <thead>\n",
       "    <tr style=\"text-align: right;\">\n",
       "      <th></th>\n",
       "      <th>name</th>\n",
       "      <th>group</th>\n",
       "      <th>measured</th>\n",
       "      <th>modelled</th>\n",
       "      <th>residual</th>\n",
       "      <th>weight</th>\n",
       "    </tr>\n",
       "    <tr>\n",
       "      <th>name</th>\n",
       "      <th></th>\n",
       "      <th></th>\n",
       "      <th></th>\n",
       "      <th></th>\n",
       "      <th></th>\n",
       "      <th></th>\n",
       "    </tr>\n",
       "  </thead>\n",
       "  <tbody>\n",
       "    <tr>\n",
       "      <th>h01_04</th>\n",
       "      <td>h01_04</td>\n",
       "      <td>head</td>\n",
       "      <td>2.1</td>\n",
       "      <td>1.6</td>\n",
       "      <td>0.5</td>\n",
       "      <td>10.0</td>\n",
       "    </tr>\n",
       "    <tr>\n",
       "      <th>h01_06</th>\n",
       "      <td>h01_06</td>\n",
       "      <td>head</td>\n",
       "      <td>2.5</td>\n",
       "      <td>2.0</td>\n",
       "      <td>0.5</td>\n",
       "      <td>10.0</td>\n",
       "    </tr>\n",
       "  </tbody>\n",
       "</table>\n",
       "</div>"
      ],
      "text/plain": [
       "          name group  measured  modelled  residual  weight\n",
       "name                                                      \n",
       "h01_04  h01_04  head       2.1       1.6       0.5    10.0\n",
       "h01_06  h01_06  head       2.5       2.0       0.5    10.0"
      ]
     },
     "execution_count": 9,
     "metadata": {},
     "output_type": "execute_result"
    }
   ],
   "source": [
    "pst.res.loc[pst.nnz_obs_names,:]"
   ]
  },
  {
   "cell_type": "markdown",
   "metadata": {},
   "source": [
    "As expected, the model is under-simulating the water levels compared to the truth.  Conceptually, the difference between the observations from the truth model and the simulated outputs from model with error is called \"structural noise\" - noise that is arising from the incorrect structure of the model.  In practice, it is not always so clear what is \"signal\" and what is noise.  Signal is the information in the observations that we can (appropriately) use in data assimilation to learn about the parameters, that is, reduce parameter uncertainty.  The problem with structural noise, just like any other noise, is that it is mixed in with the signal.  So just like we can \"overfit\" to measurement noise, we can also \"overfit\" to structural noise.  But unlike measurement noise, structural noise can be very difficult to detect and characterize.  Let's continue..."
   ]
  },
  {
   "cell_type": "markdown",
   "metadata": {},
   "source": [
    "Now lets attempt to match those two observations in the first stress period.  We will use the default setting for pestpp-glm and run 3 iterations:"
   ]
  },
  {
   "cell_type": "code",
   "execution_count": 10,
   "metadata": {
    "execution": {
     "iopub.execute_input": "2020-11-14T04:51:54.424654Z",
     "iopub.status.busy": "2020-11-14T04:51:54.424097Z",
     "iopub.status.idle": "2020-11-14T04:53:06.212788Z",
     "shell.execute_reply": "2020-11-14T04:53:06.213368Z"
    }
   },
   "outputs": [
    {
     "name": "stdout",
     "output_type": "stream",
     "text": [
      "noptmax:3, npar_adj:10, nnz_obs:2\n"
     ]
    }
   ],
   "source": [
    "pst.control_data.noptmax = 3\n",
    "pst.write(os.path.join(t_d,\"pest.pst\"))\n",
    "pyemu.os_utils.run(\"pestpp-glm pest.pst\",cwd=t_d)"
   ]
  },
  {
   "cell_type": "code",
   "execution_count": 11,
   "metadata": {
    "execution": {
     "iopub.execute_input": "2020-11-14T04:53:06.218336Z",
     "iopub.status.busy": "2020-11-14T04:53:06.217717Z",
     "iopub.status.idle": "2020-11-14T04:53:06.262631Z",
     "shell.execute_reply": "2020-11-14T04:53:06.263060Z"
    }
   },
   "outputs": [
    {
     "data": {
      "text/plain": [
       "0.02650000000000029"
      ]
     },
     "execution_count": 11,
     "metadata": {},
     "output_type": "execute_result"
    }
   ],
   "source": [
    "pst = pyemu.Pst(os.path.join(t_d,\"pest.pst\"))\n",
    "pst.phi"
   ]
  },
  {
   "cell_type": "markdown",
   "metadata": {},
   "source": [
    "Woah!  we crush the phi - must be a good model! kidding!\n",
    "\n",
    "Let's load the best-fit parameter values"
   ]
  },
  {
   "cell_type": "code",
   "execution_count": 12,
   "metadata": {
    "execution": {
     "iopub.execute_input": "2020-11-14T04:53:06.271886Z",
     "iopub.status.busy": "2020-11-14T04:53:06.271061Z",
     "iopub.status.idle": "2020-11-14T04:53:06.274793Z",
     "shell.execute_reply": "2020-11-14T04:53:06.275313Z"
    }
   },
   "outputs": [
    {
     "data": {
      "text/html": [
       "<div>\n",
       "<style scoped>\n",
       "    .dataframe tbody tr th:only-of-type {\n",
       "        vertical-align: middle;\n",
       "    }\n",
       "\n",
       "    .dataframe tbody tr th {\n",
       "        vertical-align: top;\n",
       "    }\n",
       "\n",
       "    .dataframe thead th {\n",
       "        text-align: right;\n",
       "    }\n",
       "</style>\n",
       "<table border=\"1\" class=\"dataframe\">\n",
       "  <thead>\n",
       "    <tr style=\"text-align: right;\">\n",
       "      <th></th>\n",
       "      <th>parnme</th>\n",
       "      <th>parval1</th>\n",
       "      <th>scale</th>\n",
       "      <th>offset</th>\n",
       "    </tr>\n",
       "    <tr>\n",
       "      <th>parnme</th>\n",
       "      <th></th>\n",
       "      <th></th>\n",
       "      <th></th>\n",
       "      <th></th>\n",
       "    </tr>\n",
       "  </thead>\n",
       "  <tbody>\n",
       "    <tr>\n",
       "      <th>stage</th>\n",
       "      <td>stage</td>\n",
       "      <td>1.000000</td>\n",
       "      <td>1.0</td>\n",
       "      <td>0.0</td>\n",
       "    </tr>\n",
       "    <tr>\n",
       "      <th>k_01</th>\n",
       "      <td>k_01</td>\n",
       "      <td>2.447510</td>\n",
       "      <td>1.0</td>\n",
       "      <td>0.0</td>\n",
       "    </tr>\n",
       "    <tr>\n",
       "      <th>k_02</th>\n",
       "      <td>k_02</td>\n",
       "      <td>1.244956</td>\n",
       "      <td>1.0</td>\n",
       "      <td>0.0</td>\n",
       "    </tr>\n",
       "    <tr>\n",
       "      <th>k_03</th>\n",
       "      <td>k_03</td>\n",
       "      <td>1.071264</td>\n",
       "      <td>1.0</td>\n",
       "      <td>0.0</td>\n",
       "    </tr>\n",
       "    <tr>\n",
       "      <th>k_04</th>\n",
       "      <td>k_04</td>\n",
       "      <td>2.115330</td>\n",
       "      <td>1.0</td>\n",
       "      <td>0.0</td>\n",
       "    </tr>\n",
       "    <tr>\n",
       "      <th>k_05</th>\n",
       "      <td>k_05</td>\n",
       "      <td>2.433823</td>\n",
       "      <td>1.0</td>\n",
       "      <td>0.0</td>\n",
       "    </tr>\n",
       "    <tr>\n",
       "      <th>k_06</th>\n",
       "      <td>k_06</td>\n",
       "      <td>2.497950</td>\n",
       "      <td>1.0</td>\n",
       "      <td>0.0</td>\n",
       "    </tr>\n",
       "    <tr>\n",
       "      <th>k_07</th>\n",
       "      <td>k_07</td>\n",
       "      <td>2.500000</td>\n",
       "      <td>1.0</td>\n",
       "      <td>0.0</td>\n",
       "    </tr>\n",
       "    <tr>\n",
       "      <th>k_08</th>\n",
       "      <td>k_08</td>\n",
       "      <td>2.500000</td>\n",
       "      <td>1.0</td>\n",
       "      <td>0.0</td>\n",
       "    </tr>\n",
       "    <tr>\n",
       "      <th>k_09</th>\n",
       "      <td>k_09</td>\n",
       "      <td>2.500000</td>\n",
       "      <td>1.0</td>\n",
       "      <td>0.0</td>\n",
       "    </tr>\n",
       "    <tr>\n",
       "      <th>k_10</th>\n",
       "      <td>k_10</td>\n",
       "      <td>2.500000</td>\n",
       "      <td>1.0</td>\n",
       "      <td>0.0</td>\n",
       "    </tr>\n",
       "  </tbody>\n",
       "</table>\n",
       "</div>"
      ],
      "text/plain": [
       "       parnme   parval1  scale  offset\n",
       "parnme                                \n",
       "stage   stage  1.000000    1.0     0.0\n",
       "k_01     k_01  2.447510    1.0     0.0\n",
       "k_02     k_02  1.244956    1.0     0.0\n",
       "k_03     k_03  1.071264    1.0     0.0\n",
       "k_04     k_04  2.115330    1.0     0.0\n",
       "k_05     k_05  2.433823    1.0     0.0\n",
       "k_06     k_06  2.497950    1.0     0.0\n",
       "k_07     k_07  2.500000    1.0     0.0\n",
       "k_08     k_08  2.500000    1.0     0.0\n",
       "k_09     k_09  2.500000    1.0     0.0\n",
       "k_10     k_10  2.500000    1.0     0.0"
      ]
     },
     "execution_count": 12,
     "metadata": {},
     "output_type": "execute_result"
    }
   ],
   "source": [
    "par_df = pyemu.pst_utils.read_parfile(os.path.join(t_d,\"pest.par\"))\n",
    "par_df"
   ]
  },
  {
   "cell_type": "markdown",
   "metadata": {},
   "source": [
    "And also the FOSM-based uncertainty summary from pestpp-glm"
   ]
  },
  {
   "cell_type": "code",
   "execution_count": 13,
   "metadata": {
    "execution": {
     "iopub.execute_input": "2020-11-14T04:53:06.284807Z",
     "iopub.status.busy": "2020-11-14T04:53:06.278656Z",
     "iopub.status.idle": "2020-11-14T04:53:06.287110Z",
     "shell.execute_reply": "2020-11-14T04:53:06.287532Z"
    }
   },
   "outputs": [
    {
     "data": {
      "text/html": [
       "<div>\n",
       "<style scoped>\n",
       "    .dataframe tbody tr th:only-of-type {\n",
       "        vertical-align: middle;\n",
       "    }\n",
       "\n",
       "    .dataframe tbody tr th {\n",
       "        vertical-align: top;\n",
       "    }\n",
       "\n",
       "    .dataframe thead th {\n",
       "        text-align: right;\n",
       "    }\n",
       "</style>\n",
       "<table border=\"1\" class=\"dataframe\">\n",
       "  <thead>\n",
       "    <tr style=\"text-align: right;\">\n",
       "      <th></th>\n",
       "      <th>prior_mean</th>\n",
       "      <th>prior_stdev</th>\n",
       "      <th>prior_lower_bound</th>\n",
       "      <th>prior_upper_bound</th>\n",
       "      <th>post_mean</th>\n",
       "      <th>post_stdev</th>\n",
       "      <th>post_lower_bound</th>\n",
       "      <th>post_upper_bound</th>\n",
       "    </tr>\n",
       "    <tr>\n",
       "      <th>name</th>\n",
       "      <th></th>\n",
       "      <th></th>\n",
       "      <th></th>\n",
       "      <th></th>\n",
       "      <th></th>\n",
       "      <th></th>\n",
       "      <th></th>\n",
       "      <th></th>\n",
       "    </tr>\n",
       "  </thead>\n",
       "  <tbody>\n",
       "    <tr>\n",
       "      <th>H01_08</th>\n",
       "      <td>2.4</td>\n",
       "      <td>0.856703</td>\n",
       "      <td>0.686594</td>\n",
       "      <td>4.11341</td>\n",
       "      <td>2.912</td>\n",
       "      <td>0.300322</td>\n",
       "      <td>2.31136</td>\n",
       "      <td>3.51264</td>\n",
       "    </tr>\n",
       "    <tr>\n",
       "      <th>H02_08</th>\n",
       "      <td>3.8</td>\n",
       "      <td>1.832470</td>\n",
       "      <td>0.135064</td>\n",
       "      <td>7.46494</td>\n",
       "      <td>4.825</td>\n",
       "      <td>0.660616</td>\n",
       "      <td>3.50377</td>\n",
       "      <td>6.14623</td>\n",
       "    </tr>\n",
       "  </tbody>\n",
       "</table>\n",
       "</div>"
      ],
      "text/plain": [
       "        prior_mean  prior_stdev  prior_lower_bound  prior_upper_bound  \\\n",
       "name                                                                    \n",
       "H01_08         2.4     0.856703           0.686594            4.11341   \n",
       "H02_08         3.8     1.832470           0.135064            7.46494   \n",
       "\n",
       "        post_mean  post_stdev  post_lower_bound  post_upper_bound  \n",
       "name                                                               \n",
       "H01_08      2.912    0.300322           2.31136           3.51264  \n",
       "H02_08      4.825    0.660616           3.50377           6.14623  "
      ]
     },
     "execution_count": 13,
     "metadata": {},
     "output_type": "execute_result"
    }
   ],
   "source": [
    "unc_df = pd.read_csv(os.path.join(t_d,\"pest.pred.usum.csv\"),index_col=0)\n",
    "unc_df.iloc[[5,15],:] # the forecast rows"
   ]
  },
  {
   "cell_type": "code",
   "execution_count": 14,
   "metadata": {
    "execution": {
     "iopub.execute_input": "2020-11-14T04:53:06.300388Z",
     "iopub.status.busy": "2020-11-14T04:53:06.299890Z",
     "iopub.status.idle": "2020-11-14T04:53:06.301680Z",
     "shell.execute_reply": "2020-11-14T04:53:06.302106Z"
    }
   },
   "outputs": [],
   "source": [
    "def plot_da_attempt(pst,par_df,unc_df):\n",
    "    \"\"\"a big ugly function to plot the results of a data assimilation attempt\"\"\"\n",
    "    fig,axes = plt.subplots(3,1,figsize=(15,15))\n",
    "    x = np.arange(1,11)\n",
    "    xoff = 0.5\n",
    "    obs_idx = [4,6]\n",
    "    axes[0].set_title(\"A) stress period 1 simulated water levels\", loc=\"left\")\n",
    "    axes[1].set_title(\"B) stress peroid 2 simulated water levels\", loc=\"left\")\n",
    "    axes[2].set_title(\"C) estimated HK values\", loc=\"left\")\n",
    "    res = pst.res\n",
    "    axes[0].plot(x,init_res.modelled.iloc[:10].values,'0.5',ls=\"--\",label=\"prior est\")\n",
    "    axes[0].plot(x,res.modelled.iloc[:10],'b--',label=\"post est\")\n",
    "    axes[0].scatter(obs_idx,res.measured.iloc[[3,5]],marker=\"o\",c='r',label=\"observed\")\n",
    "    axes[0].scatter(8,res.measured.iloc[7],marker='*',c='g',s=200,label=\"forecast\")\n",
    "    axes[0].errorbar(8,init_res.modelled.iloc[7],yerr=unc_df.loc[\"H01_08\",\"prior_stdev\"],c=\"0.5\",label=\"prior std\")\n",
    "    axes[0].errorbar(8,res.modelled.iloc[7],yerr=unc_df.loc[\"H01_08\",\"post_stdev\"],c=\"b\",label=\"post std\")\n",
    "    axes[1].plot(x,init_res.modelled.iloc[10:].values,'0.5',ls=\"--\",label=\"prior est\")\n",
    "    axes[1].plot(x,res.modelled.iloc[10:],'b--',label=\"post est\")\n",
    "    axes[1].scatter(8,res.measured.iloc[17],marker='*',c='g',s=200,label=\"forecast\")\n",
    "    axes[1].errorbar(8,init_res.modelled.iloc[17],yerr=unc_df.loc[\"H02_08\",\"prior_stdev\"],c=\"0.5\",label=\"prior std\")\n",
    "    axes[1].errorbar(8,res.modelled.iloc[17],yerr=unc_df.loc[\"H02_08\",\"post_stdev\"],c=\"b\",label=\"post std\")\n",
    "    par = pst.parameter_data\n",
    "    \n",
    "    \n",
    "    axes[2].bar(x, par_df.parval1[1:],xoff, facecolor=\"b\",alpha=0.5,label=\"post est\")\n",
    "    axes[2].plot(axes[2].get_xlim(), par.parval1[1:][:2],\"g\",label=\"true\")\n",
    "    axes[2].set_xticks(x)\n",
    "    #axes[2].set_xticklabels(par_df.parnme[1:])\n",
    "    axes[2].set_xlim(-0.5,11)\n",
    "    axes[0].set_ylim(0,5)\n",
    "    axes[1].set_ylim(0,10)\n",
    "    axes[2].set_ylim(0,5)\n",
    "    axes[0].set_xlim(-0.5,11)\n",
    "    axes[1].set_xlim(-0.5,11)\n",
    "    axes[2].set_xlabel(\"model cell\")\n",
    "    \n",
    "    for ax in axes:\n",
    "        ax.legend()\n",
    "        \n",
    "    plt.show()\n",
    "    \n",
    "    fig,axes = plt.subplots(1,2,figsize=(15,7))\n",
    "    x,y = pyemu.plot_utils.gaussian_distribution(init_res.modelled.iloc[17],unc_df.loc[\"H02_08\",\"prior_stdev\"])\n",
    "    axes[1].fill_between(x,0,y,facecolor='0.5',alpha=0.5, label=\"prior\")\n",
    "    x,y = pyemu.plot_utils.gaussian_distribution(res.modelled.iloc[17],unc_df.loc[\"H02_08\",\"post_stdev\"])\n",
    "    axes[1].fill_between(x,0,y,facecolor='b',alpha=0.5, label=\"post\")\n",
    "    ylim = axes[0].get_ylim()\n",
    "    axes[1].plot([init_res.measured.iloc[17],init_res.measured.iloc[17]],ylim, \"g--\",lw=2.5,label=\"truth\")\n",
    "    axes[1].set_yticks([])\n",
    "    axes[1].set_xlabel(\"simulated water level\")\n",
    "    axes[1].set_ylim(0,ylim[1])\n",
    "    axes[1].legend()\n",
    "    axes[1].set_title(\"E) stress period 2 forecast summary\", loc=\"left\")\n",
    "    \n",
    "    x,y = pyemu.plot_utils.gaussian_distribution(init_res.modelled.iloc[7],unc_df.loc[\"H01_08\",\"prior_stdev\"])\n",
    "    axes[0].fill_between(x,0,y,facecolor='0.5',alpha=0.5, label=\"prior\")\n",
    "    x,y = pyemu.plot_utils.gaussian_distribution(res.modelled.iloc[7],unc_df.loc[\"H01_08\",\"post_stdev\"])\n",
    "    axes[0].fill_between(x,0,y,facecolor='b',alpha=0.5, label=\"post\")\n",
    "    ylim = axes[0].get_ylim()\n",
    "    axes[0].plot([init_res.measured.iloc[7],init_res.measured.iloc[7]],ylim, \"g--\",lw=2.5,label=\"truth\")\n",
    "    axes[0].set_yticks([])\n",
    "    axes[0].set_xlabel(\"simulated water level\")\n",
    "    axes[0].set_ylim(0,ylim[1])\n",
    "    axes[0].legend()\n",
    "    axes[0].set_title(\"D) stress period 1 forecast summary\", loc=\"left\")"
   ]
  },
  {
   "cell_type": "code",
   "execution_count": 15,
   "metadata": {
    "execution": {
     "iopub.execute_input": "2020-11-14T04:53:06.337588Z",
     "iopub.status.busy": "2020-11-14T04:53:06.312963Z",
     "iopub.status.idle": "2020-11-14T04:53:06.801573Z",
     "shell.execute_reply": "2020-11-14T04:53:06.802018Z"
    }
   },
   "outputs": [
    {
     "data": {
      "image/png": "[encoded data removed]",
      "text/plain": [
       "<Figure size 1080x1080 with 3 Axes>"
      ]
     },
     "metadata": {
      "needs_background": "light"
     },
     "output_type": "display_data"
    },
    {
     "data": {
      "image/png": "[encoded data removed]",
      "text/plain": [
       "<Figure size 1080x504 with 2 Axes>"
      ]
     },
     "metadata": {
      "needs_background": "light"
     },
     "output_type": "display_data"
    }
   ],
   "source": [
    "plot_da_attempt(pst,par_df,unc_df)"
   ]
  },
  {
   "cell_type": "markdown",
   "metadata": {},
   "source": [
    "What is happening here?  We have the wrong estimated HK value in several model cells, mostly on the left side of the domain (C) but we started with the true (correct) HK values.  So the process of estimating the parameters to reproduce the historic observations has led to the wrong values!  WAT?!  That is \"parameter compensation\": the estimated parameter values are \"compensating\" for the error in the model compared to the \"truth\" model (e.g. \"reality\"). Mechanically, the estimate parameters are incorrectly be conditioned by the structural noise.  That is, the structural noise is provide \"misinformation\" during data assimilation.  But all is not lost! We see for the forecast in the 8th model cell under historic conditions benefits from the wrong HK values - we got that one exactly right (A and D)! How can this be?!  This is a direct result of using lots of parameters, which allowed the parameter compensation to be confined or localized to the left side of the model domain. This preserved the ability to appropriately estimate the value in the 8th cell during the first stress period. We also see the forecast in 8th cell in the second stress period is still technically \"wrong\" but the uncertainty posterior uncertainty estimate (vertical blue bar in B, blue distribution in E) shows that we are still covering the truth value.  Ok, Let's call this a win!"
   ]
  },
  {
   "cell_type": "markdown",
   "metadata": {},
   "source": [
    "# Under parameterization\n",
    "\n",
    "Now lets see what happens if we use only a single HK parameter for whole domain.  We will do this be tying all the HK parameters together:"
   ]
  },
  {
   "cell_type": "code",
   "execution_count": 16,
   "metadata": {
    "execution": {
     "iopub.execute_input": "2020-11-14T04:53:06.812666Z",
     "iopub.status.busy": "2020-11-14T04:53:06.812247Z",
     "iopub.status.idle": "2020-11-14T04:53:06.880552Z",
     "shell.execute_reply": "2020-11-14T04:53:06.880847Z"
    }
   },
   "outputs": [
    {
     "name": "stdout",
     "output_type": "stream",
     "text": [
      "noptmax:3, npar_adj:1, nnz_obs:2\n"
     ]
    }
   ],
   "source": [
    "anames = pst.adj_par_names\n",
    "pst.parameter_data.loc[anames[1:],\"partrans\"] = \"tied\"\n",
    "pst.parameter_data.loc[anames[1:],\"partied\"] = anames[0]\n",
    "pst.control_data.noptmax = 3\n",
    "pst.write(os.path.join(t_d,\"pest_tied.pst\"))"
   ]
  },
  {
   "cell_type": "code",
   "execution_count": 17,
   "metadata": {
    "execution": {
     "iopub.execute_input": "2020-11-14T04:53:06.883933Z",
     "iopub.status.busy": "2020-11-14T04:53:06.883312Z",
     "iopub.status.idle": "2020-11-14T04:53:42.266653Z",
     "shell.execute_reply": "2020-11-14T04:53:42.267216Z"
    }
   },
   "outputs": [],
   "source": [
    "pyemu.os_utils.run(\"pestpp-glm pest_tied.pst\",cwd=t_d)"
   ]
  },
  {
   "cell_type": "code",
   "execution_count": 18,
   "metadata": {
    "execution": {
     "iopub.execute_input": "2020-11-14T04:53:42.311766Z",
     "iopub.status.busy": "2020-11-14T04:53:42.303961Z",
     "iopub.status.idle": "2020-11-14T04:53:42.320083Z",
     "shell.execute_reply": "2020-11-14T04:53:42.320532Z"
    }
   },
   "outputs": [
    {
     "data": {
      "text/plain": [
       "2.925700000000002"
      ]
     },
     "execution_count": 18,
     "metadata": {},
     "output_type": "execute_result"
    }
   ],
   "source": [
    "pst = pyemu.Pst(os.path.join(t_d,\"pest_tied.pst\"))\n",
    "pst.phi"
   ]
  },
  {
   "cell_type": "markdown",
   "metadata": {},
   "source": [
    "The phi is higher than in the highly-parameterized attempt but still significantly lower than the initial phi of 50"
   ]
  },
  {
   "cell_type": "code",
   "execution_count": 19,
   "metadata": {
    "execution": {
     "iopub.execute_input": "2020-11-14T04:53:42.327617Z",
     "iopub.status.busy": "2020-11-14T04:53:42.326898Z",
     "iopub.status.idle": "2020-11-14T04:53:42.329363Z",
     "shell.execute_reply": "2020-11-14T04:53:42.329791Z"
    }
   },
   "outputs": [
    {
     "data": {
      "text/html": [
       "<div>\n",
       "<style scoped>\n",
       "    .dataframe tbody tr th:only-of-type {\n",
       "        vertical-align: middle;\n",
       "    }\n",
       "\n",
       "    .dataframe tbody tr th {\n",
       "        vertical-align: top;\n",
       "    }\n",
       "\n",
       "    .dataframe thead th {\n",
       "        text-align: right;\n",
       "    }\n",
       "</style>\n",
       "<table border=\"1\" class=\"dataframe\">\n",
       "  <thead>\n",
       "    <tr style=\"text-align: right;\">\n",
       "      <th></th>\n",
       "      <th>name</th>\n",
       "      <th>group</th>\n",
       "      <th>measured</th>\n",
       "      <th>modelled</th>\n",
       "      <th>residual</th>\n",
       "      <th>weight</th>\n",
       "    </tr>\n",
       "    <tr>\n",
       "      <th>name</th>\n",
       "      <th></th>\n",
       "      <th></th>\n",
       "      <th></th>\n",
       "      <th></th>\n",
       "      <th></th>\n",
       "      <th></th>\n",
       "    </tr>\n",
       "  </thead>\n",
       "  <tbody>\n",
       "    <tr>\n",
       "      <th>h01_04</th>\n",
       "      <td>h01_04</td>\n",
       "      <td>head</td>\n",
       "      <td>2.1</td>\n",
       "      <td>1.951</td>\n",
       "      <td>0.149</td>\n",
       "      <td>10.0</td>\n",
       "    </tr>\n",
       "    <tr>\n",
       "      <th>h01_06</th>\n",
       "      <td>h01_06</td>\n",
       "      <td>head</td>\n",
       "      <td>2.5</td>\n",
       "      <td>2.584</td>\n",
       "      <td>-0.084</td>\n",
       "      <td>10.0</td>\n",
       "    </tr>\n",
       "  </tbody>\n",
       "</table>\n",
       "</div>"
      ],
      "text/plain": [
       "          name group  measured  modelled  residual  weight\n",
       "name                                                      \n",
       "h01_04  h01_04  head       2.1     1.951     0.149    10.0\n",
       "h01_06  h01_06  head       2.5     2.584    -0.084    10.0"
      ]
     },
     "execution_count": 19,
     "metadata": {},
     "output_type": "execute_result"
    }
   ],
   "source": [
    "pst.res.loc[pst.nnz_obs_names,:]"
   ]
  },
  {
   "cell_type": "code",
   "execution_count": 20,
   "metadata": {
    "execution": {
     "iopub.execute_input": "2020-11-14T04:53:42.332137Z",
     "iopub.status.busy": "2020-11-14T04:53:42.331710Z",
     "iopub.status.idle": "2020-11-14T04:53:42.334926Z",
     "shell.execute_reply": "2020-11-14T04:53:42.335898Z"
    }
   },
   "outputs": [],
   "source": [
    "par_df = pyemu.pst_utils.read_parfile(os.path.join(t_d,\"pest_tied.par\"))"
   ]
  },
  {
   "cell_type": "code",
   "execution_count": 21,
   "metadata": {
    "execution": {
     "iopub.execute_input": "2020-11-14T04:53:42.345803Z",
     "iopub.status.busy": "2020-11-14T04:53:42.345273Z",
     "iopub.status.idle": "2020-11-14T04:53:42.347528Z",
     "shell.execute_reply": "2020-11-14T04:53:42.348016Z"
    }
   },
   "outputs": [
    {
     "data": {
      "text/html": [
       "<div>\n",
       "<style scoped>\n",
       "    .dataframe tbody tr th:only-of-type {\n",
       "        vertical-align: middle;\n",
       "    }\n",
       "\n",
       "    .dataframe tbody tr th {\n",
       "        vertical-align: top;\n",
       "    }\n",
       "\n",
       "    .dataframe thead th {\n",
       "        text-align: right;\n",
       "    }\n",
       "</style>\n",
       "<table border=\"1\" class=\"dataframe\">\n",
       "  <thead>\n",
       "    <tr style=\"text-align: right;\">\n",
       "      <th></th>\n",
       "      <th>prior_mean</th>\n",
       "      <th>prior_stdev</th>\n",
       "      <th>prior_lower_bound</th>\n",
       "      <th>prior_upper_bound</th>\n",
       "      <th>post_mean</th>\n",
       "      <th>post_stdev</th>\n",
       "      <th>post_lower_bound</th>\n",
       "      <th>post_upper_bound</th>\n",
       "    </tr>\n",
       "    <tr>\n",
       "      <th>name</th>\n",
       "      <th></th>\n",
       "      <th></th>\n",
       "      <th></th>\n",
       "      <th></th>\n",
       "      <th></th>\n",
       "      <th></th>\n",
       "      <th></th>\n",
       "      <th></th>\n",
       "    </tr>\n",
       "  </thead>\n",
       "  <tbody>\n",
       "    <tr>\n",
       "      <th>H01_08</th>\n",
       "      <td>2.4</td>\n",
       "      <td>2.56442</td>\n",
       "      <td>-2.72883</td>\n",
       "      <td>7.52883</td>\n",
       "      <td>3.218</td>\n",
       "      <td>0.127041</td>\n",
       "      <td>2.96392</td>\n",
       "      <td>3.47208</td>\n",
       "    </tr>\n",
       "    <tr>\n",
       "      <th>H02_08</th>\n",
       "      <td>3.8</td>\n",
       "      <td>5.18582</td>\n",
       "      <td>-6.57164</td>\n",
       "      <td>14.17160</td>\n",
       "      <td>5.436</td>\n",
       "      <td>0.256906</td>\n",
       "      <td>4.92219</td>\n",
       "      <td>5.94981</td>\n",
       "    </tr>\n",
       "  </tbody>\n",
       "</table>\n",
       "</div>"
      ],
      "text/plain": [
       "        prior_mean  prior_stdev  prior_lower_bound  prior_upper_bound  \\\n",
       "name                                                                    \n",
       "H01_08         2.4      2.56442           -2.72883            7.52883   \n",
       "H02_08         3.8      5.18582           -6.57164           14.17160   \n",
       "\n",
       "        post_mean  post_stdev  post_lower_bound  post_upper_bound  \n",
       "name                                                               \n",
       "H01_08      3.218    0.127041           2.96392           3.47208  \n",
       "H02_08      5.436    0.256906           4.92219           5.94981  "
      ]
     },
     "execution_count": 21,
     "metadata": {},
     "output_type": "execute_result"
    }
   ],
   "source": [
    "unc_df = pd.read_csv(os.path.join(t_d,\"pest_tied.pred.usum.csv\"),index_col=0)\n",
    "unc_df.iloc[[5,15],:] # the forecast rows"
   ]
  },
  {
   "cell_type": "code",
   "execution_count": 22,
   "metadata": {
    "execution": {
     "iopub.execute_input": "2020-11-14T04:53:42.369683Z",
     "iopub.status.busy": "2020-11-14T04:53:42.369279Z",
     "iopub.status.idle": "2020-11-14T04:53:42.829403Z",
     "shell.execute_reply": "2020-11-14T04:53:42.829821Z"
    }
   },
   "outputs": [
    {
     "data": {
      "image/png": "[encoded data removed]",
      "text/plain": [
       "<Figure size 1080x1080 with 3 Axes>"
      ]
     },
     "metadata": {
      "needs_background": "light"
     },
     "output_type": "display_data"
    },
    {
     "data": {
      "image/png": "[encoded data removed]",
      "text/plain": [
       "<Figure size 1080x504 with 2 Axes>"
      ]
     },
     "metadata": {
      "needs_background": "light"
     },
     "output_type": "display_data"
    }
   ],
   "source": [
    "plot_da_attempt(pst,par_df,unc_df)"
   ]
  },
  {
   "cell_type": "markdown",
   "metadata": {},
   "source": [
    "Very different results, huh?  First, the prior uncertainty (vertical grey bars on A,B and grey distributions on D,E) is much larger than in the highly-parameterized attempt.  This is an artifact of using very few parameters.  Secondly, the posterior uncertainty (vertical blue bars on A,B and blue distributions on D,E) is much smaller than in the highly-parameterized case, again an artifact of using very few parameters.  So, in essense, we are overstating the value of history matching to reduce uncertainty.  That's dangerous!\n",
    "\n",
    "More importantly though, the posterior uncertainty estimates for both forecasts fail to cover the respective truth value - #sad! So we have biased our results through history matching and we are over confident in those biased results.  Could this get any worse?! Well, yes it could!  If you look at the second stress period forecast water level (B), you see that the prior (uncalibrated) model (grey dashed line) was closer to the truth (green star) than the calibrated result (blue dashed line) - WAT?!  That's hard to believe: history matching actually made the model a worse forecaster.  \n",
    "\n",
    "All of these of terrible things happened because we chose to use less parameters to express model input uncertainty.  Because we only used a single HK parameter, the parameter compensation resulting from history matching in the presense of model error is now \"regionalized\" or spread across the model domain - every model cell now has an incorrect value.  "
   ]
  },
  {
   "cell_type": "code",
   "execution_count": null,
   "metadata": {},
   "outputs": [],
   "source": []
  },
  {
   "cell_type": "code",
   "execution_count": null,
   "metadata": {},
   "outputs": [],
   "source": []
  },
  {
   "cell_type": "code",
   "execution_count": null,
   "metadata": {},
   "outputs": [],
   "source": []
  }
 ],
 "metadata": {
  "kernelspec": {
   "display_name": "Python 3",
   "language": "python",
   "name": "python3"
  },
  "language_info": {
   "codemirror_mode": {
    "name": "ipython",
    "version": 3
   },
   "file_extension": ".py",
   "mimetype": "text/x-python",
   "name": "python",
   "nbconvert_exporter": "python",
   "pygments_lexer": "ipython3",
   "version": "3.8.6"
  }
 },
 "nbformat": 4,
 "nbformat_minor": 4
}
