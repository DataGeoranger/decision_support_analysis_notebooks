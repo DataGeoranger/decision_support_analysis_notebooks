{
 "cells": [
  {
   "cell_type": "markdown",
   "metadata": {},
   "source": [
    "# data worth and related assessments"
   ]
  },
  {
   "cell_type": "markdown",
   "metadata": {},
   "source": [
    "In this notebook, we will use outputs from previous notebooks (in particular `pestpp-glm_part1.ipynb`) to undertake data worth assessments based on first-order second-moment (FOSM) techniques. \"Worth\" is framed here in the context of the extent to which the uncertainty surrounding a model prediction of management interest is reduced through data collection.  Given that these anayses can help target and optimize data acquisition strategies, this is a concept that really resonates with decision makers."
   ]
  },
  {
   "cell_type": "code",
   "execution_count": 1,
   "metadata": {
    "execution": {
     "iopub.execute_input": "2020-11-14T03:49:41.780368Z",
     "iopub.status.busy": "2020-11-14T03:49:41.779787Z",
     "iopub.status.idle": "2020-11-14T03:49:42.462270Z",
     "shell.execute_reply": "2020-11-14T03:49:42.462616Z"
    }
   },
   "outputs": [],
   "source": [
    "%matplotlib inline\n",
    "import os\n",
    "import shutil\n",
    "import numpy as np\n",
    "import pandas as pd\n",
    "import matplotlib.pyplot as plt\n",
    "import matplotlib as mpl\n",
    "plt.rcParams['font.size']=12\n",
    "import flopy\n",
    "import pyemu\n"
   ]
  },
  {
   "cell_type": "code",
   "execution_count": null,
   "metadata": {},
   "outputs": [],
   "source": []
  },
  {
   "cell_type": "code",
   "execution_count": 2,
   "metadata": {
    "execution": {
     "iopub.execute_input": "2020-11-14T03:49:42.465967Z",
     "iopub.status.busy": "2020-11-14T03:49:42.465503Z",
     "iopub.status.idle": "2020-11-14T03:49:42.467200Z",
     "shell.execute_reply": "2020-11-14T03:49:42.467689Z"
    }
   },
   "outputs": [],
   "source": [
    "m_d = \"master_glm\""
   ]
  },
  {
   "cell_type": "code",
   "execution_count": 3,
   "metadata": {
    "execution": {
     "iopub.execute_input": "2020-11-14T03:49:42.470678Z",
     "iopub.status.busy": "2020-11-14T03:49:42.470184Z",
     "iopub.status.idle": "2020-11-14T03:49:42.564985Z",
     "shell.execute_reply": "2020-11-14T03:49:42.565450Z"
    }
   },
   "outputs": [],
   "source": [
    "m = flopy.modflow.Modflow.load(\"freyberg.nam\",model_ws=m_d,check=False,forgive=False)"
   ]
  },
  {
   "cell_type": "code",
   "execution_count": 4,
   "metadata": {
    "execution": {
     "iopub.execute_input": "2020-11-14T03:49:42.581251Z",
     "iopub.status.busy": "2020-11-14T03:49:42.580803Z",
     "iopub.status.idle": "2020-11-14T03:49:42.707034Z",
     "shell.execute_reply": "2020-11-14T03:49:42.707544Z"
    }
   },
   "outputs": [
    {
     "data": {
      "image/png": "[encoded data removed]",
      "text/plain": [
       "<Figure size 864x504 with 1 Axes>"
      ]
     },
     "metadata": {
      "needs_background": "light"
     },
     "output_type": "display_data"
    }
   ],
   "source": [
    "# plot some model attributes\n",
    "fig = plt.figure(figsize=(12,7))\n",
    "ax = plt.subplot(111,aspect=\"equal\")\n",
    "mm = flopy.plot.PlotMapView(model=m)\n",
    "mm.plot_grid()\n",
    "mm.plot_ibound()\n",
    "mm.plot_bc('SFR')\n",
    "mm.plot_bc(\"GHB\")\n",
    "ax = mm.ax\n",
    "#m.wel.stress_period_data.plot(ax=ax,mflay=2)\n",
    "\n",
    "# plot obs locations\n",
    "obs = pd.read_csv(os.path.join(\"..\",\"base_model_files\",\"obs_loc.csv\"))\n",
    "                  \n",
    "obs_x = [m.sr.xcentergrid[r-1,c-1] for r,c in obs.loc[:,[\"row\",\"col\"]].values]\n",
    "obs_y = [m.sr.ycentergrid[r-1,c-1] for r,c in obs.loc[:,[\"row\",\"col\"]].values]\n",
    "ax.scatter(obs_x,obs_y,marker='.',label=\"water-level obs\",s=80)\n",
    "\n",
    "#plot names on the pumping well locations\n",
    "wel_data = m.wel.stress_period_data[0]\n",
    "wel_x = m.sr.xcentergrid[wel_data[\"i\"],wel_data[\"j\"]]\n",
    "wel_y = m.sr.ycentergrid[wel_data[\"i\"],wel_data[\"j\"]]\n",
    "for i,(x,y) in enumerate(zip(wel_x,wel_y)):\n",
    "    ax.scatter([x],[y],color=\"red\",marker=\"s\",s=50)\n",
    "    #ax.text(x,y,\"{0}\".format(i+1),ha=\"center\",va=\"center\")\n",
    "\n",
    "ax.set_ylabel(\"y(m)\")\n",
    "ax.set_xlabel(\"x(m)\")\n",
    "plt.show()"
   ]
  },
  {
   "cell_type": "code",
   "execution_count": 5,
   "metadata": {
    "execution": {
     "iopub.execute_input": "2020-11-14T03:49:42.712166Z",
     "iopub.status.busy": "2020-11-14T03:49:42.711692Z",
     "iopub.status.idle": "2020-11-14T03:49:43.011340Z",
     "shell.execute_reply": "2020-11-14T03:49:43.011830Z"
    }
   },
   "outputs": [
    {
     "name": "stdout",
     "output_type": "stream",
     "text": [
      "569\n"
     ]
    },
    {
     "data": {
      "text/html": [
       "<div>\n",
       "<style scoped>\n",
       "    .dataframe tbody tr th:only-of-type {\n",
       "        vertical-align: middle;\n",
       "    }\n",
       "\n",
       "    .dataframe tbody tr th {\n",
       "        vertical-align: top;\n",
       "    }\n",
       "\n",
       "    .dataframe thead th {\n",
       "        text-align: right;\n",
       "    }\n",
       "</style>\n",
       "<table border=\"1\" class=\"dataframe\">\n",
       "  <thead>\n",
       "    <tr style=\"text-align: right;\">\n",
       "      <th></th>\n",
       "      <th>type</th>\n",
       "      <th>transform</th>\n",
       "      <th>count</th>\n",
       "      <th>initial value</th>\n",
       "      <th>upper bound</th>\n",
       "      <th>lower bound</th>\n",
       "      <th>standard deviation</th>\n",
       "    </tr>\n",
       "  </thead>\n",
       "  <tbody>\n",
       "    <tr>\n",
       "      <th>cn_hk6</th>\n",
       "      <td>cn_hk6</td>\n",
       "      <td>log</td>\n",
       "      <td>1</td>\n",
       "      <td>0</td>\n",
       "      <td>1</td>\n",
       "      <td>-1</td>\n",
       "      <td>0.5</td>\n",
       "    </tr>\n",
       "    <tr>\n",
       "      <th>cn_hk7</th>\n",
       "      <td>cn_hk7</td>\n",
       "      <td>log</td>\n",
       "      <td>1</td>\n",
       "      <td>0</td>\n",
       "      <td>1</td>\n",
       "      <td>-1</td>\n",
       "      <td>0.5</td>\n",
       "    </tr>\n",
       "    <tr>\n",
       "      <th>cn_hk8</th>\n",
       "      <td>cn_hk8</td>\n",
       "      <td>log</td>\n",
       "      <td>1</td>\n",
       "      <td>0</td>\n",
       "      <td>1</td>\n",
       "      <td>-1</td>\n",
       "      <td>0.5</td>\n",
       "    </tr>\n",
       "    <tr>\n",
       "      <th>cn_prsity6</th>\n",
       "      <td>cn_prsity6</td>\n",
       "      <td>log</td>\n",
       "      <td>1</td>\n",
       "      <td>0</td>\n",
       "      <td>0.176091</td>\n",
       "      <td>-0.30103</td>\n",
       "      <td>0.11928</td>\n",
       "    </tr>\n",
       "    <tr>\n",
       "      <th>cn_prsity7</th>\n",
       "      <td>cn_prsity7</td>\n",
       "      <td>log</td>\n",
       "      <td>1</td>\n",
       "      <td>0</td>\n",
       "      <td>0.176091</td>\n",
       "      <td>-0.30103</td>\n",
       "      <td>0.11928</td>\n",
       "    </tr>\n",
       "    <tr>\n",
       "      <th>...</th>\n",
       "      <td>...</td>\n",
       "      <td>...</td>\n",
       "      <td>...</td>\n",
       "      <td>...</td>\n",
       "      <td>...</td>\n",
       "      <td>...</td>\n",
       "      <td>...</td>\n",
       "    </tr>\n",
       "    <tr>\n",
       "      <th>pp_vka0</th>\n",
       "      <td>pp_vka0</td>\n",
       "      <td>fixed</td>\n",
       "      <td>32</td>\n",
       "      <td>1</td>\n",
       "      <td>10</td>\n",
       "      <td>0.1</td>\n",
       "      <td>2.475</td>\n",
       "    </tr>\n",
       "    <tr>\n",
       "      <th>pp_vka1</th>\n",
       "      <td>pp_vka1</td>\n",
       "      <td>log</td>\n",
       "      <td>32</td>\n",
       "      <td>0</td>\n",
       "      <td>1</td>\n",
       "      <td>-1</td>\n",
       "      <td>0.5</td>\n",
       "    </tr>\n",
       "    <tr>\n",
       "      <th>pp_vka2</th>\n",
       "      <td>pp_vka2</td>\n",
       "      <td>fixed</td>\n",
       "      <td>32</td>\n",
       "      <td>1</td>\n",
       "      <td>10</td>\n",
       "      <td>0.1</td>\n",
       "      <td>2.475</td>\n",
       "    </tr>\n",
       "    <tr>\n",
       "      <th>welflux</th>\n",
       "      <td>welflux</td>\n",
       "      <td>log</td>\n",
       "      <td>25</td>\n",
       "      <td>0</td>\n",
       "      <td>1</td>\n",
       "      <td>-1</td>\n",
       "      <td>0.5</td>\n",
       "    </tr>\n",
       "    <tr>\n",
       "      <th>welflux_k02</th>\n",
       "      <td>welflux_k02</td>\n",
       "      <td>log</td>\n",
       "      <td>6</td>\n",
       "      <td>0</td>\n",
       "      <td>1</td>\n",
       "      <td>-1</td>\n",
       "      <td>0.5</td>\n",
       "    </tr>\n",
       "  </tbody>\n",
       "</table>\n",
       "<p>77 rows × 7 columns</p>\n",
       "</div>"
      ],
      "text/plain": [
       "                    type transform  count initial value upper bound  \\\n",
       "cn_hk6            cn_hk6       log      1             0           1   \n",
       "cn_hk7            cn_hk7       log      1             0           1   \n",
       "cn_hk8            cn_hk8       log      1             0           1   \n",
       "cn_prsity6    cn_prsity6       log      1             0    0.176091   \n",
       "cn_prsity7    cn_prsity7       log      1             0    0.176091   \n",
       "...                  ...       ...    ...           ...         ...   \n",
       "pp_vka0          pp_vka0     fixed     32             1          10   \n",
       "pp_vka1          pp_vka1       log     32             0           1   \n",
       "pp_vka2          pp_vka2     fixed     32             1          10   \n",
       "welflux          welflux       log     25             0           1   \n",
       "welflux_k02  welflux_k02       log      6             0           1   \n",
       "\n",
       "            lower bound standard deviation  \n",
       "cn_hk6               -1                0.5  \n",
       "cn_hk7               -1                0.5  \n",
       "cn_hk8               -1                0.5  \n",
       "cn_prsity6     -0.30103            0.11928  \n",
       "cn_prsity7     -0.30103            0.11928  \n",
       "...                 ...                ...  \n",
       "pp_vka0             0.1              2.475  \n",
       "pp_vka1              -1                0.5  \n",
       "pp_vka2             0.1              2.475  \n",
       "welflux              -1                0.5  \n",
       "welflux_k02          -1                0.5  \n",
       "\n",
       "[77 rows x 7 columns]"
      ]
     },
     "execution_count": 5,
     "metadata": {},
     "output_type": "execute_result"
    }
   ],
   "source": [
    "pst = pyemu.Pst(os.path.join(m_d,\"freyberg_pp.pst\"))\n",
    "print(pst.npar_adj)\n",
    "pst.write_par_summary_table(filename=\"none\")"
   ]
  },
  {
   "cell_type": "markdown",
   "metadata": {},
   "source": [
    "first ingredient: parameter covariance matrix (representing prior uncertainty in this instance)"
   ]
  },
  {
   "cell_type": "code",
   "execution_count": 6,
   "metadata": {
    "execution": {
     "iopub.execute_input": "2020-11-14T03:49:43.015006Z",
     "iopub.status.busy": "2020-11-14T03:49:43.014537Z",
     "iopub.status.idle": "2020-11-14T03:49:43.727876Z",
     "shell.execute_reply": "2020-11-14T03:49:43.728312Z"
    }
   },
   "outputs": [],
   "source": [
    "cov = pyemu.Cov.from_binary(os.path.join(m_d,\"prior_cov.jcb\")).to_dataframe()\n",
    "cov = cov.loc[pst.adj_par_names,pst.adj_par_names]\n",
    "cov = pyemu.Cov.from_dataframe(cov)"
   ]
  },
  {
   "cell_type": "code",
   "execution_count": 7,
   "metadata": {
    "execution": {
     "iopub.execute_input": "2020-11-14T03:49:43.731109Z",
     "iopub.status.busy": "2020-11-14T03:49:43.730692Z",
     "iopub.status.idle": "2020-11-14T03:49:43.881230Z",
     "shell.execute_reply": "2020-11-14T03:49:43.881659Z"
    }
   },
   "outputs": [
    {
     "data": {
      "text/plain": [
       "<matplotlib.colorbar.Colorbar at 0x23b7134a4f0>"
      ]
     },
     "execution_count": 7,
     "metadata": {},
     "output_type": "execute_result"
    },
    {
     "data": {
      "image/png": "[encoded data removed]",
      "text/plain": [
       "<Figure size 432x288 with 2 Axes>"
      ]
     },
     "metadata": {
      "needs_background": "light"
     },
     "output_type": "display_data"
    }
   ],
   "source": [
    "# let's inspect only\n",
    "x = cov.x.copy()\n",
    "x[x<1e-7] = np.nan\n",
    "c = plt.imshow(x)\n",
    "plt.colorbar()"
   ]
  },
  {
   "cell_type": "code",
   "execution_count": 8,
   "metadata": {
    "execution": {
     "iopub.execute_input": "2020-11-14T03:49:43.887049Z",
     "iopub.status.busy": "2020-11-14T03:49:43.886407Z",
     "iopub.status.idle": "2020-11-14T03:49:43.888704Z",
     "shell.execute_reply": "2020-11-14T03:49:43.889125Z"
    }
   },
   "outputs": [
    {
     "data": {
      "text/plain": [
       "['cn_hk6',\n",
       " 'cn_hk7',\n",
       " 'cn_hk8',\n",
       " 'cn_prsity6',\n",
       " 'cn_prsity7',\n",
       " 'cn_prsity8',\n",
       " 'cn_rech10',\n",
       " 'cn_rech11',\n",
       " 'cn_rech12',\n",
       " 'cn_rech13',\n",
       " 'cn_rech14',\n",
       " 'cn_rech15',\n",
       " 'cn_rech16',\n",
       " 'cn_rech17',\n",
       " 'cn_rech18',\n",
       " 'cn_rech19',\n",
       " 'cn_rech20',\n",
       " 'cn_rech21',\n",
       " 'cn_rech22',\n",
       " 'cn_rech23',\n",
       " 'cn_rech24',\n",
       " 'cn_rech25',\n",
       " 'cn_rech26',\n",
       " 'cn_rech2',\n",
       " 'cn_rech3',\n",
       " 'cn_rech4',\n",
       " 'cn_rech5',\n",
       " 'cn_rech6',\n",
       " 'cn_rech7',\n",
       " 'cn_rech8',\n",
       " 'cn_rech9',\n",
       " 'cn_ss6',\n",
       " 'cn_ss7',\n",
       " 'cn_ss8',\n",
       " 'cn_sy6',\n",
       " 'cn_sy7',\n",
       " 'cn_sy8',\n",
       " 'cn_vka6',\n",
       " 'cn_vka7',\n",
       " 'cn_vka8',\n",
       " 'ghbcond_k00',\n",
       " 'ghbcond_k01',\n",
       " 'ghbcond_k02',\n",
       " 'pp_hk0',\n",
       " 'pp_hk1',\n",
       " 'pp_hk2',\n",
       " 'pp_prsity0',\n",
       " 'pp_prsity1',\n",
       " 'pp_prsity2',\n",
       " 'pp_rech0',\n",
       " 'pp_ss0',\n",
       " 'pp_ss1',\n",
       " 'pp_ss2',\n",
       " 'pp_sy0',\n",
       " 'pp_sy1',\n",
       " 'pp_sy2',\n",
       " 'pp_vka1',\n",
       " 'welflux',\n",
       " 'welflux_k02']"
      ]
     },
     "execution_count": 8,
     "metadata": {},
     "output_type": "execute_result"
    }
   ],
   "source": [
    "pst.adj_par_groups"
   ]
  },
  {
   "cell_type": "markdown",
   "metadata": {},
   "source": [
    "second ingredient: jacobian matrix"
   ]
  },
  {
   "cell_type": "code",
   "execution_count": 9,
   "metadata": {
    "execution": {
     "iopub.execute_input": "2020-11-14T03:49:43.891441Z",
     "iopub.status.busy": "2020-11-14T03:49:43.891040Z",
     "iopub.status.idle": "2020-11-14T03:49:43.892590Z",
     "shell.execute_reply": "2020-11-14T03:49:43.893017Z"
    }
   },
   "outputs": [],
   "source": [
    "jco = os.path.join(m_d,\"freyberg_pp.jcb\")"
   ]
  },
  {
   "cell_type": "markdown",
   "metadata": {},
   "source": [
    "the third ingredient--the (diagonal) noise covariance matrix--populated on-the-fly using weights when constructing the Schur object below..."
   ]
  },
  {
   "cell_type": "code",
   "execution_count": 10,
   "metadata": {
    "execution": {
     "iopub.execute_input": "2020-11-14T03:49:43.895488Z",
     "iopub.status.busy": "2020-11-14T03:49:43.894996Z",
     "iopub.status.idle": "2020-11-14T03:49:44.312130Z",
     "shell.execute_reply": "2020-11-14T03:49:44.311609Z"
    }
   },
   "outputs": [],
   "source": [
    "sc = pyemu.Schur(jco=jco,parcov=cov)"
   ]
  },
  {
   "cell_type": "code",
   "execution_count": 11,
   "metadata": {
    "execution": {
     "iopub.execute_input": "2020-11-14T03:49:44.315068Z",
     "iopub.status.busy": "2020-11-14T03:49:44.314585Z",
     "iopub.status.idle": "2020-11-14T03:49:44.316814Z",
     "shell.execute_reply": "2020-11-14T03:49:44.317307Z"
    }
   },
   "outputs": [
    {
     "data": {
      "text/plain": [
       "<pyemu.sc.Schur at 0x23b70d3d700>"
      ]
     },
     "execution_count": 11,
     "metadata": {},
     "output_type": "execute_result"
    }
   ],
   "source": [
    "sc"
   ]
  },
  {
   "cell_type": "code",
   "execution_count": 12,
   "metadata": {
    "execution": {
     "iopub.execute_input": "2020-11-14T03:49:44.320116Z",
     "iopub.status.busy": "2020-11-14T03:49:44.319643Z",
     "iopub.status.idle": "2020-11-14T03:49:44.453055Z",
     "shell.execute_reply": "2020-11-14T03:49:44.453642Z"
    }
   },
   "outputs": [
    {
     "data": {
      "text/html": [
       "<div>\n",
       "<style scoped>\n",
       "    .dataframe tbody tr th:only-of-type {\n",
       "        vertical-align: middle;\n",
       "    }\n",
       "\n",
       "    .dataframe tbody tr th {\n",
       "        vertical-align: top;\n",
       "    }\n",
       "\n",
       "    .dataframe thead th {\n",
       "        text-align: right;\n",
       "    }\n",
       "</style>\n",
       "<table border=\"1\" class=\"dataframe\">\n",
       "  <thead>\n",
       "    <tr style=\"text-align: right;\">\n",
       "      <th></th>\n",
       "      <th>prior_var</th>\n",
       "      <th>post_var</th>\n",
       "      <th>percent_reduction</th>\n",
       "    </tr>\n",
       "  </thead>\n",
       "  <tbody>\n",
       "    <tr>\n",
       "      <th>fa_hw_20171001</th>\n",
       "      <td>789307.869122</td>\n",
       "      <td>17890.018498</td>\n",
       "      <td>97.733455</td>\n",
       "    </tr>\n",
       "    <tr>\n",
       "      <th>fa_tw_20171001</th>\n",
       "      <td>866637.712056</td>\n",
       "      <td>14650.290571</td>\n",
       "      <td>98.309525</td>\n",
       "    </tr>\n",
       "    <tr>\n",
       "      <th>hds_00_013_002_021</th>\n",
       "      <td>0.515632</td>\n",
       "      <td>0.016193</td>\n",
       "      <td>96.859506</td>\n",
       "    </tr>\n",
       "    <tr>\n",
       "      <th>part_time</th>\n",
       "      <td>31590.085323</td>\n",
       "      <td>7014.140502</td>\n",
       "      <td>77.796386</td>\n",
       "    </tr>\n",
       "    <tr>\n",
       "      <th>part_status</th>\n",
       "      <td>0.000000</td>\n",
       "      <td>0.000000</td>\n",
       "      <td>NaN</td>\n",
       "    </tr>\n",
       "  </tbody>\n",
       "</table>\n",
       "</div>"
      ],
      "text/plain": [
       "                        prior_var      post_var  percent_reduction\n",
       "fa_hw_20171001      789307.869122  17890.018498          97.733455\n",
       "fa_tw_20171001      866637.712056  14650.290571          98.309525\n",
       "hds_00_013_002_021       0.515632      0.016193          96.859506\n",
       "part_time            31590.085323   7014.140502          77.796386\n",
       "part_status              0.000000      0.000000                NaN"
      ]
     },
     "execution_count": 12,
     "metadata": {},
     "output_type": "execute_result"
    }
   ],
   "source": [
    "sc.get_forecast_summary()"
   ]
  },
  {
   "cell_type": "markdown",
   "metadata": {},
   "source": [
    "So that was easy...but maybe not the standard use case.  In many modeling analyses, there will be a separate scenario model - it is this model that will yield the forecast sensitivity vector(s) needed to map parameter uncertainty to forecast uncertainty.  That is, you will need to run the scenario model once for each parameter to fill a separate jacobian -  jacobian that has the same columns as the obervation jacobian, but has rows that are the forecasts.  \n",
    "\n",
    "Now we didnt do that here, but we can \"fake\" it but extracting the forecast rows from the full jacobian and \"pretending\" it is scenario-based forecast jacobian."
   ]
  },
  {
   "cell_type": "code",
   "execution_count": 13,
   "metadata": {
    "execution": {
     "iopub.execute_input": "2020-11-14T03:49:44.456653Z",
     "iopub.status.busy": "2020-11-14T03:49:44.456088Z",
     "iopub.status.idle": "2020-11-14T03:49:44.492964Z",
     "shell.execute_reply": "2020-11-14T03:49:44.493472Z"
    }
   },
   "outputs": [
    {
     "data": {
      "text/plain": [
       "(7272, 569)"
      ]
     },
     "execution_count": 13,
     "metadata": {},
     "output_type": "execute_result"
    }
   ],
   "source": [
    "obs_jco = pyemu.Jco.from_binary(jco)\n",
    "obs_jco.shape"
   ]
  },
  {
   "cell_type": "code",
   "execution_count": 14,
   "metadata": {
    "execution": {
     "iopub.execute_input": "2020-11-14T03:49:44.496362Z",
     "iopub.status.busy": "2020-11-14T03:49:44.495865Z",
     "iopub.status.idle": "2020-11-14T03:49:44.521927Z",
     "shell.execute_reply": "2020-11-14T03:49:44.522520Z"
    }
   },
   "outputs": [],
   "source": [
    "forecast_jco = obs_jco.get(row_names=pst.forecast_names,drop=True)"
   ]
  },
  {
   "cell_type": "code",
   "execution_count": 15,
   "metadata": {
    "execution": {
     "iopub.execute_input": "2020-11-14T03:49:44.525394Z",
     "iopub.status.busy": "2020-11-14T03:49:44.524847Z",
     "iopub.status.idle": "2020-11-14T03:49:44.528238Z",
     "shell.execute_reply": "2020-11-14T03:49:44.527755Z"
    }
   },
   "outputs": [
    {
     "data": {
      "text/plain": [
       "((5, 569), (7267, 569))"
      ]
     },
     "execution_count": 15,
     "metadata": {},
     "output_type": "execute_result"
    }
   ],
   "source": [
    "forecast_jco.shape,obs_jco.shape"
   ]
  },
  {
   "cell_type": "code",
   "execution_count": 16,
   "metadata": {
    "execution": {
     "iopub.execute_input": "2020-11-14T03:49:44.544258Z",
     "iopub.status.busy": "2020-11-14T03:49:44.543712Z",
     "iopub.status.idle": "2020-11-14T03:49:44.556786Z",
     "shell.execute_reply": "2020-11-14T03:49:44.557397Z"
    }
   },
   "outputs": [],
   "source": [
    "sc = pyemu.Schur(pst=pst,jco=obs_jco,forecasts=forecast_jco.T,parcov=cov)"
   ]
  },
  {
   "cell_type": "code",
   "execution_count": 17,
   "metadata": {
    "execution": {
     "iopub.execute_input": "2020-11-14T03:49:44.560561Z",
     "iopub.status.busy": "2020-11-14T03:49:44.559983Z",
     "iopub.status.idle": "2020-11-14T03:49:46.608264Z",
     "shell.execute_reply": "2020-11-14T03:49:46.608825Z"
    }
   },
   "outputs": [
    {
     "data": {
      "text/html": [
       "<div>\n",
       "<style scoped>\n",
       "    .dataframe tbody tr th:only-of-type {\n",
       "        vertical-align: middle;\n",
       "    }\n",
       "\n",
       "    .dataframe tbody tr th {\n",
       "        vertical-align: top;\n",
       "    }\n",
       "\n",
       "    .dataframe thead th {\n",
       "        text-align: right;\n",
       "    }\n",
       "</style>\n",
       "<table border=\"1\" class=\"dataframe\">\n",
       "  <thead>\n",
       "    <tr style=\"text-align: right;\">\n",
       "      <th></th>\n",
       "      <th>prior_var</th>\n",
       "      <th>post_var</th>\n",
       "      <th>percent_reduction</th>\n",
       "    </tr>\n",
       "  </thead>\n",
       "  <tbody>\n",
       "    <tr>\n",
       "      <th>fa_hw_20171001</th>\n",
       "      <td>789307.869122</td>\n",
       "      <td>17890.018498</td>\n",
       "      <td>97.733455</td>\n",
       "    </tr>\n",
       "    <tr>\n",
       "      <th>fa_tw_20171001</th>\n",
       "      <td>866637.712056</td>\n",
       "      <td>14650.290571</td>\n",
       "      <td>98.309525</td>\n",
       "    </tr>\n",
       "    <tr>\n",
       "      <th>hds_00_013_002_021</th>\n",
       "      <td>0.515632</td>\n",
       "      <td>0.016193</td>\n",
       "      <td>96.859506</td>\n",
       "    </tr>\n",
       "    <tr>\n",
       "      <th>part_time</th>\n",
       "      <td>31590.085323</td>\n",
       "      <td>7014.140502</td>\n",
       "      <td>77.796386</td>\n",
       "    </tr>\n",
       "    <tr>\n",
       "      <th>part_status</th>\n",
       "      <td>0.000000</td>\n",
       "      <td>0.000000</td>\n",
       "      <td>NaN</td>\n",
       "    </tr>\n",
       "  </tbody>\n",
       "</table>\n",
       "</div>"
      ],
      "text/plain": [
       "                        prior_var      post_var  percent_reduction\n",
       "fa_hw_20171001      789307.869122  17890.018498          97.733455\n",
       "fa_tw_20171001      866637.712056  14650.290571          98.309525\n",
       "hds_00_013_002_021       0.515632      0.016193          96.859506\n",
       "part_time            31590.085323   7014.140502          77.796386\n",
       "part_status              0.000000      0.000000                NaN"
      ]
     },
     "execution_count": 17,
     "metadata": {},
     "output_type": "execute_result"
    }
   ],
   "source": [
    "sc.get_forecast_summary()"
   ]
  },
  {
   "cell_type": "markdown",
   "metadata": {},
   "source": [
    "There you go...easy peasy.  What do these results imply about the \"value\" of proceeding with history matching?  Are we justified to continue???"
   ]
  },
  {
   "cell_type": "markdown",
   "metadata": {},
   "source": [
    "### there we have it--all computations done and contained within `sc`.  We will only be required to access different parts of `sc` below...\n",
    "\n",
    "### Parameter uncertainty"
   ]
  },
  {
   "cell_type": "markdown",
   "metadata": {},
   "source": [
    "First let's inspect the (approx) posterior parameter covariance matrix and the reduction in parameter uncertainty through \"data assimilation\", before mapping to forecasts... (note that this matrix is ${\\it not}$ forecast-specific)"
   ]
  },
  {
   "cell_type": "code",
   "execution_count": 18,
   "metadata": {
    "execution": {
     "iopub.execute_input": "2020-11-14T03:49:46.612934Z",
     "iopub.status.busy": "2020-11-14T03:49:46.612386Z",
     "iopub.status.idle": "2020-11-14T03:49:46.619343Z",
     "shell.execute_reply": "2020-11-14T03:49:46.619885Z"
    }
   },
   "outputs": [
    {
     "data": {
      "text/html": [
       "<div>\n",
       "<style scoped>\n",
       "    .dataframe tbody tr th:only-of-type {\n",
       "        vertical-align: middle;\n",
       "    }\n",
       "\n",
       "    .dataframe tbody tr th {\n",
       "        vertical-align: top;\n",
       "    }\n",
       "\n",
       "    .dataframe thead th {\n",
       "        text-align: right;\n",
       "    }\n",
       "</style>\n",
       "<table border=\"1\" class=\"dataframe\">\n",
       "  <thead>\n",
       "    <tr style=\"text-align: right;\">\n",
       "      <th></th>\n",
       "      <th>hk0_10</th>\n",
       "      <th>hk0_11</th>\n",
       "      <th>hk0_12</th>\n",
       "      <th>hk0_13</th>\n",
       "      <th>hk0_14</th>\n",
       "    </tr>\n",
       "  </thead>\n",
       "  <tbody>\n",
       "    <tr>\n",
       "      <th>hk0_10</th>\n",
       "      <td>0.111082</td>\n",
       "      <td>0.004682</td>\n",
       "      <td>0.026984</td>\n",
       "      <td>0.040851</td>\n",
       "      <td>0.002999</td>\n",
       "    </tr>\n",
       "    <tr>\n",
       "      <th>hk0_11</th>\n",
       "      <td>0.004682</td>\n",
       "      <td>0.111083</td>\n",
       "      <td>0.015011</td>\n",
       "      <td>0.005512</td>\n",
       "      <td>0.040848</td>\n",
       "    </tr>\n",
       "    <tr>\n",
       "      <th>hk0_12</th>\n",
       "      <td>0.026984</td>\n",
       "      <td>0.015011</td>\n",
       "      <td>0.111078</td>\n",
       "      <td>0.040848</td>\n",
       "      <td>0.011850</td>\n",
       "    </tr>\n",
       "    <tr>\n",
       "      <th>hk0_13</th>\n",
       "      <td>0.040851</td>\n",
       "      <td>0.005512</td>\n",
       "      <td>0.040848</td>\n",
       "      <td>0.111086</td>\n",
       "      <td>0.004683</td>\n",
       "    </tr>\n",
       "    <tr>\n",
       "      <th>hk0_14</th>\n",
       "      <td>0.002999</td>\n",
       "      <td>0.040848</td>\n",
       "      <td>0.011850</td>\n",
       "      <td>0.004683</td>\n",
       "      <td>0.111082</td>\n",
       "    </tr>\n",
       "  </tbody>\n",
       "</table>\n",
       "</div>"
      ],
      "text/plain": [
       "          hk0_10    hk0_11    hk0_12    hk0_13    hk0_14\n",
       "hk0_10  0.111082  0.004682  0.026984  0.040851  0.002999\n",
       "hk0_11  0.004682  0.111083  0.015011  0.005512  0.040848\n",
       "hk0_12  0.026984  0.015011  0.111078  0.040848  0.011850\n",
       "hk0_13  0.040851  0.005512  0.040848  0.111086  0.004683\n",
       "hk0_14  0.002999  0.040848  0.011850  0.004683  0.111082"
      ]
     },
     "execution_count": 18,
     "metadata": {},
     "output_type": "execute_result"
    }
   ],
   "source": [
    "sc.posterior_parameter.to_dataframe().sort_index(axis=1).iloc[100:105:,100:105]"
   ]
  },
  {
   "cell_type": "code",
   "execution_count": 19,
   "metadata": {
    "execution": {
     "iopub.execute_input": "2020-11-14T03:49:46.622993Z",
     "iopub.status.busy": "2020-11-14T03:49:46.622409Z",
     "iopub.status.idle": "2020-11-14T03:49:46.779862Z",
     "shell.execute_reply": "2020-11-14T03:49:46.780472Z"
    }
   },
   "outputs": [
    {
     "data": {
      "text/plain": [
       "<matplotlib.colorbar.Colorbar at 0x23b70b9e220>"
      ]
     },
     "execution_count": 19,
     "metadata": {},
     "output_type": "execute_result"
    },
    {
     "data": {
      "image/png": "[encoded data removed]",
      "text/plain": [
       "<Figure size 432x288 with 2 Axes>"
      ]
     },
     "metadata": {
      "needs_background": "light"
     },
     "output_type": "display_data"
    }
   ],
   "source": [
    "x = sc.posterior_parameter.x.copy()\n",
    "x[x<1e-7] = np.nan\n",
    "c = plt.imshow(x)\n",
    "plt.colorbar(c)"
   ]
  },
  {
   "cell_type": "markdown",
   "metadata": {},
   "source": [
    "We can see the posterior variance for each parameter along the diagonal. The off-diags are symmetric. a work of art!"
   ]
  },
  {
   "cell_type": "code",
   "execution_count": 20,
   "metadata": {
    "execution": {
     "iopub.execute_input": "2020-11-14T03:49:46.783767Z",
     "iopub.status.busy": "2020-11-14T03:49:46.783251Z",
     "iopub.status.idle": "2020-11-14T03:49:46.795713Z",
     "shell.execute_reply": "2020-11-14T03:49:46.796174Z"
    }
   },
   "outputs": [
    {
     "data": {
      "text/html": [
       "<div>\n",
       "<style scoped>\n",
       "    .dataframe tbody tr th:only-of-type {\n",
       "        vertical-align: middle;\n",
       "    }\n",
       "\n",
       "    .dataframe tbody tr th {\n",
       "        vertical-align: top;\n",
       "    }\n",
       "\n",
       "    .dataframe thead th {\n",
       "        text-align: right;\n",
       "    }\n",
       "</style>\n",
       "<table border=\"1\" class=\"dataframe\">\n",
       "  <thead>\n",
       "    <tr style=\"text-align: right;\">\n",
       "      <th></th>\n",
       "      <th>prior_var</th>\n",
       "      <th>post_var</th>\n",
       "      <th>percent_reduction</th>\n",
       "    </tr>\n",
       "  </thead>\n",
       "  <tbody>\n",
       "    <tr>\n",
       "      <th>const_sy6__cn</th>\n",
       "      <td>0.111111</td>\n",
       "      <td>0.008185</td>\n",
       "      <td>9.263315e+01</td>\n",
       "    </tr>\n",
       "    <tr>\n",
       "      <th>const_hk8__cn</th>\n",
       "      <td>0.111111</td>\n",
       "      <td>0.016112</td>\n",
       "      <td>8.549931e+01</td>\n",
       "    </tr>\n",
       "    <tr>\n",
       "      <th>welflux_000</th>\n",
       "      <td>0.111111</td>\n",
       "      <td>0.024307</td>\n",
       "      <td>7.812401e+01</td>\n",
       "    </tr>\n",
       "    <tr>\n",
       "      <th>welflux_009</th>\n",
       "      <td>0.111111</td>\n",
       "      <td>0.030661</td>\n",
       "      <td>7.240477e+01</td>\n",
       "    </tr>\n",
       "    <tr>\n",
       "      <th>welflux_021</th>\n",
       "      <td>0.111111</td>\n",
       "      <td>0.031297</td>\n",
       "      <td>7.183304e+01</td>\n",
       "    </tr>\n",
       "    <tr>\n",
       "      <th>...</th>\n",
       "      <td>...</td>\n",
       "      <td>...</td>\n",
       "      <td>...</td>\n",
       "    </tr>\n",
       "    <tr>\n",
       "      <th>sy1_23</th>\n",
       "      <td>0.019839</td>\n",
       "      <td>0.019839</td>\n",
       "      <td>-4.440892e-14</td>\n",
       "    </tr>\n",
       "    <tr>\n",
       "      <th>sy2_27</th>\n",
       "      <td>0.019839</td>\n",
       "      <td>0.019839</td>\n",
       "      <td>-4.440892e-14</td>\n",
       "    </tr>\n",
       "    <tr>\n",
       "      <th>sy2_00</th>\n",
       "      <td>0.019839</td>\n",
       "      <td>0.019839</td>\n",
       "      <td>-4.440892e-14</td>\n",
       "    </tr>\n",
       "    <tr>\n",
       "      <th>sy2_28</th>\n",
       "      <td>0.019839</td>\n",
       "      <td>0.019839</td>\n",
       "      <td>-4.440892e-14</td>\n",
       "    </tr>\n",
       "    <tr>\n",
       "      <th>sy1_28</th>\n",
       "      <td>0.019839</td>\n",
       "      <td>0.019839</td>\n",
       "      <td>-6.661338e-14</td>\n",
       "    </tr>\n",
       "  </tbody>\n",
       "</table>\n",
       "<p>569 rows × 3 columns</p>\n",
       "</div>"
      ],
      "text/plain": [
       "               prior_var  post_var  percent_reduction\n",
       "const_sy6__cn   0.111111  0.008185       9.263315e+01\n",
       "const_hk8__cn   0.111111  0.016112       8.549931e+01\n",
       "welflux_000     0.111111  0.024307       7.812401e+01\n",
       "welflux_009     0.111111  0.030661       7.240477e+01\n",
       "welflux_021     0.111111  0.031297       7.183304e+01\n",
       "...                  ...       ...                ...\n",
       "sy1_23          0.019839  0.019839      -4.440892e-14\n",
       "sy2_27          0.019839  0.019839      -4.440892e-14\n",
       "sy2_00          0.019839  0.019839      -4.440892e-14\n",
       "sy2_28          0.019839  0.019839      -4.440892e-14\n",
       "sy1_28          0.019839  0.019839      -6.661338e-14\n",
       "\n",
       "[569 rows x 3 columns]"
      ]
     },
     "execution_count": 20,
     "metadata": {},
     "output_type": "execute_result"
    }
   ],
   "source": [
    "par_sum = sc.get_parameter_summary().sort_values(\"percent_reduction\",ascending=False)\n",
    "par_sum"
   ]
  },
  {
   "cell_type": "code",
   "execution_count": 21,
   "metadata": {
    "execution": {
     "iopub.execute_input": "2020-11-14T03:49:46.799462Z",
     "iopub.status.busy": "2020-11-14T03:49:46.799084Z",
     "iopub.status.idle": "2020-11-14T03:49:46.977187Z",
     "shell.execute_reply": "2020-11-14T03:49:46.977623Z"
    }
   },
   "outputs": [
    {
     "data": {
      "text/plain": [
       "<AxesSubplot:>"
      ]
     },
     "execution_count": 21,
     "metadata": {},
     "output_type": "execute_result"
    },
    {
     "data": {
      "image/png": "[encoded data removed]",
      "text/plain": [
       "<Figure size 432x288 with 1 Axes>"
      ]
     },
     "metadata": {
      "needs_background": "light"
     },
     "output_type": "display_data"
    }
   ],
   "source": [
    "par_sum.loc[par_sum.index[:25],\"percent_reduction\"].plot(kind=\"bar\",color=\"turquoise\")"
   ]
  },
  {
   "cell_type": "markdown",
   "metadata": {},
   "source": [
    "What have we achieved by \"notionally calibrating\" our model to water levels and fluxes? Which parameters are informed? Will they matter for the forecast of interest? Which ones are un-informed?"
   ]
  },
  {
   "cell_type": "code",
   "execution_count": 22,
   "metadata": {
    "execution": {
     "iopub.execute_input": "2020-11-14T03:49:46.980975Z",
     "iopub.status.busy": "2020-11-14T03:49:46.980435Z",
     "iopub.status.idle": "2020-11-14T03:49:46.982596Z",
     "shell.execute_reply": "2020-11-14T03:49:46.983019Z"
    }
   },
   "outputs": [
    {
     "data": {
      "text/plain": [
       "['fo_gage_1',\n",
       " 'trgw_002_015',\n",
       " 'trgw_002_009',\n",
       " 'trgw_003_008',\n",
       " 'trgw_009_001',\n",
       " 'trgw_013_010',\n",
       " 'trgw_015_016',\n",
       " 'trgw_021_010',\n",
       " 'trgw_022_015',\n",
       " 'trgw_024_004',\n",
       " 'trgw_026_006',\n",
       " 'trgw_029_015',\n",
       " 'trgw_033_007',\n",
       " 'trgw_034_010']"
      ]
     },
     "execution_count": 22,
     "metadata": {},
     "output_type": "execute_result"
    }
   ],
   "source": [
    "pst.nnz_obs_groups"
   ]
  },
  {
   "cell_type": "markdown",
   "metadata": {},
   "source": [
    "## Forecast uncertainty"
   ]
  },
  {
   "cell_type": "code",
   "execution_count": 23,
   "metadata": {
    "execution": {
     "iopub.execute_input": "2020-11-14T03:49:46.985512Z",
     "iopub.status.busy": "2020-11-14T03:49:46.985064Z",
     "iopub.status.idle": "2020-11-14T03:49:46.987059Z",
     "shell.execute_reply": "2020-11-14T03:49:46.987467Z"
    }
   },
   "outputs": [
    {
     "data": {
      "text/plain": [
       "['fa_hw_20171001',\n",
       " 'fa_tw_20171001',\n",
       " 'hds_00_013_002_021',\n",
       " 'part_time',\n",
       " 'part_status']"
      ]
     },
     "execution_count": 23,
     "metadata": {},
     "output_type": "execute_result"
    }
   ],
   "source": [
    "forecasts = sc.pst.forecast_names\n",
    "forecasts"
   ]
  },
  {
   "cell_type": "code",
   "execution_count": 24,
   "metadata": {
    "execution": {
     "iopub.execute_input": "2020-11-14T03:49:46.992564Z",
     "iopub.status.busy": "2020-11-14T03:49:46.992093Z",
     "iopub.status.idle": "2020-11-14T03:49:46.994150Z",
     "shell.execute_reply": "2020-11-14T03:49:46.994564Z"
    }
   },
   "outputs": [
    {
     "data": {
      "text/html": [
       "<div>\n",
       "<style scoped>\n",
       "    .dataframe tbody tr th:only-of-type {\n",
       "        vertical-align: middle;\n",
       "    }\n",
       "\n",
       "    .dataframe tbody tr th {\n",
       "        vertical-align: top;\n",
       "    }\n",
       "\n",
       "    .dataframe thead th {\n",
       "        text-align: right;\n",
       "    }\n",
       "</style>\n",
       "<table border=\"1\" class=\"dataframe\">\n",
       "  <thead>\n",
       "    <tr style=\"text-align: right;\">\n",
       "      <th></th>\n",
       "      <th>prior_var</th>\n",
       "      <th>post_var</th>\n",
       "      <th>percent_reduction</th>\n",
       "    </tr>\n",
       "  </thead>\n",
       "  <tbody>\n",
       "    <tr>\n",
       "      <th>fa_hw_20171001</th>\n",
       "      <td>789307.869122</td>\n",
       "      <td>17890.018498</td>\n",
       "      <td>97.733455</td>\n",
       "    </tr>\n",
       "    <tr>\n",
       "      <th>fa_tw_20171001</th>\n",
       "      <td>866637.712056</td>\n",
       "      <td>14650.290571</td>\n",
       "      <td>98.309525</td>\n",
       "    </tr>\n",
       "    <tr>\n",
       "      <th>hds_00_013_002_021</th>\n",
       "      <td>0.515632</td>\n",
       "      <td>0.016193</td>\n",
       "      <td>96.859506</td>\n",
       "    </tr>\n",
       "    <tr>\n",
       "      <th>part_time</th>\n",
       "      <td>31590.085323</td>\n",
       "      <td>7014.140502</td>\n",
       "      <td>77.796386</td>\n",
       "    </tr>\n",
       "    <tr>\n",
       "      <th>part_status</th>\n",
       "      <td>0.000000</td>\n",
       "      <td>0.000000</td>\n",
       "      <td>NaN</td>\n",
       "    </tr>\n",
       "  </tbody>\n",
       "</table>\n",
       "</div>"
      ],
      "text/plain": [
       "                        prior_var      post_var  percent_reduction\n",
       "fa_hw_20171001      789307.869122  17890.018498          97.733455\n",
       "fa_tw_20171001      866637.712056  14650.290571          98.309525\n",
       "hds_00_013_002_021       0.515632      0.016193          96.859506\n",
       "part_time            31590.085323   7014.140502          77.796386\n",
       "part_status              0.000000      0.000000                NaN"
      ]
     },
     "execution_count": 24,
     "metadata": {},
     "output_type": "execute_result"
    }
   ],
   "source": [
    "df = sc.get_forecast_summary()\n",
    "df"
   ]
  },
  {
   "cell_type": "code",
   "execution_count": 25,
   "metadata": {
    "execution": {
     "iopub.execute_input": "2020-11-14T03:49:47.004962Z",
     "iopub.status.busy": "2020-11-14T03:49:47.004513Z",
     "iopub.status.idle": "2020-11-14T03:49:47.092185Z",
     "shell.execute_reply": "2020-11-14T03:49:47.092629Z"
    }
   },
   "outputs": [
    {
     "data": {
      "image/png": "[encoded data removed]",
      "text/plain": [
       "<Figure size 432x288 with 1 Axes>"
      ]
     },
     "metadata": {
      "needs_background": "light"
     },
     "output_type": "display_data"
    }
   ],
   "source": [
    "# make a pretty plot \n",
    "fig = plt.figure()\n",
    "ax = plt.subplot(111)\n",
    "ax = df[\"percent_reduction\"].plot(kind='bar',ax=ax,grid=True)\n",
    "ax.set_ylabel(\"percent uncertainy\\nreduction from calibration\")\n",
    "ax.set_xlabel(\"forecast\")\n",
    "plt.tight_layout()"
   ]
  },
  {
   "cell_type": "markdown",
   "metadata": {},
   "source": [
    "Surprise, surprise... Some forecasts benefit from calibration, some do not! "
   ]
  },
  {
   "cell_type": "markdown",
   "metadata": {},
   "source": [
    "### Before moving onto data worth, let's look at the contribution of different parameters to forecast uncertainty"
   ]
  },
  {
   "cell_type": "markdown",
   "metadata": {},
   "source": [
    "Parameter contributions to uncertainty are quantified by \"fixing\" parameters (or parameter groups) and observing the uncertainty reduction as a result. This approach is of course subject to some sizable assumptions--related to parameter representativeness. But it can be very informative. Let's do by group."
   ]
  },
  {
   "cell_type": "code",
   "execution_count": 26,
   "metadata": {
    "execution": {
     "iopub.execute_input": "2020-11-14T03:49:47.095855Z",
     "iopub.status.busy": "2020-11-14T03:49:47.095405Z",
     "iopub.status.idle": "2020-11-14T03:51:25.701869Z",
     "shell.execute_reply": "2020-11-14T03:51:25.702480Z"
    }
   },
   "outputs": [],
   "source": [
    "par_contrib = sc.get_par_group_contribution()"
   ]
  },
  {
   "cell_type": "code",
   "execution_count": 27,
   "metadata": {
    "execution": {
     "iopub.execute_input": "2020-11-14T03:51:25.708986Z",
     "iopub.status.busy": "2020-11-14T03:51:25.708460Z",
     "iopub.status.idle": "2020-11-14T03:51:25.711146Z",
     "shell.execute_reply": "2020-11-14T03:51:25.711857Z"
    }
   },
   "outputs": [
    {
     "data": {
      "text/html": [
       "<div>\n",
       "<style scoped>\n",
       "    .dataframe tbody tr th:only-of-type {\n",
       "        vertical-align: middle;\n",
       "    }\n",
       "\n",
       "    .dataframe tbody tr th {\n",
       "        vertical-align: top;\n",
       "    }\n",
       "\n",
       "    .dataframe thead th {\n",
       "        text-align: right;\n",
       "    }\n",
       "</style>\n",
       "<table border=\"1\" class=\"dataframe\">\n",
       "  <thead>\n",
       "    <tr style=\"text-align: right;\">\n",
       "      <th></th>\n",
       "      <th>fa_hw_20171001</th>\n",
       "      <th>fa_tw_20171001</th>\n",
       "      <th>hds_00_013_002_021</th>\n",
       "      <th>part_time</th>\n",
       "      <th>part_status</th>\n",
       "    </tr>\n",
       "  </thead>\n",
       "  <tbody>\n",
       "    <tr>\n",
       "      <th>base</th>\n",
       "      <td>17890.018498</td>\n",
       "      <td>14650.290571</td>\n",
       "      <td>0.016193</td>\n",
       "      <td>7014.140502</td>\n",
       "      <td>0.0</td>\n",
       "    </tr>\n",
       "    <tr>\n",
       "      <th>cn_hk6</th>\n",
       "      <td>17890.015465</td>\n",
       "      <td>14649.382465</td>\n",
       "      <td>0.016193</td>\n",
       "      <td>7013.902386</td>\n",
       "      <td>0.0</td>\n",
       "    </tr>\n",
       "    <tr>\n",
       "      <th>cn_hk7</th>\n",
       "      <td>17890.014300</td>\n",
       "      <td>14650.285175</td>\n",
       "      <td>0.016193</td>\n",
       "      <td>7014.138291</td>\n",
       "      <td>0.0</td>\n",
       "    </tr>\n",
       "    <tr>\n",
       "      <th>cn_hk8</th>\n",
       "      <td>17723.961197</td>\n",
       "      <td>14302.706256</td>\n",
       "      <td>0.016093</td>\n",
       "      <td>6983.638084</td>\n",
       "      <td>0.0</td>\n",
       "    </tr>\n",
       "    <tr>\n",
       "      <th>cn_prsity6</th>\n",
       "      <td>17890.018498</td>\n",
       "      <td>14650.290571</td>\n",
       "      <td>0.016193</td>\n",
       "      <td>7003.335963</td>\n",
       "      <td>0.0</td>\n",
       "    </tr>\n",
       "  </tbody>\n",
       "</table>\n",
       "</div>"
      ],
      "text/plain": [
       "            fa_hw_20171001  fa_tw_20171001  hds_00_013_002_021    part_time  \\\n",
       "base          17890.018498    14650.290571            0.016193  7014.140502   \n",
       "cn_hk6        17890.015465    14649.382465            0.016193  7013.902386   \n",
       "cn_hk7        17890.014300    14650.285175            0.016193  7014.138291   \n",
       "cn_hk8        17723.961197    14302.706256            0.016093  6983.638084   \n",
       "cn_prsity6    17890.018498    14650.290571            0.016193  7003.335963   \n",
       "\n",
       "            part_status  \n",
       "base                0.0  \n",
       "cn_hk6              0.0  \n",
       "cn_hk7              0.0  \n",
       "cn_hk8              0.0  \n",
       "cn_prsity6          0.0  "
      ]
     },
     "execution_count": 27,
     "metadata": {},
     "output_type": "execute_result"
    }
   ],
   "source": [
    "par_contrib.head()"
   ]
  },
  {
   "cell_type": "code",
   "execution_count": 28,
   "metadata": {
    "execution": {
     "iopub.execute_input": "2020-11-14T03:51:25.726877Z",
     "iopub.status.busy": "2020-11-14T03:51:25.726333Z",
     "iopub.status.idle": "2020-11-14T03:51:25.729081Z",
     "shell.execute_reply": "2020-11-14T03:51:25.729568Z"
    }
   },
   "outputs": [
    {
     "data": {
      "text/html": [
       "<div>\n",
       "<style scoped>\n",
       "    .dataframe tbody tr th:only-of-type {\n",
       "        vertical-align: middle;\n",
       "    }\n",
       "\n",
       "    .dataframe tbody tr th {\n",
       "        vertical-align: top;\n",
       "    }\n",
       "\n",
       "    .dataframe thead th {\n",
       "        text-align: right;\n",
       "    }\n",
       "</style>\n",
       "<table border=\"1\" class=\"dataframe\">\n",
       "  <thead>\n",
       "    <tr style=\"text-align: right;\">\n",
       "      <th></th>\n",
       "      <th>fa_hw_20171001</th>\n",
       "      <th>fa_tw_20171001</th>\n",
       "      <th>hds_00_013_002_021</th>\n",
       "      <th>part_time</th>\n",
       "      <th>part_status</th>\n",
       "    </tr>\n",
       "  </thead>\n",
       "  <tbody>\n",
       "    <tr>\n",
       "      <th>base</th>\n",
       "      <td>0.000000e+00</td>\n",
       "      <td>0.000000e+00</td>\n",
       "      <td>0.000000e+00</td>\n",
       "      <td>0.000000e+00</td>\n",
       "      <td>NaN</td>\n",
       "    </tr>\n",
       "    <tr>\n",
       "      <th>cn_hk6</th>\n",
       "      <td>1.695016e-05</td>\n",
       "      <td>6.198555e-03</td>\n",
       "      <td>1.582819e-03</td>\n",
       "      <td>3.394802e-03</td>\n",
       "      <td>NaN</td>\n",
       "    </tr>\n",
       "    <tr>\n",
       "      <th>cn_hk7</th>\n",
       "      <td>2.346177e-05</td>\n",
       "      <td>3.683642e-05</td>\n",
       "      <td>3.168971e-04</td>\n",
       "      <td>3.153197e-05</td>\n",
       "      <td>NaN</td>\n",
       "    </tr>\n",
       "    <tr>\n",
       "      <th>cn_hk8</th>\n",
       "      <td>9.282120e-01</td>\n",
       "      <td>2.372542e+00</td>\n",
       "      <td>6.211559e-01</td>\n",
       "      <td>4.348704e-01</td>\n",
       "      <td>NaN</td>\n",
       "    </tr>\n",
       "    <tr>\n",
       "      <th>cn_prsity6</th>\n",
       "      <td>4.067049e-14</td>\n",
       "      <td>1.365767e-13</td>\n",
       "      <td>2.142507e-14</td>\n",
       "      <td>1.540394e-01</td>\n",
       "      <td>NaN</td>\n",
       "    </tr>\n",
       "    <tr>\n",
       "      <th>cn_prsity7</th>\n",
       "      <td>4.067049e-14</td>\n",
       "      <td>1.365767e-13</td>\n",
       "      <td>2.142507e-14</td>\n",
       "      <td>2.217111e-01</td>\n",
       "      <td>NaN</td>\n",
       "    </tr>\n",
       "    <tr>\n",
       "      <th>cn_prsity8</th>\n",
       "      <td>4.067049e-14</td>\n",
       "      <td>1.365767e-13</td>\n",
       "      <td>2.142507e-14</td>\n",
       "      <td>2.837265e+01</td>\n",
       "      <td>NaN</td>\n",
       "    </tr>\n",
       "    <tr>\n",
       "      <th>cn_rech10</th>\n",
       "      <td>2.741618e-09</td>\n",
       "      <td>2.360665e-04</td>\n",
       "      <td>9.282007e-03</td>\n",
       "      <td>4.072063e-03</td>\n",
       "      <td>NaN</td>\n",
       "    </tr>\n",
       "    <tr>\n",
       "      <th>cn_rech11</th>\n",
       "      <td>4.934082e-06</td>\n",
       "      <td>5.372041e-04</td>\n",
       "      <td>1.157069e-02</td>\n",
       "      <td>7.197790e-03</td>\n",
       "      <td>NaN</td>\n",
       "    </tr>\n",
       "    <tr>\n",
       "      <th>cn_rech12</th>\n",
       "      <td>5.034532e-07</td>\n",
       "      <td>1.983298e-03</td>\n",
       "      <td>1.701906e-02</td>\n",
       "      <td>1.330320e-02</td>\n",
       "      <td>NaN</td>\n",
       "    </tr>\n",
       "    <tr>\n",
       "      <th>cn_rech13</th>\n",
       "      <td>7.068909e-05</td>\n",
       "      <td>6.723271e-03</td>\n",
       "      <td>5.967533e-03</td>\n",
       "      <td>2.025424e-02</td>\n",
       "      <td>NaN</td>\n",
       "    </tr>\n",
       "    <tr>\n",
       "      <th>cn_rech14</th>\n",
       "      <td>1.513788e-03</td>\n",
       "      <td>2.983745e-03</td>\n",
       "      <td>4.392772e-03</td>\n",
       "      <td>3.851973e-02</td>\n",
       "      <td>NaN</td>\n",
       "    </tr>\n",
       "    <tr>\n",
       "      <th>cn_rech15</th>\n",
       "      <td>3.288335e-03</td>\n",
       "      <td>4.905896e-03</td>\n",
       "      <td>4.870608e-02</td>\n",
       "      <td>3.229915e-02</td>\n",
       "      <td>NaN</td>\n",
       "    </tr>\n",
       "    <tr>\n",
       "      <th>cn_rech16</th>\n",
       "      <td>7.098304e-03</td>\n",
       "      <td>1.287793e-05</td>\n",
       "      <td>4.470706e-02</td>\n",
       "      <td>2.792631e-02</td>\n",
       "      <td>NaN</td>\n",
       "    </tr>\n",
       "    <tr>\n",
       "      <th>cn_rech17</th>\n",
       "      <td>4.970229e-03</td>\n",
       "      <td>6.234131e-03</td>\n",
       "      <td>1.533970e-02</td>\n",
       "      <td>1.781142e-02</td>\n",
       "      <td>NaN</td>\n",
       "    </tr>\n",
       "    <tr>\n",
       "      <th>cn_rech18</th>\n",
       "      <td>1.187178e-03</td>\n",
       "      <td>6.804272e-03</td>\n",
       "      <td>3.037008e-03</td>\n",
       "      <td>4.699116e-03</td>\n",
       "      <td>NaN</td>\n",
       "    </tr>\n",
       "    <tr>\n",
       "      <th>cn_rech19</th>\n",
       "      <td>2.507477e-05</td>\n",
       "      <td>5.438551e-03</td>\n",
       "      <td>4.101460e-03</td>\n",
       "      <td>1.857490e-03</td>\n",
       "      <td>NaN</td>\n",
       "    </tr>\n",
       "    <tr>\n",
       "      <th>cn_rech2</th>\n",
       "      <td>1.412119e-02</td>\n",
       "      <td>4.627585e-03</td>\n",
       "      <td>2.288923e-01</td>\n",
       "      <td>4.149912e-01</td>\n",
       "      <td>NaN</td>\n",
       "    </tr>\n",
       "    <tr>\n",
       "      <th>cn_rech20</th>\n",
       "      <td>6.121749e-04</td>\n",
       "      <td>3.517011e-03</td>\n",
       "      <td>9.853451e-03</td>\n",
       "      <td>5.762249e-04</td>\n",
       "      <td>NaN</td>\n",
       "    </tr>\n",
       "    <tr>\n",
       "      <th>cn_rech21</th>\n",
       "      <td>1.476092e-03</td>\n",
       "      <td>2.665982e-03</td>\n",
       "      <td>2.080065e-02</td>\n",
       "      <td>3.533127e-04</td>\n",
       "      <td>NaN</td>\n",
       "    </tr>\n",
       "    <tr>\n",
       "      <th>cn_rech22</th>\n",
       "      <td>9.756443e-05</td>\n",
       "      <td>1.162681e-04</td>\n",
       "      <td>7.273703e-02</td>\n",
       "      <td>5.882434e-04</td>\n",
       "      <td>NaN</td>\n",
       "    </tr>\n",
       "    <tr>\n",
       "      <th>cn_rech23</th>\n",
       "      <td>9.391141e-02</td>\n",
       "      <td>1.624254e-01</td>\n",
       "      <td>3.548448e-01</td>\n",
       "      <td>1.029614e-03</td>\n",
       "      <td>NaN</td>\n",
       "    </tr>\n",
       "    <tr>\n",
       "      <th>cn_rech24</th>\n",
       "      <td>3.081827e-01</td>\n",
       "      <td>2.681532e-01</td>\n",
       "      <td>2.853256e-02</td>\n",
       "      <td>3.135276e-03</td>\n",
       "      <td>NaN</td>\n",
       "    </tr>\n",
       "    <tr>\n",
       "      <th>cn_rech25</th>\n",
       "      <td>9.176248e-02</td>\n",
       "      <td>7.023824e-02</td>\n",
       "      <td>7.940344e-04</td>\n",
       "      <td>3.921959e-03</td>\n",
       "      <td>NaN</td>\n",
       "    </tr>\n",
       "    <tr>\n",
       "      <th>cn_rech26</th>\n",
       "      <td>1.306893e-02</td>\n",
       "      <td>2.918331e-03</td>\n",
       "      <td>5.524977e-03</td>\n",
       "      <td>1.961465e-03</td>\n",
       "      <td>NaN</td>\n",
       "    </tr>\n",
       "    <tr>\n",
       "      <th>cn_rech3</th>\n",
       "      <td>6.101934e-04</td>\n",
       "      <td>3.672142e-03</td>\n",
       "      <td>1.694549e-03</td>\n",
       "      <td>9.000504e-02</td>\n",
       "      <td>NaN</td>\n",
       "    </tr>\n",
       "    <tr>\n",
       "      <th>cn_rech4</th>\n",
       "      <td>3.606977e-03</td>\n",
       "      <td>1.243689e-03</td>\n",
       "      <td>2.147446e-03</td>\n",
       "      <td>6.018849e-02</td>\n",
       "      <td>NaN</td>\n",
       "    </tr>\n",
       "    <tr>\n",
       "      <th>cn_rech5</th>\n",
       "      <td>4.810933e-03</td>\n",
       "      <td>5.102328e-05</td>\n",
       "      <td>7.247736e-03</td>\n",
       "      <td>6.672236e-02</td>\n",
       "      <td>NaN</td>\n",
       "    </tr>\n",
       "    <tr>\n",
       "      <th>cn_rech6</th>\n",
       "      <td>1.344236e-03</td>\n",
       "      <td>7.961671e-04</td>\n",
       "      <td>3.524236e-02</td>\n",
       "      <td>3.532251e-02</td>\n",
       "      <td>NaN</td>\n",
       "    </tr>\n",
       "    <tr>\n",
       "      <th>cn_rech7</th>\n",
       "      <td>1.069816e-04</td>\n",
       "      <td>3.323521e-05</td>\n",
       "      <td>4.759132e-02</td>\n",
       "      <td>1.692909e-02</td>\n",
       "      <td>NaN</td>\n",
       "    </tr>\n",
       "    <tr>\n",
       "      <th>cn_rech8</th>\n",
       "      <td>8.251579e-06</td>\n",
       "      <td>1.151429e-04</td>\n",
       "      <td>2.648472e-02</td>\n",
       "      <td>6.098356e-03</td>\n",
       "      <td>NaN</td>\n",
       "    </tr>\n",
       "    <tr>\n",
       "      <th>cn_rech9</th>\n",
       "      <td>7.967433e-06</td>\n",
       "      <td>1.558730e-04</td>\n",
       "      <td>1.318838e-02</td>\n",
       "      <td>3.524398e-03</td>\n",
       "      <td>NaN</td>\n",
       "    </tr>\n",
       "    <tr>\n",
       "      <th>cn_ss6</th>\n",
       "      <td>2.818137e-05</td>\n",
       "      <td>4.826944e-05</td>\n",
       "      <td>1.090035e-04</td>\n",
       "      <td>9.752537e-07</td>\n",
       "      <td>NaN</td>\n",
       "    </tr>\n",
       "    <tr>\n",
       "      <th>cn_ss7</th>\n",
       "      <td>1.091371e-05</td>\n",
       "      <td>8.053514e-06</td>\n",
       "      <td>6.898924e-04</td>\n",
       "      <td>6.254061e-07</td>\n",
       "      <td>NaN</td>\n",
       "    </tr>\n",
       "    <tr>\n",
       "      <th>cn_ss8</th>\n",
       "      <td>1.189415e-03</td>\n",
       "      <td>7.584182e-03</td>\n",
       "      <td>2.830223e-04</td>\n",
       "      <td>1.056796e-05</td>\n",
       "      <td>NaN</td>\n",
       "    </tr>\n",
       "    <tr>\n",
       "      <th>cn_sy6</th>\n",
       "      <td>3.526896e-02</td>\n",
       "      <td>1.909931e-01</td>\n",
       "      <td>7.318913e+00</td>\n",
       "      <td>3.605695e-01</td>\n",
       "      <td>NaN</td>\n",
       "    </tr>\n",
       "    <tr>\n",
       "      <th>cn_sy7</th>\n",
       "      <td>-1.220115e-13</td>\n",
       "      <td>7.449638e-14</td>\n",
       "      <td>-4.285015e-14</td>\n",
       "      <td>5.186635e-14</td>\n",
       "      <td>NaN</td>\n",
       "    </tr>\n",
       "    <tr>\n",
       "      <th>cn_sy8</th>\n",
       "      <td>-1.220115e-13</td>\n",
       "      <td>7.449638e-14</td>\n",
       "      <td>-4.285015e-14</td>\n",
       "      <td>5.186635e-14</td>\n",
       "      <td>NaN</td>\n",
       "    </tr>\n",
       "    <tr>\n",
       "      <th>cn_vka6</th>\n",
       "      <td>1.412978e-04</td>\n",
       "      <td>5.709033e-02</td>\n",
       "      <td>2.343313e-03</td>\n",
       "      <td>2.353057e-08</td>\n",
       "      <td>NaN</td>\n",
       "    </tr>\n",
       "    <tr>\n",
       "      <th>cn_vka7</th>\n",
       "      <td>3.706841e-03</td>\n",
       "      <td>9.075961e+00</td>\n",
       "      <td>1.011982e-01</td>\n",
       "      <td>5.660886e-03</td>\n",
       "      <td>NaN</td>\n",
       "    </tr>\n",
       "    <tr>\n",
       "      <th>cn_vka8</th>\n",
       "      <td>2.551817e-05</td>\n",
       "      <td>3.337548e-02</td>\n",
       "      <td>5.712368e-07</td>\n",
       "      <td>3.790070e-06</td>\n",
       "      <td>NaN</td>\n",
       "    </tr>\n",
       "    <tr>\n",
       "      <th>ghbcond_k00</th>\n",
       "      <td>2.577533e-03</td>\n",
       "      <td>6.321727e-03</td>\n",
       "      <td>1.151413e-02</td>\n",
       "      <td>5.167350e-03</td>\n",
       "      <td>NaN</td>\n",
       "    </tr>\n",
       "    <tr>\n",
       "      <th>ghbcond_k01</th>\n",
       "      <td>3.034503e-03</td>\n",
       "      <td>3.080114e-02</td>\n",
       "      <td>4.241648e-03</td>\n",
       "      <td>1.069000e-03</td>\n",
       "      <td>NaN</td>\n",
       "    </tr>\n",
       "    <tr>\n",
       "      <th>ghbcond_k02</th>\n",
       "      <td>7.924714e-01</td>\n",
       "      <td>5.848940e-01</td>\n",
       "      <td>3.527301e-01</td>\n",
       "      <td>2.119739e-01</td>\n",
       "      <td>NaN</td>\n",
       "    </tr>\n",
       "    <tr>\n",
       "      <th>pp_hk0</th>\n",
       "      <td>2.865119e-03</td>\n",
       "      <td>5.109283e-03</td>\n",
       "      <td>1.511757e-02</td>\n",
       "      <td>1.731237e-02</td>\n",
       "      <td>NaN</td>\n",
       "    </tr>\n",
       "    <tr>\n",
       "      <th>pp_hk1</th>\n",
       "      <td>1.117292e-04</td>\n",
       "      <td>8.904358e-05</td>\n",
       "      <td>2.592474e-03</td>\n",
       "      <td>4.916111e-04</td>\n",
       "      <td>NaN</td>\n",
       "    </tr>\n",
       "    <tr>\n",
       "      <th>pp_hk2</th>\n",
       "      <td>6.906763e+00</td>\n",
       "      <td>7.033119e+00</td>\n",
       "      <td>5.308253e+01</td>\n",
       "      <td>2.319621e+01</td>\n",
       "      <td>NaN</td>\n",
       "    </tr>\n",
       "    <tr>\n",
       "      <th>pp_prsity0</th>\n",
       "      <td>1.016762e-13</td>\n",
       "      <td>4.966425e-14</td>\n",
       "      <td>2.142507e-14</td>\n",
       "      <td>1.540394e-01</td>\n",
       "      <td>NaN</td>\n",
       "    </tr>\n",
       "    <tr>\n",
       "      <th>pp_prsity1</th>\n",
       "      <td>1.016762e-13</td>\n",
       "      <td>4.966425e-14</td>\n",
       "      <td>2.142507e-14</td>\n",
       "      <td>2.217111e-01</td>\n",
       "      <td>NaN</td>\n",
       "    </tr>\n",
       "    <tr>\n",
       "      <th>pp_prsity2</th>\n",
       "      <td>1.016762e-13</td>\n",
       "      <td>4.966425e-14</td>\n",
       "      <td>2.142507e-14</td>\n",
       "      <td>9.349780e+00</td>\n",
       "      <td>NaN</td>\n",
       "    </tr>\n",
       "    <tr>\n",
       "      <th>pp_rech0</th>\n",
       "      <td>2.840184e-01</td>\n",
       "      <td>4.040899e-02</td>\n",
       "      <td>4.274067e-01</td>\n",
       "      <td>3.814842e+00</td>\n",
       "      <td>NaN</td>\n",
       "    </tr>\n",
       "    <tr>\n",
       "      <th>pp_ss0</th>\n",
       "      <td>3.945702e-04</td>\n",
       "      <td>2.260903e-04</td>\n",
       "      <td>6.849079e-03</td>\n",
       "      <td>8.194800e-05</td>\n",
       "      <td>NaN</td>\n",
       "    </tr>\n",
       "    <tr>\n",
       "      <th>pp_ss1</th>\n",
       "      <td>6.394979e-04</td>\n",
       "      <td>5.532418e-04</td>\n",
       "      <td>1.083423e-02</td>\n",
       "      <td>7.256080e-05</td>\n",
       "      <td>NaN</td>\n",
       "    </tr>\n",
       "    <tr>\n",
       "      <th>pp_ss2</th>\n",
       "      <td>8.423865e-03</td>\n",
       "      <td>8.056044e-04</td>\n",
       "      <td>2.393151e-02</td>\n",
       "      <td>3.693830e-03</td>\n",
       "      <td>NaN</td>\n",
       "    </tr>\n",
       "    <tr>\n",
       "      <th>pp_sy0</th>\n",
       "      <td>2.769138e-01</td>\n",
       "      <td>4.654478e-01</td>\n",
       "      <td>4.228296e+00</td>\n",
       "      <td>1.225101e+00</td>\n",
       "      <td>NaN</td>\n",
       "    </tr>\n",
       "    <tr>\n",
       "      <th>pp_sy1</th>\n",
       "      <td>2.033524e-14</td>\n",
       "      <td>-2.483213e-14</td>\n",
       "      <td>4.285015e-14</td>\n",
       "      <td>-2.333986e-13</td>\n",
       "      <td>NaN</td>\n",
       "    </tr>\n",
       "    <tr>\n",
       "      <th>pp_sy2</th>\n",
       "      <td>2.033524e-14</td>\n",
       "      <td>-2.483213e-14</td>\n",
       "      <td>4.285015e-14</td>\n",
       "      <td>-2.333986e-13</td>\n",
       "      <td>NaN</td>\n",
       "    </tr>\n",
       "    <tr>\n",
       "      <th>pp_vka1</th>\n",
       "      <td>8.324523e-01</td>\n",
       "      <td>3.186009e+00</td>\n",
       "      <td>6.751755e-02</td>\n",
       "      <td>4.761842e-03</td>\n",
       "      <td>NaN</td>\n",
       "    </tr>\n",
       "    <tr>\n",
       "      <th>welflux</th>\n",
       "      <td>3.895906e+01</td>\n",
       "      <td>4.621224e+01</td>\n",
       "      <td>5.394795e+00</td>\n",
       "      <td>1.101671e+00</td>\n",
       "      <td>NaN</td>\n",
       "    </tr>\n",
       "    <tr>\n",
       "      <th>welflux_k02</th>\n",
       "      <td>3.030376e+01</td>\n",
       "      <td>1.892995e+01</td>\n",
       "      <td>3.814833e+00</td>\n",
       "      <td>3.313956e+01</td>\n",
       "      <td>NaN</td>\n",
       "    </tr>\n",
       "  </tbody>\n",
       "</table>\n",
       "</div>"
      ],
      "text/plain": [
       "             fa_hw_20171001  fa_tw_20171001  hds_00_013_002_021     part_time  \\\n",
       "base           0.000000e+00    0.000000e+00        0.000000e+00  0.000000e+00   \n",
       "cn_hk6         1.695016e-05    6.198555e-03        1.582819e-03  3.394802e-03   \n",
       "cn_hk7         2.346177e-05    3.683642e-05        3.168971e-04  3.153197e-05   \n",
       "cn_hk8         9.282120e-01    2.372542e+00        6.211559e-01  4.348704e-01   \n",
       "cn_prsity6     4.067049e-14    1.365767e-13        2.142507e-14  1.540394e-01   \n",
       "cn_prsity7     4.067049e-14    1.365767e-13        2.142507e-14  2.217111e-01   \n",
       "cn_prsity8     4.067049e-14    1.365767e-13        2.142507e-14  2.837265e+01   \n",
       "cn_rech10      2.741618e-09    2.360665e-04        9.282007e-03  4.072063e-03   \n",
       "cn_rech11      4.934082e-06    5.372041e-04        1.157069e-02  7.197790e-03   \n",
       "cn_rech12      5.034532e-07    1.983298e-03        1.701906e-02  1.330320e-02   \n",
       "cn_rech13      7.068909e-05    6.723271e-03        5.967533e-03  2.025424e-02   \n",
       "cn_rech14      1.513788e-03    2.983745e-03        4.392772e-03  3.851973e-02   \n",
       "cn_rech15      3.288335e-03    4.905896e-03        4.870608e-02  3.229915e-02   \n",
       "cn_rech16      7.098304e-03    1.287793e-05        4.470706e-02  2.792631e-02   \n",
       "cn_rech17      4.970229e-03    6.234131e-03        1.533970e-02  1.781142e-02   \n",
       "cn_rech18      1.187178e-03    6.804272e-03        3.037008e-03  4.699116e-03   \n",
       "cn_rech19      2.507477e-05    5.438551e-03        4.101460e-03  1.857490e-03   \n",
       "cn_rech2       1.412119e-02    4.627585e-03        2.288923e-01  4.149912e-01   \n",
       "cn_rech20      6.121749e-04    3.517011e-03        9.853451e-03  5.762249e-04   \n",
       "cn_rech21      1.476092e-03    2.665982e-03        2.080065e-02  3.533127e-04   \n",
       "cn_rech22      9.756443e-05    1.162681e-04        7.273703e-02  5.882434e-04   \n",
       "cn_rech23      9.391141e-02    1.624254e-01        3.548448e-01  1.029614e-03   \n",
       "cn_rech24      3.081827e-01    2.681532e-01        2.853256e-02  3.135276e-03   \n",
       "cn_rech25      9.176248e-02    7.023824e-02        7.940344e-04  3.921959e-03   \n",
       "cn_rech26      1.306893e-02    2.918331e-03        5.524977e-03  1.961465e-03   \n",
       "cn_rech3       6.101934e-04    3.672142e-03        1.694549e-03  9.000504e-02   \n",
       "cn_rech4       3.606977e-03    1.243689e-03        2.147446e-03  6.018849e-02   \n",
       "cn_rech5       4.810933e-03    5.102328e-05        7.247736e-03  6.672236e-02   \n",
       "cn_rech6       1.344236e-03    7.961671e-04        3.524236e-02  3.532251e-02   \n",
       "cn_rech7       1.069816e-04    3.323521e-05        4.759132e-02  1.692909e-02   \n",
       "cn_rech8       8.251579e-06    1.151429e-04        2.648472e-02  6.098356e-03   \n",
       "cn_rech9       7.967433e-06    1.558730e-04        1.318838e-02  3.524398e-03   \n",
       "cn_ss6         2.818137e-05    4.826944e-05        1.090035e-04  9.752537e-07   \n",
       "cn_ss7         1.091371e-05    8.053514e-06        6.898924e-04  6.254061e-07   \n",
       "cn_ss8         1.189415e-03    7.584182e-03        2.830223e-04  1.056796e-05   \n",
       "cn_sy6         3.526896e-02    1.909931e-01        7.318913e+00  3.605695e-01   \n",
       "cn_sy7        -1.220115e-13    7.449638e-14       -4.285015e-14  5.186635e-14   \n",
       "cn_sy8        -1.220115e-13    7.449638e-14       -4.285015e-14  5.186635e-14   \n",
       "cn_vka6        1.412978e-04    5.709033e-02        2.343313e-03  2.353057e-08   \n",
       "cn_vka7        3.706841e-03    9.075961e+00        1.011982e-01  5.660886e-03   \n",
       "cn_vka8        2.551817e-05    3.337548e-02        5.712368e-07  3.790070e-06   \n",
       "ghbcond_k00    2.577533e-03    6.321727e-03        1.151413e-02  5.167350e-03   \n",
       "ghbcond_k01    3.034503e-03    3.080114e-02        4.241648e-03  1.069000e-03   \n",
       "ghbcond_k02    7.924714e-01    5.848940e-01        3.527301e-01  2.119739e-01   \n",
       "pp_hk0         2.865119e-03    5.109283e-03        1.511757e-02  1.731237e-02   \n",
       "pp_hk1         1.117292e-04    8.904358e-05        2.592474e-03  4.916111e-04   \n",
       "pp_hk2         6.906763e+00    7.033119e+00        5.308253e+01  2.319621e+01   \n",
       "pp_prsity0     1.016762e-13    4.966425e-14        2.142507e-14  1.540394e-01   \n",
       "pp_prsity1     1.016762e-13    4.966425e-14        2.142507e-14  2.217111e-01   \n",
       "pp_prsity2     1.016762e-13    4.966425e-14        2.142507e-14  9.349780e+00   \n",
       "pp_rech0       2.840184e-01    4.040899e-02        4.274067e-01  3.814842e+00   \n",
       "pp_ss0         3.945702e-04    2.260903e-04        6.849079e-03  8.194800e-05   \n",
       "pp_ss1         6.394979e-04    5.532418e-04        1.083423e-02  7.256080e-05   \n",
       "pp_ss2         8.423865e-03    8.056044e-04        2.393151e-02  3.693830e-03   \n",
       "pp_sy0         2.769138e-01    4.654478e-01        4.228296e+00  1.225101e+00   \n",
       "pp_sy1         2.033524e-14   -2.483213e-14        4.285015e-14 -2.333986e-13   \n",
       "pp_sy2         2.033524e-14   -2.483213e-14        4.285015e-14 -2.333986e-13   \n",
       "pp_vka1        8.324523e-01    3.186009e+00        6.751755e-02  4.761842e-03   \n",
       "welflux        3.895906e+01    4.621224e+01        5.394795e+00  1.101671e+00   \n",
       "welflux_k02    3.030376e+01    1.892995e+01        3.814833e+00  3.313956e+01   \n",
       "\n",
       "             part_status  \n",
       "base                 NaN  \n",
       "cn_hk6               NaN  \n",
       "cn_hk7               NaN  \n",
       "cn_hk8               NaN  \n",
       "cn_prsity6           NaN  \n",
       "cn_prsity7           NaN  \n",
       "cn_prsity8           NaN  \n",
       "cn_rech10            NaN  \n",
       "cn_rech11            NaN  \n",
       "cn_rech12            NaN  \n",
       "cn_rech13            NaN  \n",
       "cn_rech14            NaN  \n",
       "cn_rech15            NaN  \n",
       "cn_rech16            NaN  \n",
       "cn_rech17            NaN  \n",
       "cn_rech18            NaN  \n",
       "cn_rech19            NaN  \n",
       "cn_rech2             NaN  \n",
       "cn_rech20            NaN  \n",
       "cn_rech21            NaN  \n",
       "cn_rech22            NaN  \n",
       "cn_rech23            NaN  \n",
       "cn_rech24            NaN  \n",
       "cn_rech25            NaN  \n",
       "cn_rech26            NaN  \n",
       "cn_rech3             NaN  \n",
       "cn_rech4             NaN  \n",
       "cn_rech5             NaN  \n",
       "cn_rech6             NaN  \n",
       "cn_rech7             NaN  \n",
       "cn_rech8             NaN  \n",
       "cn_rech9             NaN  \n",
       "cn_ss6               NaN  \n",
       "cn_ss7               NaN  \n",
       "cn_ss8               NaN  \n",
       "cn_sy6               NaN  \n",
       "cn_sy7               NaN  \n",
       "cn_sy8               NaN  \n",
       "cn_vka6              NaN  \n",
       "cn_vka7              NaN  \n",
       "cn_vka8              NaN  \n",
       "ghbcond_k00          NaN  \n",
       "ghbcond_k01          NaN  \n",
       "ghbcond_k02          NaN  \n",
       "pp_hk0               NaN  \n",
       "pp_hk1               NaN  \n",
       "pp_hk2               NaN  \n",
       "pp_prsity0           NaN  \n",
       "pp_prsity1           NaN  \n",
       "pp_prsity2           NaN  \n",
       "pp_rech0             NaN  \n",
       "pp_ss0               NaN  \n",
       "pp_ss1               NaN  \n",
       "pp_ss2               NaN  \n",
       "pp_sy0               NaN  \n",
       "pp_sy1               NaN  \n",
       "pp_sy2               NaN  \n",
       "pp_vka1              NaN  \n",
       "welflux              NaN  \n",
       "welflux_k02          NaN  "
      ]
     },
     "execution_count": 28,
     "metadata": {},
     "output_type": "execute_result"
    }
   ],
   "source": [
    "base = par_contrib.loc[\"base\",:]\n",
    "par_contrib = 100.0 * (base - par_contrib) / base\n",
    "par_contrib.sort_index()"
   ]
  },
  {
   "cell_type": "code",
   "execution_count": 29,
   "metadata": {
    "execution": {
     "iopub.execute_input": "2020-11-14T03:51:25.743089Z",
     "iopub.status.busy": "2020-11-14T03:51:25.742572Z",
     "iopub.status.idle": "2020-11-14T03:51:26.256044Z",
     "shell.execute_reply": "2020-11-14T03:51:26.256465Z"
    }
   },
   "outputs": [
    {
     "data": {
      "image/png": "[encoded data removed]",
      "text/plain": [
       "<Figure size 432x288 with 1 Axes>"
      ]
     },
     "metadata": {
      "needs_background": "light"
     },
     "output_type": "display_data"
    },
    {
     "data": {
      "image/png": "[encoded data removed]",
      "text/plain": [
       "<Figure size 432x288 with 1 Axes>"
      ]
     },
     "metadata": {
      "needs_background": "light"
     },
     "output_type": "display_data"
    },
    {
     "data": {
      "image/png": "[encoded data removed]",
      "text/plain": [
       "<Figure size 432x288 with 1 Axes>"
      ]
     },
     "metadata": {
      "needs_background": "light"
     },
     "output_type": "display_data"
    },
    {
     "data": {
      "image/png": "[encoded data removed]",
      "text/plain": [
       "<Figure size 432x288 with 1 Axes>"
      ]
     },
     "metadata": {
      "needs_background": "light"
     },
     "output_type": "display_data"
    },
    {
     "data": {
      "image/png": "[encoded data removed]",
      "text/plain": [
       "<Figure size 432x288 with 1 Axes>"
      ]
     },
     "metadata": {
      "needs_background": "light"
     },
     "output_type": "display_data"
    }
   ],
   "source": [
    "for forecast in par_contrib.columns:\n",
    "    fore_df = par_contrib.loc[:,forecast].copy()\n",
    "    fore_df.sort_values(inplace=True, ascending=False)\n",
    "    ax = fore_df.iloc[:10].plot(kind=\"bar\",color=\"b\")\n",
    "    ax.set_title(forecast)\n",
    "    ax.set_ylabel(\"percent variance reduction\")\n",
    "    plt.show()"
   ]
  },
  {
   "cell_type": "markdown",
   "metadata": {},
   "source": [
    "### Data worth"
   ]
  },
  {
   "cell_type": "markdown",
   "metadata": {},
   "source": [
    "### what is the worth of ${\\it existing}$ observations?"
   ]
  },
  {
   "cell_type": "markdown",
   "metadata": {},
   "source": [
    "What is happening under the hood is that we are recalculating the Schur complement without some of the observations to see how the posterior forecast uncertainty increases (wrt a \"base\" condition in which we have all observation data available)."
   ]
  },
  {
   "cell_type": "code",
   "execution_count": 30,
   "metadata": {
    "execution": {
     "iopub.execute_input": "2020-11-14T03:51:26.260282Z",
     "iopub.status.busy": "2020-11-14T03:51:26.259693Z",
     "iopub.status.idle": "2020-11-14T03:51:26.263003Z",
     "shell.execute_reply": "2020-11-14T03:51:26.263479Z"
    }
   },
   "outputs": [
    {
     "data": {
      "text/plain": [
       "['fo_gage_1',\n",
       " 'trgw_002_015',\n",
       " 'trgw_002_009',\n",
       " 'trgw_003_008',\n",
       " 'trgw_009_001',\n",
       " 'trgw_013_010',\n",
       " 'trgw_015_016',\n",
       " 'trgw_021_010',\n",
       " 'trgw_022_015',\n",
       " 'trgw_024_004',\n",
       " 'trgw_026_006',\n",
       " 'trgw_029_015',\n",
       " 'trgw_033_007',\n",
       " 'trgw_034_010']"
      ]
     },
     "execution_count": 30,
     "metadata": {},
     "output_type": "execute_result"
    }
   ],
   "source": [
    "sc.pst.nnz_obs_groups"
   ]
  },
  {
   "cell_type": "code",
   "execution_count": 31,
   "metadata": {
    "execution": {
     "iopub.execute_input": "2020-11-14T03:51:26.267091Z",
     "iopub.status.busy": "2020-11-14T03:51:26.266692Z",
     "iopub.status.idle": "2020-11-14T03:51:26.278028Z",
     "shell.execute_reply": "2020-11-14T03:51:26.278453Z"
    }
   },
   "outputs": [
    {
     "data": {
      "text/plain": [
       "dict_keys(['flaqx', 'fo_gage_1', 'fo_hw', 'fo_tw', 'hds', 'obgnme', 'trgw_002_009', 'trgw_002_015', 'trgw_003_008', 'trgw_009_001', 'trgw_013_010', 'trgw_015_016', 'trgw_021_010', 'trgw_022_015', 'trgw_024_004', 'trgw_026_006', 'trgw_029_015', 'trgw_033_007', 'trgw_034_010'])"
      ]
     },
     "execution_count": 31,
     "metadata": {},
     "output_type": "execute_result"
    }
   ],
   "source": [
    "sc.get_obs_group_dict().keys()"
   ]
  },
  {
   "cell_type": "code",
   "execution_count": 32,
   "metadata": {
    "execution": {
     "iopub.execute_input": "2020-11-14T03:51:26.284671Z",
     "iopub.status.busy": "2020-11-14T03:51:26.284244Z",
     "iopub.status.idle": "2020-11-14T03:51:27.642513Z",
     "shell.execute_reply": "2020-11-14T03:51:27.643016Z"
    }
   },
   "outputs": [
    {
     "data": {
      "text/html": [
       "<div>\n",
       "<style scoped>\n",
       "    .dataframe tbody tr th:only-of-type {\n",
       "        vertical-align: middle;\n",
       "    }\n",
       "\n",
       "    .dataframe tbody tr th {\n",
       "        vertical-align: top;\n",
       "    }\n",
       "\n",
       "    .dataframe thead th {\n",
       "        text-align: right;\n",
       "    }\n",
       "</style>\n",
       "<table border=\"1\" class=\"dataframe\">\n",
       "  <thead>\n",
       "    <tr style=\"text-align: right;\">\n",
       "      <th></th>\n",
       "      <th>fa_hw_20171001</th>\n",
       "      <th>fa_tw_20171001</th>\n",
       "      <th>hds_00_013_002_021</th>\n",
       "      <th>part_time</th>\n",
       "      <th>part_status</th>\n",
       "    </tr>\n",
       "  </thead>\n",
       "  <tbody>\n",
       "    <tr>\n",
       "      <th>base</th>\n",
       "      <td>17890.018498</td>\n",
       "      <td>14650.290571</td>\n",
       "      <td>0.016193</td>\n",
       "      <td>7014.140502</td>\n",
       "      <td>0.0</td>\n",
       "    </tr>\n",
       "    <tr>\n",
       "      <th>flaqx</th>\n",
       "      <td>17890.018498</td>\n",
       "      <td>14650.290571</td>\n",
       "      <td>0.016193</td>\n",
       "      <td>7014.140502</td>\n",
       "      <td>0.0</td>\n",
       "    </tr>\n",
       "    <tr>\n",
       "      <th>fo_gage_1</th>\n",
       "      <td>21847.666356</td>\n",
       "      <td>17229.098765</td>\n",
       "      <td>0.016646</td>\n",
       "      <td>7114.766694</td>\n",
       "      <td>0.0</td>\n",
       "    </tr>\n",
       "    <tr>\n",
       "      <th>fo_hw</th>\n",
       "      <td>17890.018498</td>\n",
       "      <td>14650.290571</td>\n",
       "      <td>0.016193</td>\n",
       "      <td>7014.140502</td>\n",
       "      <td>0.0</td>\n",
       "    </tr>\n",
       "    <tr>\n",
       "      <th>fo_tw</th>\n",
       "      <td>17890.018498</td>\n",
       "      <td>14650.290571</td>\n",
       "      <td>0.016193</td>\n",
       "      <td>7014.140502</td>\n",
       "      <td>0.0</td>\n",
       "    </tr>\n",
       "    <tr>\n",
       "      <th>hds</th>\n",
       "      <td>17890.018498</td>\n",
       "      <td>14650.290571</td>\n",
       "      <td>0.016193</td>\n",
       "      <td>7014.140502</td>\n",
       "      <td>0.0</td>\n",
       "    </tr>\n",
       "    <tr>\n",
       "      <th>obgnme</th>\n",
       "      <td>17890.018498</td>\n",
       "      <td>14650.290571</td>\n",
       "      <td>0.016193</td>\n",
       "      <td>7014.140502</td>\n",
       "      <td>0.0</td>\n",
       "    </tr>\n",
       "    <tr>\n",
       "      <th>trgw_002_009</th>\n",
       "      <td>18053.484194</td>\n",
       "      <td>14690.209789</td>\n",
       "      <td>0.016324</td>\n",
       "      <td>7113.858170</td>\n",
       "      <td>0.0</td>\n",
       "    </tr>\n",
       "    <tr>\n",
       "      <th>trgw_002_015</th>\n",
       "      <td>19724.698411</td>\n",
       "      <td>14770.421611</td>\n",
       "      <td>0.016239</td>\n",
       "      <td>7015.069852</td>\n",
       "      <td>0.0</td>\n",
       "    </tr>\n",
       "    <tr>\n",
       "      <th>trgw_003_008</th>\n",
       "      <td>18095.535493</td>\n",
       "      <td>14694.280981</td>\n",
       "      <td>0.016316</td>\n",
       "      <td>7134.239753</td>\n",
       "      <td>0.0</td>\n",
       "    </tr>\n",
       "    <tr>\n",
       "      <th>trgw_009_001</th>\n",
       "      <td>18144.173323</td>\n",
       "      <td>14896.999970</td>\n",
       "      <td>0.053423</td>\n",
       "      <td>9147.319380</td>\n",
       "      <td>0.0</td>\n",
       "    </tr>\n",
       "    <tr>\n",
       "      <th>trgw_013_010</th>\n",
       "      <td>22174.676987</td>\n",
       "      <td>15128.878081</td>\n",
       "      <td>0.016332</td>\n",
       "      <td>7035.071039</td>\n",
       "      <td>0.0</td>\n",
       "    </tr>\n",
       "    <tr>\n",
       "      <th>trgw_015_016</th>\n",
       "      <td>20670.914831</td>\n",
       "      <td>14943.587205</td>\n",
       "      <td>0.016243</td>\n",
       "      <td>7024.146169</td>\n",
       "      <td>0.0</td>\n",
       "    </tr>\n",
       "    <tr>\n",
       "      <th>trgw_021_010</th>\n",
       "      <td>18492.376020</td>\n",
       "      <td>15644.405124</td>\n",
       "      <td>0.016286</td>\n",
       "      <td>7192.965566</td>\n",
       "      <td>0.0</td>\n",
       "    </tr>\n",
       "    <tr>\n",
       "      <th>trgw_022_015</th>\n",
       "      <td>18244.171392</td>\n",
       "      <td>16068.144023</td>\n",
       "      <td>0.016248</td>\n",
       "      <td>7187.697836</td>\n",
       "      <td>0.0</td>\n",
       "    </tr>\n",
       "    <tr>\n",
       "      <th>trgw_024_004</th>\n",
       "      <td>18385.701743</td>\n",
       "      <td>15117.610422</td>\n",
       "      <td>0.017920</td>\n",
       "      <td>7591.430579</td>\n",
       "      <td>0.0</td>\n",
       "    </tr>\n",
       "    <tr>\n",
       "      <th>trgw_026_006</th>\n",
       "      <td>18595.012674</td>\n",
       "      <td>15341.637858</td>\n",
       "      <td>0.016382</td>\n",
       "      <td>7131.273442</td>\n",
       "      <td>0.0</td>\n",
       "    </tr>\n",
       "    <tr>\n",
       "      <th>trgw_029_015</th>\n",
       "      <td>18218.821917</td>\n",
       "      <td>16015.001301</td>\n",
       "      <td>0.016254</td>\n",
       "      <td>7033.315206</td>\n",
       "      <td>0.0</td>\n",
       "    </tr>\n",
       "    <tr>\n",
       "      <th>trgw_033_007</th>\n",
       "      <td>18309.620660</td>\n",
       "      <td>15254.546715</td>\n",
       "      <td>0.016300</td>\n",
       "      <td>7169.776886</td>\n",
       "      <td>0.0</td>\n",
       "    </tr>\n",
       "    <tr>\n",
       "      <th>trgw_034_010</th>\n",
       "      <td>18390.518809</td>\n",
       "      <td>16188.648345</td>\n",
       "      <td>0.016257</td>\n",
       "      <td>7023.387360</td>\n",
       "      <td>0.0</td>\n",
       "    </tr>\n",
       "  </tbody>\n",
       "</table>\n",
       "</div>"
      ],
      "text/plain": [
       "              fa_hw_20171001  fa_tw_20171001  hds_00_013_002_021    part_time  \\\n",
       "base            17890.018498    14650.290571            0.016193  7014.140502   \n",
       "flaqx           17890.018498    14650.290571            0.016193  7014.140502   \n",
       "fo_gage_1       21847.666356    17229.098765            0.016646  7114.766694   \n",
       "fo_hw           17890.018498    14650.290571            0.016193  7014.140502   \n",
       "fo_tw           17890.018498    14650.290571            0.016193  7014.140502   \n",
       "hds             17890.018498    14650.290571            0.016193  7014.140502   \n",
       "obgnme          17890.018498    14650.290571            0.016193  7014.140502   \n",
       "trgw_002_009    18053.484194    14690.209789            0.016324  7113.858170   \n",
       "trgw_002_015    19724.698411    14770.421611            0.016239  7015.069852   \n",
       "trgw_003_008    18095.535493    14694.280981            0.016316  7134.239753   \n",
       "trgw_009_001    18144.173323    14896.999970            0.053423  9147.319380   \n",
       "trgw_013_010    22174.676987    15128.878081            0.016332  7035.071039   \n",
       "trgw_015_016    20670.914831    14943.587205            0.016243  7024.146169   \n",
       "trgw_021_010    18492.376020    15644.405124            0.016286  7192.965566   \n",
       "trgw_022_015    18244.171392    16068.144023            0.016248  7187.697836   \n",
       "trgw_024_004    18385.701743    15117.610422            0.017920  7591.430579   \n",
       "trgw_026_006    18595.012674    15341.637858            0.016382  7131.273442   \n",
       "trgw_029_015    18218.821917    16015.001301            0.016254  7033.315206   \n",
       "trgw_033_007    18309.620660    15254.546715            0.016300  7169.776886   \n",
       "trgw_034_010    18390.518809    16188.648345            0.016257  7023.387360   \n",
       "\n",
       "              part_status  \n",
       "base                  0.0  \n",
       "flaqx                 0.0  \n",
       "fo_gage_1             0.0  \n",
       "fo_hw                 0.0  \n",
       "fo_tw                 0.0  \n",
       "hds                   0.0  \n",
       "obgnme                0.0  \n",
       "trgw_002_009          0.0  \n",
       "trgw_002_015          0.0  \n",
       "trgw_003_008          0.0  \n",
       "trgw_009_001          0.0  \n",
       "trgw_013_010          0.0  \n",
       "trgw_015_016          0.0  \n",
       "trgw_021_010          0.0  \n",
       "trgw_022_015          0.0  \n",
       "trgw_024_004          0.0  \n",
       "trgw_026_006          0.0  \n",
       "trgw_029_015          0.0  \n",
       "trgw_033_007          0.0  \n",
       "trgw_034_010          0.0  "
      ]
     },
     "execution_count": 32,
     "metadata": {},
     "output_type": "execute_result"
    }
   ],
   "source": [
    "dw_rm = sc.get_removed_obs_group_importance()\n",
    "dw_rm"
   ]
  },
  {
   "cell_type": "markdown",
   "metadata": {},
   "source": [
    "Here the ``base`` row contains the results of the Schur complement calculation (in terms of forecast uncertainty variance) using all observations.  "
   ]
  },
  {
   "cell_type": "code",
   "execution_count": 33,
   "metadata": {
    "execution": {
     "iopub.execute_input": "2020-11-14T03:51:27.650289Z",
     "iopub.status.busy": "2020-11-14T03:51:27.649678Z",
     "iopub.status.idle": "2020-11-14T03:51:27.652052Z",
     "shell.execute_reply": "2020-11-14T03:51:27.652529Z"
    }
   },
   "outputs": [
    {
     "data": {
      "text/html": [
       "<div>\n",
       "<style scoped>\n",
       "    .dataframe tbody tr th:only-of-type {\n",
       "        vertical-align: middle;\n",
       "    }\n",
       "\n",
       "    .dataframe tbody tr th {\n",
       "        vertical-align: top;\n",
       "    }\n",
       "\n",
       "    .dataframe thead th {\n",
       "        text-align: right;\n",
       "    }\n",
       "</style>\n",
       "<table border=\"1\" class=\"dataframe\">\n",
       "  <thead>\n",
       "    <tr style=\"text-align: right;\">\n",
       "      <th></th>\n",
       "      <th>fa_hw_20171001</th>\n",
       "      <th>fa_tw_20171001</th>\n",
       "      <th>hds_00_013_002_021</th>\n",
       "      <th>part_time</th>\n",
       "      <th>part_status</th>\n",
       "    </tr>\n",
       "  </thead>\n",
       "  <tbody>\n",
       "    <tr>\n",
       "      <th>base</th>\n",
       "      <td>0.0000</td>\n",
       "      <td>0.000000e+00</td>\n",
       "      <td>0.000000e+00</td>\n",
       "      <td>0.000000e+00</td>\n",
       "      <td>NaN</td>\n",
       "    </tr>\n",
       "    <tr>\n",
       "      <th>flaqx</th>\n",
       "      <td>0.0000</td>\n",
       "      <td>-7.449638e-14</td>\n",
       "      <td>-4.285015e-14</td>\n",
       "      <td>-6.483294e-14</td>\n",
       "      <td>NaN</td>\n",
       "    </tr>\n",
       "    <tr>\n",
       "      <th>fo_gage_1</th>\n",
       "      <td>22.1221</td>\n",
       "      <td>1.760244e+01</td>\n",
       "      <td>2.795942e+00</td>\n",
       "      <td>1.434619e+00</td>\n",
       "      <td>NaN</td>\n",
       "    </tr>\n",
       "    <tr>\n",
       "      <th>fo_hw</th>\n",
       "      <td>0.0000</td>\n",
       "      <td>-7.449638e-14</td>\n",
       "      <td>-4.285015e-14</td>\n",
       "      <td>-6.483294e-14</td>\n",
       "      <td>NaN</td>\n",
       "    </tr>\n",
       "    <tr>\n",
       "      <th>fo_tw</th>\n",
       "      <td>0.0000</td>\n",
       "      <td>-7.449638e-14</td>\n",
       "      <td>-4.285015e-14</td>\n",
       "      <td>-6.483294e-14</td>\n",
       "      <td>NaN</td>\n",
       "    </tr>\n",
       "  </tbody>\n",
       "</table>\n",
       "</div>"
      ],
      "text/plain": [
       "           fa_hw_20171001  fa_tw_20171001  hds_00_013_002_021     part_time  \\\n",
       "base               0.0000    0.000000e+00        0.000000e+00  0.000000e+00   \n",
       "flaqx              0.0000   -7.449638e-14       -4.285015e-14 -6.483294e-14   \n",
       "fo_gage_1         22.1221    1.760244e+01        2.795942e+00  1.434619e+00   \n",
       "fo_hw              0.0000   -7.449638e-14       -4.285015e-14 -6.483294e-14   \n",
       "fo_tw              0.0000   -7.449638e-14       -4.285015e-14 -6.483294e-14   \n",
       "\n",
       "           part_status  \n",
       "base               NaN  \n",
       "flaqx              NaN  \n",
       "fo_gage_1          NaN  \n",
       "fo_hw              NaN  \n",
       "fo_tw              NaN  "
      ]
     },
     "execution_count": 33,
     "metadata": {},
     "output_type": "execute_result"
    }
   ],
   "source": [
    "# let's normalize to make more meaningful comparisons of data worth (unctainty variance reduction)\n",
    "base = dw_rm.loc[\"base\",:]\n",
    "dw_rm = 100 * (dw_rm  - base) / base\n",
    "dw_rm.head()"
   ]
  },
  {
   "cell_type": "code",
   "execution_count": 34,
   "metadata": {
    "execution": {
     "iopub.execute_input": "2020-11-14T03:51:27.668031Z",
     "iopub.status.busy": "2020-11-14T03:51:27.667416Z",
     "iopub.status.idle": "2020-11-14T03:51:28.194777Z",
     "shell.execute_reply": "2020-11-14T03:51:28.195204Z"
    }
   },
   "outputs": [
    {
     "data": {
      "image/png": "[encoded data removed]",
      "text/plain": [
       "<Figure size 432x288 with 1 Axes>"
      ]
     },
     "metadata": {
      "needs_background": "light"
     },
     "output_type": "display_data"
    },
    {
     "data": {
      "image/png": "[encoded data removed]",
      "text/plain": [
       "<Figure size 432x288 with 1 Axes>"
      ]
     },
     "metadata": {
      "needs_background": "light"
     },
     "output_type": "display_data"
    },
    {
     "data": {
      "image/png": "[encoded data removed]",
      "text/plain": [
       "<Figure size 432x288 with 1 Axes>"
      ]
     },
     "metadata": {
      "needs_background": "light"
     },
     "output_type": "display_data"
    },
    {
     "data": {
      "image/png": "[encoded data removed]",
      "text/plain": [
       "<Figure size 432x288 with 1 Axes>"
      ]
     },
     "metadata": {
      "needs_background": "light"
     },
     "output_type": "display_data"
    },
    {
     "data": {
      "image/png": "[encoded data removed]",
      "text/plain": [
       "<Figure size 432x288 with 1 Axes>"
      ]
     },
     "metadata": {
      "needs_background": "light"
     },
     "output_type": "display_data"
    }
   ],
   "source": [
    "for forecast in dw_rm.columns:\n",
    "    fore_df = dw_rm.loc[:,forecast].copy()\n",
    "    fore_df.sort_values(inplace=True, ascending=False)\n",
    "    ax = fore_df.iloc[:10].plot(kind=\"bar\",color=\"b\")\n",
    "    ax.set_title(forecast)\n",
    "    ax.set_ylabel(\"percent variance increase\")\n",
    "    plt.show()"
   ]
  },
  {
   "cell_type": "markdown",
   "metadata": {},
   "source": [
    "There is also an option to calculate the worth of observations by taking a \"base\" condition of zero observation (i.e., a priori) and calculating the reduction in uncertainty through adding observations to the dataset. "
   ]
  },
  {
   "cell_type": "code",
   "execution_count": 35,
   "metadata": {
    "execution": {
     "iopub.execute_input": "2020-11-14T03:51:28.202547Z",
     "iopub.status.busy": "2020-11-14T03:51:28.202136Z",
     "iopub.status.idle": "2020-11-14T03:51:29.713661Z",
     "shell.execute_reply": "2020-11-14T03:51:29.714090Z"
    }
   },
   "outputs": [
    {
     "data": {
      "image/png": "[encoded data removed]",
      "text/plain": [
       "<Figure size 432x288 with 1 Axes>"
      ]
     },
     "metadata": {
      "needs_background": "light"
     },
     "output_type": "display_data"
    },
    {
     "data": {
      "image/png": "[encoded data removed]",
      "text/plain": [
       "<Figure size 432x288 with 1 Axes>"
      ]
     },
     "metadata": {
      "needs_background": "light"
     },
     "output_type": "display_data"
    },
    {
     "data": {
      "image/png": "[encoded data removed]",
      "text/plain": [
       "<Figure size 432x288 with 1 Axes>"
      ]
     },
     "metadata": {
      "needs_background": "light"
     },
     "output_type": "display_data"
    },
    {
     "data": {
      "image/png": "[encoded data removed]",
      "text/plain": [
       "<Figure size 432x288 with 1 Axes>"
      ]
     },
     "metadata": {
      "needs_background": "light"
     },
     "output_type": "display_data"
    },
    {
     "data": {
      "image/png": "[encoded data removed]",
      "text/plain": [
       "<Figure size 432x288 with 1 Axes>"
      ]
     },
     "metadata": {
      "needs_background": "light"
     },
     "output_type": "display_data"
    }
   ],
   "source": [
    "dw_ad = sc.get_added_obs_group_importance()\n",
    "base = dw_ad.loc[\"base\",:]\n",
    "dw_ad = 100 * (base - dw_ad) / base\n",
    "for forecast in dw_ad.columns:\n",
    "    fore_df_ad = dw_ad.loc[:,forecast].copy()\n",
    "    fore_df_ad.sort_values(inplace=True, ascending=False)\n",
    "    ax = fore_df_ad.iloc[:20].plot(kind=\"bar\",color=\"b\")\n",
    "    ax.set_title(forecast)\n",
    "    ax.set_ylabel(\"percent variance decrease\")\n",
    "    plt.show()"
   ]
  },
  {
   "cell_type": "markdown",
   "metadata": {},
   "source": [
    "Do these two approaches give the same answer? They shouldn't.. Why? Let's discuss.."
   ]
  },
  {
   "cell_type": "markdown",
   "metadata": {},
   "source": [
    "### what is the worth of ${\\it potential}$ observations? what data should we collect?"
   ]
  },
  {
   "cell_type": "markdown",
   "metadata": {},
   "source": [
    "Recall we are \"carrying\" cell-by-cell heads, reach-based sfr flows, etc.."
   ]
  },
  {
   "cell_type": "code",
   "execution_count": 36,
   "metadata": {
    "execution": {
     "iopub.execute_input": "2020-11-14T03:51:29.726179Z",
     "iopub.status.busy": "2020-11-14T03:51:29.725684Z",
     "iopub.status.idle": "2020-11-14T03:51:29.728199Z",
     "shell.execute_reply": "2020-11-14T03:51:29.727680Z"
    }
   },
   "outputs": [
    {
     "data": {
      "text/plain": [
       "705"
      ]
     },
     "execution_count": 36,
     "metadata": {},
     "output_type": "execute_result"
    }
   ],
   "source": [
    "obs = sc.pst.observation_data\n",
    "potential_obs = obs.loc[obs.obsnme.apply(lambda x: x.startswith(\"hds_02\") and x.endswith(\"{0:03d}\".format(m.nper-1))),\"obsnme\"].tolist()\n",
    "nz_obs = set(pst.nnz_obs_names)\n",
    "potential_obs = [o for o in potential_obs if o not in nz_obs]  \n",
    "len(potential_obs)"
   ]
  },
  {
   "cell_type": "markdown",
   "metadata": {},
   "source": [
    "We can therefore repeat above analysis for the observations that currently have zero weight by turning those observations \"on\"."
   ]
  },
  {
   "cell_type": "markdown",
   "metadata": {},
   "source": [
    "#### Beware: calculating the Schur complement for all potential observation types and locations could take some time!! So we will sample to speed things up. You may need to further reduce the number of potential obs - you can do this by adding [0::2] to take every second element for example."
   ]
  },
  {
   "cell_type": "code",
   "execution_count": 37,
   "metadata": {
    "execution": {
     "iopub.execute_input": "2020-11-14T03:51:29.749493Z",
     "iopub.status.busy": "2020-11-14T03:51:29.749081Z",
     "iopub.status.idle": "2020-11-14T03:52:01.945108Z",
     "shell.execute_reply": "2020-11-14T03:52:01.945649Z"
    }
   },
   "outputs": [
    {
     "name": "stdout",
     "output_type": "stream",
     "text": [
      "took: 0:04:34.449724\n"
     ]
    }
   ],
   "source": [
    "from datetime import datetime\n",
    "start = datetime.now()\n",
    "df_worth_new = sc.get_added_obs_importance(obslist_dict=potential_obs, base_obslist=sc.pst.nnz_obs_names, reset_zero_weight=True)\n",
    "print(\"took:\",datetime.now() - start)"
   ]
  },
  {
   "cell_type": "code",
   "execution_count": 38,
   "metadata": {
    "execution": {
     "iopub.execute_input": "2020-11-14T03:52:01.952753Z",
     "iopub.status.busy": "2020-11-14T03:52:01.952169Z",
     "iopub.status.idle": "2020-11-14T03:52:01.954843Z",
     "shell.execute_reply": "2020-11-14T03:52:01.955336Z"
    }
   },
   "outputs": [
    {
     "data": {
      "text/html": [
       "<div>\n",
       "<style scoped>\n",
       "    .dataframe tbody tr th:only-of-type {\n",
       "        vertical-align: middle;\n",
       "    }\n",
       "\n",
       "    .dataframe tbody tr th {\n",
       "        vertical-align: top;\n",
       "    }\n",
       "\n",
       "    .dataframe thead th {\n",
       "        text-align: right;\n",
       "    }\n",
       "</style>\n",
       "<table border=\"1\" class=\"dataframe\">\n",
       "  <thead>\n",
       "    <tr style=\"text-align: right;\">\n",
       "      <th></th>\n",
       "      <th>fa_hw_20171001</th>\n",
       "      <th>fa_tw_20171001</th>\n",
       "      <th>hds_00_013_002_021</th>\n",
       "      <th>part_time</th>\n",
       "      <th>part_status</th>\n",
       "    </tr>\n",
       "  </thead>\n",
       "  <tbody>\n",
       "    <tr>\n",
       "      <th>base</th>\n",
       "      <td>17890.018498</td>\n",
       "      <td>14650.290571</td>\n",
       "      <td>0.016193</td>\n",
       "      <td>7014.140502</td>\n",
       "      <td>0.0</td>\n",
       "    </tr>\n",
       "    <tr>\n",
       "      <th>hds_02_000_000_024</th>\n",
       "      <td>17890.000389</td>\n",
       "      <td>14650.055695</td>\n",
       "      <td>0.016192</td>\n",
       "      <td>7013.311475</td>\n",
       "      <td>0.0</td>\n",
       "    </tr>\n",
       "    <tr>\n",
       "      <th>hds_02_000_001_024</th>\n",
       "      <td>17890.000983</td>\n",
       "      <td>14650.109220</td>\n",
       "      <td>0.016192</td>\n",
       "      <td>7013.253941</td>\n",
       "      <td>0.0</td>\n",
       "    </tr>\n",
       "    <tr>\n",
       "      <th>hds_02_000_002_024</th>\n",
       "      <td>17890.004764</td>\n",
       "      <td>14650.149393</td>\n",
       "      <td>0.016192</td>\n",
       "      <td>7013.167891</td>\n",
       "      <td>0.0</td>\n",
       "    </tr>\n",
       "    <tr>\n",
       "      <th>hds_02_000_003_024</th>\n",
       "      <td>17890.007082</td>\n",
       "      <td>14650.183456</td>\n",
       "      <td>0.016192</td>\n",
       "      <td>7013.101758</td>\n",
       "      <td>0.0</td>\n",
       "    </tr>\n",
       "  </tbody>\n",
       "</table>\n",
       "</div>"
      ],
      "text/plain": [
       "                    fa_hw_20171001  fa_tw_20171001  hds_00_013_002_021  \\\n",
       "base                  17890.018498    14650.290571            0.016193   \n",
       "hds_02_000_000_024    17890.000389    14650.055695            0.016192   \n",
       "hds_02_000_001_024    17890.000983    14650.109220            0.016192   \n",
       "hds_02_000_002_024    17890.004764    14650.149393            0.016192   \n",
       "hds_02_000_003_024    17890.007082    14650.183456            0.016192   \n",
       "\n",
       "                      part_time  part_status  \n",
       "base                7014.140502          0.0  \n",
       "hds_02_000_000_024  7013.311475          0.0  \n",
       "hds_02_000_001_024  7013.253941          0.0  \n",
       "hds_02_000_002_024  7013.167891          0.0  \n",
       "hds_02_000_003_024  7013.101758          0.0  "
      ]
     },
     "execution_count": 38,
     "metadata": {},
     "output_type": "execute_result"
    }
   ],
   "source": [
    "df_worth_new.head()"
   ]
  },
  {
   "cell_type": "markdown",
   "metadata": {},
   "source": [
    "### nice! now let's process a little bit and make some plots of (potential) data worth"
   ]
  },
  {
   "cell_type": "code",
   "execution_count": 39,
   "metadata": {
    "execution": {
     "iopub.execute_input": "2020-11-14T03:52:01.960359Z",
     "iopub.status.busy": "2020-11-14T03:52:01.959818Z",
     "iopub.status.idle": "2020-11-14T03:52:01.961908Z",
     "shell.execute_reply": "2020-11-14T03:52:01.962531Z"
    }
   },
   "outputs": [],
   "source": [
    "def worth_plot_prep(df):\n",
    "    # some processing\n",
    "    df_new_base = df.loc[\"base\",:].copy()  # \"base\" row\n",
    "    df_new_imax = df.apply(lambda x: df_new_base - x, axis=1).idxmax()  # obs with largest unc red for each pred\n",
    "    df_new_worth = 100.0 * (df.apply(lambda x: df_new_base - x, axis=1) / df_new_base)  # normalizing like above\n",
    "    \n",
    "    # plot prep\n",
    "    df_new_worth_plot = df_new_worth[df_new_worth.index != 'base'].copy()\n",
    "    df_new_worth_plot.loc[:,'names'] = df_new_worth_plot.index\n",
    "    names = df_new_worth_plot.names\n",
    "    df_new_worth_plot.loc[:,\"i\"] = names.apply(lambda x: int(x[8:10]))\n",
    "    df_new_worth_plot.loc[:,\"j\"] = names.apply(lambda x: int(x[11:14]))\n",
    "    df_new_worth_plot.loc[:,'kper'] = names.apply(lambda x: int(x[-3:]))\n",
    "    #df_new_worth_plot.head()\n",
    "    \n",
    "    return df_new_worth_plot, df_new_imax"
   ]
  },
  {
   "cell_type": "code",
   "execution_count": 40,
   "metadata": {
    "execution": {
     "iopub.execute_input": "2020-11-14T03:52:02.050947Z",
     "iopub.status.busy": "2020-11-14T03:52:02.013486Z",
     "iopub.status.idle": "2020-11-14T03:52:02.148769Z",
     "shell.execute_reply": "2020-11-14T03:52:02.149264Z"
    }
   },
   "outputs": [],
   "source": [
    "df_worth_new_plot, df_worth_new_imax = worth_plot_prep(df_worth_new)"
   ]
  },
  {
   "cell_type": "code",
   "execution_count": 41,
   "metadata": {
    "execution": {
     "iopub.execute_input": "2020-11-14T03:52:02.157503Z",
     "iopub.status.busy": "2020-11-14T03:52:02.156923Z",
     "iopub.status.idle": "2020-11-14T03:52:02.159822Z",
     "shell.execute_reply": "2020-11-14T03:52:02.159287Z"
    }
   },
   "outputs": [
    {
     "data": {
      "text/html": [
       "<div>\n",
       "<style scoped>\n",
       "    .dataframe tbody tr th:only-of-type {\n",
       "        vertical-align: middle;\n",
       "    }\n",
       "\n",
       "    .dataframe tbody tr th {\n",
       "        vertical-align: top;\n",
       "    }\n",
       "\n",
       "    .dataframe thead th {\n",
       "        text-align: right;\n",
       "    }\n",
       "</style>\n",
       "<table border=\"1\" class=\"dataframe\">\n",
       "  <thead>\n",
       "    <tr style=\"text-align: right;\">\n",
       "      <th></th>\n",
       "      <th>fa_hw_20171001</th>\n",
       "      <th>fa_tw_20171001</th>\n",
       "      <th>hds_00_013_002_021</th>\n",
       "      <th>part_time</th>\n",
       "      <th>part_status</th>\n",
       "      <th>names</th>\n",
       "      <th>i</th>\n",
       "      <th>j</th>\n",
       "      <th>kper</th>\n",
       "    </tr>\n",
       "  </thead>\n",
       "  <tbody>\n",
       "    <tr>\n",
       "      <th>hds_02_000_000_024</th>\n",
       "      <td>0.000101</td>\n",
       "      <td>0.001603</td>\n",
       "      <td>0.008043</td>\n",
       "      <td>0.011819</td>\n",
       "      <td>NaN</td>\n",
       "      <td>hds_02_000_000_024</td>\n",
       "      <td>0</td>\n",
       "      <td>0</td>\n",
       "      <td>24</td>\n",
       "    </tr>\n",
       "    <tr>\n",
       "      <th>hds_02_000_001_024</th>\n",
       "      <td>0.000098</td>\n",
       "      <td>0.001238</td>\n",
       "      <td>0.008868</td>\n",
       "      <td>0.012640</td>\n",
       "      <td>NaN</td>\n",
       "      <td>hds_02_000_001_024</td>\n",
       "      <td>0</td>\n",
       "      <td>1</td>\n",
       "      <td>24</td>\n",
       "    </tr>\n",
       "    <tr>\n",
       "      <th>hds_02_000_002_024</th>\n",
       "      <td>0.000077</td>\n",
       "      <td>0.000964</td>\n",
       "      <td>0.010203</td>\n",
       "      <td>0.013866</td>\n",
       "      <td>NaN</td>\n",
       "      <td>hds_02_000_002_024</td>\n",
       "      <td>0</td>\n",
       "      <td>2</td>\n",
       "      <td>24</td>\n",
       "    </tr>\n",
       "    <tr>\n",
       "      <th>hds_02_000_003_024</th>\n",
       "      <td>0.000064</td>\n",
       "      <td>0.000731</td>\n",
       "      <td>0.011422</td>\n",
       "      <td>0.014809</td>\n",
       "      <td>NaN</td>\n",
       "      <td>hds_02_000_003_024</td>\n",
       "      <td>0</td>\n",
       "      <td>3</td>\n",
       "      <td>24</td>\n",
       "    </tr>\n",
       "    <tr>\n",
       "      <th>hds_02_000_004_024</th>\n",
       "      <td>0.000044</td>\n",
       "      <td>0.000613</td>\n",
       "      <td>0.012535</td>\n",
       "      <td>0.015406</td>\n",
       "      <td>NaN</td>\n",
       "      <td>hds_02_000_004_024</td>\n",
       "      <td>0</td>\n",
       "      <td>4</td>\n",
       "      <td>24</td>\n",
       "    </tr>\n",
       "  </tbody>\n",
       "</table>\n",
       "</div>"
      ],
      "text/plain": [
       "                    fa_hw_20171001  fa_tw_20171001  hds_00_013_002_021  \\\n",
       "hds_02_000_000_024        0.000101        0.001603            0.008043   \n",
       "hds_02_000_001_024        0.000098        0.001238            0.008868   \n",
       "hds_02_000_002_024        0.000077        0.000964            0.010203   \n",
       "hds_02_000_003_024        0.000064        0.000731            0.011422   \n",
       "hds_02_000_004_024        0.000044        0.000613            0.012535   \n",
       "\n",
       "                    part_time  part_status               names  i  j  kper  \n",
       "hds_02_000_000_024   0.011819          NaN  hds_02_000_000_024  0  0    24  \n",
       "hds_02_000_001_024   0.012640          NaN  hds_02_000_001_024  0  1    24  \n",
       "hds_02_000_002_024   0.013866          NaN  hds_02_000_002_024  0  2    24  \n",
       "hds_02_000_003_024   0.014809          NaN  hds_02_000_003_024  0  3    24  \n",
       "hds_02_000_004_024   0.015406          NaN  hds_02_000_004_024  0  4    24  "
      ]
     },
     "execution_count": 41,
     "metadata": {},
     "output_type": "execute_result"
    }
   ],
   "source": [
    "df_worth_new_plot.head()"
   ]
  },
  {
   "cell_type": "code",
   "execution_count": 42,
   "metadata": {
    "execution": {
     "iopub.execute_input": "2020-11-14T03:52:02.163058Z",
     "iopub.status.busy": "2020-11-14T03:52:02.162542Z",
     "iopub.status.idle": "2020-11-14T03:52:02.164768Z",
     "shell.execute_reply": "2020-11-14T03:52:02.165305Z"
    }
   },
   "outputs": [
    {
     "data": {
      "text/plain": [
       "fa_hw_20171001        hds_02_009_016_024\n",
       "fa_tw_20171001        hds_02_009_016_024\n",
       "hds_00_013_002_021    hds_02_016_002_024\n",
       "part_time             hds_02_015_003_024\n",
       "part_status                         base\n",
       "dtype: object"
      ]
     },
     "execution_count": 42,
     "metadata": {},
     "output_type": "execute_result"
    }
   ],
   "source": [
    "df_worth_new_imax  # which obs causes largest unc var reduction?"
   ]
  },
  {
   "cell_type": "code",
   "execution_count": 43,
   "metadata": {
    "execution": {
     "iopub.execute_input": "2020-11-14T03:52:02.173867Z",
     "iopub.status.busy": "2020-11-14T03:52:02.173311Z",
     "iopub.status.idle": "2020-11-14T03:52:02.175640Z",
     "shell.execute_reply": "2020-11-14T03:52:02.176032Z"
    }
   },
   "outputs": [
    {
     "data": {
      "text/html": [
       "<div>\n",
       "<style scoped>\n",
       "    .dataframe tbody tr th:only-of-type {\n",
       "        vertical-align: middle;\n",
       "    }\n",
       "\n",
       "    .dataframe tbody tr th {\n",
       "        vertical-align: top;\n",
       "    }\n",
       "\n",
       "    .dataframe thead th {\n",
       "        text-align: right;\n",
       "    }\n",
       "</style>\n",
       "<table border=\"1\" class=\"dataframe\">\n",
       "  <thead>\n",
       "    <tr style=\"text-align: right;\">\n",
       "      <th></th>\n",
       "      <th>fa_hw_20171001</th>\n",
       "      <th>fa_tw_20171001</th>\n",
       "      <th>hds_00_013_002_021</th>\n",
       "      <th>part_time</th>\n",
       "      <th>names</th>\n",
       "      <th>i</th>\n",
       "      <th>j</th>\n",
       "      <th>kper</th>\n",
       "    </tr>\n",
       "  </thead>\n",
       "  <tbody>\n",
       "    <tr>\n",
       "      <th>hds_02_000_000_024</th>\n",
       "      <td>0.000101</td>\n",
       "      <td>0.001603</td>\n",
       "      <td>0.008043</td>\n",
       "      <td>0.011819</td>\n",
       "      <td>hds_02_000_000_024</td>\n",
       "      <td>0</td>\n",
       "      <td>0</td>\n",
       "      <td>24</td>\n",
       "    </tr>\n",
       "    <tr>\n",
       "      <th>hds_02_000_001_024</th>\n",
       "      <td>0.000098</td>\n",
       "      <td>0.001238</td>\n",
       "      <td>0.008868</td>\n",
       "      <td>0.012640</td>\n",
       "      <td>hds_02_000_001_024</td>\n",
       "      <td>0</td>\n",
       "      <td>1</td>\n",
       "      <td>24</td>\n",
       "    </tr>\n",
       "    <tr>\n",
       "      <th>hds_02_000_002_024</th>\n",
       "      <td>0.000077</td>\n",
       "      <td>0.000964</td>\n",
       "      <td>0.010203</td>\n",
       "      <td>0.013866</td>\n",
       "      <td>hds_02_000_002_024</td>\n",
       "      <td>0</td>\n",
       "      <td>2</td>\n",
       "      <td>24</td>\n",
       "    </tr>\n",
       "    <tr>\n",
       "      <th>hds_02_000_003_024</th>\n",
       "      <td>0.000064</td>\n",
       "      <td>0.000731</td>\n",
       "      <td>0.011422</td>\n",
       "      <td>0.014809</td>\n",
       "      <td>hds_02_000_003_024</td>\n",
       "      <td>0</td>\n",
       "      <td>3</td>\n",
       "      <td>24</td>\n",
       "    </tr>\n",
       "    <tr>\n",
       "      <th>hds_02_000_004_024</th>\n",
       "      <td>0.000044</td>\n",
       "      <td>0.000613</td>\n",
       "      <td>0.012535</td>\n",
       "      <td>0.015406</td>\n",
       "      <td>hds_02_000_004_024</td>\n",
       "      <td>0</td>\n",
       "      <td>4</td>\n",
       "      <td>24</td>\n",
       "    </tr>\n",
       "  </tbody>\n",
       "</table>\n",
       "</div>"
      ],
      "text/plain": [
       "                    fa_hw_20171001  fa_tw_20171001  hds_00_013_002_021  \\\n",
       "hds_02_000_000_024        0.000101        0.001603            0.008043   \n",
       "hds_02_000_001_024        0.000098        0.001238            0.008868   \n",
       "hds_02_000_002_024        0.000077        0.000964            0.010203   \n",
       "hds_02_000_003_024        0.000064        0.000731            0.011422   \n",
       "hds_02_000_004_024        0.000044        0.000613            0.012535   \n",
       "\n",
       "                    part_time               names  i  j  kper  \n",
       "hds_02_000_000_024   0.011819  hds_02_000_000_024  0  0    24  \n",
       "hds_02_000_001_024   0.012640  hds_02_000_001_024  0  1    24  \n",
       "hds_02_000_002_024   0.013866  hds_02_000_002_024  0  2    24  \n",
       "hds_02_000_003_024   0.014809  hds_02_000_003_024  0  3    24  \n",
       "hds_02_000_004_024   0.015406  hds_02_000_004_024  0  4    24  "
      ]
     },
     "execution_count": 43,
     "metadata": {},
     "output_type": "execute_result"
    }
   ],
   "source": [
    "df_worth_new_plot.drop(axis=1,labels=[\"part_status\"],inplace=True) # drop \"part_status\"\n",
    "df_worth_new_plot.head()"
   ]
  },
  {
   "cell_type": "markdown",
   "metadata": {},
   "source": [
    "### plotting"
   ]
  },
  {
   "cell_type": "code",
   "execution_count": 44,
   "metadata": {
    "execution": {
     "iopub.execute_input": "2020-11-14T03:52:02.185722Z",
     "iopub.status.busy": "2020-11-14T03:52:02.185238Z",
     "iopub.status.idle": "2020-11-14T03:52:02.187162Z",
     "shell.execute_reply": "2020-11-14T03:52:02.187500Z"
    }
   },
   "outputs": [],
   "source": [
    "def plot_added_importance(df_worth_plot, ml, forecast_name=None, \n",
    "                          newlox=None,):\n",
    "\n",
    "    vmax = df_worth_plot[forecast_name].max()\n",
    "    \n",
    "    fig, ax = plt.subplots(1,1,figsize=(8,8))\n",
    "    if newlox:\n",
    "        currx = []\n",
    "        curry = []\n",
    "        for i,clox in enumerate(newlox):\n",
    "            crow = int(clox[8:10])\n",
    "            ccol = int(clox[11:14])\n",
    "            currx.append(ml.sr.xcentergrid[crow,ccol])\n",
    "            curry.append(ml.sr.ycentergrid[crow,ccol])\n",
    "\n",
    "    sp = ml.nper - 1\n",
    "    unc_array = np.zeros_like(ml.upw.hk[0].array) - 1\n",
    "    df_worth_csp = df_worth_plot.groupby('kper').get_group(sp)\n",
    "    for i,j,unc in zip(df_worth_csp.i,df_worth_csp.j,\n",
    "                       df_worth_csp[forecast_name]):\n",
    "        unc_array[i,j] = unc \n",
    "    unc_array[unc_array == -1] = np.NaN\n",
    "    cb = ax.imshow(unc_array,interpolation=\"nearest\",\n",
    "                   alpha=0.5,extent=ml.sr.get_extent(), \n",
    "                   vmin=0, vmax=vmax)\n",
    "    \n",
    "    plt.colorbar(cb,label=\"percent uncertainty reduction\")\n",
    "\n",
    "    # plot sfr\n",
    "    sfr_data = ml.sfr.stress_period_data[0]\n",
    "    sfr_x = ml.sr.xcentergrid[sfr_data[\"i\"],sfr_data[\"j\"]]\n",
    "    sfr_y = ml.sr.ycentergrid[sfr_data[\"i\"],sfr_data[\"j\"]]\n",
    "    for (x,y) in zip(sfr_x,sfr_y):\n",
    "        ax.scatter([x],[y],marker=\"s\",color=\"g\",s=26)\n",
    "\n",
    "    # plot the pumping wells\n",
    "    wel_data = ml.wel.stress_period_data[0]\n",
    "    wel_x = ml.sr.xcentergrid[wel_data[\"i\"],wel_data[\"j\"]]\n",
    "    wel_y = ml.sr.ycentergrid[wel_data[\"i\"],wel_data[\"j\"]]\n",
    "    for w,(x,y) in enumerate(zip(wel_x,wel_y)):\n",
    "        ax.scatter([x],[y],marker=\"v\",color=\"m\",s=10)\n",
    "\n",
    "    if newlox:\n",
    "        for nl,(cx,cy,cobs) in enumerate(zip(currx, curry, newlox)):\n",
    "            #csp = int(cobs[-1])\n",
    "            #if csp == sp:\n",
    "            ax.plot(cx, cy, 'rd', mfc=None, ms=10, alpha=0.8)\n",
    "            ax.text(cx-50,cy-50, nl, size=10)\n",
    "\n",
    "    # plot the location of the forecast if possible\n",
    "    if forecast_name.startswith('hds'):\n",
    "        i = int(forecast_name[8:10])\n",
    "        j = int(forecast_name[11:14])\n",
    "        forecast_x = ml.sr.xcentergrid[i,j]\n",
    "        forecast_y = ml.sr.ycentergrid[i,j]\n",
    "        ax.scatter(forecast_x, forecast_y, marker='o', s=600, alpha=0.5)\n",
    "\n",
    "    ax.set_title(\"worth for {0}\\n at kper {1}\".format(forecast_name,sp), fontsize=13)\n",
    "    plt.tight_layout()\n",
    "    return fig"
   ]
  },
  {
   "cell_type": "code",
   "execution_count": 45,
   "metadata": {
    "execution": {
     "iopub.execute_input": "2020-11-14T03:52:02.190341Z",
     "iopub.status.busy": "2020-11-14T03:52:02.189857Z",
     "iopub.status.idle": "2020-11-14T03:52:02.192032Z",
     "shell.execute_reply": "2020-11-14T03:52:02.192525Z"
    }
   },
   "outputs": [
    {
     "data": {
      "text/plain": [
       "['fa_hw_20171001',\n",
       " 'fa_tw_20171001',\n",
       " 'hds_00_013_002_021',\n",
       " 'part_time',\n",
       " 'part_status']"
      ]
     },
     "execution_count": 45,
     "metadata": {},
     "output_type": "execute_result"
    }
   ],
   "source": [
    "sc.pst.forecast_names"
   ]
  },
  {
   "cell_type": "code",
   "execution_count": 46,
   "metadata": {
    "execution": {
     "iopub.execute_input": "2020-11-14T03:52:02.218150Z",
     "iopub.status.busy": "2020-11-14T03:52:02.208428Z",
     "iopub.status.idle": "2020-11-14T03:52:02.487328Z",
     "shell.execute_reply": "2020-11-14T03:52:02.487824Z"
    }
   },
   "outputs": [
    {
     "data": {
      "image/png": "[encoded data removed]",
      "text/plain": [
       "<Figure size 576x576 with 2 Axes>"
      ]
     },
     "metadata": {
      "needs_background": "light"
     },
     "output_type": "display_data"
    }
   ],
   "source": [
    "fig = plot_added_importance(df_worth_plot=df_worth_new_plot, ml=m,forecast_name=\"fa_tw_20171001\")"
   ]
  },
  {
   "cell_type": "code",
   "execution_count": 47,
   "metadata": {
    "execution": {
     "iopub.execute_input": "2020-11-14T03:52:02.499632Z",
     "iopub.status.busy": "2020-11-14T03:52:02.490536Z",
     "iopub.status.idle": "2020-11-14T03:52:03.703719Z",
     "shell.execute_reply": "2020-11-14T03:52:03.702934Z"
    },
    "scrolled": true
   },
   "outputs": [
    {
     "data": {
      "image/png": "[encoded data removed]",
      "text/plain": [
       "<Figure size 576x576 with 2 Axes>"
      ]
     },
     "metadata": {
      "needs_background": "light"
     },
     "output_type": "display_data"
    },
    {
     "data": {
      "image/png": "[encoded data removed]",
      "text/plain": [
       "<Figure size 576x576 with 2 Axes>"
      ]
     },
     "metadata": {
      "needs_background": "light"
     },
     "output_type": "display_data"
    },
    {
     "data": {
      "image/png": "[encoded data removed]",
      "text/plain": [
       "<Figure size 576x576 with 2 Axes>"
      ]
     },
     "metadata": {
      "needs_background": "light"
     },
     "output_type": "display_data"
    },
    {
     "data": {
      "image/png": "[encoded data removed]",
      "text/plain": [
       "<Figure size 576x576 with 2 Axes>"
      ]
     },
     "metadata": {
      "needs_background": "light"
     },
     "output_type": "display_data"
    }
   ],
   "source": [
    "for i in [x for x in forecasts if \"part_status\" not in x]:\n",
    "    fig = plot_added_importance(df_worth_plot=df_worth_new_plot, ml=m, \n",
    "                                forecast_name=i)\n",
    "    #fig.savefig('add_worth_{}.pdf'.format(i))"
   ]
  },
  {
   "cell_type": "markdown",
   "metadata": {},
   "source": [
    "## the \"next best\" observation"
   ]
  },
  {
   "cell_type": "markdown",
   "metadata": {},
   "source": [
    "This is what we would ultimately like to know... Takes into account what we already know through incrementally making additional observations. For example, consider making an observation in the middle of the zone of highest worth. Where should we subsequently collect data? \n",
    "\n",
    "Let's just use the same potential observation list for now (the head in every top-layer cell) and evaluate which ones to collect, if we only had the budget for 5, in the context of the particle travel time prediction."
   ]
  },
  {
   "cell_type": "code",
   "execution_count": 48,
   "metadata": {
    "execution": {
     "iopub.execute_input": "2020-11-14T03:52:03.707286Z",
     "iopub.status.busy": "2020-11-14T03:52:03.706752Z",
     "iopub.status.idle": "2020-11-14T03:52:03.708984Z",
     "shell.execute_reply": "2020-11-14T03:52:03.709490Z"
    }
   },
   "outputs": [
    {
     "data": {
      "text/plain": [
       "array(['flaqx', 'obgnme', 'fo_gage_1', 'fo_hw', 'fo_tw', 'hds',\n",
       "       'trgw_002_015', 'trgw_002_009', 'trgw_003_008', 'trgw_009_001',\n",
       "       'trgw_013_010', 'trgw_015_016', 'trgw_021_010', 'trgw_022_015',\n",
       "       'trgw_024_004', 'trgw_026_006', 'trgw_029_015', 'trgw_033_007',\n",
       "       'trgw_034_010'], dtype=object)"
      ]
     },
     "execution_count": 48,
     "metadata": {},
     "output_type": "execute_result"
    }
   ],
   "source": [
    "obs.obgnme.unique()"
   ]
  },
  {
   "cell_type": "code",
   "execution_count": 49,
   "metadata": {
    "execution": {
     "iopub.execute_input": "2020-11-14T03:52:03.727731Z",
     "iopub.status.busy": "2020-11-14T03:52:03.727216Z",
     "iopub.status.idle": "2020-11-14T03:52:03.729854Z",
     "shell.execute_reply": "2020-11-14T03:52:03.730350Z"
    }
   },
   "outputs": [
    {
     "data": {
      "text/plain": [
       "['hds_00_000_000_024',\n",
       " 'hds_00_000_001_024',\n",
       " 'hds_00_000_002_024',\n",
       " 'hds_00_000_003_024',\n",
       " 'hds_00_000_004_024',\n",
       " 'hds_00_000_005_024',\n",
       " 'hds_00_000_006_024',\n",
       " 'hds_00_000_007_024',\n",
       " 'hds_00_000_008_024',\n",
       " 'hds_00_000_009_024',\n",
       " 'hds_00_000_010_024',\n",
       " 'hds_00_000_011_024',\n",
       " 'hds_00_000_012_024',\n",
       " 'hds_00_000_013_024',\n",
       " 'hds_00_000_014_024',\n",
       " 'hds_00_000_015_024',\n",
       " 'hds_00_000_016_024',\n",
       " 'hds_00_000_017_024',\n",
       " 'hds_00_000_018_024',\n",
       " 'hds_00_000_019_024',\n",
       " 'hds_00_001_000_024',\n",
       " 'hds_00_001_001_024',\n",
       " 'hds_00_001_002_024',\n",
       " 'hds_00_001_003_024',\n",
       " 'hds_00_001_004_024',\n",
       " 'hds_00_001_005_024',\n",
       " 'hds_00_001_006_024',\n",
       " 'hds_00_001_007_024',\n",
       " 'hds_00_001_008_024',\n",
       " 'hds_00_001_009_024',\n",
       " 'hds_00_001_010_024',\n",
       " 'hds_00_001_011_024',\n",
       " 'hds_00_001_012_024',\n",
       " 'hds_00_001_013_024',\n",
       " 'hds_00_001_014_024',\n",
       " 'hds_00_001_015_024',\n",
       " 'hds_00_001_016_024',\n",
       " 'hds_00_001_017_024',\n",
       " 'hds_00_001_018_024',\n",
       " 'hds_00_001_019_024',\n",
       " 'hds_00_002_000_024',\n",
       " 'hds_00_002_001_024',\n",
       " 'hds_00_002_002_024',\n",
       " 'hds_00_002_003_024',\n",
       " 'hds_00_002_004_024',\n",
       " 'hds_00_002_005_024',\n",
       " 'hds_00_002_006_024',\n",
       " 'hds_00_002_007_024',\n",
       " 'hds_00_002_008_024',\n",
       " 'hds_00_002_009_024',\n",
       " 'hds_00_002_010_024',\n",
       " 'hds_00_002_011_024',\n",
       " 'hds_00_002_012_024',\n",
       " 'hds_00_002_013_024',\n",
       " 'hds_00_002_014_024',\n",
       " 'hds_00_002_015_024',\n",
       " 'hds_00_002_016_024',\n",
       " 'hds_00_002_017_024',\n",
       " 'hds_00_002_018_024',\n",
       " 'hds_00_002_019_024',\n",
       " 'hds_00_003_000_024',\n",
       " 'hds_00_003_001_024',\n",
       " 'hds_00_003_002_024',\n",
       " 'hds_00_003_003_024',\n",
       " 'hds_00_003_004_024',\n",
       " 'hds_00_003_005_024',\n",
       " 'hds_00_003_006_024',\n",
       " 'hds_00_003_007_024',\n",
       " 'hds_00_003_008_024',\n",
       " 'hds_00_003_009_024',\n",
       " 'hds_00_003_010_024',\n",
       " 'hds_00_003_011_024',\n",
       " 'hds_00_003_012_024',\n",
       " 'hds_00_003_013_024',\n",
       " 'hds_00_003_014_024',\n",
       " 'hds_00_003_015_024',\n",
       " 'hds_00_003_016_024',\n",
       " 'hds_00_003_017_024',\n",
       " 'hds_00_003_018_024',\n",
       " 'hds_00_003_019_024',\n",
       " 'hds_00_004_000_024',\n",
       " 'hds_00_004_001_024',\n",
       " 'hds_00_004_002_024',\n",
       " 'hds_00_004_003_024',\n",
       " 'hds_00_004_004_024',\n",
       " 'hds_00_004_005_024',\n",
       " 'hds_00_004_006_024',\n",
       " 'hds_00_004_007_024',\n",
       " 'hds_00_004_008_024',\n",
       " 'hds_00_004_009_024',\n",
       " 'hds_00_004_010_024',\n",
       " 'hds_00_004_011_024',\n",
       " 'hds_00_004_012_024',\n",
       " 'hds_00_004_013_024',\n",
       " 'hds_00_004_014_024',\n",
       " 'hds_00_004_015_024',\n",
       " 'hds_00_004_016_024',\n",
       " 'hds_00_004_017_024',\n",
       " 'hds_00_004_018_024',\n",
       " 'hds_00_004_019_024',\n",
       " 'hds_00_005_000_024',\n",
       " 'hds_00_005_001_024',\n",
       " 'hds_00_005_002_024',\n",
       " 'hds_00_005_003_024',\n",
       " 'hds_00_005_004_024',\n",
       " 'hds_00_005_005_024',\n",
       " 'hds_00_005_006_024',\n",
       " 'hds_00_005_007_024',\n",
       " 'hds_00_005_008_024',\n",
       " 'hds_00_005_009_024',\n",
       " 'hds_00_005_010_024',\n",
       " 'hds_00_005_011_024',\n",
       " 'hds_00_005_012_024',\n",
       " 'hds_00_005_013_024',\n",
       " 'hds_00_005_014_024',\n",
       " 'hds_00_005_015_024',\n",
       " 'hds_00_005_016_024',\n",
       " 'hds_00_005_017_024',\n",
       " 'hds_00_005_018_024',\n",
       " 'hds_00_005_019_024',\n",
       " 'hds_00_006_000_024',\n",
       " 'hds_00_006_001_024',\n",
       " 'hds_00_006_002_024',\n",
       " 'hds_00_006_003_024',\n",
       " 'hds_00_006_004_024',\n",
       " 'hds_00_006_005_024',\n",
       " 'hds_00_006_006_024',\n",
       " 'hds_00_006_007_024',\n",
       " 'hds_00_006_008_024',\n",
       " 'hds_00_006_009_024',\n",
       " 'hds_00_006_010_024',\n",
       " 'hds_00_006_011_024',\n",
       " 'hds_00_006_012_024',\n",
       " 'hds_00_006_013_024',\n",
       " 'hds_00_006_014_024',\n",
       " 'hds_00_006_015_024',\n",
       " 'hds_00_006_016_024',\n",
       " 'hds_00_006_017_024',\n",
       " 'hds_00_006_018_024',\n",
       " 'hds_00_006_019_024',\n",
       " 'hds_00_007_000_024',\n",
       " 'hds_00_007_001_024',\n",
       " 'hds_00_007_002_024',\n",
       " 'hds_00_007_003_024',\n",
       " 'hds_00_007_004_024',\n",
       " 'hds_00_007_005_024',\n",
       " 'hds_00_007_006_024',\n",
       " 'hds_00_007_007_024',\n",
       " 'hds_00_007_008_024',\n",
       " 'hds_00_007_009_024',\n",
       " 'hds_00_007_010_024',\n",
       " 'hds_00_007_011_024',\n",
       " 'hds_00_007_012_024',\n",
       " 'hds_00_007_013_024',\n",
       " 'hds_00_007_014_024',\n",
       " 'hds_00_007_015_024',\n",
       " 'hds_00_007_016_024',\n",
       " 'hds_00_007_017_024',\n",
       " 'hds_00_007_018_024',\n",
       " 'hds_00_007_019_024',\n",
       " 'hds_00_008_000_024',\n",
       " 'hds_00_008_001_024',\n",
       " 'hds_00_008_002_024',\n",
       " 'hds_00_008_003_024',\n",
       " 'hds_00_008_007_024',\n",
       " 'hds_00_008_008_024',\n",
       " 'hds_00_008_009_024',\n",
       " 'hds_00_008_010_024',\n",
       " 'hds_00_008_011_024',\n",
       " 'hds_00_008_012_024',\n",
       " 'hds_00_008_013_024',\n",
       " 'hds_00_008_014_024',\n",
       " 'hds_00_008_015_024',\n",
       " 'hds_00_008_016_024',\n",
       " 'hds_00_008_017_024',\n",
       " 'hds_00_008_018_024',\n",
       " 'hds_00_008_019_024',\n",
       " 'hds_00_009_000_024',\n",
       " 'hds_00_009_001_024',\n",
       " 'hds_00_009_002_024',\n",
       " 'hds_00_009_003_024',\n",
       " 'hds_00_009_008_024',\n",
       " 'hds_00_009_009_024',\n",
       " 'hds_00_009_010_024',\n",
       " 'hds_00_009_011_024',\n",
       " 'hds_00_009_012_024',\n",
       " 'hds_00_009_013_024',\n",
       " 'hds_00_009_014_024',\n",
       " 'hds_00_009_015_024',\n",
       " 'hds_00_009_016_024',\n",
       " 'hds_00_009_017_024',\n",
       " 'hds_00_009_018_024',\n",
       " 'hds_00_009_019_024',\n",
       " 'hds_00_010_000_024',\n",
       " 'hds_00_010_001_024',\n",
       " 'hds_00_010_002_024',\n",
       " 'hds_00_010_003_024',\n",
       " 'hds_00_010_008_024',\n",
       " 'hds_00_010_009_024',\n",
       " 'hds_00_010_010_024',\n",
       " 'hds_00_010_011_024',\n",
       " 'hds_00_010_012_024',\n",
       " 'hds_00_010_013_024',\n",
       " 'hds_00_010_014_024',\n",
       " 'hds_00_010_015_024',\n",
       " 'hds_00_010_016_024',\n",
       " 'hds_00_010_017_024',\n",
       " 'hds_00_010_018_024',\n",
       " 'hds_00_010_019_024',\n",
       " 'hds_00_011_000_024',\n",
       " 'hds_00_011_001_024',\n",
       " 'hds_00_011_002_024',\n",
       " 'hds_00_011_003_024',\n",
       " 'hds_00_011_008_024',\n",
       " 'hds_00_011_009_024',\n",
       " 'hds_00_011_010_024',\n",
       " 'hds_00_011_011_024',\n",
       " 'hds_00_011_012_024',\n",
       " 'hds_00_011_013_024',\n",
       " 'hds_00_011_014_024',\n",
       " 'hds_00_011_015_024',\n",
       " 'hds_00_011_016_024',\n",
       " 'hds_00_011_017_024',\n",
       " 'hds_00_011_018_024',\n",
       " 'hds_00_011_019_024',\n",
       " 'hds_00_012_000_024',\n",
       " 'hds_00_012_001_024',\n",
       " 'hds_00_012_002_024',\n",
       " 'hds_00_012_003_024',\n",
       " 'hds_00_012_008_024',\n",
       " 'hds_00_012_009_024',\n",
       " 'hds_00_012_010_024',\n",
       " 'hds_00_012_011_024',\n",
       " 'hds_00_012_012_024',\n",
       " 'hds_00_012_013_024',\n",
       " 'hds_00_012_014_024',\n",
       " 'hds_00_012_015_024',\n",
       " 'hds_00_012_016_024',\n",
       " 'hds_00_012_017_024',\n",
       " 'hds_00_012_018_024',\n",
       " 'hds_00_012_019_024',\n",
       " 'hds_00_013_000_024',\n",
       " 'hds_00_013_001_024',\n",
       " 'hds_00_013_002_024',\n",
       " 'hds_00_013_003_024',\n",
       " 'hds_00_013_008_024',\n",
       " 'hds_00_013_009_024',\n",
       " 'hds_00_013_010_024',\n",
       " 'hds_00_013_011_024',\n",
       " 'hds_00_013_012_024',\n",
       " 'hds_00_013_013_024',\n",
       " 'hds_00_013_014_024',\n",
       " 'hds_00_013_015_024',\n",
       " 'hds_00_013_016_024',\n",
       " 'hds_00_013_017_024',\n",
       " 'hds_00_013_018_024',\n",
       " 'hds_00_013_019_024',\n",
       " 'hds_00_014_000_024',\n",
       " 'hds_00_014_001_024',\n",
       " 'hds_00_014_002_024',\n",
       " 'hds_00_014_003_024',\n",
       " 'hds_00_014_008_024',\n",
       " 'hds_00_014_009_024',\n",
       " 'hds_00_014_010_024',\n",
       " 'hds_00_014_011_024',\n",
       " 'hds_00_014_012_024',\n",
       " 'hds_00_014_013_024',\n",
       " 'hds_00_014_014_024',\n",
       " 'hds_00_014_015_024',\n",
       " 'hds_00_014_016_024',\n",
       " 'hds_00_014_017_024',\n",
       " 'hds_00_014_018_024',\n",
       " 'hds_00_014_019_024',\n",
       " 'hds_00_015_000_024',\n",
       " 'hds_00_015_001_024',\n",
       " 'hds_00_015_002_024',\n",
       " 'hds_00_015_003_024',\n",
       " 'hds_00_015_008_024',\n",
       " 'hds_00_015_009_024',\n",
       " 'hds_00_015_010_024',\n",
       " 'hds_00_015_011_024',\n",
       " 'hds_00_015_012_024',\n",
       " 'hds_00_015_013_024',\n",
       " 'hds_00_015_014_024',\n",
       " 'hds_00_015_015_024',\n",
       " 'hds_00_015_016_024',\n",
       " 'hds_00_015_017_024',\n",
       " 'hds_00_015_018_024',\n",
       " 'hds_00_015_019_024',\n",
       " 'hds_00_016_000_024',\n",
       " 'hds_00_016_001_024',\n",
       " 'hds_00_016_002_024',\n",
       " 'hds_00_016_003_024',\n",
       " 'hds_00_016_008_024',\n",
       " 'hds_00_016_009_024',\n",
       " 'hds_00_016_010_024',\n",
       " 'hds_00_016_011_024',\n",
       " 'hds_00_016_012_024',\n",
       " 'hds_00_016_013_024',\n",
       " 'hds_00_016_014_024',\n",
       " 'hds_00_016_015_024',\n",
       " 'hds_00_016_016_024',\n",
       " 'hds_00_016_017_024',\n",
       " 'hds_00_016_018_024',\n",
       " 'hds_00_016_019_024',\n",
       " 'hds_00_017_000_024',\n",
       " 'hds_00_017_001_024',\n",
       " 'hds_00_017_002_024',\n",
       " 'hds_00_017_003_024',\n",
       " 'hds_00_017_008_024',\n",
       " 'hds_00_017_009_024',\n",
       " 'hds_00_017_010_024',\n",
       " 'hds_00_017_011_024',\n",
       " 'hds_00_017_012_024',\n",
       " 'hds_00_017_013_024',\n",
       " 'hds_00_017_014_024',\n",
       " 'hds_00_017_015_024',\n",
       " 'hds_00_017_016_024',\n",
       " 'hds_00_017_017_024',\n",
       " 'hds_00_017_018_024',\n",
       " 'hds_00_017_019_024',\n",
       " 'hds_00_018_000_024',\n",
       " 'hds_00_018_001_024',\n",
       " 'hds_00_018_002_024',\n",
       " 'hds_00_018_003_024',\n",
       " 'hds_00_018_008_024',\n",
       " 'hds_00_018_009_024',\n",
       " 'hds_00_018_010_024',\n",
       " 'hds_00_018_011_024',\n",
       " 'hds_00_018_012_024',\n",
       " 'hds_00_018_013_024',\n",
       " 'hds_00_018_014_024',\n",
       " 'hds_00_018_015_024',\n",
       " 'hds_00_018_016_024',\n",
       " 'hds_00_018_017_024',\n",
       " 'hds_00_018_018_024',\n",
       " 'hds_00_018_019_024',\n",
       " 'hds_00_019_000_024',\n",
       " 'hds_00_019_001_024',\n",
       " 'hds_00_019_002_024',\n",
       " 'hds_00_019_003_024',\n",
       " 'hds_00_019_008_024',\n",
       " 'hds_00_019_009_024',\n",
       " 'hds_00_019_010_024',\n",
       " 'hds_00_019_011_024',\n",
       " 'hds_00_019_012_024',\n",
       " 'hds_00_019_013_024',\n",
       " 'hds_00_019_014_024',\n",
       " 'hds_00_019_015_024',\n",
       " 'hds_00_019_016_024',\n",
       " 'hds_00_019_017_024',\n",
       " 'hds_00_019_018_024',\n",
       " 'hds_00_019_019_024',\n",
       " 'hds_00_020_000_024',\n",
       " 'hds_00_020_001_024',\n",
       " 'hds_00_020_002_024',\n",
       " 'hds_00_020_003_024',\n",
       " 'hds_00_020_008_024',\n",
       " 'hds_00_020_009_024',\n",
       " 'hds_00_020_010_024',\n",
       " 'hds_00_020_011_024',\n",
       " 'hds_00_020_012_024',\n",
       " 'hds_00_020_013_024',\n",
       " 'hds_00_020_014_024',\n",
       " 'hds_00_020_015_024',\n",
       " 'hds_00_020_016_024',\n",
       " 'hds_00_020_017_024',\n",
       " 'hds_00_020_018_024',\n",
       " 'hds_00_020_019_024',\n",
       " 'hds_00_021_000_024',\n",
       " 'hds_00_021_001_024',\n",
       " 'hds_00_021_002_024',\n",
       " 'hds_00_021_003_024',\n",
       " 'hds_00_021_006_024',\n",
       " 'hds_00_021_007_024',\n",
       " 'hds_00_021_008_024',\n",
       " 'hds_00_021_009_024',\n",
       " 'hds_00_021_010_024',\n",
       " 'hds_00_021_011_024',\n",
       " 'hds_00_021_012_024',\n",
       " 'hds_00_021_013_024',\n",
       " 'hds_00_021_014_024',\n",
       " 'hds_00_021_015_024',\n",
       " 'hds_00_021_016_024',\n",
       " 'hds_00_021_017_024',\n",
       " 'hds_00_021_018_024',\n",
       " 'hds_00_021_019_024',\n",
       " 'hds_00_022_000_024',\n",
       " 'hds_00_022_001_024',\n",
       " 'hds_00_022_002_024',\n",
       " 'hds_00_022_003_024',\n",
       " 'hds_00_022_004_024',\n",
       " 'hds_00_022_006_024',\n",
       " 'hds_00_022_007_024',\n",
       " 'hds_00_022_008_024',\n",
       " 'hds_00_022_009_024',\n",
       " 'hds_00_022_010_024',\n",
       " 'hds_00_022_011_024',\n",
       " 'hds_00_022_012_024',\n",
       " 'hds_00_022_013_024',\n",
       " 'hds_00_022_014_024',\n",
       " 'hds_00_022_015_024',\n",
       " 'hds_00_022_016_024',\n",
       " 'hds_00_022_017_024',\n",
       " 'hds_00_022_018_024',\n",
       " 'hds_00_022_019_024',\n",
       " 'hds_00_023_000_024',\n",
       " 'hds_00_023_001_024',\n",
       " 'hds_00_023_002_024',\n",
       " 'hds_00_023_003_024',\n",
       " 'hds_00_023_004_024',\n",
       " 'hds_00_023_005_024',\n",
       " 'hds_00_023_006_024',\n",
       " 'hds_00_023_007_024',\n",
       " 'hds_00_023_008_024',\n",
       " 'hds_00_023_009_024',\n",
       " 'hds_00_023_010_024',\n",
       " 'hds_00_023_011_024',\n",
       " 'hds_00_023_012_024',\n",
       " 'hds_00_023_013_024',\n",
       " 'hds_00_023_014_024',\n",
       " 'hds_00_023_015_024',\n",
       " 'hds_00_023_016_024',\n",
       " 'hds_00_023_017_024',\n",
       " 'hds_00_023_018_024',\n",
       " 'hds_00_023_019_024',\n",
       " 'hds_00_024_000_024',\n",
       " 'hds_00_024_001_024',\n",
       " 'hds_00_024_002_024',\n",
       " 'hds_00_024_003_024',\n",
       " 'hds_00_024_004_024',\n",
       " 'hds_00_024_005_024',\n",
       " 'hds_00_024_006_024',\n",
       " 'hds_00_024_007_024',\n",
       " 'hds_00_024_008_024',\n",
       " 'hds_00_024_009_024',\n",
       " 'hds_00_024_010_024',\n",
       " 'hds_00_024_011_024',\n",
       " 'hds_00_024_012_024',\n",
       " 'hds_00_024_013_024',\n",
       " 'hds_00_024_014_024',\n",
       " 'hds_00_024_015_024',\n",
       " 'hds_00_024_016_024',\n",
       " 'hds_00_024_017_024',\n",
       " 'hds_00_024_018_024',\n",
       " 'hds_00_024_019_024',\n",
       " 'hds_00_025_000_024',\n",
       " 'hds_00_025_001_024',\n",
       " 'hds_00_025_002_024',\n",
       " 'hds_00_025_003_024',\n",
       " 'hds_00_025_004_024',\n",
       " 'hds_00_025_005_024',\n",
       " 'hds_00_025_006_024',\n",
       " 'hds_00_025_007_024',\n",
       " 'hds_00_025_008_024',\n",
       " 'hds_00_025_009_024',\n",
       " 'hds_00_025_010_024',\n",
       " 'hds_00_025_011_024',\n",
       " 'hds_00_025_012_024',\n",
       " 'hds_00_025_013_024',\n",
       " 'hds_00_025_014_024',\n",
       " 'hds_00_025_015_024',\n",
       " 'hds_00_025_016_024',\n",
       " 'hds_00_025_017_024',\n",
       " 'hds_00_025_018_024',\n",
       " 'hds_00_025_019_024',\n",
       " 'hds_00_026_000_024',\n",
       " 'hds_00_026_001_024',\n",
       " 'hds_00_026_002_024',\n",
       " 'hds_00_026_003_024',\n",
       " 'hds_00_026_004_024',\n",
       " 'hds_00_026_005_024',\n",
       " 'hds_00_026_006_024',\n",
       " 'hds_00_026_007_024',\n",
       " 'hds_00_026_008_024',\n",
       " 'hds_00_026_009_024',\n",
       " 'hds_00_026_010_024',\n",
       " 'hds_00_026_011_024',\n",
       " 'hds_00_026_012_024',\n",
       " 'hds_00_026_013_024',\n",
       " 'hds_00_026_014_024',\n",
       " 'hds_00_026_015_024',\n",
       " 'hds_00_026_016_024',\n",
       " 'hds_00_026_017_024',\n",
       " 'hds_00_026_018_024',\n",
       " 'hds_00_026_019_024',\n",
       " 'hds_00_027_000_024',\n",
       " 'hds_00_027_001_024',\n",
       " 'hds_00_027_002_024',\n",
       " 'hds_00_027_003_024',\n",
       " 'hds_00_027_004_024',\n",
       " 'hds_00_027_005_024',\n",
       " 'hds_00_027_006_024',\n",
       " 'hds_00_027_007_024',\n",
       " 'hds_00_027_008_024',\n",
       " 'hds_00_027_009_024',\n",
       " 'hds_00_027_010_024',\n",
       " 'hds_00_027_011_024',\n",
       " 'hds_00_027_012_024',\n",
       " 'hds_00_027_013_024',\n",
       " 'hds_00_027_014_024',\n",
       " 'hds_00_027_015_024',\n",
       " 'hds_00_027_016_024',\n",
       " 'hds_00_027_017_024',\n",
       " 'hds_00_027_018_024',\n",
       " 'hds_00_027_019_024',\n",
       " 'hds_00_028_000_024',\n",
       " 'hds_00_028_001_024',\n",
       " 'hds_00_028_002_024',\n",
       " 'hds_00_028_003_024',\n",
       " 'hds_00_028_004_024',\n",
       " 'hds_00_028_005_024',\n",
       " 'hds_00_028_006_024',\n",
       " 'hds_00_028_007_024',\n",
       " 'hds_00_028_008_024',\n",
       " 'hds_00_028_009_024',\n",
       " 'hds_00_028_010_024',\n",
       " 'hds_00_028_011_024',\n",
       " 'hds_00_028_012_024',\n",
       " 'hds_00_028_013_024',\n",
       " 'hds_00_028_014_024',\n",
       " 'hds_00_028_015_024',\n",
       " 'hds_00_028_016_024',\n",
       " 'hds_00_028_017_024',\n",
       " 'hds_00_028_018_024',\n",
       " 'hds_00_028_019_024',\n",
       " 'hds_00_029_000_024',\n",
       " 'hds_00_029_001_024',\n",
       " 'hds_00_029_002_024',\n",
       " 'hds_00_029_003_024',\n",
       " 'hds_00_029_004_024',\n",
       " 'hds_00_029_005_024',\n",
       " 'hds_00_029_006_024',\n",
       " 'hds_00_029_007_024',\n",
       " 'hds_00_029_008_024',\n",
       " 'hds_00_029_009_024',\n",
       " 'hds_00_029_010_024',\n",
       " 'hds_00_029_011_024',\n",
       " 'hds_00_029_012_024',\n",
       " 'hds_00_029_013_024',\n",
       " 'hds_00_029_014_024',\n",
       " 'hds_00_029_015_024',\n",
       " 'hds_00_029_016_024',\n",
       " 'hds_00_029_017_024',\n",
       " 'hds_00_029_018_024',\n",
       " 'hds_00_029_019_024',\n",
       " 'hds_00_030_000_024',\n",
       " 'hds_00_030_001_024',\n",
       " 'hds_00_030_002_024',\n",
       " 'hds_00_030_003_024',\n",
       " 'hds_00_030_004_024',\n",
       " 'hds_00_030_005_024',\n",
       " 'hds_00_030_006_024',\n",
       " 'hds_00_030_007_024',\n",
       " 'hds_00_030_008_024',\n",
       " 'hds_00_030_009_024',\n",
       " 'hds_00_030_010_024',\n",
       " 'hds_00_030_011_024',\n",
       " 'hds_00_030_012_024',\n",
       " 'hds_00_030_013_024',\n",
       " 'hds_00_030_014_024',\n",
       " 'hds_00_030_015_024',\n",
       " 'hds_00_030_016_024',\n",
       " 'hds_00_030_017_024',\n",
       " 'hds_00_030_018_024',\n",
       " 'hds_00_030_019_024',\n",
       " 'hds_00_031_000_024',\n",
       " 'hds_00_031_001_024',\n",
       " 'hds_00_031_002_024',\n",
       " 'hds_00_031_003_024',\n",
       " 'hds_00_031_004_024',\n",
       " 'hds_00_031_005_024',\n",
       " 'hds_00_031_006_024',\n",
       " 'hds_00_031_007_024',\n",
       " 'hds_00_031_008_024',\n",
       " 'hds_00_031_009_024',\n",
       " 'hds_00_031_010_024',\n",
       " 'hds_00_031_011_024',\n",
       " 'hds_00_031_012_024',\n",
       " 'hds_00_031_013_024',\n",
       " 'hds_00_031_014_024',\n",
       " 'hds_00_031_015_024',\n",
       " 'hds_00_031_016_024',\n",
       " 'hds_00_031_017_024',\n",
       " 'hds_00_031_018_024',\n",
       " 'hds_00_031_019_024',\n",
       " 'hds_00_032_001_024',\n",
       " 'hds_00_032_002_024',\n",
       " 'hds_00_032_003_024',\n",
       " 'hds_00_032_004_024',\n",
       " 'hds_00_032_005_024',\n",
       " 'hds_00_032_006_024',\n",
       " 'hds_00_032_007_024',\n",
       " 'hds_00_032_008_024',\n",
       " 'hds_00_032_009_024',\n",
       " 'hds_00_032_010_024',\n",
       " 'hds_00_032_011_024',\n",
       " 'hds_00_032_012_024',\n",
       " 'hds_00_032_013_024',\n",
       " 'hds_00_032_014_024',\n",
       " 'hds_00_032_015_024',\n",
       " 'hds_00_032_016_024',\n",
       " 'hds_00_032_017_024',\n",
       " 'hds_00_032_018_024',\n",
       " 'hds_00_032_019_024',\n",
       " 'hds_00_033_002_024',\n",
       " 'hds_00_033_003_024',\n",
       " 'hds_00_033_004_024',\n",
       " 'hds_00_033_005_024',\n",
       " 'hds_00_033_006_024',\n",
       " 'hds_00_033_007_024',\n",
       " 'hds_00_033_008_024',\n",
       " 'hds_00_033_009_024',\n",
       " 'hds_00_033_010_024',\n",
       " 'hds_00_033_011_024',\n",
       " 'hds_00_033_012_024',\n",
       " 'hds_00_033_013_024',\n",
       " 'hds_00_033_014_024',\n",
       " 'hds_00_033_015_024',\n",
       " 'hds_00_033_016_024',\n",
       " 'hds_00_033_017_024',\n",
       " 'hds_00_033_018_024',\n",
       " 'hds_00_033_019_024',\n",
       " 'hds_00_034_003_024',\n",
       " 'hds_00_034_004_024',\n",
       " 'hds_00_034_005_024',\n",
       " 'hds_00_034_006_024',\n",
       " 'hds_00_034_007_024',\n",
       " 'hds_00_034_008_024',\n",
       " 'hds_00_034_009_024',\n",
       " 'hds_00_034_010_024',\n",
       " 'hds_00_034_011_024',\n",
       " 'hds_00_034_012_024',\n",
       " 'hds_00_034_013_024',\n",
       " 'hds_00_034_014_024',\n",
       " 'hds_00_034_015_024',\n",
       " 'hds_00_034_016_024',\n",
       " 'hds_00_034_017_024',\n",
       " 'hds_00_034_018_024',\n",
       " 'hds_00_034_019_024',\n",
       " 'hds_00_035_004_024',\n",
       " 'hds_00_035_005_024',\n",
       " 'hds_00_035_006_024',\n",
       " 'hds_00_035_007_024',\n",
       " 'hds_00_035_008_024',\n",
       " 'hds_00_035_009_024',\n",
       " 'hds_00_035_010_024',\n",
       " 'hds_00_035_011_024',\n",
       " 'hds_00_035_012_024',\n",
       " 'hds_00_035_013_024',\n",
       " 'hds_00_035_014_024',\n",
       " 'hds_00_035_015_024',\n",
       " 'hds_00_035_016_024',\n",
       " 'hds_00_035_017_024',\n",
       " 'hds_00_035_018_024',\n",
       " 'hds_00_036_004_024',\n",
       " 'hds_00_036_005_024',\n",
       " 'hds_00_036_006_024',\n",
       " 'hds_00_036_007_024',\n",
       " 'hds_00_036_008_024',\n",
       " 'hds_00_036_009_024',\n",
       " 'hds_00_036_010_024',\n",
       " 'hds_00_036_011_024',\n",
       " 'hds_00_036_012_024',\n",
       " 'hds_00_036_013_024',\n",
       " 'hds_00_036_014_024',\n",
       " 'hds_00_036_015_024',\n",
       " 'hds_00_036_016_024',\n",
       " 'hds_00_036_017_024',\n",
       " 'hds_00_036_018_024',\n",
       " 'hds_00_037_005_024',\n",
       " 'hds_00_037_006_024',\n",
       " 'hds_00_037_007_024',\n",
       " 'hds_00_037_008_024',\n",
       " 'hds_00_037_009_024',\n",
       " 'hds_00_037_010_024',\n",
       " 'hds_00_037_011_024',\n",
       " 'hds_00_037_012_024',\n",
       " 'hds_00_037_013_024',\n",
       " 'hds_00_037_014_024',\n",
       " 'hds_00_037_015_024',\n",
       " 'hds_00_037_016_024',\n",
       " 'hds_00_037_017_024',\n",
       " 'hds_00_038_005_024',\n",
       " 'hds_00_038_006_024',\n",
       " 'hds_00_038_007_024',\n",
       " 'hds_00_038_008_024',\n",
       " 'hds_00_038_009_024',\n",
       " 'hds_00_038_010_024',\n",
       " 'hds_00_038_011_024',\n",
       " 'hds_00_038_012_024',\n",
       " 'hds_00_038_013_024',\n",
       " 'hds_00_038_014_024',\n",
       " 'hds_00_038_015_024',\n",
       " 'hds_00_038_016_024',\n",
       " 'hds_00_039_005_024',\n",
       " 'hds_00_039_006_024',\n",
       " 'hds_00_039_007_024',\n",
       " 'hds_00_039_008_024',\n",
       " 'hds_00_039_009_024',\n",
       " 'hds_00_039_010_024',\n",
       " 'hds_00_039_011_024',\n",
       " 'hds_00_039_012_024',\n",
       " 'hds_00_039_013_024',\n",
       " 'hds_00_039_014_024']"
      ]
     },
     "execution_count": 49,
     "metadata": {},
     "output_type": "execute_result"
    }
   ],
   "source": [
    "new_obs = obs.loc[obs.obsnme.apply(lambda x: x.startswith(\"hds_00\") and x.endswith(\"{0:03d}\".format(m.nper-1))),\"obsnme\"]\n",
    "new_obs = new_obs.tolist()\n",
    "new_obs"
   ]
  },
  {
   "cell_type": "code",
   "execution_count": 50,
   "metadata": {
    "execution": {
     "iopub.execute_input": "2020-11-14T03:52:03.733200Z",
     "iopub.status.busy": "2020-11-14T03:52:03.732701Z",
     "iopub.status.idle": "2020-11-14T03:52:03.734987Z",
     "shell.execute_reply": "2020-11-14T03:52:03.735489Z"
    }
   },
   "outputs": [
    {
     "data": {
      "text/plain": [
       "['fa_hw_20171001',\n",
       " 'fa_tw_20171001',\n",
       " 'hds_00_013_002_021',\n",
       " 'part_time',\n",
       " 'part_status']"
      ]
     },
     "execution_count": 50,
     "metadata": {},
     "output_type": "execute_result"
    }
   ],
   "source": [
    "pst.forecast_names"
   ]
  },
  {
   "cell_type": "code",
   "execution_count": 51,
   "metadata": {
    "execution": {
     "iopub.execute_input": "2020-11-14T03:52:03.744894Z",
     "iopub.status.busy": "2020-11-14T03:52:03.738593Z",
     "iopub.status.idle": "2020-11-14T03:54:56.257537Z",
     "shell.execute_reply": "2020-11-14T03:54:56.258242Z"
    }
   },
   "outputs": [
    {
     "name": "stdout",
     "output_type": "stream",
     "text": [
      "took: 0:21:51.708574\n"
     ]
    }
   ],
   "source": [
    "start = datetime.now()\n",
    "next_most_df = sc.next_most_important_added_obs(forecast='fa_tw_20171001',niter=5,obslist_dict=dict(zip(new_obs,new_obs)),\n",
    "                                                base_obslist=sc.pst.nnz_obs_names,reset_zero_weight=True)\n",
    "print(\"took:\",datetime.now() - start)"
   ]
  },
  {
   "cell_type": "code",
   "execution_count": 52,
   "metadata": {
    "execution": {
     "iopub.execute_input": "2020-11-14T03:54:56.272427Z",
     "iopub.status.busy": "2020-11-14T03:54:56.271673Z",
     "iopub.status.idle": "2020-11-14T03:54:56.274593Z",
     "shell.execute_reply": "2020-11-14T03:54:56.275377Z"
    }
   },
   "outputs": [
    {
     "data": {
      "text/html": [
       "<div>\n",
       "<style scoped>\n",
       "    .dataframe tbody tr th:only-of-type {\n",
       "        vertical-align: middle;\n",
       "    }\n",
       "\n",
       "    .dataframe tbody tr th {\n",
       "        vertical-align: top;\n",
       "    }\n",
       "\n",
       "    .dataframe thead th {\n",
       "        text-align: right;\n",
       "    }\n",
       "</style>\n",
       "<table border=\"1\" class=\"dataframe\">\n",
       "  <thead>\n",
       "    <tr style=\"text-align: right;\">\n",
       "      <th></th>\n",
       "      <th>best_obs</th>\n",
       "      <th>fa_tw_20171001_variance</th>\n",
       "      <th>unc_reduce_iter_base</th>\n",
       "      <th>unc_reduce_initial_base</th>\n",
       "    </tr>\n",
       "  </thead>\n",
       "  <tbody>\n",
       "    <tr>\n",
       "      <th>hds_00_009_016_024</th>\n",
       "      <td>hds_00_009_016_024</td>\n",
       "      <td>14637.271594</td>\n",
       "      <td>0.088865</td>\n",
       "      <td>0.088865</td>\n",
       "    </tr>\n",
       "    <tr>\n",
       "      <th>hds_00_011_013_024</th>\n",
       "      <td>hds_00_011_013_024</td>\n",
       "      <td>14628.513596</td>\n",
       "      <td>0.059834</td>\n",
       "      <td>0.148645</td>\n",
       "    </tr>\n",
       "    <tr>\n",
       "      <th>hds_00_009_017_024</th>\n",
       "      <td>hds_00_009_017_024</td>\n",
       "      <td>14622.007505</td>\n",
       "      <td>0.044475</td>\n",
       "      <td>0.193055</td>\n",
       "    </tr>\n",
       "    <tr>\n",
       "      <th>hds_00_010_016_024</th>\n",
       "      <td>hds_00_010_016_024</td>\n",
       "      <td>14615.883479</td>\n",
       "      <td>0.041882</td>\n",
       "      <td>0.234856</td>\n",
       "    </tr>\n",
       "    <tr>\n",
       "      <th>hds_00_008_016_024</th>\n",
       "      <td>hds_00_008_016_024</td>\n",
       "      <td>14610.327197</td>\n",
       "      <td>0.038015</td>\n",
       "      <td>0.272782</td>\n",
       "    </tr>\n",
       "  </tbody>\n",
       "</table>\n",
       "</div>"
      ],
      "text/plain": [
       "                              best_obs  fa_tw_20171001_variance  \\\n",
       "hds_00_009_016_024  hds_00_009_016_024             14637.271594   \n",
       "hds_00_011_013_024  hds_00_011_013_024             14628.513596   \n",
       "hds_00_009_017_024  hds_00_009_017_024             14622.007505   \n",
       "hds_00_010_016_024  hds_00_010_016_024             14615.883479   \n",
       "hds_00_008_016_024  hds_00_008_016_024             14610.327197   \n",
       "\n",
       "                    unc_reduce_iter_base  unc_reduce_initial_base  \n",
       "hds_00_009_016_024              0.088865                 0.088865  \n",
       "hds_00_011_013_024              0.059834                 0.148645  \n",
       "hds_00_009_017_024              0.044475                 0.193055  \n",
       "hds_00_010_016_024              0.041882                 0.234856  \n",
       "hds_00_008_016_024              0.038015                 0.272782  "
      ]
     },
     "execution_count": 52,
     "metadata": {},
     "output_type": "execute_result"
    }
   ],
   "source": [
    "next_most_df"
   ]
  },
  {
   "cell_type": "code",
   "execution_count": 53,
   "metadata": {
    "execution": {
     "iopub.execute_input": "2020-11-14T03:54:56.297424Z",
     "iopub.status.busy": "2020-11-14T03:54:56.296768Z",
     "iopub.status.idle": "2020-11-14T03:54:56.732059Z",
     "shell.execute_reply": "2020-11-14T03:54:56.732591Z"
    }
   },
   "outputs": [
    {
     "data": {
      "image/png": "[encoded data removed]",
      "text/plain": [
       "<Figure size 576x576 with 2 Axes>"
      ]
     },
     "metadata": {
      "needs_background": "light"
     },
     "output_type": "display_data"
    }
   ],
   "source": [
    "fig = plot_added_importance(df_worth_new_plot, m, 'fa_tw_20171001', \n",
    "                            newlox=next_most_df.best_obs.tolist())"
   ]
  },
  {
   "cell_type": "markdown",
   "metadata": {},
   "source": [
    "### Note: an important assumption underpinning the above is that the model is able to fit observations to a level that is commensurate with measurement noise... Are we comfortable with this assumption? We will discuss this more in `pestpp-glm_part2.ipynb`"
   ]
  },
  {
   "cell_type": "code",
   "execution_count": 54,
   "metadata": {
    "execution": {
     "iopub.execute_input": "2020-11-14T03:54:56.745854Z",
     "iopub.status.busy": "2020-11-14T03:54:56.745304Z",
     "iopub.status.idle": "2020-11-14T03:54:56.747785Z",
     "shell.execute_reply": "2020-11-14T03:54:56.748314Z"
    }
   },
   "outputs": [
    {
     "data": {
      "text/html": [
       "<div>\n",
       "<style scoped>\n",
       "    .dataframe tbody tr th:only-of-type {\n",
       "        vertical-align: middle;\n",
       "    }\n",
       "\n",
       "    .dataframe tbody tr th {\n",
       "        vertical-align: top;\n",
       "    }\n",
       "\n",
       "    .dataframe thead th {\n",
       "        text-align: right;\n",
       "    }\n",
       "</style>\n",
       "<table border=\"1\" class=\"dataframe\">\n",
       "  <thead>\n",
       "    <tr style=\"text-align: right;\">\n",
       "      <th></th>\n",
       "      <th>obsnme</th>\n",
       "      <th>obsval</th>\n",
       "      <th>weight</th>\n",
       "      <th>obgnme</th>\n",
       "      <th>extra</th>\n",
       "    </tr>\n",
       "    <tr>\n",
       "      <th>obsnme</th>\n",
       "      <th></th>\n",
       "      <th></th>\n",
       "      <th></th>\n",
       "      <th></th>\n",
       "      <th></th>\n",
       "    </tr>\n",
       "  </thead>\n",
       "  <tbody>\n",
       "    <tr>\n",
       "      <th>fo_gage_1_20160101</th>\n",
       "      <td>fo_gage_1_20160101</td>\n",
       "      <td>7811.571739</td>\n",
       "      <td>0.0015</td>\n",
       "      <td>fo_gage_1</td>\n",
       "      <td>NaN</td>\n",
       "    </tr>\n",
       "    <tr>\n",
       "      <th>fo_gage_1_20160201</th>\n",
       "      <td>fo_gage_1_20160201</td>\n",
       "      <td>8486.782129</td>\n",
       "      <td>0.0015</td>\n",
       "      <td>fo_gage_1</td>\n",
       "      <td>NaN</td>\n",
       "    </tr>\n",
       "    <tr>\n",
       "      <th>fo_gage_1_20160301</th>\n",
       "      <td>fo_gage_1_20160301</td>\n",
       "      <td>9701.533827</td>\n",
       "      <td>0.0015</td>\n",
       "      <td>fo_gage_1</td>\n",
       "      <td>NaN</td>\n",
       "    </tr>\n",
       "    <tr>\n",
       "      <th>fo_gage_1_20160401</th>\n",
       "      <td>fo_gage_1_20160401</td>\n",
       "      <td>9391.429930</td>\n",
       "      <td>0.0015</td>\n",
       "      <td>fo_gage_1</td>\n",
       "      <td>NaN</td>\n",
       "    </tr>\n",
       "    <tr>\n",
       "      <th>fo_gage_1_20160501</th>\n",
       "      <td>fo_gage_1_20160501</td>\n",
       "      <td>7907.122907</td>\n",
       "      <td>0.0015</td>\n",
       "      <td>fo_gage_1</td>\n",
       "      <td>NaN</td>\n",
       "    </tr>\n",
       "    <tr>\n",
       "      <th>...</th>\n",
       "      <td>...</td>\n",
       "      <td>...</td>\n",
       "      <td>...</td>\n",
       "      <td>...</td>\n",
       "      <td>...</td>\n",
       "    </tr>\n",
       "    <tr>\n",
       "      <th>trgw_034_010_20170901</th>\n",
       "      <td>trgw_034_010_20170901</td>\n",
       "      <td>33.931110</td>\n",
       "      <td>3.0000</td>\n",
       "      <td>trgw_034_010</td>\n",
       "      <td>NaN</td>\n",
       "    </tr>\n",
       "    <tr>\n",
       "      <th>trgw_034_010_20171001</th>\n",
       "      <td>trgw_034_010_20171001</td>\n",
       "      <td>33.955884</td>\n",
       "      <td>3.0000</td>\n",
       "      <td>trgw_034_010</td>\n",
       "      <td>NaN</td>\n",
       "    </tr>\n",
       "    <tr>\n",
       "      <th>trgw_034_010_20171101</th>\n",
       "      <td>trgw_034_010_20171101</td>\n",
       "      <td>33.985823</td>\n",
       "      <td>3.0000</td>\n",
       "      <td>trgw_034_010</td>\n",
       "      <td>NaN</td>\n",
       "    </tr>\n",
       "    <tr>\n",
       "      <th>trgw_034_010_20171201</th>\n",
       "      <td>trgw_034_010_20171201</td>\n",
       "      <td>34.052104</td>\n",
       "      <td>3.0000</td>\n",
       "      <td>trgw_034_010</td>\n",
       "      <td>NaN</td>\n",
       "    </tr>\n",
       "    <tr>\n",
       "      <th>trgw_034_010_20180101</th>\n",
       "      <td>trgw_034_010_20180101</td>\n",
       "      <td>34.103856</td>\n",
       "      <td>3.0000</td>\n",
       "      <td>trgw_034_010</td>\n",
       "      <td>NaN</td>\n",
       "    </tr>\n",
       "  </tbody>\n",
       "</table>\n",
       "<p>1055 rows × 5 columns</p>\n",
       "</div>"
      ],
      "text/plain": [
       "                                      obsnme       obsval  weight  \\\n",
       "obsnme                                                              \n",
       "fo_gage_1_20160101        fo_gage_1_20160101  7811.571739  0.0015   \n",
       "fo_gage_1_20160201        fo_gage_1_20160201  8486.782129  0.0015   \n",
       "fo_gage_1_20160301        fo_gage_1_20160301  9701.533827  0.0015   \n",
       "fo_gage_1_20160401        fo_gage_1_20160401  9391.429930  0.0015   \n",
       "fo_gage_1_20160501        fo_gage_1_20160501  7907.122907  0.0015   \n",
       "...                                      ...          ...     ...   \n",
       "trgw_034_010_20170901  trgw_034_010_20170901    33.931110  3.0000   \n",
       "trgw_034_010_20171001  trgw_034_010_20171001    33.955884  3.0000   \n",
       "trgw_034_010_20171101  trgw_034_010_20171101    33.985823  3.0000   \n",
       "trgw_034_010_20171201  trgw_034_010_20171201    34.052104  3.0000   \n",
       "trgw_034_010_20180101  trgw_034_010_20180101    34.103856  3.0000   \n",
       "\n",
       "                             obgnme  extra  \n",
       "obsnme                                      \n",
       "fo_gage_1_20160101        fo_gage_1    NaN  \n",
       "fo_gage_1_20160201        fo_gage_1    NaN  \n",
       "fo_gage_1_20160301        fo_gage_1    NaN  \n",
       "fo_gage_1_20160401        fo_gage_1    NaN  \n",
       "fo_gage_1_20160501        fo_gage_1    NaN  \n",
       "...                             ...    ...  \n",
       "trgw_034_010_20170901  trgw_034_010    NaN  \n",
       "trgw_034_010_20171001  trgw_034_010    NaN  \n",
       "trgw_034_010_20171101  trgw_034_010    NaN  \n",
       "trgw_034_010_20171201  trgw_034_010    NaN  \n",
       "trgw_034_010_20180101  trgw_034_010    NaN  \n",
       "\n",
       "[1055 rows x 5 columns]"
      ]
     },
     "execution_count": 54,
     "metadata": {},
     "output_type": "execute_result"
    }
   ],
   "source": [
    "# recall...\n",
    "pst.observation_data.loc[pst.nnz_obs_names,:]"
   ]
  },
  {
   "cell_type": "markdown",
   "metadata": {},
   "source": [
    "### an \"extra\" if we have time: parameter identifiability"
   ]
  },
  {
   "cell_type": "code",
   "execution_count": 55,
   "metadata": {
    "execution": {
     "iopub.execute_input": "2020-11-14T03:54:56.751395Z",
     "iopub.status.busy": "2020-11-14T03:54:56.750877Z",
     "iopub.status.idle": "2020-11-14T03:54:58.197402Z",
     "shell.execute_reply": "2020-11-14T03:54:58.197763Z"
    }
   },
   "outputs": [],
   "source": [
    "la = pyemu.ErrVar(jco=jco)"
   ]
  },
  {
   "cell_type": "code",
   "execution_count": 56,
   "metadata": {
    "execution": {
     "iopub.execute_input": "2020-11-14T03:54:58.213646Z",
     "iopub.status.busy": "2020-11-14T03:54:58.213163Z",
     "iopub.status.idle": "2020-11-14T03:54:59.188293Z",
     "shell.execute_reply": "2020-11-14T03:54:59.188806Z"
    }
   },
   "outputs": [
    {
     "data": {
      "text/plain": [
       "array([[43.69132712],\n",
       "       [30.21721185],\n",
       "       [25.80378018],\n",
       "       [23.17796605],\n",
       "       [15.67055625],\n",
       "       [11.97891618],\n",
       "       [11.83315608],\n",
       "       [10.41029437],\n",
       "       [ 7.96296402],\n",
       "       [ 7.22180919]])"
      ]
     },
     "execution_count": 56,
     "metadata": {},
     "output_type": "execute_result"
    }
   ],
   "source": [
    "s = la.qhalfx.s  # singular spectrum\n",
    "s.x[:10]"
   ]
  },
  {
   "cell_type": "code",
   "execution_count": 57,
   "metadata": {
    "execution": {
     "iopub.execute_input": "2020-11-14T03:54:59.220091Z",
     "iopub.status.busy": "2020-11-14T03:54:59.203242Z",
     "iopub.status.idle": "2020-11-14T03:54:59.296758Z",
     "shell.execute_reply": "2020-11-14T03:54:59.297274Z"
    }
   },
   "outputs": [
    {
     "data": {
      "image/png": "[encoded data removed]",
      "text/plain": [
       "<Figure size 432x288 with 1 Axes>"
      ]
     },
     "metadata": {
      "needs_background": "light"
     },
     "output_type": "display_data"
    }
   ],
   "source": [
    "figure = plt.figure()\n",
    "ax = plt.subplot(111)\n",
    "ax.plot(np.log10(s.x))\n",
    "ax.set_ylabel(\"log10 singular value\")\n",
    "ax.set_xlabel(\"index\")\n",
    "#ax.set_xlim(0,100)\n",
    "plt.show()"
   ]
  },
  {
   "cell_type": "markdown",
   "metadata": {},
   "source": [
    "As expected, singluar spectrum decays rapidly."
   ]
  },
  {
   "cell_type": "code",
   "execution_count": 58,
   "metadata": {
    "execution": {
     "iopub.execute_input": "2020-11-14T03:54:59.300797Z",
     "iopub.status.busy": "2020-11-14T03:54:59.300228Z",
     "iopub.status.idle": "2020-11-14T03:54:59.302534Z",
     "shell.execute_reply": "2020-11-14T03:54:59.303029Z"
    }
   },
   "outputs": [
    {
     "data": {
      "text/plain": [
       "304"
      ]
     },
     "execution_count": 58,
     "metadata": {},
     "output_type": "execute_result"
    }
   ],
   "source": [
    "truncation_thresh = 5e-5\n",
    "n_signif_singvals = ((s.x / s[0].x) > truncation_thresh).sum()\n",
    "n_signif_singvals"
   ]
  },
  {
   "cell_type": "code",
   "execution_count": 59,
   "metadata": {
    "execution": {
     "iopub.execute_input": "2020-11-14T03:54:59.308101Z",
     "iopub.status.busy": "2020-11-14T03:54:59.307580Z",
     "iopub.status.idle": "2020-11-14T03:54:59.309460Z",
     "shell.execute_reply": "2020-11-14T03:54:59.309980Z"
    }
   },
   "outputs": [
    {
     "name": "stdout",
     "output_type": "stream",
     "text": [
      "This means that, on the basis of the 350 (non-zero) weighted observations, there are 304 unique pieces of information in the calibration dataset.  Recall the inverse problem we are trying to solve involves the estimation of 569 parameters using this information only...\n"
     ]
    }
   ],
   "source": [
    "print(\"This means that, on the basis of the {0} (non-zero) weighted observations, \\\n",
    "there are {1} unique pieces of information in the calibration dataset.  \\\n",
    "Recall the inverse problem we are trying to solve involves the estimation of {2} parameters using this information only...\".\\\n",
    "      format(la.pst.nnz_obs, n_signif_singvals, pst.npar_adj))"
   ]
  },
  {
   "cell_type": "markdown",
   "metadata": {},
   "source": [
    "Now let's compute the identifiability of actual model parameters based on these singular vectors. Identifiability ranges from 0 (not identified by the data) to 1 (full identified by the data)."
   ]
  },
  {
   "cell_type": "code",
   "execution_count": 60,
   "metadata": {
    "execution": {
     "iopub.execute_input": "2020-11-14T03:54:59.312642Z",
     "iopub.status.busy": "2020-11-14T03:54:59.312152Z",
     "iopub.status.idle": "2020-11-14T03:54:59.420809Z",
     "shell.execute_reply": "2020-11-14T03:54:59.421459Z"
    }
   },
   "outputs": [],
   "source": [
    "ident_df = la.get_identifiability_dataframe(4)  # sing val trunc defaults to pst.nnz_obs"
   ]
  },
  {
   "cell_type": "code",
   "execution_count": 61,
   "metadata": {
    "execution": {
     "iopub.execute_input": "2020-11-14T03:54:59.436096Z",
     "iopub.status.busy": "2020-11-14T03:54:59.424665Z",
     "iopub.status.idle": "2020-11-14T03:54:59.565781Z",
     "shell.execute_reply": "2020-11-14T03:54:59.566370Z"
    }
   },
   "outputs": [
    {
     "data": {
      "text/plain": [
       "<AxesSubplot:>"
      ]
     },
     "execution_count": 61,
     "metadata": {},
     "output_type": "execute_result"
    },
    {
     "data": {
      "image/png": "[encoded data removed]",
      "text/plain": [
       "<Figure size 720x720 with 1 Axes>"
      ]
     },
     "metadata": {
      "needs_background": "light"
     },
     "output_type": "display_data"
    }
   ],
   "source": [
    "ident_df.sort_values(by=\"ident\",ascending=False).iloc[0:10].loc[:,\"ident\"].plot(kind=\"bar\",figsize=(10,10))"
   ]
  },
  {
   "cell_type": "code",
   "execution_count": 62,
   "metadata": {
    "execution": {
     "iopub.execute_input": "2020-11-14T03:54:59.569744Z",
     "iopub.status.busy": "2020-11-14T03:54:59.569203Z",
     "iopub.status.idle": "2020-11-14T03:54:59.817818Z",
     "shell.execute_reply": "2020-11-14T03:54:59.818324Z"
    }
   },
   "outputs": [
    {
     "data": {
      "image/png": "[encoded data removed]",
      "text/plain": [
       "<Figure size 864x288 with 2 Axes>"
      ]
     },
     "metadata": {
      "needs_background": "light"
     },
     "output_type": "display_data"
    }
   ],
   "source": [
    "id = pyemu.plot_utils.plot_id_bar(ident_df.sort_values(by=\"ident\",ascending=False).iloc[0:10], figsize=(12,4))"
   ]
  },
  {
   "cell_type": "markdown",
   "metadata": {},
   "source": [
    "Note similarity with some of the earlier parameter contribution to forecast uncertainty results"
   ]
  },
  {
   "cell_type": "code",
   "execution_count": 63,
   "metadata": {
    "execution": {
     "iopub.execute_input": "2020-11-14T03:54:59.824192Z",
     "iopub.status.busy": "2020-11-14T03:54:59.823695Z",
     "iopub.status.idle": "2020-11-14T03:54:59.900121Z",
     "shell.execute_reply": "2020-11-14T03:54:59.900619Z"
    }
   },
   "outputs": [
    {
     "data": {
      "text/html": [
       "<div>\n",
       "<style scoped>\n",
       "    .dataframe tbody tr th:only-of-type {\n",
       "        vertical-align: middle;\n",
       "    }\n",
       "\n",
       "    .dataframe tbody tr th {\n",
       "        vertical-align: top;\n",
       "    }\n",
       "\n",
       "    .dataframe thead th {\n",
       "        text-align: right;\n",
       "    }\n",
       "</style>\n",
       "<table border=\"1\" class=\"dataframe\">\n",
       "  <thead>\n",
       "    <tr style=\"text-align: right;\">\n",
       "      <th></th>\n",
       "      <th>pest_css</th>\n",
       "      <th>hill_css</th>\n",
       "    </tr>\n",
       "  </thead>\n",
       "  <tbody>\n",
       "    <tr>\n",
       "      <th>const_hk6__cn</th>\n",
       "      <td>0.000751</td>\n",
       "      <td>0.0</td>\n",
       "    </tr>\n",
       "    <tr>\n",
       "      <th>const_hk7__cn</th>\n",
       "      <td>0.000097</td>\n",
       "      <td>0.0</td>\n",
       "    </tr>\n",
       "    <tr>\n",
       "      <th>const_hk8__cn</th>\n",
       "      <td>0.072513</td>\n",
       "      <td>0.0</td>\n",
       "    </tr>\n",
       "    <tr>\n",
       "      <th>const_prsity6__cn</th>\n",
       "      <td>0.000000</td>\n",
       "      <td>0.0</td>\n",
       "    </tr>\n",
       "    <tr>\n",
       "      <th>const_prsity7__cn</th>\n",
       "      <td>0.000000</td>\n",
       "      <td>0.0</td>\n",
       "    </tr>\n",
       "  </tbody>\n",
       "</table>\n",
       "</div>"
      ],
      "text/plain": [
       "                   pest_css  hill_css\n",
       "const_hk6__cn      0.000751       0.0\n",
       "const_hk7__cn      0.000097       0.0\n",
       "const_hk8__cn      0.072513       0.0\n",
       "const_prsity6__cn  0.000000       0.0\n",
       "const_prsity7__cn  0.000000       0.0"
      ]
     },
     "execution_count": 63,
     "metadata": {},
     "output_type": "execute_result"
    }
   ],
   "source": [
    "css = la.get_par_css_dataframe()\n",
    "css.head()"
   ]
  },
  {
   "cell_type": "code",
   "execution_count": 64,
   "metadata": {
    "execution": {
     "iopub.execute_input": "2020-11-14T03:54:59.903924Z",
     "iopub.status.busy": "2020-11-14T03:54:59.903406Z",
     "iopub.status.idle": "2020-11-14T03:54:59.907172Z",
     "shell.execute_reply": "2020-11-14T03:54:59.906592Z"
    }
   },
   "outputs": [
    {
     "data": {
      "text/plain": [
       "66"
      ]
     },
     "execution_count": 64,
     "metadata": {},
     "output_type": "execute_result"
    }
   ],
   "source": [
    "css = css.sort_values(by=\"pest_css\",ascending=False)\n",
    "css = css.loc[css.pest_css==0.0,:]\n",
    "len([p for p in css.index if \"sy\" in p])"
   ]
  },
  {
   "cell_type": "code",
   "execution_count": 65,
   "metadata": {
    "execution": {
     "iopub.execute_input": "2020-11-14T03:54:59.911873Z",
     "iopub.status.busy": "2020-11-14T03:54:59.909830Z",
     "iopub.status.idle": "2020-11-14T03:54:59.916441Z",
     "shell.execute_reply": "2020-11-14T03:54:59.916998Z"
    }
   },
   "outputs": [
    {
     "data": {
      "text/plain": [
       "(99, 11)"
      ]
     },
     "execution_count": 65,
     "metadata": {},
     "output_type": "execute_result"
    }
   ],
   "source": [
    "par = pst.parameter_data.loc[pst.adj_par_names]\n",
    "par.loc[par.parnme.apply(lambda x: \"sy\" in x),:].shape"
   ]
  },
  {
   "cell_type": "code",
   "execution_count": null,
   "metadata": {},
   "outputs": [],
   "source": []
  }
 ],
 "metadata": {
  "kernelspec": {
   "display_name": "Python 3",
   "language": "python",
   "name": "python3"
  },
  "language_info": {
   "codemirror_mode": {
    "name": "ipython",
    "version": 3
   },
   "file_extension": ".py",
   "mimetype": "text/x-python",
   "name": "python",
   "nbconvert_exporter": "python",
   "pygments_lexer": "ipython3",
   "version": "3.8.6"
  }
 },
 "nbformat": 4,
 "nbformat_minor": 2
}
