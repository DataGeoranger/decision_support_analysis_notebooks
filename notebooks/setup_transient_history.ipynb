{
 "cells": [
  {
   "cell_type": "markdown",
   "metadata": {},
   "source": [
    "# Build a transient version of the Freyberg model from the existing model files\n",
    "\n",
    "In this notebook, we will use flopy to construct a time-varying history simulation with the existing Freyberg model files.  Hang on tight!"
   ]
  },
  {
   "cell_type": "code",
   "execution_count": null,
   "metadata": {
    "execution": {
     "iopub.execute_input": "2020-11-13T22:51:02.129823Z",
     "iopub.status.busy": "2020-11-13T22:51:02.129180Z",
     "iopub.status.idle": "2020-11-13T22:51:03.268288Z",
     "shell.execute_reply": "2020-11-13T22:51:03.268816Z"
    }
   },
   "outputs": [],
   "source": [
    "%matplotlib inline\n",
    "import os\n",
    "import shutil\n",
    "import numpy as np\n",
    "import pandas as pd\n",
    "import matplotlib.pyplot as plt\n",
    "import flopy\n",
    "import pyemu\n",
    "import prep_deps\n",
    "import redis\n",
    "import matplotlib as mpl\n",
    "plt.rcParams['font.size']=12"
   ]
  },
  {
   "cell_type": "markdown",
   "metadata": {},
   "source": [
    "This the location and nam file of the existing model"
   ]
  },
  {
   "cell_type": "code",
   "execution_count": null,
   "metadata": {
    "execution": {
     "iopub.execute_input": "2020-11-13T22:51:03.272227Z",
     "iopub.status.busy": "2020-11-13T22:51:03.271727Z",
     "iopub.status.idle": "2020-11-13T22:51:03.273113Z",
     "shell.execute_reply": "2020-11-13T22:51:03.273669Z"
    }
   },
   "outputs": [],
   "source": [
    "org_d = os.path.join(\"..\",\"base_model_files\")\n",
    "org_nam = \"freyberg.nam\""
   ]
  },
  {
   "cell_type": "markdown",
   "metadata": {},
   "source": [
    "Load the existing model into a flopy `Modflow` model instance and plot"
   ]
  },
  {
   "cell_type": "code",
   "execution_count": null,
   "metadata": {
    "execution": {
     "iopub.execute_input": "2020-11-13T22:51:03.276561Z",
     "iopub.status.busy": "2020-11-13T22:51:03.276079Z",
     "iopub.status.idle": "2020-11-13T22:51:03.300818Z",
     "shell.execute_reply": "2020-11-13T22:51:03.301324Z"
    }
   },
   "outputs": [],
   "source": [
    "m_org = flopy.modflow.Modflow.load(org_nam,model_ws=org_d,check=False)\n",
    "m_org"
   ]
  },
  {
   "cell_type": "code",
   "execution_count": null,
   "metadata": {
    "execution": {
     "iopub.execute_input": "2020-11-13T22:51:03.318531Z",
     "iopub.status.busy": "2020-11-13T22:51:03.318017Z",
     "iopub.status.idle": "2020-11-13T22:51:03.458707Z",
     "shell.execute_reply": "2020-11-13T22:51:03.458184Z"
    }
   },
   "outputs": [],
   "source": [
    "# plot some model attributes\n",
    "fig = plt.figure(figsize=(12,7))\n",
    "ax = plt.subplot(111,aspect=\"equal\")\n",
    "mm = flopy.plot.PlotMapView(model=m_org)\n",
    "mm.plot_grid()\n",
    "mm.plot_ibound()\n",
    "mm.plot_bc('SFR')\n",
    "mm.plot_bc(\"GHB\")\n",
    "ax = mm.ax\n",
    "#m.wel.stress_period_data.plot(ax=ax,mflay=2)\n",
    "\n",
    "# plot obs locations\n",
    "obs = pd.read_csv(os.path.join(\"..\",\"base_model_files\",\"obs_loc.csv\"))\n",
    "                  \n",
    "obs_x = [m_org.sr.xcentergrid[r-1,c-1] for r,c in obs.loc[:,[\"row\",\"col\"]].values]\n",
    "obs_y = [m_org.sr.ycentergrid[r-1,c-1] for r,c in obs.loc[:,[\"row\",\"col\"]].values]\n",
    "ax.scatter(obs_x,obs_y,marker='.',label=\"water-level obs\",s=80)\n",
    "\n",
    "#plot names on the pumping well locations\n",
    "wel_data = m_org.wel.stress_period_data[0]\n",
    "wel_x = m_org.sr.xcentergrid[wel_data[\"i\"],wel_data[\"j\"]]\n",
    "wel_y = m_org.sr.ycentergrid[wel_data[\"i\"],wel_data[\"j\"]]\n",
    "for i,(x,y) in enumerate(zip(wel_x,wel_y)):\n",
    "    ax.scatter([x],[y],color=\"red\",marker=\"s\",s=50)\n",
    "    #ax.text(x,y,\"{0}\".format(i+1),ha=\"center\",va=\"center\")\n",
    "\n",
    "ax.set_ylabel(\"y(m)\")\n",
    "ax.set_xlabel(\"x(m)\")\n",
    "plt.show()"
   ]
  },
  {
   "cell_type": "markdown",
   "metadata": {},
   "source": [
    "`tr_d` is the `d`irectory where we are going to write out the `tr`ansient model"
   ]
  },
  {
   "cell_type": "code",
   "execution_count": null,
   "metadata": {
    "execution": {
     "iopub.execute_input": "2020-11-13T22:51:03.461477Z",
     "iopub.status.busy": "2020-11-13T22:51:03.460962Z",
     "iopub.status.idle": "2020-11-13T22:51:03.462646Z",
     "shell.execute_reply": "2020-11-13T22:51:03.463123Z"
    }
   },
   "outputs": [],
   "source": [
    "tr_d = \"temp_history\"\n",
    "tr_nam = \"freyberg\""
   ]
  },
  {
   "cell_type": "markdown",
   "metadata": {},
   "source": [
    "Create the new model instance"
   ]
  },
  {
   "cell_type": "code",
   "execution_count": null,
   "metadata": {
    "execution": {
     "iopub.execute_input": "2020-11-13T22:51:03.466561Z",
     "iopub.status.busy": "2020-11-13T22:51:03.465911Z",
     "iopub.status.idle": "2020-11-13T22:51:03.467376Z",
     "shell.execute_reply": "2020-11-13T22:51:03.467843Z"
    }
   },
   "outputs": [],
   "source": [
    "m_tr = flopy.modflow.Modflow(tr_nam,model_ws=tr_d,version=\"mfnwt\")"
   ]
  },
  {
   "cell_type": "markdown",
   "metadata": {},
   "source": [
    "Now we need to build up the time-stepping containers.  We will use 1 initial steady-state stress period then 24 monthly stress period thereafter. We will use some pandas time series handling - ah yeah!"
   ]
  },
  {
   "cell_type": "code",
   "execution_count": null,
   "metadata": {
    "execution": {
     "iopub.execute_input": "2020-11-13T22:51:03.470504Z",
     "iopub.status.busy": "2020-11-13T22:51:03.469990Z",
     "iopub.status.idle": "2020-11-13T22:51:03.471514Z",
     "shell.execute_reply": "2020-11-13T22:51:03.471998Z"
    }
   },
   "outputs": [],
   "source": [
    "tr_nper = 24 #num transient stress periods\n",
    "freq = \"m\" #monthly frequency"
   ]
  },
  {
   "cell_type": "markdown",
   "metadata": {},
   "source": [
    "First, `flopy` will need a list of `True` or `False` flags indicating whether each stress period is steady state or not"
   ]
  },
  {
   "cell_type": "code",
   "execution_count": null,
   "metadata": {
    "execution": {
     "iopub.execute_input": "2020-11-13T22:51:03.475288Z",
     "iopub.status.busy": "2020-11-13T22:51:03.474785Z",
     "iopub.status.idle": "2020-11-13T22:51:03.476595Z",
     "shell.execute_reply": "2020-11-13T22:51:03.477019Z"
    }
   },
   "outputs": [],
   "source": [
    "steady = [True]\n",
    "for _ in range(tr_nper):\n",
    "    steady.append(False)\n",
    "steady"
   ]
  },
  {
   "cell_type": "markdown",
   "metadata": {},
   "source": [
    "Next set up the period lengths in `perlen` based on the 24 months after the starting date"
   ]
  },
  {
   "cell_type": "code",
   "execution_count": null,
   "metadata": {
    "execution": {
     "iopub.execute_input": "2020-11-13T22:51:03.482590Z",
     "iopub.status.busy": "2020-11-13T22:51:03.482120Z",
     "iopub.status.idle": "2020-11-13T22:51:03.483979Z",
     "shell.execute_reply": "2020-11-13T22:51:03.484404Z"
    }
   },
   "outputs": [],
   "source": [
    "start_datetime = \"12-31-2015\"\n",
    "end = pd.date_range(start=start_datetime,periods=tr_nper+1,freq=freq)\n",
    "delt = end[1:] - end[:-1]\n",
    "perlen = list(delt.days.values)\n",
    "perlen.insert(0,1)\n",
    "print(end) # the pandas datetime index of the ending date of each stress period\n",
    "print(perlen) # the length in days of each stress period\n",
    "model_start_datetime = \"12-31-2015\"\n",
    "assert len(perlen) == tr_nper + 1,len(perlen)"
   ]
  },
  {
   "cell_type": "markdown",
   "metadata": {},
   "source": [
    "Now we can create a `Dis` package.  We will reuse a lot of attributes from the existing model except for the time-stepping info:"
   ]
  },
  {
   "cell_type": "code",
   "execution_count": null,
   "metadata": {
    "execution": {
     "iopub.execute_input": "2020-11-13T22:51:03.489931Z",
     "iopub.status.busy": "2020-11-13T22:51:03.489381Z",
     "iopub.status.idle": "2020-11-13T22:51:03.491533Z",
     "shell.execute_reply": "2020-11-13T22:51:03.492009Z"
    }
   },
   "outputs": [],
   "source": [
    "_ = flopy.modflow.ModflowDis(m_tr,nper=tr_nper+1,nlay=m_org.nlay,\n",
    "                             nrow=m_org.nrow,ncol=m_org.ncol,\n",
    "                             delr=m_org.dis.delr.array,delc=m_org.dis.delc.array,\n",
    "                             top=m_org.dis.top.array,botm=m_org.dis.botm.array,\n",
    "                             steady=steady,\n",
    "                             perlen=perlen)\n",
    "m_tr.dis.start_datetime = model_start_datetime"
   ]
  },
  {
   "cell_type": "code",
   "execution_count": null,
   "metadata": {
    "execution": {
     "iopub.execute_input": "2020-11-13T22:51:03.534706Z",
     "iopub.status.busy": "2020-11-13T22:51:03.534199Z",
     "iopub.status.idle": "2020-11-13T22:51:03.622296Z",
     "shell.execute_reply": "2020-11-13T22:51:03.622737Z"
    }
   },
   "outputs": [],
   "source": [
    "m_org.dis.botm[2].plot()"
   ]
  },
  {
   "cell_type": "markdown",
   "metadata": {},
   "source": [
    "The `BAS`ic package and the `UPW` are taken directly from the existing model:"
   ]
  },
  {
   "cell_type": "code",
   "execution_count": null,
   "metadata": {
    "execution": {
     "iopub.execute_input": "2020-11-13T22:51:03.626389Z",
     "iopub.status.busy": "2020-11-13T22:51:03.625495Z",
     "iopub.status.idle": "2020-11-13T22:51:03.628100Z",
     "shell.execute_reply": "2020-11-13T22:51:03.628838Z"
    }
   },
   "outputs": [],
   "source": [
    "_ = flopy.modflow.ModflowBas(m_tr,ibound=m_org.bas6.ibound.array,\n",
    "                             strt=m_org.bas6.strt.array,hnoflo=m_org.bas6.hnoflo)"
   ]
  },
  {
   "cell_type": "code",
   "execution_count": null,
   "metadata": {
    "execution": {
     "iopub.execute_input": "2020-11-13T22:51:03.632964Z",
     "iopub.status.busy": "2020-11-13T22:51:03.632360Z",
     "iopub.status.idle": "2020-11-13T22:51:03.635341Z",
     "shell.execute_reply": "2020-11-13T22:51:03.635781Z"
    }
   },
   "outputs": [],
   "source": [
    "_ = flopy.modflow.ModflowUpw(m_tr,ipakcb=50,laytyp=[1,0,0],hk=m_org.upw.hk.array,\n",
    "                             vka=m_org.upw.vka.array,ss=m_org.upw.ss.array,sy=m_org.upw.sy.array)"
   ]
  },
  {
   "cell_type": "markdown",
   "metadata": {},
   "source": [
    "Now for solver and output control"
   ]
  },
  {
   "cell_type": "code",
   "execution_count": null,
   "metadata": {
    "execution": {
     "iopub.execute_input": "2020-11-13T22:51:03.639076Z",
     "iopub.status.busy": "2020-11-13T22:51:03.638659Z",
     "iopub.status.idle": "2020-11-13T22:51:03.640324Z",
     "shell.execute_reply": "2020-11-13T22:51:03.639810Z"
    }
   },
   "outputs": [],
   "source": [
    "_ = flopy.modflow.ModflowNwt(m_tr,headtol=0.01,fluxtol=1.0)\n",
    "_ = flopy.modflow.ModflowOc(m_tr,stress_period_data={\n",
    "                (kper,0):[\"save head\",\"save budget\"] for kper in range(m_tr.nper)})"
   ]
  },
  {
   "cell_type": "markdown",
   "metadata": {},
   "source": [
    "To make things more fun, we are going to apply time-varying forcing conditions for `RECH`arge, `WEL`, and `SFR` inflow.  Let's use the classic - the sine wave\n",
    "\n",
    "We will create a multiplier that varies seasonally by the sine wave and we will use to adjust the recharge, inflow, and pumping from the original Freyberg steady-state model."
   ]
  },
  {
   "cell_type": "code",
   "execution_count": null,
   "metadata": {
    "execution": {
     "iopub.execute_input": "2020-11-13T22:51:03.653576Z",
     "iopub.status.busy": "2020-11-13T22:51:03.653129Z",
     "iopub.status.idle": "2020-11-13T22:51:03.765797Z",
     "shell.execute_reply": "2020-11-13T22:51:03.766263Z"
    }
   },
   "outputs": [],
   "source": [
    "angles = np.linspace(-np.pi, np.pi, tr_nper)\n",
    "season_mults = 1.0 + 0.65*np.sin(1 + angles*2)\n",
    "wel_season_mults = np.roll(season_mults,int(tr_nper / 4))\n",
    "plt.plot(np.arange(tr_nper),season_mults, label=\"rch + sfr inflow\")\n",
    "plt.plot(np.arange(tr_nper),wel_season_mults, label=\"wel\")\n",
    "plt.legend()"
   ]
  },
  {
   "cell_type": "markdown",
   "metadata": {},
   "source": [
    "So you can see we have pushed the wel flux to be out of phase with recharge and `SFR` inflow - should make things more interesting...\n",
    "\n",
    "Now let's build up the `WEL` and `RCH` package info:"
   ]
  },
  {
   "cell_type": "code",
   "execution_count": null,
   "metadata": {
    "execution": {
     "iopub.execute_input": "2020-11-13T22:51:03.770520Z",
     "iopub.status.busy": "2020-11-13T22:51:03.770073Z",
     "iopub.status.idle": "2020-11-13T22:51:03.772753Z",
     "shell.execute_reply": "2020-11-13T22:51:03.773244Z"
    }
   },
   "outputs": [],
   "source": [
    "org_wel_data = m_org.wel.stress_period_data[0]\n",
    "org_rch = m_org.rch.rech[0].array\n",
    "wel_data = {0:org_wel_data}\n",
    "rech = {0:org_rch}\n",
    "for kper in range(1,m_tr.nper):\n",
    "    kper_wel_data = org_wel_data.copy()\n",
    "    kper_wel_data[\"flux\"] *= wel_season_mults[kper-1]\n",
    "    wel_data[kper] = kper_wel_data\n",
    "    rech[kper] = org_rch * season_mults[kper-1]"
   ]
  },
  {
   "cell_type": "markdown",
   "metadata": {},
   "source": [
    "Make a `WEL` and `RCH` packages"
   ]
  },
  {
   "cell_type": "code",
   "execution_count": null,
   "metadata": {
    "execution": {
     "iopub.execute_input": "2020-11-13T22:51:03.776747Z",
     "iopub.status.busy": "2020-11-13T22:51:03.775946Z",
     "iopub.status.idle": "2020-11-13T22:51:03.778049Z",
     "shell.execute_reply": "2020-11-13T22:51:03.778621Z"
    }
   },
   "outputs": [],
   "source": [
    "_ = flopy.modflow.ModflowWel(m_tr,stress_period_data=wel_data,ipakcb=50)"
   ]
  },
  {
   "cell_type": "code",
   "execution_count": null,
   "metadata": {
    "execution": {
     "iopub.execute_input": "2020-11-13T22:51:03.782480Z",
     "iopub.status.busy": "2020-11-13T22:51:03.782057Z",
     "iopub.status.idle": "2020-11-13T22:51:03.783695Z",
     "shell.execute_reply": "2020-11-13T22:51:03.784138Z"
    }
   },
   "outputs": [],
   "source": [
    "_ = flopy.modflow.ModflowRch(m_tr,rech=rech,ipakcb=50)"
   ]
  },
  {
   "cell_type": "markdown",
   "metadata": {},
   "source": [
    "Just use the same drain as before"
   ]
  },
  {
   "cell_type": "code",
   "execution_count": null,
   "metadata": {
    "execution": {
     "iopub.execute_input": "2020-11-13T22:51:03.786967Z",
     "iopub.status.busy": "2020-11-13T22:51:03.786552Z",
     "iopub.status.idle": "2020-11-13T22:51:03.788596Z",
     "shell.execute_reply": "2020-11-13T22:51:03.789180Z"
    }
   },
   "outputs": [],
   "source": [
    "_ = flopy.modflow.ModflowGhb(m_tr,stress_period_data=m_org.ghb.stress_period_data,ipakcb=50)"
   ]
  },
  {
   "cell_type": "markdown",
   "metadata": {},
   "source": [
    "Now for everyone's fav, `SFR` - sigh.  So, as usual, it takes special handling...."
   ]
  },
  {
   "cell_type": "code",
   "execution_count": null,
   "metadata": {
    "execution": {
     "iopub.execute_input": "2020-11-13T22:51:03.795475Z",
     "iopub.status.busy": "2020-11-13T22:51:03.794817Z",
     "iopub.status.idle": "2020-11-13T22:51:03.797490Z",
     "shell.execute_reply": "2020-11-13T22:51:03.797931Z"
    }
   },
   "outputs": [],
   "source": [
    "m_org.sfr.reach_data"
   ]
  },
  {
   "cell_type": "code",
   "execution_count": null,
   "metadata": {
    "execution": {
     "iopub.execute_input": "2020-11-13T22:51:03.818991Z",
     "iopub.status.busy": "2020-11-13T22:51:03.818534Z",
     "iopub.status.idle": "2020-11-13T22:51:03.873125Z",
     "shell.execute_reply": "2020-11-13T22:51:03.873430Z"
    }
   },
   "outputs": [],
   "source": [
    "# get the org seg and reach data\n",
    "rdata = pd.DataFrame.from_records(m_org.sfr.reach_data)\n",
    "sdata = pd.DataFrame.from_records(m_org.sfr.segment_data[0])\n",
    "rdata = rdata.reindex(np.arange(m_tr.nrow))\n",
    "\n",
    "# define the upstream and downstream channel bottoms\n",
    "# and workout the slope\n",
    "upstrm = 34\n",
    "dwstrm = 33.5\n",
    "total_length = m_tr.dis.delc.array.max() * m_tr.nrow\n",
    "slope = (upstrm - dwstrm) / total_length\n",
    "strtop = np.linspace(upstrm, dwstrm, m_tr.nrow)\n",
    "rdata.loc[:,\"strtop\"] = strtop\n",
    "rdata.loc[:,\"slope\"] = slope\n",
    "\n",
    "# now for the seg data\n",
    "sdata = sdata.reindex(np.arange(m_tr.nrow))\n",
    "for column in sdata.columns:\n",
    "    sdata.loc[:,column] = sdata.loc[0,column]\n",
    "sdata.loc[:,\"nseg\"] = np.arange(m_tr.nrow) + 1\n",
    "sdata.loc[1:,\"flow\"] = 0\n",
    "sdata.loc[:,\"width1\"] = 5.\n",
    "sdata.loc[:,\"width2\"] = 5.\n",
    "sdata.loc[:,\"elevup\"] = strtop\n",
    "sdata.loc[:,\"elevdn\"] = strtop - slope\n",
    "sdata.loc[:,\"outseg\"] = sdata.nseg + 1\n",
    "sdata.loc[m_tr.nrow-1,\"outseg\"] = 0\n",
    "\n",
    "# now for the time-varying inflow mults\n",
    "sdata_dict = {0:sdata.to_records(index=False)}\n",
    "for kper in range(1,m_tr.nper):\n",
    "    kper_sdata = sdata.to_records(index=False)\n",
    "    kper_sdata[\"flow\"] *= season_mults[kper-1]\n",
    "    sdata_dict[kper] = kper_sdata\n",
    "\n",
    "# and now for a new SFR package\n",
    "_ = flopy.modflow.ModflowSfr2(m_tr,nstrm=m_tr.nrow,nss=m_tr.nrow,isfropt=m_org.sfr.isfropt,\n",
    "                          segment_data=sdata_dict,\n",
    "                          reach_data=rdata.to_records(index=False),ipakcb=m_org.sfr.ipakcb,\n",
    "                          istcb2=m_org.sfr.istcb2,reachinput=True)"
   ]
  },
  {
   "cell_type": "markdown",
   "metadata": {},
   "source": [
    "Write the model inputs"
   ]
  },
  {
   "cell_type": "code",
   "execution_count": null,
   "metadata": {
    "execution": {
     "iopub.execute_input": "2020-11-13T22:51:03.875926Z",
     "iopub.status.busy": "2020-11-13T22:51:03.875493Z",
     "iopub.status.idle": "2020-11-13T22:51:04.055333Z",
     "shell.execute_reply": "2020-11-13T22:51:04.055876Z"
    }
   },
   "outputs": [],
   "source": [
    "m_tr.write_input()"
   ]
  },
  {
   "cell_type": "markdown",
   "metadata": {},
   "source": [
    "This little helper function just copies the current OS binaries into the `tr_d` directory so that MODFLOW will actually run - useful!"
   ]
  },
  {
   "cell_type": "code",
   "execution_count": null,
   "metadata": {
    "execution": {
     "iopub.execute_input": "2020-11-13T22:51:04.059382Z",
     "iopub.status.busy": "2020-11-13T22:51:04.058622Z",
     "iopub.status.idle": "2020-11-13T22:51:04.452708Z",
     "shell.execute_reply": "2020-11-13T22:51:04.453236Z"
    }
   },
   "outputs": [],
   "source": [
    "prep_deps.prep_template(tr_d)"
   ]
  },
  {
   "cell_type": "markdown",
   "metadata": {},
   "source": [
    "Now we run the model - let's use the pyemu run helper since it handles OS-specific issues (like appending \".exe\" or prepending \"./\" if needed)"
   ]
  },
  {
   "cell_type": "code",
   "execution_count": null,
   "metadata": {
    "execution": {
     "iopub.execute_input": "2020-11-13T22:51:04.456664Z",
     "iopub.status.busy": "2020-11-13T22:51:04.456079Z",
     "iopub.status.idle": "2020-11-13T22:51:05.211560Z",
     "shell.execute_reply": "2020-11-13T22:51:05.212392Z"
    }
   },
   "outputs": [],
   "source": [
    "pyemu.os_utils.run(\"mfnwt {0}\".format(tr_nam),cwd=tr_d)"
   ]
  },
  {
   "cell_type": "markdown",
   "metadata": {},
   "source": [
    "So let's post-process the run and make sure everything is cool"
   ]
  },
  {
   "cell_type": "code",
   "execution_count": null,
   "metadata": {
    "execution": {
     "iopub.execute_input": "2020-11-13T22:51:05.216771Z",
     "iopub.status.busy": "2020-11-13T22:51:05.216277Z",
     "iopub.status.idle": "2020-11-13T22:51:05.522106Z",
     "shell.execute_reply": "2020-11-13T22:51:05.523016Z"
    }
   },
   "outputs": [],
   "source": [
    "hds = flopy.utils.HeadFile(os.path.join(tr_d,tr_nam+\".hds\"), model=m_tr)\n",
    "hds.plot()"
   ]
  },
  {
   "cell_type": "code",
   "execution_count": null,
   "metadata": {
    "execution": {
     "iopub.execute_input": "2020-11-13T22:51:05.527116Z",
     "iopub.status.busy": "2020-11-13T22:51:05.526519Z",
     "iopub.status.idle": "2020-11-13T22:51:05.560454Z",
     "shell.execute_reply": "2020-11-13T22:51:05.561082Z"
    }
   },
   "outputs": [],
   "source": [
    "lst = flopy.utils.MfListBudget(os.path.join(tr_d,tr_nam+\".list\"))"
   ]
  },
  {
   "cell_type": "code",
   "execution_count": null,
   "metadata": {
    "execution": {
     "iopub.execute_input": "2020-11-13T22:51:05.595157Z",
     "iopub.status.busy": "2020-11-13T22:51:05.594584Z",
     "iopub.status.idle": "2020-11-13T22:51:06.801069Z",
     "shell.execute_reply": "2020-11-13T22:51:06.801623Z"
    }
   },
   "outputs": [],
   "source": [
    "flx,vol = lst.get_dataframes(diff=True,start_datetime=m_tr.start_datetime)\n",
    "flx.plot(subplots=True,figsize=(20,20))"
   ]
  },
  {
   "cell_type": "markdown",
   "metadata": {},
   "source": [
    "Important take away: notice how the stream leakage flux is out of phase with both `WEL` and `RCH`  - this should make for some interesting results later!"
   ]
  },
  {
   "cell_type": "markdown",
   "metadata": {},
   "source": [
    "Now we need to get the MODPATH files into the `tr_d` directory for later:"
   ]
  },
  {
   "cell_type": "code",
   "execution_count": null,
   "metadata": {
    "execution": {
     "iopub.execute_input": "2020-11-13T22:51:06.805286Z",
     "iopub.status.busy": "2020-11-13T22:51:06.804797Z",
     "iopub.status.idle": "2020-11-13T22:51:06.814622Z",
     "shell.execute_reply": "2020-11-13T22:51:06.814046Z"
    }
   },
   "outputs": [],
   "source": [
    "mp_files = [f for f in os.listdir(org_d) if \"mp\" in f or \"location\" in f]\n",
    "[shutil.copy2(os.path.join(org_d,f),os.path.join(tr_d)) for f in mp_files]"
   ]
  },
  {
   "cell_type": "markdown",
   "metadata": {},
   "source": [
    "Let's write some generic porosity arrays and make sure MODPATH runs:"
   ]
  },
  {
   "cell_type": "code",
   "execution_count": null,
   "metadata": {
    "execution": {
     "iopub.execute_input": "2020-11-13T22:51:06.817995Z",
     "iopub.status.busy": "2020-11-13T22:51:06.817477Z",
     "iopub.status.idle": "2020-11-13T22:51:06.821458Z",
     "shell.execute_reply": "2020-11-13T22:51:06.821959Z"
    }
   },
   "outputs": [],
   "source": [
    "for k in range(m_tr.nlay):\n",
    "    np.savetxt(os.path.join(tr_d,\"prsity_layer_{0}.ref\".format(k+1)),np.zeros((m_tr.nrow,m_tr.ncol))+0.0005,fmt=\"%15.6E\")"
   ]
  },
  {
   "cell_type": "code",
   "execution_count": null,
   "metadata": {
    "execution": {
     "iopub.execute_input": "2020-11-13T22:51:06.824606Z",
     "iopub.status.busy": "2020-11-13T22:51:06.824121Z",
     "iopub.status.idle": "2020-11-13T22:51:06.958886Z",
     "shell.execute_reply": "2020-11-13T22:51:06.959557Z"
    }
   },
   "outputs": [],
   "source": [
    "pyemu.os_utils.run(\"mp6 freyberg.mpsim\",cwd=tr_d)"
   ]
  },
  {
   "cell_type": "code",
   "execution_count": null,
   "metadata": {
    "execution": {
     "iopub.execute_input": "2020-11-13T22:51:06.963156Z",
     "iopub.status.busy": "2020-11-13T22:51:06.962381Z",
     "iopub.status.idle": "2020-11-13T22:51:06.967627Z",
     "shell.execute_reply": "2020-11-13T22:51:06.966527Z"
    }
   },
   "outputs": [],
   "source": [
    "[print (i.rstrip()) for i in open(\"temp_history/freyberg.mpenpt\",'r').readlines()]"
   ]
  },
  {
   "cell_type": "code",
   "execution_count": null,
   "metadata": {},
   "outputs": [],
   "source": []
  },
  {
   "cell_type": "code",
   "execution_count": null,
   "metadata": {},
   "outputs": [],
   "source": []
  }
 ],
 "metadata": {
  "kernelspec": {
   "display_name": "Python 3",
   "language": "python",
   "name": "python3"
  },
  "language_info": {
   "codemirror_mode": {
    "name": "ipython",
    "version": 3
   },
   "file_extension": ".py",
   "mimetype": "text/x-python",
   "name": "python",
   "nbconvert_exporter": "python",
   "pygments_lexer": "ipython3",
   "version": "3.8.3"
  }
 },
 "nbformat": 4,
 "nbformat_minor": 2
}
