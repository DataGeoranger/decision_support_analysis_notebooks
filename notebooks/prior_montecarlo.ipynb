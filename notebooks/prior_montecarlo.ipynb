{
 "cells": [
  {
   "cell_type": "markdown",
   "metadata": {},
   "source": [
    "# Run and process the prior monte carlo\n",
    "\n",
    "Prior-based (or \"unconstrained\") Monte Carlo is a great but highly underused analysis.  It doesnt require much in terms of algorithmic controls and forces you to think about the Prior parameter distribution - both the mean vector (i.e. initial parameter values) and the prior parameter covariance matrix.  It also let's investigate model stability (across the prior range and also start to think critically about what observations the model will be able to match. \n",
    "\n",
    "The use of the multiplier parameter process allows us to easily generate a (semi-)meaningful Prior by using the existing model inputs as the mean vector and then using expected ranges and expected correlations (variograms) for the spatially-distributed inputs.  Sweet as!"
   ]
  },
  {
   "cell_type": "code",
   "execution_count": null,
   "metadata": {},
   "outputs": [],
   "source": []
  },
  {
   "cell_type": "code",
   "execution_count": null,
   "metadata": {
    "execution": {
     "iopub.execute_input": "2020-11-13T04:34:17.322288Z",
     "iopub.status.busy": "2020-11-13T04:34:17.321499Z",
     "iopub.status.idle": "2020-11-13T04:34:18.035726Z",
     "shell.execute_reply": "2020-11-13T04:34:18.036243Z"
    }
   },
   "outputs": [],
   "source": [
    "import os\n",
    "import shutil\n",
    "import numpy as np\n",
    "import pandas as pd\n",
    "import matplotlib.pyplot as plt\n",
    "import matplotlib as mpl\n",
    "plt.rcParams['font.size']=12\n",
    "import flopy\n",
    "import pyemu\n",
    "%matplotlib inline"
   ]
  },
  {
   "cell_type": "markdown",
   "metadata": {},
   "source": [
    "## SUPER IMPORTANT: SET HOW MANY PARALLEL WORKERS TO USE"
   ]
  },
  {
   "cell_type": "code",
   "execution_count": null,
   "metadata": {
    "execution": {
     "iopub.execute_input": "2020-11-13T04:34:18.039615Z",
     "iopub.status.busy": "2020-11-13T04:34:18.039131Z",
     "iopub.status.idle": "2020-11-13T04:34:18.041402Z",
     "shell.execute_reply": "2020-11-13T04:34:18.040834Z"
    }
   },
   "outputs": [],
   "source": [
    "num_workers = 5"
   ]
  },
  {
   "cell_type": "markdown",
   "metadata": {},
   "source": [
    "Load the model and visual to job your memory..."
   ]
  },
  {
   "cell_type": "code",
   "execution_count": null,
   "metadata": {
    "execution": {
     "iopub.execute_input": "2020-11-13T04:34:18.044156Z",
     "iopub.status.busy": "2020-11-13T04:34:18.043683Z",
     "iopub.status.idle": "2020-11-13T04:34:18.094139Z",
     "shell.execute_reply": "2020-11-13T04:34:18.093660Z"
    }
   },
   "outputs": [],
   "source": [
    "t_d = \"template_history\"\n",
    "m = flopy.modflow.Modflow.load(\"freyberg.nam\",model_ws=t_d,check=False,forgive=False)"
   ]
  },
  {
   "cell_type": "code",
   "execution_count": null,
   "metadata": {
    "execution": {
     "iopub.execute_input": "2020-11-13T04:34:18.109305Z",
     "iopub.status.busy": "2020-11-13T04:34:18.108819Z",
     "iopub.status.idle": "2020-11-13T04:34:18.233726Z",
     "shell.execute_reply": "2020-11-13T04:34:18.234239Z"
    }
   },
   "outputs": [],
   "source": [
    "# plot some model attributes\n",
    "fig = plt.figure(figsize=(12,7))\n",
    "ax = plt.subplot(111,aspect=\"equal\")\n",
    "mm = flopy.plot.PlotMapView(model=m)\n",
    "mm.plot_grid()\n",
    "mm.plot_ibound()\n",
    "mm.plot_bc('SFR')\n",
    "mm.plot_bc(\"GHB\")\n",
    "ax = mm.ax\n",
    "#m.wel.stress_period_data.plot(ax=ax,mflay=2)\n",
    "\n",
    "# plot obs locations\n",
    "obs = pd.read_csv(os.path.join(\"..\",\"base_model_files\",\"obs_loc.csv\"))\n",
    "                  \n",
    "obs_x = [m.sr.xcentergrid[r-1,c-1] for r,c in obs.loc[:,[\"row\",\"col\"]].values]\n",
    "obs_y = [m.sr.ycentergrid[r-1,c-1] for r,c in obs.loc[:,[\"row\",\"col\"]].values]\n",
    "ax.scatter(obs_x,obs_y,marker='.',label=\"water-level obs\",s=80)\n",
    "\n",
    "#plot names on the pumping well locations\n",
    "wel_data = m.wel.stress_period_data[0]\n",
    "wel_x = m.sr.xcentergrid[wel_data[\"i\"],wel_data[\"j\"]]\n",
    "wel_y = m.sr.ycentergrid[wel_data[\"i\"],wel_data[\"j\"]]\n",
    "for i,(x,y) in enumerate(zip(wel_x,wel_y)):\n",
    "    ax.scatter([x],[y],color=\"red\",marker=\"s\",s=50)\n",
    "    #ax.text(x,y,\"{0}\".format(i+1),ha=\"center\",va=\"center\")\n",
    "\n",
    "ax.set_ylabel(\"y(m)\")\n",
    "ax.set_xlabel(\"x(m)\")\n",
    "plt.show()"
   ]
  },
  {
   "cell_type": "markdown",
   "metadata": {},
   "source": [
    "read in the PEST control file that we constructed in the `setup_interface_notebook`"
   ]
  },
  {
   "cell_type": "code",
   "execution_count": null,
   "metadata": {
    "execution": {
     "iopub.execute_input": "2020-11-13T04:34:18.239043Z",
     "iopub.status.busy": "2020-11-13T04:34:18.238545Z",
     "iopub.status.idle": "2020-11-13T04:34:18.430762Z",
     "shell.execute_reply": "2020-11-13T04:34:18.431193Z"
    }
   },
   "outputs": [],
   "source": [
    "pst = pyemu.Pst(os.path.join(t_d,\"freyberg.pst\"))\n",
    "pst.npar,pst.nobs"
   ]
  },
  {
   "cell_type": "markdown",
   "metadata": {},
   "source": [
    "Load the previously generated parameter ensemble and inspect (again!)..."
   ]
  },
  {
   "cell_type": "code",
   "execution_count": null,
   "metadata": {
    "execution": {
     "iopub.execute_input": "2020-11-13T04:34:18.434089Z",
     "iopub.status.busy": "2020-11-13T04:34:18.433685Z",
     "iopub.status.idle": "2020-11-13T04:34:19.266956Z",
     "shell.execute_reply": "2020-11-13T04:34:19.266505Z"
    }
   },
   "outputs": [],
   "source": [
    "pe = pyemu.ParameterEnsemble.from_binary(pst=pst,filename=os.path.join(t_d,\"prior.jcb\"))\n",
    "#pe.loc[:,should_fix] = 1.0\n",
    "pe.iloc[:50,:].to_csv(os.path.join(t_d,\"sweep_in.csv\"))\n",
    "pe.shape"
   ]
  },
  {
   "cell_type": "code",
   "execution_count": null,
   "metadata": {
    "execution": {
     "iopub.execute_input": "2020-11-13T04:34:19.279559Z",
     "iopub.status.busy": "2020-11-13T04:34:19.274915Z",
     "iopub.status.idle": "2020-11-13T04:34:19.283492Z",
     "shell.execute_reply": "2020-11-13T04:34:19.284472Z"
    }
   },
   "outputs": [],
   "source": [
    "pe.loc[:,pst.par_names[0]]"
   ]
  },
  {
   "cell_type": "code",
   "execution_count": null,
   "metadata": {
    "execution": {
     "iopub.execute_input": "2020-11-13T04:34:19.288842Z",
     "iopub.status.busy": "2020-11-13T04:34:19.288414Z",
     "iopub.status.idle": "2020-11-13T04:34:19.438785Z",
     "shell.execute_reply": "2020-11-13T04:34:19.439215Z"
    }
   },
   "outputs": [],
   "source": [
    "pe.loc[:,pst.par_names[0]].hist(bins=50,facecolor=\"0.5\")"
   ]
  },
  {
   "cell_type": "markdown",
   "metadata": {},
   "source": [
    "look! hk is log-normal-ish"
   ]
  },
  {
   "cell_type": "markdown",
   "metadata": {},
   "source": [
    "Lets run the first realization through the pest interface for a test:"
   ]
  },
  {
   "cell_type": "code",
   "execution_count": null,
   "metadata": {
    "execution": {
     "iopub.execute_input": "2020-11-13T04:34:19.445731Z",
     "iopub.status.busy": "2020-11-13T04:34:19.445321Z",
     "iopub.status.idle": "2020-11-13T04:34:28.765333Z",
     "shell.execute_reply": "2020-11-13T04:34:28.765838Z"
    }
   },
   "outputs": [],
   "source": [
    "# replace the par vals with the first row in the par ensemble\n",
    "pst.parameter_data.loc[pe.columns,\"parval1\"] = pe.iloc[0,:]\n",
    "pst.control_data.noptmax = 0\n",
    "pst.pestpp_options[\"overdue_giveup_fac\"] = 1.5\n",
    "# save the control file and execute!\n",
    "pst.write(os.path.join(t_d,\"test.pst\"))\n",
    "pyemu.os_utils.run(\"pestpp-ies test.pst\",cwd=t_d)\n",
    "res = pyemu.pst_utils.read_resfile(os.path.join(t_d,\"test.base.rei\"))\n",
    "res.loc[pst.nnz_obs_names,:]"
   ]
  },
  {
   "cell_type": "code",
   "execution_count": null,
   "metadata": {
    "execution": {
     "iopub.execute_input": "2020-11-13T04:34:28.768841Z",
     "iopub.status.busy": "2020-11-13T04:34:28.768385Z",
     "iopub.status.idle": "2020-11-13T04:34:28.771586Z",
     "shell.execute_reply": "2020-11-13T04:34:28.771076Z"
    }
   },
   "outputs": [],
   "source": [
    "[f for f in os.listdir(t_d) if f.startswith(\"test\")]"
   ]
  },
  {
   "cell_type": "markdown",
   "metadata": {},
   "source": [
    "Let's plot obs vs sim and see what we learned..."
   ]
  },
  {
   "cell_type": "code",
   "execution_count": null,
   "metadata": {
    "execution": {
     "iopub.execute_input": "2020-11-13T04:34:28.781573Z",
     "iopub.status.busy": "2020-11-13T04:34:28.781094Z",
     "iopub.status.idle": "2020-11-13T04:34:30.648427Z",
     "shell.execute_reply": "2020-11-13T04:34:30.648874Z"
    }
   },
   "outputs": [],
   "source": [
    "nz_obs = pst.observation_data.loc[pst.nnz_obs_names,:].copy()\n",
    "nz_obs.loc[:,\"datetime\"] = pd.to_datetime(nz_obs.obsnme.apply(lambda x: x.split(\"_\")[-1]))    \n",
    "for nz_group in pst.nnz_obs_groups:\n",
    "    nz_obs_group = nz_obs.loc[nz_obs.obgnme==nz_group,:]\n",
    "    fig,ax = plt.subplots(1,1,figsize=(10,2))\n",
    "    ax.plot(nz_obs_group.datetime,nz_obs_group.obsval,\"r-\",label=\"observed\")\n",
    "    ax.plot(nz_obs_group.datetime,pst.res.loc[nz_obs_group.obsnme,\"modelled\"],color=\"0.5\",label=\"simulated\")\n",
    "    ax.set_title(nz_group)\n",
    "    ax.legend()\n",
    "plt.show()"
   ]
  },
  {
   "cell_type": "markdown",
   "metadata": {},
   "source": [
    "Any comments here?  Did we learn anything about our model (or more importantly, the forecasts???)?"
   ]
  },
  {
   "cell_type": "markdown",
   "metadata": {},
   "source": [
    "### run the prior ensemble in parallel locally\n",
    "This takes advantage of the program `pestpp-swp` which runs a parameter sweep through a set of parameters in parallel using locally-avaible resources.  Remember that `num_workers` arg above?\n",
    "\n",
    "By default, `pestpp-swp` reads in the ensemble from a file called `sweep_in.csv` which in this case we made just above."
   ]
  },
  {
   "cell_type": "code",
   "execution_count": null,
   "metadata": {
    "execution": {
     "iopub.execute_input": "2020-11-13T04:34:30.671959Z",
     "iopub.status.busy": "2020-11-13T04:34:30.671454Z",
     "iopub.status.idle": "2020-11-13T04:34:31.334883Z",
     "shell.execute_reply": "2020-11-13T04:34:31.335304Z"
    }
   },
   "outputs": [],
   "source": [
    "m_d = \"master_prior_sweep\"\n",
    "pst = pyemu.Pst(os.path.join(t_d,\"freyberg.pst\"))\n",
    "pst.pestpp_options[\"overdue_giveup_fac\"] = 5.0\n",
    "pst.write(os.path.join(t_d,\"freyberg_sweep.pst\"))\n",
    "\n"
   ]
  },
  {
   "cell_type": "code",
   "execution_count": null,
   "metadata": {
    "execution": {
     "iopub.execute_input": "2020-11-13T04:34:31.338311Z",
     "iopub.status.busy": "2020-11-13T04:34:31.337737Z",
     "iopub.status.idle": "2020-11-13T04:39:30.664785Z",
     "shell.execute_reply": "2020-11-13T04:39:30.665357Z"
    }
   },
   "outputs": [],
   "source": [
    "pyemu.os_utils.start_workers(t_d,\"pestpp-swp\",\"freyberg_sweep.pst\",\n",
    "                             num_workers=num_workers,worker_root=\".\",master_dir=m_d,)"
   ]
  },
  {
   "cell_type": "markdown",
   "metadata": {},
   "source": [
    "Feel free to switch over to the terminal/command line to watch the progress..."
   ]
  },
  {
   "cell_type": "markdown",
   "metadata": {},
   "source": [
    "### Load the output ensemble and plot a few things\n",
    "\n",
    "by default, PESTPP-SWP writes the results of the parametric sweep to a csv file called `sweep_out.csv`.  This file has columns for each observation listed in the control file, plus columns for total phi and phi for each observation group (calculated using the weights in the control file).  It also has columns for the `input_run_id` and `failed_flag` to help you align these outputs with the inputs and also track any failed runs\n",
    "\n"
   ]
  },
  {
   "cell_type": "code",
   "execution_count": null,
   "metadata": {
    "execution": {
     "iopub.execute_input": "2020-11-13T04:39:30.669305Z",
     "iopub.status.busy": "2020-11-13T04:39:30.668832Z",
     "iopub.status.idle": "2020-11-13T04:39:30.991653Z",
     "shell.execute_reply": "2020-11-13T04:39:30.992152Z"
    }
   },
   "outputs": [],
   "source": [
    "obs_df = pd.read_csv(os.path.join(m_d,\"sweep_out.csv\"),index_col=0)\n",
    "print('number of realization in the ensemble before dropping: ' + str(obs_df.shape[0]))"
   ]
  },
  {
   "cell_type": "markdown",
   "metadata": {},
   "source": [
    "drop any failed runs "
   ]
  },
  {
   "cell_type": "code",
   "execution_count": null,
   "metadata": {
    "execution": {
     "iopub.execute_input": "2020-11-13T04:39:30.998516Z",
     "iopub.status.busy": "2020-11-13T04:39:30.998054Z",
     "iopub.status.idle": "2020-11-13T04:39:31.000236Z",
     "shell.execute_reply": "2020-11-13T04:39:31.000588Z"
    }
   },
   "outputs": [],
   "source": [
    "obs_df = obs_df.loc[obs_df.failed_flag==0,:]\n",
    "print('number of realization in the ensemble **after** dropping: ' + str(obs_df.shape[0]))"
   ]
  },
  {
   "cell_type": "code",
   "execution_count": null,
   "metadata": {
    "execution": {
     "iopub.execute_input": "2020-11-13T04:39:31.009094Z",
     "iopub.status.busy": "2020-11-13T04:39:31.008507Z",
     "iopub.status.idle": "2020-11-13T04:39:31.010819Z",
     "shell.execute_reply": "2020-11-13T04:39:31.011322Z"
    }
   },
   "outputs": [],
   "source": [
    "obs_df.iloc[0,:]"
   ]
  },
  {
   "cell_type": "markdown",
   "metadata": {},
   "source": [
    "Lets plot stochastic (ensemble-based) 1-to-1 plots"
   ]
  },
  {
   "cell_type": "code",
   "execution_count": null,
   "metadata": {
    "execution": {
     "iopub.execute_input": "2020-11-13T04:39:31.014027Z",
     "iopub.status.busy": "2020-11-13T04:39:31.013567Z",
     "iopub.status.idle": "2020-11-13T04:39:34.064673Z",
     "shell.execute_reply": "2020-11-13T04:39:34.064131Z"
    }
   },
   "outputs": [],
   "source": [
    "pyemu.plot_utils.ensemble_res_1to1(obs_df,pst)"
   ]
  },
  {
   "cell_type": "code",
   "execution_count": null,
   "metadata": {},
   "outputs": [],
   "source": []
  },
  {
   "cell_type": "markdown",
   "metadata": {},
   "source": [
    "### confirm which quantities were identified as forecasts"
   ]
  },
  {
   "cell_type": "code",
   "execution_count": null,
   "metadata": {
    "execution": {
     "iopub.execute_input": "2020-11-13T04:39:34.068374Z",
     "iopub.status.busy": "2020-11-13T04:39:34.067704Z",
     "iopub.status.idle": "2020-11-13T04:39:34.070107Z",
     "shell.execute_reply": "2020-11-13T04:39:34.070536Z"
    }
   },
   "outputs": [],
   "source": [
    "pst.forecast_names"
   ]
  },
  {
   "cell_type": "markdown",
   "metadata": {},
   "source": [
    "now we can plot the distributions of each forecast and also show the \"truth\" "
   ]
  },
  {
   "cell_type": "code",
   "execution_count": null,
   "metadata": {
    "execution": {
     "iopub.execute_input": "2020-11-13T04:39:34.086156Z",
     "iopub.status.busy": "2020-11-13T04:39:34.082335Z",
     "iopub.status.idle": "2020-11-13T04:39:34.533076Z",
     "shell.execute_reply": "2020-11-13T04:39:34.533512Z"
    }
   },
   "outputs": [],
   "source": [
    "for forecast in pst.forecast_names:\n",
    "    plt.figure()\n",
    "    ax = obs_df.loc[:,forecast].plot(kind=\"hist\",color=\"0.5\",alpha=0.5)\n",
    "    ax.set_title(forecast)\n",
    "    fval = pst.observation_data.loc[forecast,\"obsval\"]\n",
    "    ax.plot([fval,fval],ax.get_ylim(),\"r-\")"
   ]
  },
  {
   "cell_type": "markdown",
   "metadata": {},
   "source": [
    "### Many modeling analyses could stop right here to avoid the ill-effects of history matching...\n",
    "\n",
    "we see that for all forecasts, the prior forecast PDF covers the truth.  Are the uncertainty (e.g. variance) unacceptably wide? If not, your done!  If the variance is too large, then you might be able be justified in trying to reduce forecast uncertainty throught history matching if you have foreacst-sensitive data and if the model is amenable to assimilating these data...stay tuned!"
   ]
  },
  {
   "cell_type": "markdown",
   "metadata": {},
   "source": [
    "### Some foreshadowing: let's also plot observed vs (stochastic) simulated:"
   ]
  },
  {
   "cell_type": "code",
   "execution_count": null,
   "metadata": {
    "execution": {
     "iopub.execute_input": "2020-11-13T04:39:34.543915Z",
     "iopub.status.busy": "2020-11-13T04:39:34.543465Z",
     "iopub.status.idle": "2020-11-13T04:39:39.180942Z",
     "shell.execute_reply": "2020-11-13T04:39:39.180165Z"
    }
   },
   "outputs": [],
   "source": [
    "nz_obs = pst.observation_data.loc[pst.nnz_obs_names,:].copy()\n",
    "nz_obs.loc[:,\"datetime\"] = pd.to_datetime(nz_obs.obsnme.apply(lambda x: x.split(\"_\")[-1]))\n",
    "pst_base = pyemu.Pst(os.path.join(t_d,\"freyberg.pst\"))\n",
    "for nz_group in pst.nnz_obs_groups:\n",
    "    nz_obs_group = nz_obs.loc[nz_obs.obgnme==nz_group,:]\n",
    "    fig,ax = plt.subplots(1,1,figsize=(10,2))\n",
    "    \n",
    "    [ax.plot(nz_obs_group.datetime,obs_df.loc[r,nz_obs_group.obsnme],color=\"0.5\",lw=0.1) for r in obs_df.index]\n",
    "    #[ax.plot(nz_obs_group.datetime,oe_pt.loc[r,nz_obs_group.obsnme],color=\"b\",lw=0.1,alpha=0.5) for r in oe_pt.index]\n",
    "    ax.plot(nz_obs_group.datetime,nz_obs_group.obsval,\"r-\")\n",
    "    #[ax.plot(nz_obs_group.datetime,oe_base.loc[r,nz_obs_group.obsnme],color=\"r\",lw=0.1,alpha=0.5) for r in oe_base.index]\n",
    "    \n",
    "    ax.set_title(nz_group)\n",
    "    #vmin = min(nz_obs_group.obsval.min(),oe_pt.loc[:,nz_obs_group.obsnme].min().min())\n",
    "    #vmax = max(nz_obs_group.obsval.max(),oe_pt.loc[:,nz_obs_group.obsnme].max().max())\n",
    "    vmin = nz_obs_group.obsval.min() * 0.9\n",
    "    vmax = nz_obs_group.obsval.max() * 1.1\n",
    "    ax.set_ylim(vmin,vmax)\n",
    "plt.show()"
   ]
  },
  {
   "cell_type": "code",
   "execution_count": null,
   "metadata": {
    "execution": {
     "iopub.execute_input": "2020-11-13T04:39:39.185375Z",
     "iopub.status.busy": "2020-11-13T04:39:39.184990Z",
     "iopub.status.idle": "2020-11-13T04:39:41.890333Z",
     "shell.execute_reply": "2020-11-13T04:39:41.890794Z"
    }
   },
   "outputs": [],
   "source": [
    "pyemu.plot.plot_utils.ensemble_res_1to1(obs_df,pst)"
   ]
  },
  {
   "cell_type": "markdown",
   "metadata": {},
   "source": [
    "### Everything ok with these plots?  Any comments?\n",
    "\n",
    "We are used to looking at obs vs sim for the single (deterministic case).  But visualizing obs vs sim from a prior Monte Carlo is far more valuable in terms of understanding what your model is doing and what is it capable of doing.\n",
    "\n",
    "Conceptually, the prior ensemble shows the range of outputs the model yields using maximum expected parameter uncertainty (encapsulated in the Prior). So if this maximum range doesnt cover the observed value, how much parameter adjustment will it take to match these observations?  "
   ]
  },
  {
   "cell_type": "markdown",
   "metadata": {},
   "source": [
    "### #dividends: Since we carried the final stress period sim water levels, we can now plot those just from the observation ensembles\n",
    "\n",
    "When we move to an ensemble-based analysis, it is important to carry as many model outputs as possible in the PEST interface so that they are \"recorded\" during the ensemble evaluations.  Compared to deterministic analyses, the cost of getting new outputs is much higher..."
   ]
  },
  {
   "cell_type": "code",
   "execution_count": null,
   "metadata": {
    "execution": {
     "iopub.execute_input": "2020-11-13T04:39:41.944229Z",
     "iopub.status.busy": "2020-11-13T04:39:41.920886Z",
     "iopub.status.idle": "2020-11-13T04:39:43.272115Z",
     "shell.execute_reply": "2020-11-13T04:39:43.272547Z"
    }
   },
   "outputs": [],
   "source": [
    "obs = pst.observation_data\n",
    "hds_obs = obs.loc[obs.obsnme.apply(lambda x: x.startswith(\"hds_\") and x.endswith(\"{0:03d}\".format(m.nper-1))),:].copy()\n",
    "hds_obs.loc[:,\"i\"] = hds_obs.obsnme.apply(lambda x: int(x.split('_')[2]))\n",
    "hds_obs.loc[:,\"j\"] = hds_obs.obsnme.apply(lambda x: int(x.split('_')[3]))\n",
    "hds_obs.loc[:,\"k\"] = hds_obs.obsnme.apply(lambda x: int(x.split('_')[1]))\n",
    "\n",
    "ib = m.bas6.ibound.array\n",
    "def plot_real(real):\n",
    "    pr_arr = np.zeros((m.nlay,m.nrow,m.ncol))\n",
    "    pr_arr[hds_obs.k,hds_obs.i,hds_obs.j] = obs_df.loc[real,hds_obs.obsnme]\n",
    "    pr_arr[ib==0] = np.NaN\n",
    "    #vmin = obs_df.loc[:,hds_obs.obsnme].min().min()\n",
    "    #vmax = obs_df.loc[:,hds_obs.obsnme].max().max()\n",
    "    \n",
    "    fig,axes = plt.subplots(1,3,figsize=(10,4))\n",
    "    for k in range(m.nlay):\n",
    "        cb = axes[k].imshow(pr_arr[k,:,:])\n",
    "        plt.colorbar(cb,ax=axes[k])\n",
    "    plt.show()\n",
    "plot_real(obs_df.index[0])\n",
    "plot_real(obs_df.index[1])\n",
    "plot_real(obs_df.index[2])\n",
    "plot_real(obs_df.index[3])"
   ]
  },
  {
   "cell_type": "markdown",
   "metadata": {},
   "source": [
    "### Run prior Monte Carlo with a diagonal prior parameter covariance matrix\n",
    "\n",
    "We can also do a cheap Monte Carlo analysis using PESTPP-IES.  When `noptmax` is set to -1, PESTPP-IES runs a prior monte carlo and quits.  By default, PESTPP-IES uses 50 realizations so we can just fire it up!"
   ]
  },
  {
   "cell_type": "code",
   "execution_count": null,
   "metadata": {
    "execution": {
     "iopub.execute_input": "2020-11-13T04:39:43.275603Z",
     "iopub.status.busy": "2020-11-13T04:39:43.274866Z",
     "iopub.status.idle": "2020-11-13T04:39:43.277409Z",
     "shell.execute_reply": "2020-11-13T04:39:43.277816Z"
    }
   },
   "outputs": [],
   "source": [
    "pst.pestpp_options"
   ]
  },
  {
   "cell_type": "code",
   "execution_count": null,
   "metadata": {
    "execution": {
     "iopub.execute_input": "2020-11-13T04:39:43.290477Z",
     "iopub.status.busy": "2020-11-13T04:39:43.290005Z",
     "iopub.status.idle": "2020-11-13T04:39:43.819065Z",
     "shell.execute_reply": "2020-11-13T04:39:43.819499Z"
    }
   },
   "outputs": [],
   "source": [
    "pst.control_data.noptmax = -1\n",
    "pst.write(os.path.join(t_d,\"freyberg_diagprior.pst\"))"
   ]
  },
  {
   "cell_type": "code",
   "execution_count": null,
   "metadata": {
    "execution": {
     "iopub.execute_input": "2020-11-13T04:39:43.822113Z",
     "iopub.status.busy": "2020-11-13T04:39:43.821639Z",
     "iopub.status.idle": "2020-11-13T04:39:43.822988Z",
     "shell.execute_reply": "2020-11-13T04:39:43.823416Z"
    }
   },
   "outputs": [],
   "source": [
    "m_d = \"master_diagonal_prior_monte_carlo\" "
   ]
  },
  {
   "cell_type": "code",
   "execution_count": null,
   "metadata": {
    "execution": {
     "iopub.execute_input": "2020-11-13T04:39:43.825800Z",
     "iopub.status.busy": "2020-11-13T04:39:43.825402Z",
     "iopub.status.idle": "2020-11-13T04:45:50.339945Z",
     "shell.execute_reply": "2020-11-13T04:45:50.340474Z"
    }
   },
   "outputs": [],
   "source": [
    "pyemu.os_utils.start_workers(t_d,\"pestpp-ies\",\"freyberg_diagprior.pst\",num_workers=num_workers,\n",
    "                             master_dir=m_d)"
   ]
  },
  {
   "cell_type": "code",
   "execution_count": null,
   "metadata": {
    "execution": {
     "iopub.execute_input": "2020-11-13T04:45:50.344206Z",
     "iopub.status.busy": "2020-11-13T04:45:50.343731Z",
     "iopub.status.idle": "2020-11-13T04:45:50.631499Z",
     "shell.execute_reply": "2020-11-13T04:45:50.631988Z"
    }
   },
   "outputs": [],
   "source": [
    "obs_df = pd.read_csv(os.path.join(m_d,\"freyberg_diagprior.0.obs.csv\"),index_col=0)"
   ]
  },
  {
   "cell_type": "code",
   "execution_count": null,
   "metadata": {
    "execution": {
     "iopub.execute_input": "2020-11-13T04:45:50.654339Z",
     "iopub.status.busy": "2020-11-13T04:45:50.653313Z",
     "iopub.status.idle": "2020-11-13T04:45:51.172142Z",
     "shell.execute_reply": "2020-11-13T04:45:51.172658Z"
    }
   },
   "outputs": [],
   "source": [
    "for forecast in pst.forecast_names:\n",
    "    plt.figure()\n",
    "    ax = obs_df.loc[:,forecast].plot(kind=\"hist\",color=\"0.5\",alpha=0.5)\n",
    "    ax.set_title(forecast)\n",
    "    fval = pst.observation_data.loc[forecast,\"obsval\"]\n",
    "    ax.plot([fval,fval],ax.get_ylim(),\"r-\")"
   ]
  },
  {
   "cell_type": "code",
   "execution_count": null,
   "metadata": {
    "execution": {
     "iopub.execute_input": "2020-11-13T04:45:51.194990Z",
     "iopub.status.busy": "2020-11-13T04:45:51.183610Z",
     "iopub.status.idle": "2020-11-13T04:45:55.767513Z",
     "shell.execute_reply": "2020-11-13T04:45:55.767006Z"
    }
   },
   "outputs": [],
   "source": [
    "nz_obs = pst.observation_data.loc[pst.nnz_obs_names,:].copy()\n",
    "nz_obs.loc[:,\"datetime\"] = pd.to_datetime(nz_obs.obsnme.apply(lambda x: x.split(\"_\")[-1]))\n",
    "pst_base = pyemu.Pst(os.path.join(t_d,\"freyberg.pst\"))\n",
    "for nz_group in pst.nnz_obs_groups:\n",
    "    nz_obs_group = nz_obs.loc[nz_obs.obgnme==nz_group,:]\n",
    "    fig,ax = plt.subplots(1,1,figsize=(10,2))\n",
    "    \n",
    "    [ax.plot(nz_obs_group.datetime,obs_df.loc[r,nz_obs_group.obsnme],color=\"0.5\",lw=0.1) for r in obs_df.index]\n",
    "    #[ax.plot(nz_obs_group.datetime,oe_pt.loc[r,nz_obs_group.obsnme],color=\"b\",lw=0.1,alpha=0.5) for r in oe_pt.index]\n",
    "    ax.plot(nz_obs_group.datetime,nz_obs_group.obsval,\"r-\")\n",
    "    #[ax.plot(nz_obs_group.datetime,oe_base.loc[r,nz_obs_group.obsnme],color=\"r\",lw=0.1,alpha=0.5) for r in oe_base.index]\n",
    "    \n",
    "    ax.set_title(nz_group)\n",
    "    #vmin = min(nz_obs_group.obsval.min(),oe_pt.loc[:,nz_obs_group.obsnme].min().min())\n",
    "    #vmax = max(nz_obs_group.obsval.max(),oe_pt.loc[:,nz_obs_group.obsnme].max().max())\n",
    "    vmin = nz_obs_group.obsval.min() * 0.9\n",
    "    vmax = nz_obs_group.obsval.max() * 1.1\n",
    "    ax.set_ylim(vmin,vmax)\n",
    "plt.show()"
   ]
  },
  {
   "cell_type": "code",
   "execution_count": null,
   "metadata": {},
   "outputs": [],
   "source": []
  }
 ],
 "metadata": {
  "kernelspec": {
   "display_name": "Python 3",
   "language": "python",
   "name": "python3"
  },
  "language_info": {
   "codemirror_mode": {
    "name": "ipython",
    "version": 3
   },
   "file_extension": ".py",
   "mimetype": "text/x-python",
   "name": "python",
   "nbconvert_exporter": "python",
   "pygments_lexer": "ipython3",
   "version": "3.8.3"
  }
 },
 "nbformat": 4,
 "nbformat_minor": 2
}
