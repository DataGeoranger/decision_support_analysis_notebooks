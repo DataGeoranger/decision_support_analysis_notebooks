{
 "cells": [
  {
   "cell_type": "markdown",
   "metadata": {},
   "source": [
    "# Run PESTPP-IES in an automated bias minimization workflow\n",
    "\n",
    "Here we will combine prior-data conflict resolution, total error covariance and automatic adaptive localization.  The trifecta!"
   ]
  },
  {
   "cell_type": "code",
   "execution_count": null,
   "metadata": {
    "execution": {
     "iopub.execute_input": "2020-11-13T04:07:27.262249Z",
     "iopub.status.busy": "2020-11-13T04:07:27.261647Z",
     "iopub.status.idle": "2020-11-13T04:07:27.998813Z",
     "shell.execute_reply": "2020-11-13T04:07:27.999317Z"
    }
   },
   "outputs": [],
   "source": [
    "%matplotlib inline\n",
    "import os\n",
    "import shutil\n",
    "import numpy as np\n",
    "import pandas as pd\n",
    "import matplotlib.pyplot as plt\n",
    "import matplotlib as mpl\n",
    "plt.rcParams['font.size']=12\n",
    "import flopy\n",
    "import pyemu\n",
    "%matplotlib inline"
   ]
  },
  {
   "cell_type": "markdown",
   "metadata": {},
   "source": [
    "## SUPER IMPORTANT: SET HOW MANY PARALLEL WORKERS TO USE"
   ]
  },
  {
   "cell_type": "code",
   "execution_count": null,
   "metadata": {
    "execution": {
     "iopub.execute_input": "2020-11-13T04:07:28.002734Z",
     "iopub.status.busy": "2020-11-13T04:07:28.002265Z",
     "iopub.status.idle": "2020-11-13T04:07:28.003891Z",
     "shell.execute_reply": "2020-11-13T04:07:28.004459Z"
    }
   },
   "outputs": [],
   "source": [
    "num_workers = 5"
   ]
  },
  {
   "cell_type": "code",
   "execution_count": null,
   "metadata": {
    "execution": {
     "iopub.execute_input": "2020-11-13T04:07:28.007063Z",
     "iopub.status.busy": "2020-11-13T04:07:28.006589Z",
     "iopub.status.idle": "2020-11-13T04:07:28.008344Z",
     "shell.execute_reply": "2020-11-13T04:07:28.008846Z"
    }
   },
   "outputs": [],
   "source": [
    "t_d = \"template_history\"\n",
    "m_d = \"master_ies_bmw\""
   ]
  },
  {
   "cell_type": "code",
   "execution_count": null,
   "metadata": {
    "execution": {
     "iopub.execute_input": "2020-11-13T04:07:28.011690Z",
     "iopub.status.busy": "2020-11-13T04:07:28.011202Z",
     "iopub.status.idle": "2020-11-13T04:07:28.065980Z",
     "shell.execute_reply": "2020-11-13T04:07:28.066326Z"
    }
   },
   "outputs": [],
   "source": [
    "m = flopy.modflow.Modflow.load(\"freyberg.nam\",model_ws=t_d,check=False,forgive=False)"
   ]
  },
  {
   "cell_type": "code",
   "execution_count": null,
   "metadata": {
    "execution": {
     "iopub.execute_input": "2020-11-13T04:07:28.081751Z",
     "iopub.status.busy": "2020-11-13T04:07:28.081245Z",
     "iopub.status.idle": "2020-11-13T04:07:28.248842Z",
     "shell.execute_reply": "2020-11-13T04:07:28.249344Z"
    }
   },
   "outputs": [],
   "source": [
    "# plot some model attributes\n",
    "fig = plt.figure(figsize=(12,7))\n",
    "ax = plt.subplot(111,aspect=\"equal\")\n",
    "mm = flopy.plot.PlotMapView(model=m)\n",
    "mm.plot_grid()\n",
    "mm.plot_ibound()\n",
    "mm.plot_bc('SFR')\n",
    "mm.plot_bc(\"GHB\")\n",
    "ax = mm.ax\n",
    "#m.wel.stress_period_data.plot(ax=ax,mflay=2)\n",
    "\n",
    "# plot obs locations\n",
    "obs = pd.read_csv(os.path.join(\"..\",\"base_model_files\",\"obs_loc.csv\"))\n",
    "                  \n",
    "obs_x = [m.sr.xcentergrid[r-1,c-1] for r,c in obs.loc[:,[\"row\",\"col\"]].values]\n",
    "obs_y = [m.sr.ycentergrid[r-1,c-1] for r,c in obs.loc[:,[\"row\",\"col\"]].values]\n",
    "ax.scatter(obs_x,obs_y,marker='.',label=\"water-level obs\",s=80)\n",
    "\n",
    "#plot names on the pumping well locations\n",
    "wel_data = m.wel.stress_period_data[0]\n",
    "wel_x = m.sr.xcentergrid[wel_data[\"i\"],wel_data[\"j\"]]\n",
    "wel_y = m.sr.ycentergrid[wel_data[\"i\"],wel_data[\"j\"]]\n",
    "for i,(x,y) in enumerate(zip(wel_x,wel_y)):\n",
    "    ax.scatter([x],[y],color=\"red\",marker=\"s\",s=50)\n",
    "    #ax.text(x,y,\"{0}\".format(i+1),ha=\"center\",va=\"center\")\n",
    "\n",
    "ax.set_ylabel(\"y(m)\")\n",
    "ax.set_xlabel(\"x(m)\")\n",
    "plt.show()"
   ]
  },
  {
   "cell_type": "code",
   "execution_count": null,
   "metadata": {
    "execution": {
     "iopub.execute_input": "2020-11-13T04:07:28.266201Z",
     "iopub.status.busy": "2020-11-13T04:07:28.265712Z",
     "iopub.status.idle": "2020-11-13T04:07:28.418332Z",
     "shell.execute_reply": "2020-11-13T04:07:28.418681Z"
    }
   },
   "outputs": [],
   "source": [
    "pst = pyemu.Pst(os.path.join(t_d,\"freyberg.pst\"))\n",
    "#pst.write_par_summary_table(filename=\"none\")"
   ]
  },
  {
   "cell_type": "markdown",
   "metadata": {},
   "source": [
    "So we run PESTPP-IES once with `autoadaloc`, PDC resolution and save the resulting posterior residual covariance matrix"
   ]
  },
  {
   "cell_type": "code",
   "execution_count": null,
   "metadata": {
    "execution": {
     "iopub.execute_input": "2020-11-13T04:07:28.435902Z",
     "iopub.status.busy": "2020-11-13T04:07:28.435380Z",
     "iopub.status.idle": "2020-11-13T04:07:29.074818Z",
     "shell.execute_reply": "2020-11-13T04:07:29.075324Z"
    }
   },
   "outputs": [],
   "source": [
    "#pst.pestpp_options = {}\n",
    "pst.pestpp_options[\"ies_num_reals\"] = 50  # enough?\n",
    "pst.pestpp_options[\"ies_par_en\"] = \"prior.jcb\"\n",
    "pst.pestpp_options[\"ies_bad_phi_sigma\"] = 1.75\n",
    "pst.pestpp_options[\"overdue_giveup_fac\"] = 1.5\n",
    "# the time to calc each lambda upgrade is substantial, so just use one...\n",
    "pst.pestpp_options[\"ies_lambda_mults\"] = 1.0\n",
    "pst.pestpp_options[\"ies_save_rescov\"] = True\n",
    "pst.control_data.noptmax = 1\n",
    "pst.pestpp_options[\"ies_drop_conflicts\"] = True\n",
    "pst.pestpp_options[\"ies_pdc_sigma_distance\"] = 2.0\n",
    "pst.pestpp_options[\"ies_no_noise\"] = True\n",
    "pst.pestpp_options['ies_num_threads'] = 3\n",
    "pst.pestpp_options[\"ies_autoadaloc\"] = True\n",
    "pst.write(os.path.join(t_d,\"freyberg_ies.pst\"))\n"
   ]
  },
  {
   "cell_type": "code",
   "execution_count": null,
   "metadata": {
    "execution": {
     "iopub.execute_input": "2020-11-13T04:07:29.089978Z",
     "iopub.status.busy": "2020-11-13T04:07:29.089456Z",
     "iopub.status.idle": "2020-11-13T04:20:34.866438Z",
     "shell.execute_reply": "2020-11-13T04:20:34.866943Z"
    }
   },
   "outputs": [],
   "source": [
    "pst.write(os.path.join(t_d,\"freyberg_ies.pst\"))\n",
    "pyemu.os_utils.start_workers(t_d,\"pestpp-ies\",\"freyberg_ies.pst\",num_workers=num_workers,master_dir=m_d)"
   ]
  },
  {
   "cell_type": "code",
   "execution_count": null,
   "metadata": {
    "execution": {
     "iopub.execute_input": "2020-11-13T04:20:34.872516Z",
     "iopub.status.busy": "2020-11-13T04:20:34.872035Z",
     "iopub.status.idle": "2020-11-13T04:20:36.289398Z",
     "shell.execute_reply": "2020-11-13T04:20:36.289895Z"
    }
   },
   "outputs": [],
   "source": [
    "oe_pr = pd.read_csv(os.path.join(m_d,\"freyberg_ies.0.obs.csv\"),index_col=0)\n",
    "oe_pt = pd.read_csv(os.path.join(m_d,\"freyberg_ies.{0}.obs.csv\".format(pst.control_data.noptmax)),index_col=0)\n",
    "obs = pst.observation_data\n",
    "fnames = pst.pestpp_options[\"forecasts\"].split(\",\")\n",
    "for forecast in fnames:\n",
    "    fig,ax = plt.subplots(1,1,figsize=(10,5))\n",
    "    oe_pr.loc[:,forecast].hist(ax=ax,color=\"0.5\",alpha=0.5, label='prior')\n",
    "    oe_pt.loc[:,forecast].hist(ax=ax,color=\"b\",alpha=0.5, label='posterior')\n",
    "    ax.plot([obs.loc[forecast,\"obsval\"],obs.loc[forecast,\"obsval\"]],ax.get_ylim(),\"r\", label='truth')\n",
    "    ax.set_title(forecast)\n",
    "    ax.legend(loc='upper right')\n",
    "    \n",
    "    plt.show()"
   ]
  },
  {
   "cell_type": "code",
   "execution_count": null,
   "metadata": {
    "execution": {
     "iopub.execute_input": "2020-11-13T04:20:36.297034Z",
     "iopub.status.busy": "2020-11-13T04:20:36.296473Z",
     "iopub.status.idle": "2020-11-13T04:20:44.416871Z",
     "shell.execute_reply": "2020-11-13T04:20:44.416259Z"
    }
   },
   "outputs": [],
   "source": [
    "rw_obs = pd.read_csv(os.path.join(m_d,\"freyberg_ies.adjusted.obs_data.csv\"),index_col=0)\n",
    "rw_obs = rw_obs.weight.to_dict()\n",
    "nz_obs = pst.observation_data.loc[pst.nnz_obs_names,:].copy()\n",
    "nz_obs.loc[:,\"datetime\"] = pd.to_datetime(nz_obs.obsnme.apply(lambda x: x.split(\"_\")[-1]))\n",
    "pst_base = pyemu.Pst(os.path.join(t_d,\"freyberg.pst\"))\n",
    "oe_base = pd.read_csv(os.path.join(m_d,\"freyberg_ies.obs+noise.csv\"),index_col=0)\n",
    "for nz_group in pst.nnz_obs_groups:\n",
    "    nz_obs_group = nz_obs.loc[nz_obs.obgnme==nz_group,:]\n",
    "    fig,ax = plt.subplots(1,1,figsize=(10,2))\n",
    "    ax.plot(nz_obs_group.datetime,nz_obs_group.obsval,\"r-\")\n",
    "    pdc_obs = nz_obs_group.loc[nz_obs_group.obsnme.apply(lambda x: rw_obs[x]==0),:]\n",
    "   \n",
    "    ax.scatter(pdc_obs.datetime,pdc_obs.obsval,marker='.',s=50,zorder=20,color='k',ls='-',lw=2,fc=\"k\")\n",
    "    [ax.plot(nz_obs_group.datetime,oe_pr.loc[r,nz_obs_group.obsnme],color=\"0.5\",lw=0.1) for r in oe_pr.index]\n",
    "    [ax.plot(nz_obs_group.datetime,oe_pt.loc[r,nz_obs_group.obsnme],color=\"b\",lw=0.1,alpha=0.5) for r in oe_pt.index]\n",
    "    #[ax.plot(nz_obs_group.datetime,oe_base.loc[r,nz_obs_group.obsnme],color=\"r\",lw=0.1,alpha=0.5) for r in oe_base.index]\n",
    "    mn = oe_base.loc[:,nz_obs_group.obsnme].min()\n",
    "    mx = oe_base.loc[:,nz_obs_group.obsnme].max()\n",
    "    \n",
    "    #ax.fill_between(nz_obs_group.datetime,mn,mx,fc=\"r\",alpha=0.15)\n",
    "    ax.set_title(nz_group)\n",
    "    #vmin = min(nz_obs_group.obsval.min(),oe_pt.loc[:,nz_obs_group.obsnme].min().min())\n",
    "    #vmax = max(nz_obs_group.obsval.max(),oe_pt.loc[:,nz_obs_group.obsnme].max().max())\n",
    "    vmin = nz_obs_group.obsval.min() * 0.9\n",
    "    vmax = nz_obs_group.obsval.max() * 1.1\n",
    "    ax.set_ylim(vmin,vmax)\n",
    "plt.show()"
   ]
  },
  {
   "cell_type": "code",
   "execution_count": null,
   "metadata": {
    "execution": {
     "iopub.execute_input": "2020-11-13T04:20:44.428866Z",
     "iopub.status.busy": "2020-11-13T04:20:44.426265Z",
     "iopub.status.idle": "2020-11-13T04:20:44.832550Z",
     "shell.execute_reply": "2020-11-13T04:20:44.833076Z"
    }
   },
   "outputs": [],
   "source": [
    "# rw_obs = pd.read_csv(os.path.join(m_d,\"freyberg_ies.adjusted.obs_data.csv\"),index_col=0)\n",
    "# rw_obs = rw_obs.weight.to_dict()\n",
    "# pst.observation_data.loc[:,\"weight\"] = [rw_obs[oname] for oname in pst.obs_names]\n",
    "res_cov_file = os.path.join(m_d,\"freyberg_ies.{0}.shrunk_res.cov\".format(pst.control_data.noptmax))\n",
    "assert os.path.exists(res_cov_file)\n",
    "res_cov = pyemu.Cov.from_ascii(res_cov_file)\n",
    "minvar = ((1./obs.loc[res_cov.names,\"weight\"])**2).min()\n",
    "shrink = np.zeros(res_cov.shape)\n",
    "np.fill_diagonal(shrink,minvar)\n",
    "lamb = 2. / (oe_pt.shape[0] + 1)\n",
    "lamb = 0.1\n",
    "print(lamb)\n",
    "shrunk = (lamb * shrink) + ((1.-lamb) * res_cov.x)\n",
    "shrunk = pyemu.Cov(x=shrunk,names=res_cov.names)\n",
    "shrunk.to_ascii(os.path.join(t_d,\"shrunk_obs.cov\"))\n",
    "x = shrunk.to_pearson().x.copy()\n",
    "x[x==0.0] = np.NaN\n",
    "plt.imshow(x,cmap=\"plasma\")\n"
   ]
  },
  {
   "cell_type": "code",
   "execution_count": null,
   "metadata": {
    "execution": {
     "iopub.execute_input": "2020-11-13T04:20:44.847439Z",
     "iopub.status.busy": "2020-11-13T04:20:44.846727Z",
     "iopub.status.idle": "2020-11-13T04:20:45.398528Z",
     "shell.execute_reply": "2020-11-13T04:20:45.398817Z"
    }
   },
   "outputs": [],
   "source": [
    "\n",
    "pst.pestpp_options[\"ies_no_noise\"] = False\n",
    "pst.pestpp_options[\"ies_drop_conflicts\"] = False\n",
    "pst.pestpp_options[\"obscov\"] = \"shrunk_obs.cov\"\n",
    "pst.pestpp_options[\"ies_group_draws\"] = False\n",
    "pst.write(os.path.join(t_d,\"freyberg_ies.pst\"))"
   ]
  },
  {
   "cell_type": "code",
   "execution_count": null,
   "metadata": {
    "execution": {
     "iopub.execute_input": "2020-11-13T04:20:45.401610Z",
     "iopub.status.busy": "2020-11-13T04:20:45.401204Z",
     "iopub.status.idle": "2020-11-13T04:33:56.326671Z",
     "shell.execute_reply": "2020-11-13T04:33:56.327174Z"
    }
   },
   "outputs": [],
   "source": [
    "pyemu.os_utils.start_workers(t_d,\"pestpp-ies\",\"freyberg_ies.pst\",num_workers=num_workers,master_dir=m_d)"
   ]
  },
  {
   "cell_type": "code",
   "execution_count": null,
   "metadata": {},
   "outputs": [],
   "source": []
  },
  {
   "cell_type": "code",
   "execution_count": null,
   "metadata": {
    "execution": {
     "iopub.execute_input": "2020-11-13T04:33:56.333707Z",
     "iopub.status.busy": "2020-11-13T04:33:56.333222Z",
     "iopub.status.idle": "2020-11-13T04:33:58.246782Z",
     "shell.execute_reply": "2020-11-13T04:33:58.247221Z"
    }
   },
   "outputs": [],
   "source": [
    "oe_pr_last = oe_pr.copy()\n",
    "oe_pt_last = oe_pt.copy()\n",
    "oe_pr = pd.read_csv(os.path.join(m_d,\"freyberg_ies.0.obs.csv\"),index_col=0)\n",
    "oe_pt = pd.read_csv(os.path.join(m_d,\"freyberg_ies.{0}.obs.csv\".format(pst.control_data.noptmax)),index_col=0)\n",
    "obs = pst.observation_data\n",
    "fnames = pst.pestpp_options[\"forecasts\"].split(\",\")\n",
    "for forecast in fnames:\n",
    "    fig,[ax,ax_last] = plt.subplots(1,2,figsize=(10,5))\n",
    "    oe_pr.loc[:,forecast].hist(ax=ax,color=\"0.5\",alpha=0.5, label='prior')\n",
    "    oe_pt.loc[:,forecast].hist(ax=ax,color=\"b\",alpha=0.5, label='posterior')\n",
    "    ax.plot([obs.loc[forecast,\"obsval\"],obs.loc[forecast,\"obsval\"]],ax.get_ylim(),\"r\", label='truth')\n",
    "    ax.set_title(forecast)\n",
    "    ax.legend(loc='upper right')\n",
    "    \n",
    "    oe_pr_last.loc[:,forecast].hist(ax=ax_last,color=\"0.5\",alpha=0.5, label='prior')\n",
    "    oe_pt_last.loc[:,forecast].hist(ax=ax_last,color=\"b\",alpha=0.5, label='posterior')\n",
    "    ax_last.plot([obs.loc[forecast,\"obsval\"],obs.loc[forecast,\"obsval\"]],ax.get_ylim(),\"r\", label='truth')\n",
    "    ax_last.set_title(\"last \" + forecast)\n",
    "    ax.legend(loc='upper right')\n",
    "    plt.show()"
   ]
  },
  {
   "cell_type": "code",
   "execution_count": null,
   "metadata": {
    "execution": {
     "iopub.execute_input": "2020-11-13T04:33:58.258655Z",
     "iopub.status.busy": "2020-11-13T04:33:58.258180Z",
     "iopub.status.idle": "2020-11-13T04:34:06.087595Z",
     "shell.execute_reply": "2020-11-13T04:34:06.086954Z"
    }
   },
   "outputs": [],
   "source": [
    "nz_obs = pst.observation_data.loc[pst.nnz_obs_names,:].copy()\n",
    "nz_obs.loc[:,\"datetime\"] = pd.to_datetime(nz_obs.obsnme.apply(lambda x: x.split(\"_\")[-1]))\n",
    "pst_base = pyemu.Pst(os.path.join(t_d,\"freyberg.pst\"))\n",
    "oe_base = pd.read_csv(os.path.join(m_d,\"freyberg_ies.obs+noise.csv\"),index_col=0)\n",
    "for nz_group in pst.nnz_obs_groups:\n",
    "    nz_obs_group = nz_obs.loc[nz_obs.obgnme==nz_group,:]\n",
    "    fig,ax = plt.subplots(1,1,figsize=(10,2))\n",
    "    ax.plot(nz_obs_group.datetime,nz_obs_group.obsval,\"r-\")\n",
    "    pdc_obs = nz_obs_group.loc[nz_obs_group.obsnme.apply(lambda x: rw_obs[x]==0),:]\n",
    "   \n",
    "    ax.scatter(pdc_obs.datetime,pdc_obs.obsval,marker='.',s=50,zorder=20,color='k',ls='-',lw=2,fc=\"k\")\n",
    "    [ax.plot(nz_obs_group.datetime,oe_pr.loc[r,nz_obs_group.obsnme],color=\"0.5\",lw=0.1) for r in oe_pr.index]\n",
    "    [ax.plot(nz_obs_group.datetime,oe_pt.loc[r,nz_obs_group.obsnme],color=\"b\",lw=0.1,alpha=0.5) for r in oe_pt.index]\n",
    "    #[ax.plot(nz_obs_group.datetime,oe_base.loc[r,nz_obs_group.obsnme],color=\"r\",lw=0.1,alpha=0.5) for r in oe_base.index]\n",
    "    mn = oe_base.loc[:,nz_obs_group.obsnme].min()\n",
    "    mx = oe_base.loc[:,nz_obs_group.obsnme].max()\n",
    "    \n",
    "    #ax.fill_between(nz_obs_group.datetime,mn,mx,fc=\"r\",alpha=0.15)\n",
    "    ax.set_title(nz_group)\n",
    "    #vmin = min(nz_obs_group.obsval.min(),oe_pt.loc[:,nz_obs_group.obsnme].min().min())\n",
    "    #vmax = max(nz_obs_group.obsval.max(),oe_pt.loc[:,nz_obs_group.obsnme].max().max())\n",
    "    vmin = nz_obs_group.obsval.min() * 0.9\n",
    "    vmax = nz_obs_group.obsval.max() * 1.1\n",
    "    ax.set_ylim(vmin,vmax)\n",
    "plt.show()"
   ]
  },
  {
   "cell_type": "code",
   "execution_count": null,
   "metadata": {},
   "outputs": [],
   "source": []
  },
  {
   "cell_type": "code",
   "execution_count": null,
   "metadata": {},
   "outputs": [],
   "source": []
  }
 ],
 "metadata": {
  "kernelspec": {
   "display_name": "Python 3",
   "language": "python",
   "name": "python3"
  },
  "language_info": {
   "codemirror_mode": {
    "name": "ipython",
    "version": 3
   },
   "file_extension": ".py",
   "mimetype": "text/x-python",
   "name": "python",
   "nbconvert_exporter": "python",
   "pygments_lexer": "ipython3",
   "version": "3.8.3"
  }
 },
 "nbformat": 4,
 "nbformat_minor": 2
}
