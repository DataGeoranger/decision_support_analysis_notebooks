{
 "cells": [
  {
   "cell_type": "markdown",
   "metadata": {},
   "source": [
    "# PESTPP-GLM Part 1"
   ]
  },
  {
   "cell_type": "markdown",
   "metadata": {},
   "source": [
    "In this notebook, we will run PESTPP-GLM to generate a jco matrix and stop - this is to support data worth testing"
   ]
  },
  {
   "cell_type": "code",
   "execution_count": 1,
   "metadata": {
    "execution": {
     "iopub.execute_input": "2020-11-14T02:51:51.180360Z",
     "iopub.status.busy": "2020-11-14T02:51:51.179779Z",
     "iopub.status.idle": "2020-11-14T02:51:51.858841Z",
     "shell.execute_reply": "2020-11-14T02:51:51.859307Z"
    }
   },
   "outputs": [],
   "source": [
    "%matplotlib inline\n",
    "import os\n",
    "import shutil\n",
    "import numpy as np\n",
    "import pandas as pd\n",
    "import matplotlib.pyplot as plt\n",
    "import matplotlib as mpl\n",
    "plt.rcParams['font.size']=12\n",
    "import flopy\n",
    "import pyemu\n"
   ]
  },
  {
   "cell_type": "markdown",
   "metadata": {},
   "source": [
    "## SUPER IMPORTANT: SET HOW MANY PARALLEL WORKERS TO USE"
   ]
  },
  {
   "cell_type": "code",
   "execution_count": 2,
   "metadata": {
    "execution": {
     "iopub.execute_input": "2020-11-14T02:51:51.863175Z",
     "iopub.status.busy": "2020-11-14T02:51:51.862237Z",
     "iopub.status.idle": "2020-11-14T02:51:51.864017Z",
     "shell.execute_reply": "2020-11-14T02:51:51.864553Z"
    }
   },
   "outputs": [],
   "source": [
    "num_workers = 5"
   ]
  },
  {
   "cell_type": "code",
   "execution_count": 3,
   "metadata": {
    "execution": {
     "iopub.execute_input": "2020-11-14T02:51:51.867195Z",
     "iopub.status.busy": "2020-11-14T02:51:51.866714Z",
     "iopub.status.idle": "2020-11-14T02:51:51.868358Z",
     "shell.execute_reply": "2020-11-14T02:51:51.868886Z"
    }
   },
   "outputs": [],
   "source": [
    "t_d = \"template_history\"\n",
    "m_d = \"master_glm\""
   ]
  },
  {
   "cell_type": "code",
   "execution_count": 4,
   "metadata": {
    "execution": {
     "iopub.execute_input": "2020-11-14T02:51:51.875415Z",
     "iopub.status.busy": "2020-11-14T02:51:51.874928Z",
     "iopub.status.idle": "2020-11-14T02:51:52.048150Z",
     "shell.execute_reply": "2020-11-14T02:51:52.048655Z"
    }
   },
   "outputs": [
    {
     "data": {
      "image/png": "[encoded data removed]",
      "text/plain": [
       "<Figure size 864x504 with 1 Axes>"
      ]
     },
     "metadata": {
      "needs_background": "light"
     },
     "output_type": "display_data"
    }
   ],
   "source": [
    "m = flopy.modflow.Modflow.load(\"freyberg.nam\",model_ws=t_d,check=False,forgive=False)\n",
    "# plot some model attributes\n",
    "fig = plt.figure(figsize=(12,7))\n",
    "ax = plt.subplot(111,aspect=\"equal\")\n",
    "mm = flopy.plot.PlotMapView(model=m)\n",
    "mm.plot_grid()\n",
    "mm.plot_ibound()\n",
    "mm.plot_bc('SFR')\n",
    "mm.plot_bc(\"GHB\")\n",
    "ax = mm.ax\n",
    "#m.wel.stress_period_data.plot(ax=ax,mflay=2)\n",
    "\n",
    "# plot obs locations\n",
    "obs = pd.read_csv(os.path.join(\"..\",\"base_model_files\",\"obs_loc.csv\"))\n",
    "                  \n",
    "obs_x = [m.sr.xcentergrid[r-1,c-1] for r,c in obs.loc[:,[\"row\",\"col\"]].values]\n",
    "obs_y = [m.sr.ycentergrid[r-1,c-1] for r,c in obs.loc[:,[\"row\",\"col\"]].values]\n",
    "ax.scatter(obs_x,obs_y,marker='.',label=\"water-level obs\",s=80)\n",
    "\n",
    "#plot names on the pumping well locations\n",
    "wel_data = m.wel.stress_period_data[0]\n",
    "wel_x = m.sr.xcentergrid[wel_data[\"i\"],wel_data[\"j\"]]\n",
    "wel_y = m.sr.ycentergrid[wel_data[\"i\"],wel_data[\"j\"]]\n",
    "for i,(x,y) in enumerate(zip(wel_x,wel_y)):\n",
    "    ax.scatter([x],[y],color=\"red\",marker=\"s\",s=50)\n",
    "    #ax.text(x,y,\"{0}\".format(i+1),ha=\"center\",va=\"center\")\n",
    "\n",
    "ax.set_ylabel(\"y(m)\")\n",
    "ax.set_xlabel(\"x(m)\")\n",
    "plt.show()"
   ]
  },
  {
   "cell_type": "code",
   "execution_count": 5,
   "metadata": {
    "execution": {
     "iopub.execute_input": "2020-11-14T02:51:52.053245Z",
     "iopub.status.busy": "2020-11-14T02:51:52.052768Z",
     "iopub.status.idle": "2020-11-14T02:51:52.332900Z",
     "shell.execute_reply": "2020-11-14T02:51:52.333402Z"
    }
   },
   "outputs": [
    {
     "data": {
      "text/html": [
       "<div>\n",
       "<style scoped>\n",
       "    .dataframe tbody tr th:only-of-type {\n",
       "        vertical-align: middle;\n",
       "    }\n",
       "\n",
       "    .dataframe tbody tr th {\n",
       "        vertical-align: top;\n",
       "    }\n",
       "\n",
       "    .dataframe thead th {\n",
       "        text-align: right;\n",
       "    }\n",
       "</style>\n",
       "<table border=\"1\" class=\"dataframe\">\n",
       "  <thead>\n",
       "    <tr style=\"text-align: right;\">\n",
       "      <th></th>\n",
       "      <th>type</th>\n",
       "      <th>transform</th>\n",
       "      <th>count</th>\n",
       "      <th>initial value</th>\n",
       "      <th>upper bound</th>\n",
       "      <th>lower bound</th>\n",
       "      <th>standard deviation</th>\n",
       "    </tr>\n",
       "  </thead>\n",
       "  <tbody>\n",
       "    <tr>\n",
       "      <th>cn_hk6</th>\n",
       "      <td>cn_hk6</td>\n",
       "      <td>log</td>\n",
       "      <td>1</td>\n",
       "      <td>0</td>\n",
       "      <td>1</td>\n",
       "      <td>-1</td>\n",
       "      <td>0.5</td>\n",
       "    </tr>\n",
       "    <tr>\n",
       "      <th>cn_hk7</th>\n",
       "      <td>cn_hk7</td>\n",
       "      <td>log</td>\n",
       "      <td>1</td>\n",
       "      <td>0</td>\n",
       "      <td>1</td>\n",
       "      <td>-1</td>\n",
       "      <td>0.5</td>\n",
       "    </tr>\n",
       "    <tr>\n",
       "      <th>cn_hk8</th>\n",
       "      <td>cn_hk8</td>\n",
       "      <td>log</td>\n",
       "      <td>1</td>\n",
       "      <td>0</td>\n",
       "      <td>1</td>\n",
       "      <td>-1</td>\n",
       "      <td>0.5</td>\n",
       "    </tr>\n",
       "    <tr>\n",
       "      <th>cn_prsity6</th>\n",
       "      <td>cn_prsity6</td>\n",
       "      <td>log</td>\n",
       "      <td>1</td>\n",
       "      <td>0</td>\n",
       "      <td>0.176091</td>\n",
       "      <td>-0.30103</td>\n",
       "      <td>0.11928</td>\n",
       "    </tr>\n",
       "    <tr>\n",
       "      <th>cn_prsity7</th>\n",
       "      <td>cn_prsity7</td>\n",
       "      <td>log</td>\n",
       "      <td>1</td>\n",
       "      <td>0</td>\n",
       "      <td>0.176091</td>\n",
       "      <td>-0.30103</td>\n",
       "      <td>0.11928</td>\n",
       "    </tr>\n",
       "    <tr>\n",
       "      <th>...</th>\n",
       "      <td>...</td>\n",
       "      <td>...</td>\n",
       "      <td>...</td>\n",
       "      <td>...</td>\n",
       "      <td>...</td>\n",
       "      <td>...</td>\n",
       "      <td>...</td>\n",
       "    </tr>\n",
       "    <tr>\n",
       "      <th>pp_vka0</th>\n",
       "      <td>pp_vka0</td>\n",
       "      <td>log</td>\n",
       "      <td>32</td>\n",
       "      <td>0</td>\n",
       "      <td>1</td>\n",
       "      <td>-1</td>\n",
       "      <td>0.5</td>\n",
       "    </tr>\n",
       "    <tr>\n",
       "      <th>pp_vka1</th>\n",
       "      <td>pp_vka1</td>\n",
       "      <td>log</td>\n",
       "      <td>32</td>\n",
       "      <td>0</td>\n",
       "      <td>1</td>\n",
       "      <td>-1</td>\n",
       "      <td>0.5</td>\n",
       "    </tr>\n",
       "    <tr>\n",
       "      <th>pp_vka2</th>\n",
       "      <td>pp_vka2</td>\n",
       "      <td>log</td>\n",
       "      <td>32</td>\n",
       "      <td>0</td>\n",
       "      <td>1</td>\n",
       "      <td>-1</td>\n",
       "      <td>0.5</td>\n",
       "    </tr>\n",
       "    <tr>\n",
       "      <th>welflux</th>\n",
       "      <td>welflux</td>\n",
       "      <td>log</td>\n",
       "      <td>25</td>\n",
       "      <td>0</td>\n",
       "      <td>1</td>\n",
       "      <td>-1</td>\n",
       "      <td>0.5</td>\n",
       "    </tr>\n",
       "    <tr>\n",
       "      <th>welflux_k02</th>\n",
       "      <td>welflux_k02</td>\n",
       "      <td>log</td>\n",
       "      <td>6</td>\n",
       "      <td>0</td>\n",
       "      <td>1</td>\n",
       "      <td>-1</td>\n",
       "      <td>0.5</td>\n",
       "    </tr>\n",
       "  </tbody>\n",
       "</table>\n",
       "<p>77 rows × 7 columns</p>\n",
       "</div>"
      ],
      "text/plain": [
       "                    type transform  count initial value upper bound  \\\n",
       "cn_hk6            cn_hk6       log      1             0           1   \n",
       "cn_hk7            cn_hk7       log      1             0           1   \n",
       "cn_hk8            cn_hk8       log      1             0           1   \n",
       "cn_prsity6    cn_prsity6       log      1             0    0.176091   \n",
       "cn_prsity7    cn_prsity7       log      1             0    0.176091   \n",
       "...                  ...       ...    ...           ...         ...   \n",
       "pp_vka0          pp_vka0       log     32             0           1   \n",
       "pp_vka1          pp_vka1       log     32             0           1   \n",
       "pp_vka2          pp_vka2       log     32             0           1   \n",
       "welflux          welflux       log     25             0           1   \n",
       "welflux_k02  welflux_k02       log      6             0           1   \n",
       "\n",
       "            lower bound standard deviation  \n",
       "cn_hk6               -1                0.5  \n",
       "cn_hk7               -1                0.5  \n",
       "cn_hk8               -1                0.5  \n",
       "cn_prsity6     -0.30103            0.11928  \n",
       "cn_prsity7     -0.30103            0.11928  \n",
       "...                 ...                ...  \n",
       "pp_vka0              -1                0.5  \n",
       "pp_vka1              -1                0.5  \n",
       "pp_vka2              -1                0.5  \n",
       "welflux              -1                0.5  \n",
       "welflux_k02          -1                0.5  \n",
       "\n",
       "[77 rows x 7 columns]"
      ]
     },
     "execution_count": 5,
     "metadata": {},
     "output_type": "execute_result"
    }
   ],
   "source": [
    "pst = pyemu.Pst(os.path.join(t_d,\"freyberg.pst\"))\n",
    "pst.write_par_summary_table(filename=\"none\")"
   ]
  },
  {
   "cell_type": "markdown",
   "metadata": {},
   "source": [
    "### reduce the number of adjustable parameters\n",
    "\n",
    "This is the painful part: we cant use 10K+ pars because we cant wait around for that many runs and then the linear algebra of factoring a 10k+ by 10K+ matrix is also difficult.  So that means we need to fix a lot a parameters (this is not without implications!) #frownyface. Lets aim for ~500."
   ]
  },
  {
   "cell_type": "code",
   "execution_count": 6,
   "metadata": {
    "execution": {
     "iopub.execute_input": "2020-11-14T02:51:52.336161Z",
     "iopub.status.busy": "2020-11-14T02:51:52.335629Z",
     "iopub.status.idle": "2020-11-14T02:51:52.337236Z",
     "shell.execute_reply": "2020-11-14T02:51:52.337720Z"
    }
   },
   "outputs": [],
   "source": [
    "par = pst.parameter_data"
   ]
  },
  {
   "cell_type": "code",
   "execution_count": 7,
   "metadata": {
    "execution": {
     "iopub.execute_input": "2020-11-14T02:51:52.340676Z",
     "iopub.status.busy": "2020-11-14T02:51:52.340206Z",
     "iopub.status.idle": "2020-11-14T02:51:52.350110Z",
     "shell.execute_reply": "2020-11-14T02:51:52.349770Z"
    }
   },
   "outputs": [
    {
     "data": {
      "text/plain": [
       "633"
      ]
     },
     "execution_count": 7,
     "metadata": {},
     "output_type": "execute_result"
    }
   ],
   "source": [
    "# say goodbye to grid-scale pars\n",
    "gr_pars = par.loc[par.pargp.apply(lambda x: \"gr\" in x),\"parnme\"]\n",
    "par.loc[gr_pars,\"partrans\"] = \"fixed\"\n",
    "pst.npar_adj"
   ]
  },
  {
   "cell_type": "code",
   "execution_count": 8,
   "metadata": {
    "execution": {
     "iopub.execute_input": "2020-11-14T02:51:52.354879Z",
     "iopub.status.busy": "2020-11-14T02:51:52.354339Z",
     "iopub.status.idle": "2020-11-14T02:51:52.356633Z",
     "shell.execute_reply": "2020-11-14T02:51:52.357074Z"
    }
   },
   "outputs": [
    {
     "data": {
      "text/plain": [
       "array(['pp_hk0', 'pp_hk1', 'pp_hk2', 'pp_prsity0', 'pp_prsity1',\n",
       "       'pp_prsity2', 'pp_rech0', 'pp_ss0', 'pp_ss1', 'pp_ss2', 'pp_sy0',\n",
       "       'pp_sy1', 'pp_sy2', 'pp_vka0', 'pp_vka1', 'pp_vka2'], dtype=object)"
      ]
     },
     "execution_count": 8,
     "metadata": {},
     "output_type": "execute_result"
    }
   ],
   "source": [
    "par.loc[par.pargp.apply(lambda x: \"pp\" in x),\"pargp\"].unique()"
   ]
  },
  {
   "cell_type": "markdown",
   "metadata": {},
   "source": [
    "Fix the storage pilot points - we still have layer-scale storage pars adjustable"
   ]
  },
  {
   "cell_type": "code",
   "execution_count": 9,
   "metadata": {
    "execution": {
     "iopub.execute_input": "2020-11-14T02:51:52.360585Z",
     "iopub.status.busy": "2020-11-14T02:51:52.360076Z",
     "iopub.status.idle": "2020-11-14T02:51:52.362299Z",
     "shell.execute_reply": "2020-11-14T02:51:52.362735Z"
    }
   },
   "outputs": [
    {
     "data": {
      "text/plain": [
       "633"
      ]
     },
     "execution_count": 9,
     "metadata": {},
     "output_type": "execute_result"
    }
   ],
   "source": [
    "#s_pars = par.loc[par.pargp.apply(lambda x: \"pp\" in x and (\"ss\" in x or \"sy\" in x)),\"parnme\"]\n",
    "#par.loc[s_pars,\"partrans\"] = \"fixed\"\n",
    "pst.npar_adj"
   ]
  },
  {
   "cell_type": "code",
   "execution_count": 10,
   "metadata": {
    "execution": {
     "iopub.execute_input": "2020-11-14T02:51:52.368019Z",
     "iopub.status.busy": "2020-11-14T02:51:52.367479Z",
     "iopub.status.idle": "2020-11-14T02:51:52.369507Z",
     "shell.execute_reply": "2020-11-14T02:51:52.369939Z"
    }
   },
   "outputs": [
    {
     "data": {
      "text/plain": [
       "cn_rech10      1\n",
       "cn_sy8         1\n",
       "cn_sy6         1\n",
       "cn_hk8         1\n",
       "cn_sy7         1\n",
       "              ..\n",
       "pp_hk1        32\n",
       "pp_ss1        32\n",
       "pp_sy1        32\n",
       "pp_prsity1    32\n",
       "pp_hk2        32\n",
       "Name: pargp, Length: 61, dtype: int64"
      ]
     },
     "execution_count": 10,
     "metadata": {},
     "output_type": "execute_result"
    }
   ],
   "source": [
    "adj_par = par.loc[par.partrans==\"log\",:]\n",
    "adj_par.pargp.value_counts().sort_values()"
   ]
  },
  {
   "cell_type": "markdown",
   "metadata": {},
   "source": [
    "fix the future recharge pilot points, vka in layers 1 and 3 and the initial condition pilot points (we still have layer-scale pars for each of these types)"
   ]
  },
  {
   "cell_type": "code",
   "execution_count": 11,
   "metadata": {
    "execution": {
     "iopub.execute_input": "2020-11-14T02:51:52.374174Z",
     "iopub.status.busy": "2020-11-14T02:51:52.372109Z",
     "iopub.status.idle": "2020-11-14T02:51:52.377653Z",
     "shell.execute_reply": "2020-11-14T02:51:52.378081Z"
    }
   },
   "outputs": [
    {
     "data": {
      "text/plain": [
       "569"
      ]
     },
     "execution_count": 11,
     "metadata": {},
     "output_type": "execute_result"
    }
   ],
   "source": [
    "fi_grps = [\"pp_rech1\",\"pp_vka0\",\"pp_vka2\",\"pp_strt0\",\"pp_strt1\",\"pp_strt2\"]\n",
    "par.loc[par.pargp.apply(lambda x: x in fi_grps),\"partrans\"] = \"fixed\"\n",
    "\n",
    "pst.npar_adj"
   ]
  },
  {
   "cell_type": "code",
   "execution_count": 12,
   "metadata": {
    "execution": {
     "iopub.execute_input": "2020-11-14T02:51:52.380232Z",
     "iopub.status.busy": "2020-11-14T02:51:52.379742Z",
     "iopub.status.idle": "2020-11-14T02:51:52.381025Z",
     "shell.execute_reply": "2020-11-14T02:51:52.381489Z"
    }
   },
   "outputs": [],
   "source": [
    "# fi_const_grps = [g for g in pst.adj_par_groups if \"cn\" in g and \"rech\" not in g]\n",
    "# fi_const_grps.extend([g for g in pst.adj_par_groups if \"welflux_k\" in g])\n",
    "# par.loc[par.pargp.apply(lambda x: x in fi_const_grps),\"partrans\"] = \"fixed\"\n",
    "# fi_const_grps"
   ]
  },
  {
   "cell_type": "markdown",
   "metadata": {},
   "source": [
    "Ok, thats better...so lets run PESTPP-GLM.  We will use a single \"base parameter\" jacobian matrix for two purposes: 0. to conduct a formal data worth assessment; and 1. as the basis for (super) parameter upgrade iterations (we will reuse this jacobian), which we will then use to draw realizations from the FOSM posterior parameter covariance matrix and run those realizations to get the posterior forecast PDFs."
   ]
  },
  {
   "cell_type": "code",
   "execution_count": 13,
   "metadata": {
    "execution": {
     "iopub.execute_input": "2020-11-14T02:51:52.393691Z",
     "iopub.status.busy": "2020-11-14T02:51:52.387044Z",
     "iopub.status.idle": "2020-11-14T02:51:52.943006Z",
     "shell.execute_reply": "2020-11-14T02:51:52.943300Z"
    }
   },
   "outputs": [
    {
     "name": "stdout",
     "output_type": "stream",
     "text": [
      "noptmax:-1, npar_adj:569, nnz_obs:350\n"
     ]
    }
   ],
   "source": [
    "pst.control_data.noptmax = -1\n",
    "pst.write(os.path.join(t_d,\"freyberg_pp.pst\"))"
   ]
  },
  {
   "cell_type": "code",
   "execution_count": 14,
   "metadata": {
    "execution": {
     "iopub.execute_input": "2020-11-14T02:51:52.945925Z",
     "iopub.status.busy": "2020-11-14T02:51:52.945520Z",
     "iopub.status.idle": "2020-11-14T03:49:31.811723Z",
     "shell.execute_reply": "2020-11-14T03:49:31.812425Z"
    }
   },
   "outputs": [],
   "source": [
    "pyemu.os_utils.start_workers(t_d,\"pestpp-glm\",\"freyberg_pp.pst\",num_workers=num_workers,worker_root=\".\",\n",
    "                           master_dir=m_d)"
   ]
  },
  {
   "cell_type": "markdown",
   "metadata": {},
   "source": [
    "That is all we need for FOSM, so stop here and relax! #dividends"
   ]
  },
  {
   "cell_type": "code",
   "execution_count": null,
   "metadata": {},
   "outputs": [],
   "source": []
  },
  {
   "cell_type": "code",
   "execution_count": null,
   "metadata": {},
   "outputs": [],
   "source": []
  },
  {
   "cell_type": "code",
   "execution_count": null,
   "metadata": {},
   "outputs": [],
   "source": []
  }
 ],
 "metadata": {
  "kernelspec": {
   "display_name": "Python 3",
   "language": "python",
   "name": "python3"
  },
  "language_info": {
   "codemirror_mode": {
    "name": "ipython",
    "version": 3
   },
   "file_extension": ".py",
   "mimetype": "text/x-python",
   "name": "python",
   "nbconvert_exporter": "python",
   "pygments_lexer": "ipython3",
   "version": "3.8.6"
  }
 },
 "nbformat": 4,
 "nbformat_minor": 2
}
