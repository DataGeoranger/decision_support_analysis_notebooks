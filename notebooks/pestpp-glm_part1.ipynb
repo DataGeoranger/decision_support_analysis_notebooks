{
 "cells": [
  {
   "cell_type": "markdown",
   "metadata": {},
   "source": [
    "# PESTPP-GLM Part 1"
   ]
  },
  {
   "cell_type": "markdown",
   "metadata": {},
   "source": [
    "In this notebook, we will run PESTPP-GLM to generate a jco matrix and stop - this is to support data worth testing"
   ]
  },
  {
   "cell_type": "code",
   "execution_count": null,
   "metadata": {
    "execution": {
     "iopub.execute_input": "2020-11-14T02:51:51.180360Z",
     "iopub.status.busy": "2020-11-14T02:51:51.179779Z",
     "iopub.status.idle": "2020-11-14T02:51:51.858841Z",
     "shell.execute_reply": "2020-11-14T02:51:51.859307Z"
    }
   },
   "outputs": [],
   "source": [
    "%matplotlib inline\n",
    "import os\n",
    "import shutil\n",
    "import numpy as np\n",
    "import pandas as pd\n",
    "import matplotlib.pyplot as plt\n",
    "import matplotlib as mpl\n",
    "plt.rcParams['font.size']=12\n",
    "import flopy\n",
    "import pyemu\n"
   ]
  },
  {
   "cell_type": "markdown",
   "metadata": {},
   "source": [
    "## SUPER IMPORTANT: SET HOW MANY PARALLEL WORKERS TO USE"
   ]
  },
  {
   "cell_type": "code",
   "execution_count": null,
   "metadata": {
    "execution": {
     "iopub.execute_input": "2020-11-14T02:51:51.863175Z",
     "iopub.status.busy": "2020-11-14T02:51:51.862237Z",
     "iopub.status.idle": "2020-11-14T02:51:51.864017Z",
     "shell.execute_reply": "2020-11-14T02:51:51.864553Z"
    }
   },
   "outputs": [],
   "source": [
    "num_workers = 5"
   ]
  },
  {
   "cell_type": "code",
   "execution_count": null,
   "metadata": {
    "execution": {
     "iopub.execute_input": "2020-11-14T02:51:51.867195Z",
     "iopub.status.busy": "2020-11-14T02:51:51.866714Z",
     "iopub.status.idle": "2020-11-14T02:51:51.868358Z",
     "shell.execute_reply": "2020-11-14T02:51:51.868886Z"
    }
   },
   "outputs": [],
   "source": [
    "t_d = \"template_history\"\n",
    "m_d = \"master_glm\""
   ]
  },
  {
   "cell_type": "code",
   "execution_count": null,
   "metadata": {
    "execution": {
     "iopub.execute_input": "2020-11-14T02:51:51.875415Z",
     "iopub.status.busy": "2020-11-14T02:51:51.874928Z",
     "iopub.status.idle": "2020-11-14T02:51:52.048150Z",
     "shell.execute_reply": "2020-11-14T02:51:52.048655Z"
    }
   },
   "outputs": [],
   "source": [
    "m = flopy.modflow.Modflow.load(\"freyberg.nam\",model_ws=t_d,check=False,forgive=False)\n",
    "# plot some model attributes\n",
    "fig = plt.figure(figsize=(12,7))\n",
    "ax = plt.subplot(111,aspect=\"equal\")\n",
    "mm = flopy.plot.PlotMapView(model=m)\n",
    "mm.plot_grid()\n",
    "mm.plot_ibound()\n",
    "mm.plot_bc('SFR')\n",
    "mm.plot_bc(\"GHB\")\n",
    "ax = mm.ax\n",
    "#m.wel.stress_period_data.plot(ax=ax,mflay=2)\n",
    "\n",
    "# plot obs locations\n",
    "obs = pd.read_csv(os.path.join(\"..\",\"base_model_files\",\"obs_loc.csv\"))\n",
    "                  \n",
    "obs_x = [m.sr.xcentergrid[r-1,c-1] for r,c in obs.loc[:,[\"row\",\"col\"]].values]\n",
    "obs_y = [m.sr.ycentergrid[r-1,c-1] for r,c in obs.loc[:,[\"row\",\"col\"]].values]\n",
    "ax.scatter(obs_x,obs_y,marker='.',label=\"water-level obs\",s=80)\n",
    "\n",
    "#plot names on the pumping well locations\n",
    "wel_data = m.wel.stress_period_data[0]\n",
    "wel_x = m.sr.xcentergrid[wel_data[\"i\"],wel_data[\"j\"]]\n",
    "wel_y = m.sr.ycentergrid[wel_data[\"i\"],wel_data[\"j\"]]\n",
    "for i,(x,y) in enumerate(zip(wel_x,wel_y)):\n",
    "    ax.scatter([x],[y],color=\"red\",marker=\"s\",s=50)\n",
    "    #ax.text(x,y,\"{0}\".format(i+1),ha=\"center\",va=\"center\")\n",
    "\n",
    "ax.set_ylabel(\"y(m)\")\n",
    "ax.set_xlabel(\"x(m)\")\n",
    "plt.show()"
   ]
  },
  {
   "cell_type": "code",
   "execution_count": null,
   "metadata": {
    "execution": {
     "iopub.execute_input": "2020-11-14T02:51:52.053245Z",
     "iopub.status.busy": "2020-11-14T02:51:52.052768Z",
     "iopub.status.idle": "2020-11-14T02:51:52.332900Z",
     "shell.execute_reply": "2020-11-14T02:51:52.333402Z"
    }
   },
   "outputs": [],
   "source": [
    "pst = pyemu.Pst(os.path.join(t_d,\"freyberg.pst\"))\n",
    "pst.write_par_summary_table(filename=\"none\")"
   ]
  },
  {
   "cell_type": "markdown",
   "metadata": {},
   "source": [
    "### reduce the number of adjustable parameters\n",
    "\n",
    "This is the painful part: we cant use 10K+ pars because we cant wait around for that many runs and then the linear algebra of factoring a 10k+ by 10K+ matrix is also difficult.  So that means we need to fix a lot a parameters (this is not without implications!) #frownyface. Lets aim for ~500."
   ]
  },
  {
   "cell_type": "code",
   "execution_count": null,
   "metadata": {
    "execution": {
     "iopub.execute_input": "2020-11-14T02:51:52.336161Z",
     "iopub.status.busy": "2020-11-14T02:51:52.335629Z",
     "iopub.status.idle": "2020-11-14T02:51:52.337236Z",
     "shell.execute_reply": "2020-11-14T02:51:52.337720Z"
    }
   },
   "outputs": [],
   "source": [
    "par = pst.parameter_data"
   ]
  },
  {
   "cell_type": "code",
   "execution_count": null,
   "metadata": {
    "execution": {
     "iopub.execute_input": "2020-11-14T02:51:52.340676Z",
     "iopub.status.busy": "2020-11-14T02:51:52.340206Z",
     "iopub.status.idle": "2020-11-14T02:51:52.350110Z",
     "shell.execute_reply": "2020-11-14T02:51:52.349770Z"
    }
   },
   "outputs": [],
   "source": [
    "# say goodbye to grid-scale pars\n",
    "gr_pars = par.loc[par.pargp.apply(lambda x: \"gr\" in x),\"parnme\"]\n",
    "par.loc[gr_pars,\"partrans\"] = \"fixed\"\n",
    "pst.npar_adj"
   ]
  },
  {
   "cell_type": "code",
   "execution_count": null,
   "metadata": {
    "execution": {
     "iopub.execute_input": "2020-11-14T02:51:52.354879Z",
     "iopub.status.busy": "2020-11-14T02:51:52.354339Z",
     "iopub.status.idle": "2020-11-14T02:51:52.356633Z",
     "shell.execute_reply": "2020-11-14T02:51:52.357074Z"
    }
   },
   "outputs": [],
   "source": [
    "par.loc[par.pargp.apply(lambda x: \"pp\" in x),\"pargp\"].unique()"
   ]
  },
  {
   "cell_type": "markdown",
   "metadata": {},
   "source": [
    "Fix the storage pilot points - we still have layer-scale storage pars adjustable"
   ]
  },
  {
   "cell_type": "code",
   "execution_count": null,
   "metadata": {
    "execution": {
     "iopub.execute_input": "2020-11-14T02:51:52.360585Z",
     "iopub.status.busy": "2020-11-14T02:51:52.360076Z",
     "iopub.status.idle": "2020-11-14T02:51:52.362299Z",
     "shell.execute_reply": "2020-11-14T02:51:52.362735Z"
    }
   },
   "outputs": [],
   "source": [
    "#s_pars = par.loc[par.pargp.apply(lambda x: \"pp\" in x and (\"ss\" in x or \"sy\" in x)),\"parnme\"]\n",
    "#par.loc[s_pars,\"partrans\"] = \"fixed\"\n",
    "pst.npar_adj"
   ]
  },
  {
   "cell_type": "code",
   "execution_count": null,
   "metadata": {
    "execution": {
     "iopub.execute_input": "2020-11-14T02:51:52.368019Z",
     "iopub.status.busy": "2020-11-14T02:51:52.367479Z",
     "iopub.status.idle": "2020-11-14T02:51:52.369507Z",
     "shell.execute_reply": "2020-11-14T02:51:52.369939Z"
    }
   },
   "outputs": [],
   "source": [
    "adj_par = par.loc[par.partrans==\"log\",:]\n",
    "adj_par.pargp.value_counts().sort_values()"
   ]
  },
  {
   "cell_type": "markdown",
   "metadata": {},
   "source": [
    "fix the future recharge pilot points, vka in layers 1 and 3 and the initial condition pilot points (we still have layer-scale pars for each of these types)"
   ]
  },
  {
   "cell_type": "code",
   "execution_count": null,
   "metadata": {
    "execution": {
     "iopub.execute_input": "2020-11-14T02:51:52.374174Z",
     "iopub.status.busy": "2020-11-14T02:51:52.372109Z",
     "iopub.status.idle": "2020-11-14T02:51:52.377653Z",
     "shell.execute_reply": "2020-11-14T02:51:52.378081Z"
    }
   },
   "outputs": [],
   "source": [
    "fi_grps = [\"pp_rech1\",\"pp_vka0\",\"pp_vka2\",\"pp_strt0\",\"pp_strt1\",\"pp_strt2\"]\n",
    "par.loc[par.pargp.apply(lambda x: x in fi_grps),\"partrans\"] = \"fixed\"\n",
    "\n",
    "pst.npar_adj"
   ]
  },
  {
   "cell_type": "code",
   "execution_count": null,
   "metadata": {
    "execution": {
     "iopub.execute_input": "2020-11-14T02:51:52.380232Z",
     "iopub.status.busy": "2020-11-14T02:51:52.379742Z",
     "iopub.status.idle": "2020-11-14T02:51:52.381025Z",
     "shell.execute_reply": "2020-11-14T02:51:52.381489Z"
    }
   },
   "outputs": [],
   "source": [
    "# fi_const_grps = [g for g in pst.adj_par_groups if \"cn\" in g and \"rech\" not in g]\n",
    "# fi_const_grps.extend([g for g in pst.adj_par_groups if \"welflux_k\" in g])\n",
    "# par.loc[par.pargp.apply(lambda x: x in fi_const_grps),\"partrans\"] = \"fixed\"\n",
    "# fi_const_grps"
   ]
  },
  {
   "cell_type": "markdown",
   "metadata": {},
   "source": [
    "Ok, thats better...so lets run PESTPP-GLM.  We will use a single \"base parameter\" jacobian matrix for two purposes: 0. to conduct a formal data worth assessment; and 1. as the basis for (super) parameter upgrade iterations (we will reuse this jacobian), which we will then use to draw realizations from the FOSM posterior parameter covariance matrix and run those realizations to get the posterior forecast PDFs."
   ]
  },
  {
   "cell_type": "code",
   "execution_count": null,
   "metadata": {
    "execution": {
     "iopub.execute_input": "2020-11-14T02:51:52.393691Z",
     "iopub.status.busy": "2020-11-14T02:51:52.387044Z",
     "iopub.status.idle": "2020-11-14T02:51:52.943006Z",
     "shell.execute_reply": "2020-11-14T02:51:52.943300Z"
    }
   },
   "outputs": [],
   "source": [
    "pst.control_data.noptmax = -1\n",
    "pst.write(os.path.join(t_d,\"freyberg_pp.pst\"))"
   ]
  },
  {
   "cell_type": "code",
   "execution_count": null,
   "metadata": {
    "execution": {
     "iopub.execute_input": "2020-11-14T02:51:52.945925Z",
     "iopub.status.busy": "2020-11-14T02:51:52.945520Z",
     "iopub.status.idle": "2020-11-14T03:49:31.811723Z",
     "shell.execute_reply": "2020-11-14T03:49:31.812425Z"
    }
   },
   "outputs": [],
   "source": [
    "pyemu.os_utils.start_workers(t_d,\"pestpp-glm\",\"freyberg_pp.pst\",num_workers=num_workers,worker_root=\".\",\n",
    "                           master_dir=m_d)"
   ]
  },
  {
   "cell_type": "markdown",
   "metadata": {},
   "source": [
    "That is all we need for FOSM, so stop here and relax! #dividends"
   ]
  },
  {
   "cell_type": "code",
   "execution_count": null,
   "metadata": {},
   "outputs": [],
   "source": []
  },
  {
   "cell_type": "code",
   "execution_count": null,
   "metadata": {},
   "outputs": [],
   "source": []
  },
  {
   "cell_type": "code",
   "execution_count": null,
   "metadata": {},
   "outputs": [],
   "source": []
  }
 ],
 "metadata": {
  "kernelspec": {
   "display_name": "Python 3",
   "language": "python",
   "name": "python3"
  },
  "language_info": {
   "codemirror_mode": {
    "name": "ipython",
    "version": 3
   },
   "file_extension": ".py",
   "mimetype": "text/x-python",
   "name": "python",
   "nbconvert_exporter": "python",
   "pygments_lexer": "ipython3",
   "version": "3.8.6"
  }
 },
 "nbformat": 4,
 "nbformat_minor": 2
}
