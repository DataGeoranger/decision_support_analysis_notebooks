{
 "cells": [
  {
   "cell_type": "markdown",
   "metadata": {},
   "source": [
    "# process the transient observations and set observation weights"
   ]
  },
  {
   "cell_type": "code",
   "execution_count": null,
   "metadata": {
    "execution": {
     "iopub.execute_input": "2020-11-13T22:53:22.931910Z",
     "iopub.status.busy": "2020-11-13T22:53:22.931286Z",
     "iopub.status.idle": "2020-11-13T22:53:23.613651Z",
     "shell.execute_reply": "2020-11-13T22:53:23.614187Z"
    }
   },
   "outputs": [],
   "source": [
    "%matplotlib inline\n",
    "import os\n",
    "import shutil\n",
    "import numpy as np\n",
    "import pandas as pd\n",
    "import matplotlib.pyplot as plt\n",
    "import flopy\n",
    "import pyemu\n",
    "import prep_deps\n",
    "import redis\n",
    "import matplotlib as mpl\n",
    "plt.rcParams['font.size']=12\n",
    "%matplotlib inline"
   ]
  },
  {
   "cell_type": "code",
   "execution_count": null,
   "metadata": {
    "execution": {
     "iopub.execute_input": "2020-11-13T22:53:23.619452Z",
     "iopub.status.busy": "2020-11-13T22:53:23.618883Z",
     "iopub.status.idle": "2020-11-13T22:53:23.622298Z",
     "shell.execute_reply": "2020-11-13T22:53:23.623145Z"
    }
   },
   "outputs": [],
   "source": [
    "os.getcwd()"
   ]
  },
  {
   "cell_type": "code",
   "execution_count": null,
   "metadata": {
    "execution": {
     "iopub.execute_input": "2020-11-13T22:53:23.626592Z",
     "iopub.status.busy": "2020-11-13T22:53:23.626040Z",
     "iopub.status.idle": "2020-11-13T22:53:23.627359Z",
     "shell.execute_reply": "2020-11-13T22:53:23.627866Z"
    }
   },
   "outputs": [],
   "source": [
    "t_d = \"template_history\"\n",
    "nam_file = \"freyberg.nam\"\n",
    "pst_file = \"freyberg.pst\"\n",
    "assert os.path.exists(t_d)"
   ]
  },
  {
   "cell_type": "code",
   "execution_count": null,
   "metadata": {
    "execution": {
     "iopub.execute_input": "2020-11-13T22:53:23.630644Z",
     "iopub.status.busy": "2020-11-13T22:53:23.630157Z",
     "iopub.status.idle": "2020-11-13T22:53:23.680941Z",
     "shell.execute_reply": "2020-11-13T22:53:23.681374Z"
    }
   },
   "outputs": [],
   "source": [
    "# note that to load a model in a different folder, you supply the namefile without path and supply the path\n",
    "# to it in the model_ws variable\n",
    "m = flopy.modflow.Modflow.load(nam_file,model_ws=t_d,check=False,forgive=False)\n"
   ]
  },
  {
   "cell_type": "markdown",
   "metadata": {},
   "source": [
    "### some visuals"
   ]
  },
  {
   "cell_type": "code",
   "execution_count": null,
   "metadata": {
    "execution": {
     "iopub.execute_input": "2020-11-13T22:53:23.694871Z",
     "iopub.status.busy": "2020-11-13T22:53:23.694453Z",
     "iopub.status.idle": "2020-11-13T22:53:23.859691Z",
     "shell.execute_reply": "2020-11-13T22:53:23.859101Z"
    }
   },
   "outputs": [],
   "source": [
    "# plot some model attributes\n",
    "fig = plt.figure(figsize=(12,7))\n",
    "ax = plt.subplot(111,aspect=\"equal\")\n",
    "mm = flopy.plot.PlotMapView(model=m)\n",
    "mm.plot_grid()\n",
    "mm.plot_ibound()\n",
    "mm.plot_bc('SFR')\n",
    "mm.plot_bc(\"GHB\")\n",
    "ax = mm.ax\n",
    "#m.wel.stress_period_data.plot(ax=ax,mflay=2)\n",
    "\n",
    "# plot obs locations\n",
    "obs = pd.read_csv(os.path.join(\"..\",\"base_model_files\",\"obs_loc.csv\"))\n",
    "                  \n",
    "obs_x = [m.sr.xcentergrid[r-1,c-1] for r,c in obs.loc[:,[\"row\",\"col\"]].values]\n",
    "obs_y = [m.sr.ycentergrid[r-1,c-1] for r,c in obs.loc[:,[\"row\",\"col\"]].values]\n",
    "ax.scatter(obs_x,obs_y,marker='.',label=\"water-level obs\",s=80)\n",
    "\n",
    "#plot names on the pumping well locations\n",
    "wel_data = m.wel.stress_period_data[0]\n",
    "wel_x = m.sr.xcentergrid[wel_data[\"i\"],wel_data[\"j\"]]\n",
    "wel_y = m.sr.ycentergrid[wel_data[\"i\"],wel_data[\"j\"]]\n",
    "for i,(x,y) in enumerate(zip(wel_x,wel_y)):\n",
    "    ax.scatter([x],[y],color=\"red\",marker=\"s\",s=50)\n",
    "    #ax.text(x,y,\"{0}\".format(i+1),ha=\"center\",va=\"center\")\n",
    "\n",
    "ax.set_ylabel(\"y(m)\")\n",
    "ax.set_xlabel(\"x(m)\")\n",
    "plt.show()"
   ]
  },
  {
   "cell_type": "markdown",
   "metadata": {},
   "source": [
    "The next major task is to set the weights on the observations.  So far, in the `pst_helper` process, we simply identified what outputs from the model we want to \"observe\".  We now use a pre-cooked csv file to set nonzero weights only for GW level observation locations used in the original Freyberg model.  We will also use the SFR flow out of the last reach (`fo` in the last model row)"
   ]
  },
  {
   "cell_type": "markdown",
   "metadata": {},
   "source": [
    "Set all weights to zero first, then turn on the weights at only a few locations.  These nonzero obs will be given meaningful weights in the prior monte carlo excercise"
   ]
  },
  {
   "cell_type": "code",
   "execution_count": null,
   "metadata": {
    "execution": {
     "iopub.execute_input": "2020-11-13T22:53:23.864464Z",
     "iopub.status.busy": "2020-11-13T22:53:23.863991Z",
     "iopub.status.idle": "2020-11-13T22:53:24.017786Z",
     "shell.execute_reply": "2020-11-13T22:53:24.018319Z"
    }
   },
   "outputs": [],
   "source": [
    "pst = pyemu.Pst(os.path.join(t_d,pst_file))\n",
    "obs = pst.observation_data\n",
    "obs.loc[:,\"weight\"] = 0.0"
   ]
  },
  {
   "cell_type": "code",
   "execution_count": null,
   "metadata": {
    "execution": {
     "iopub.execute_input": "2020-11-13T22:53:24.021404Z",
     "iopub.status.busy": "2020-11-13T22:53:24.020517Z",
     "iopub.status.idle": "2020-11-13T22:53:24.022223Z",
     "shell.execute_reply": "2020-11-13T22:53:24.022642Z"
    }
   },
   "outputs": [],
   "source": [
    "b_d = os.path.join(\"..\",\"base_model_files\")"
   ]
  },
  {
   "cell_type": "code",
   "execution_count": null,
   "metadata": {
    "execution": {
     "iopub.execute_input": "2020-11-13T22:53:24.025265Z",
     "iopub.status.busy": "2020-11-13T22:53:24.024850Z",
     "iopub.status.idle": "2020-11-13T22:53:24.042950Z",
     "shell.execute_reply": "2020-11-13T22:53:24.043447Z"
    }
   },
   "outputs": [],
   "source": [
    "obs_csv = os.path.join(b_d,\"obs_data.csv\")\n",
    "assert os.path.exists(obs_csv)\n",
    "obs_data = pd.read_csv(obs_csv,index_col=0,parse_dates=[\"datetime\"])\n",
    "obs_data"
   ]
  },
  {
   "cell_type": "code",
   "execution_count": null,
   "metadata": {
    "execution": {
     "iopub.execute_input": "2020-11-13T22:53:24.047865Z",
     "iopub.status.busy": "2020-11-13T22:53:24.047349Z",
     "iopub.status.idle": "2020-11-13T22:53:25.680174Z",
     "shell.execute_reply": "2020-11-13T22:53:25.680599Z"
    }
   },
   "outputs": [],
   "source": [
    "obs_sites = []\n",
    "for site in pd.Series(obs_data.index.values).unique():\n",
    "    site_obs_data = obs_data.loc[site,:]\n",
    "    if len(site_obs_data.shape) == 1:\n",
    "        continue\n",
    "    obs_sites.append(site)\n",
    "    #print(site,site_obs_data.shape)\n",
    "    fig,ax = plt.subplots(1,1,figsize=(10,2))\n",
    "    ax.plot(site_obs_data.datetime,site_obs_data.value)\n",
    "    ax.set_title(site)\n",
    "plt.show()"
   ]
  },
  {
   "cell_type": "markdown",
   "metadata": {},
   "source": [
    "### Now we need to some how align these obs with the model stress periods..."
   ]
  },
  {
   "cell_type": "code",
   "execution_count": null,
   "metadata": {
    "execution": {
     "iopub.execute_input": "2020-11-13T22:53:25.685485Z",
     "iopub.status.busy": "2020-11-13T22:53:25.684630Z",
     "iopub.status.idle": "2020-11-13T22:53:25.687091Z",
     "shell.execute_reply": "2020-11-13T22:53:25.687561Z"
    }
   },
   "outputs": [],
   "source": [
    "sp_start = pd.to_datetime(m.start_datetime) + pd.to_timedelta(np.cumsum(m.dis.perlen.array),unit='d')\n",
    "\n",
    "sp_end = sp_start - pd.to_timedelta(1.0,unit='d')\n",
    "sp_start,sp_end"
   ]
  },
  {
   "cell_type": "markdown",
   "metadata": {},
   "source": [
    "We have some choices to make now.  How do we align/sample the observations???"
   ]
  },
  {
   "cell_type": "code",
   "execution_count": null,
   "metadata": {
    "execution": {
     "iopub.execute_input": "2020-11-13T22:53:25.693005Z",
     "iopub.status.busy": "2020-11-13T22:53:25.690432Z",
     "iopub.status.idle": "2020-11-13T22:53:25.733512Z",
     "shell.execute_reply": "2020-11-13T22:53:25.733971Z"
    }
   },
   "outputs": [],
   "source": [
    "#just pick the nearest to the sp end\n",
    "es_obs_data = []\n",
    "for site in obs_sites:\n",
    "    site_obs_data = obs_data.loc[site,:].copy()\n",
    "    site_obs_data.loc[:,\"site\"] = site_obs_data.index.values\n",
    "    site_obs_data.index = site_obs_data.datetime\n",
    "    site_obs_data = site_obs_data.reindex(sp_start,method=\"nearest\")\n",
    "    \n",
    "    if site_obs_data.shape != site_obs_data.dropna().shape:\n",
    "        print(\"broke\",site)\n",
    "    es_obs_data.append(site_obs_data)\n",
    "es_obs_data = pd.concat(es_obs_data,axis=0,ignore_index=True)\n",
    "es_obs_data.shape"
   ]
  },
  {
   "cell_type": "code",
   "execution_count": null,
   "metadata": {
    "execution": {
     "iopub.execute_input": "2020-11-13T22:53:25.763912Z",
     "iopub.status.busy": "2020-11-13T22:53:25.746668Z",
     "iopub.status.idle": "2020-11-13T22:53:27.367656Z",
     "shell.execute_reply": "2020-11-13T22:53:27.368082Z"
    }
   },
   "outputs": [],
   "source": [
    "for site in obs_sites:\n",
    "    #print(site)\n",
    "    site_obs_data = obs_data.loc[site,:]\n",
    "    es_site_obs_data = es_obs_data.loc[es_obs_data.site==site,:].copy()\n",
    "    es_site_obs_data.sort_values(by=\"datetime\",inplace=True)\n",
    "    #print(site,site_obs_data.shape)\n",
    "    fig,ax = plt.subplots(1,1,figsize=(10,2))\n",
    "    ax.plot(site_obs_data.datetime,site_obs_data.value,\"b-\",lw=0.5)\n",
    "    #ax.plot(es_site_obs_data.datetime,es_site_obs_data.value,'r-',lw=2)\n",
    "    ax.plot(es_site_obs_data.datetime,es_site_obs_data.value,'r-',lw=1,marker='.',ms=10)\n",
    "    ax.set_title(site)\n",
    "plt.show()"
   ]
  },
  {
   "cell_type": "markdown",
   "metadata": {},
   "source": [
    "Ruh roh - that isnt quite what we wanted:  we arent capturing the trend in the data very well.  "
   ]
  },
  {
   "cell_type": "markdown",
   "metadata": {},
   "source": [
    "So, one approach is to run the obs thru a low-pass filter to strip out all those high freq components, then sample to stress period ends. Excel anyone?"
   ]
  },
  {
   "cell_type": "code",
   "execution_count": null,
   "metadata": {
    "execution": {
     "iopub.execute_input": "2020-11-13T22:53:27.386984Z",
     "iopub.status.busy": "2020-11-13T22:53:27.386513Z",
     "iopub.status.idle": "2020-11-13T22:53:29.475601Z",
     "shell.execute_reply": "2020-11-13T22:53:29.476022Z"
    }
   },
   "outputs": [],
   "source": [
    "ess_obs_data = {}\n",
    "for site in obs_sites:\n",
    "    #print(site)\n",
    "    site_obs_data = obs_data.loc[site,:].copy()\n",
    "    site_obs_data.loc[:,\"site\"] = site_obs_data.index.values\n",
    "    site_obs_data.index = site_obs_data.datetime\n",
    "    sm = site_obs_data.value.rolling(window=60,center=True,min_periods=1).mean()\n",
    "    sm_site_obs_data = sm.reindex(sp_start,method=\"nearest\")\n",
    "    #ess_obs_data.append(pd.DataFrame9sm_site_obs_data)\n",
    "    ess_obs_data[site] = sm_site_obs_data\n",
    "    \n",
    "    es_site_obs_data = es_obs_data.loc[es_obs_data.site==site,:].copy()\n",
    "    es_site_obs_data.sort_values(by=\"datetime\",inplace=True)\n",
    "    fig,ax = plt.subplots(1,1,figsize=(10,4))\n",
    "    ax.plot(site_obs_data.datetime,site_obs_data.value,\"b-\",lw=0.25)\n",
    "    ax.plot(es_site_obs_data.datetime,es_site_obs_data.value,'r-',lw=1,marker='.',ms=10)\n",
    "    ax.plot(sm_site_obs_data.index,sm_site_obs_data.values,'g-',lw=0.5,marker='.',ms=10)\n",
    "    ax.set_title(site)\n",
    "plt.show()\n",
    "ess_obs_data = pd.DataFrame(ess_obs_data)\n",
    "ess_obs_data.shape"
   ]
  },
  {
   "cell_type": "markdown",
   "metadata": {},
   "source": [
    "Much better!  So now we need to get these smoothed-sampled obs values into the control file - yuck!"
   ]
  },
  {
   "cell_type": "code",
   "execution_count": null,
   "metadata": {
    "execution": {
     "iopub.execute_input": "2020-11-13T22:53:29.486891Z",
     "iopub.status.busy": "2020-11-13T22:53:29.486283Z",
     "iopub.status.idle": "2020-11-13T22:53:29.488476Z",
     "shell.execute_reply": "2020-11-13T22:53:29.488906Z"
    }
   },
   "outputs": [],
   "source": [
    "ess_obs_data.head()"
   ]
  },
  {
   "cell_type": "code",
   "execution_count": null,
   "metadata": {
    "execution": {
     "iopub.execute_input": "2020-11-13T22:53:29.494480Z",
     "iopub.status.busy": "2020-11-13T22:53:29.494069Z",
     "iopub.status.idle": "2020-11-13T22:53:29.511473Z",
     "shell.execute_reply": "2020-11-13T22:53:29.511920Z"
    }
   },
   "outputs": [],
   "source": [
    "obs = pst.observation_data\n",
    "obs.loc[:,\"weight\"] = 0.0\n",
    "pset = set(pst.obs_names)\n",
    "dt_str = ess_obs_data.index.map(lambda x: x.strftime(\"%Y%m%d\")).values\n",
    "for col in ess_obs_data.columns:\n",
    "    obsnme = col+\"_\"+dt_str\n",
    "    cset = set(obsnme)\n",
    "    missing = cset - pset\n",
    "    assert len(missing) == 0,missing\n",
    "    obs.loc[obsnme,\"obsval\"] = ess_obs_data.loc[:,col].values\n",
    "    obs.loc[obsnme,\"weight\"] = 1.0\n",
    "print(pst.nnz_obs)\n",
    "pst.nnz_obs_groups"
   ]
  },
  {
   "cell_type": "code",
   "execution_count": null,
   "metadata": {
    "execution": {
     "iopub.execute_input": "2020-11-13T22:53:29.525973Z",
     "iopub.status.busy": "2020-11-13T22:53:29.525564Z",
     "iopub.status.idle": "2020-11-13T22:53:30.113300Z",
     "shell.execute_reply": "2020-11-13T22:53:30.113733Z"
    }
   },
   "outputs": [],
   "source": [
    "pst.write(os.path.join(t_d,pst_file))"
   ]
  },
  {
   "cell_type": "markdown",
   "metadata": {},
   "source": [
    "\"This is not the python command you are looking for\""
   ]
  },
  {
   "cell_type": "code",
   "execution_count": null,
   "metadata": {
    "execution": {
     "iopub.execute_input": "2020-11-13T22:53:30.116594Z",
     "iopub.status.busy": "2020-11-13T22:53:30.116197Z",
     "iopub.status.idle": "2020-11-13T22:53:30.877162Z",
     "shell.execute_reply": "2020-11-13T22:53:30.877627Z"
    }
   },
   "outputs": [],
   "source": [
    "prep_deps.prep_forecasts()"
   ]
  },
  {
   "cell_type": "markdown",
   "metadata": {},
   "source": [
    "Run one last time.  `phi` should be substantial now since we now have \"observed\" value in the control file"
   ]
  },
  {
   "cell_type": "code",
   "execution_count": null,
   "metadata": {
    "execution": {
     "iopub.execute_input": "2020-11-13T22:53:30.880665Z",
     "iopub.status.busy": "2020-11-13T22:53:30.880234Z",
     "iopub.status.idle": "2020-11-13T22:53:40.969019Z",
     "shell.execute_reply": "2020-11-13T22:53:40.969448Z"
    }
   },
   "outputs": [],
   "source": [
    "pyemu.os_utils.run(\"pestpp-ies.exe {0}\".format(pst_file),cwd=t_d)\n",
    "pst = pyemu.Pst(os.path.join(t_d,\"freyberg.pst\"))\n",
    "pst.phi"
   ]
  },
  {
   "cell_type": "markdown",
   "metadata": {},
   "source": [
    "woah - that's a big phi"
   ]
  },
  {
   "cell_type": "code",
   "execution_count": null,
   "metadata": {
    "execution": {
     "iopub.execute_input": "2020-11-13T22:53:40.987395Z",
     "iopub.status.busy": "2020-11-13T22:53:40.973740Z",
     "iopub.status.idle": "2020-11-13T22:53:42.806861Z",
     "shell.execute_reply": "2020-11-13T22:53:42.807296Z"
    }
   },
   "outputs": [],
   "source": [
    "nz_obs = pst.observation_data.loc[pst.nnz_obs_names,:].copy()\n",
    "nz_obs.loc[:,\"datetime\"] = pd.to_datetime(nz_obs.obsnme.apply(lambda x: x.split(\"_\")[-1]))    \n",
    "for nz_group in pst.nnz_obs_groups:\n",
    "    nz_obs_group = nz_obs.loc[nz_obs.obgnme==nz_group,:]\n",
    "    fig,ax = plt.subplots(1,1,figsize=(10,2))\n",
    "    ax.plot(nz_obs_group.datetime,nz_obs_group.obsval,\"r-\",label=\"observed\")\n",
    "    ax.plot(nz_obs_group.datetime,pst.res.loc[nz_obs_group.obsnme,\"modelled\"],\"b-\",label=\"simulated\")\n",
    "    ax.set_title(nz_group)\n",
    "    ax.legend()\n",
    "plt.show()"
   ]
  },
  {
   "cell_type": "code",
   "execution_count": null,
   "metadata": {
    "execution": {
     "iopub.execute_input": "2020-11-13T22:53:42.810681Z",
     "iopub.status.busy": "2020-11-13T22:53:42.810280Z",
     "iopub.status.idle": "2020-11-13T22:53:45.806545Z",
     "shell.execute_reply": "2020-11-13T22:53:45.807017Z"
    }
   },
   "outputs": [],
   "source": [
    "plt.figure()\n",
    "pst.plot(kind='phi_pie');\n",
    "print('Here are the non-zero weighted observation contributions to phi')\n",
    "\n",
    "figs = pst.plot(kind=\"1to1\");\n",
    "pst.res.loc[pst.nnz_obs_names,:]\n",
    "plt.show()"
   ]
  },
  {
   "cell_type": "markdown",
   "metadata": {},
   "source": [
    "Clearly not what we want...let's try error-based weighting combined with common sense (e.g. subjectivity)"
   ]
  },
  {
   "cell_type": "code",
   "execution_count": null,
   "metadata": {
    "execution": {
     "iopub.execute_input": "2020-11-13T22:53:45.815704Z",
     "iopub.status.busy": "2020-11-13T22:53:45.815030Z",
     "iopub.status.idle": "2020-11-13T22:53:48.958819Z",
     "shell.execute_reply": "2020-11-13T22:53:48.959245Z"
    }
   },
   "outputs": [],
   "source": [
    "nz_obs = pst.observation_data.loc[pst.nnz_obs_names,:]\n",
    "trgw_obs = nz_obs.loc[nz_obs.obgnme.apply(lambda x: x.startswith(\"trgw\")),:]\n",
    "pst.observation_data.loc[trgw_obs.obsnme,\"weight\"] = 3.0\n",
    "fo_obs = nz_obs.loc[nz_obs.obgnme.apply(lambda x: x.startswith(\"fo_\")),:]\n",
    "# fanciness alert: heteroskedasticity\n",
    "#pst.observation_data.loc[fo_obs.obsnme,\"weight\"] = 1.0 / (fo_obs.obsval * .2)\n",
    "pst.observation_data.loc[fo_obs.obsnme,\"weight\"] = 0.0015\n",
    "print()\n",
    "plt.figure()\n",
    "pst.plot(kind='phi_pie');\n",
    "print('Here are the non-zero weighted observation contributions to phi')\n",
    "\n",
    "figs = pst.plot(kind=\"1to1\");\n",
    "pst.res.loc[pst.nnz_obs_names,:]\n",
    "plt.show()"
   ]
  },
  {
   "cell_type": "markdown",
   "metadata": {},
   "source": [
    "### Ok, thats better..."
   ]
  },
  {
   "cell_type": "code",
   "execution_count": null,
   "metadata": {
    "execution": {
     "iopub.execute_input": "2020-11-13T22:53:48.973813Z",
     "iopub.status.busy": "2020-11-13T22:53:48.973359Z",
     "iopub.status.idle": "2020-11-13T22:53:49.551252Z",
     "shell.execute_reply": "2020-11-13T22:53:49.551690Z"
    }
   },
   "outputs": [],
   "source": [
    "pst.write(os.path.join(t_d,pst_file))"
   ]
  },
  {
   "cell_type": "markdown",
   "metadata": {},
   "source": [
    "### Discussion:  since we want to forecast low-flow/low-water level things, should we \"target\" low-flow/low-water level observations? What are the implications of a \"targeted\" approach?  How do you do that?"
   ]
  },
  {
   "cell_type": "markdown",
   "metadata": {},
   "source": [
    "## Understanding weights and measurement noise in the context of transient parameter estimation\n",
    "\n",
    "Now let's visualize what these weights actually imply:"
   ]
  },
  {
   "cell_type": "code",
   "execution_count": null,
   "metadata": {
    "execution": {
     "iopub.execute_input": "2020-11-13T22:53:49.570708Z",
     "iopub.status.busy": "2020-11-13T22:53:49.567389Z",
     "iopub.status.idle": "2020-11-13T22:53:49.589001Z",
     "shell.execute_reply": "2020-11-13T22:53:49.589309Z"
    }
   },
   "outputs": [],
   "source": [
    "oe = pyemu.ObservationEnsemble.from_gaussian_draw(pst=pst,num_reals=2)"
   ]
  },
  {
   "cell_type": "code",
   "execution_count": null,
   "metadata": {
    "execution": {
     "iopub.execute_input": "2020-11-13T22:53:49.593641Z",
     "iopub.status.busy": "2020-11-13T22:53:49.593208Z",
     "iopub.status.idle": "2020-11-13T22:53:51.568119Z",
     "shell.execute_reply": "2020-11-13T22:53:51.567439Z"
    }
   },
   "outputs": [],
   "source": [
    "nz_obs = pst.observation_data.loc[pst.nnz_obs_names,:].copy()\n",
    "nz_obs.loc[:,\"datetime\"] = pd.to_datetime(nz_obs.obsnme.apply(lambda x: x.split(\"_\")[-1]))\n",
    "pst_base = pyemu.Pst(os.path.join(t_d,\"freyberg.pst\"))\n",
    "for nz_group in pst.nnz_obs_groups:\n",
    "    nz_obs_group = nz_obs.loc[nz_obs.obgnme==nz_group,:]\n",
    "    fig,ax = plt.subplots(1,1,figsize=(10,2))\n",
    "    \n",
    "    [ax.plot(nz_obs_group.datetime,oe.loc[r,nz_obs_group.obsnme],color=\"r\",lw=0.1) for r in oe.index]\n",
    "    ax.plot(nz_obs_group.datetime,nz_obs_group.obsval,\"r-\")\n",
    "    ax.set_title(nz_group)\n",
    "    #vmin = min(nz_obs_group.obsval.min(),oe_pt.loc[:,nz_obs_group.obsnme].min().min())\n",
    "    #vmax = max(nz_obs_group.obsval.max(),oe_pt.loc[:,nz_obs_group.obsnme].max().max())\n",
    "plt.show()"
   ]
  },
  {
   "cell_type": "markdown",
   "metadata": {},
   "source": [
    "What we are saying with these weights is that any one of these red traces could have also be \"observed\" or \"measured\".  Are we happy with these?"
   ]
  },
  {
   "cell_type": "markdown",
   "metadata": {},
   "source": [
    "### An aside on generating autocorrelated transient noise..."
   ]
  },
  {
   "cell_type": "code",
   "execution_count": null,
   "metadata": {
    "execution": {
     "iopub.execute_input": "2020-11-13T22:53:51.572131Z",
     "iopub.status.busy": "2020-11-13T22:53:51.571724Z",
     "iopub.status.idle": "2020-11-13T22:53:51.573548Z",
     "shell.execute_reply": "2020-11-13T22:53:51.572994Z"
    }
   },
   "outputs": [],
   "source": [
    "v = pyemu.geostats.ExpVario(a=30,contribution=1.0)\n",
    "x = np.arange(m.nper)\n",
    "y = np.zeros_like(x)\n",
    "names = [\"obs_{0}\".format(xx) for xx in x]\n",
    "cov = v.covariance_matrix(x,y,names=names)"
   ]
  },
  {
   "cell_type": "code",
   "execution_count": null,
   "metadata": {
    "execution": {
     "iopub.execute_input": "2020-11-13T22:53:51.662471Z",
     "iopub.status.busy": "2020-11-13T22:53:51.661771Z",
     "iopub.status.idle": "2020-11-13T22:53:51.737764Z",
     "shell.execute_reply": "2020-11-13T22:53:51.738314Z"
    }
   },
   "outputs": [],
   "source": [
    "plt.imshow(cov.x)"
   ]
  },
  {
   "cell_type": "code",
   "execution_count": null,
   "metadata": {
    "execution": {
     "iopub.execute_input": "2020-11-13T22:53:51.741403Z",
     "iopub.status.busy": "2020-11-13T22:53:51.740954Z",
     "iopub.status.idle": "2020-11-13T22:53:51.742724Z",
     "shell.execute_reply": "2020-11-13T22:53:51.743174Z"
    }
   },
   "outputs": [],
   "source": [
    "df = pd.DataFrame(np.NaN,index=nz_obs.obsnme,columns=nz_obs.obsnme)"
   ]
  },
  {
   "cell_type": "code",
   "execution_count": null,
   "metadata": {
    "execution": {
     "iopub.execute_input": "2020-11-13T22:53:51.752865Z",
     "iopub.status.busy": "2020-11-13T22:53:51.749026Z",
     "iopub.status.idle": "2020-11-13T22:53:51.768212Z",
     "shell.execute_reply": "2020-11-13T22:53:51.767755Z"
    }
   },
   "outputs": [],
   "source": [
    "for nz_group in pst.nnz_obs_groups:\n",
    "    nz_obs_group = nz_obs.loc[nz_obs.obgnme==nz_group,:]\n",
    "    x_group = cov.x.copy()\n",
    "    w = nz_obs_group.weight.mean()\n",
    "    v = (1./w)**2\n",
    "    x_group *= v\n",
    "    df.loc[nz_obs_group.obsnme,nz_obs_group.obsnme] = x_group"
   ]
  },
  {
   "cell_type": "code",
   "execution_count": null,
   "metadata": {
    "execution": {
     "iopub.execute_input": "2020-11-13T22:53:51.779923Z",
     "iopub.status.busy": "2020-11-13T22:53:51.779486Z",
     "iopub.status.idle": "2020-11-13T22:53:51.874846Z",
     "shell.execute_reply": "2020-11-13T22:53:51.875918Z"
    }
   },
   "outputs": [],
   "source": [
    "plt.imshow(df.values)"
   ]
  },
  {
   "cell_type": "code",
   "execution_count": null,
   "metadata": {
    "execution": {
     "iopub.execute_input": "2020-11-13T22:53:51.879609Z",
     "iopub.status.busy": "2020-11-13T22:53:51.879153Z",
     "iopub.status.idle": "2020-11-13T22:53:51.880779Z",
     "shell.execute_reply": "2020-11-13T22:53:51.881251Z"
    }
   },
   "outputs": [],
   "source": [
    "cov = pyemu.Cov.from_dataframe(df)"
   ]
  },
  {
   "cell_type": "code",
   "execution_count": null,
   "metadata": {
    "execution": {
     "iopub.execute_input": "2020-11-13T22:53:51.884260Z",
     "iopub.status.busy": "2020-11-13T22:53:51.883790Z",
     "iopub.status.idle": "2020-11-13T22:53:51.921977Z",
     "shell.execute_reply": "2020-11-13T22:53:51.922459Z"
    }
   },
   "outputs": [],
   "source": [
    "oe_corr = pyemu.ObservationEnsemble.from_gaussian_draw(pst=pst,cov=cov,num_reals=2)"
   ]
  },
  {
   "cell_type": "code",
   "execution_count": null,
   "metadata": {
    "execution": {
     "iopub.execute_input": "2020-11-13T22:53:51.931371Z",
     "iopub.status.busy": "2020-11-13T22:53:51.930782Z",
     "iopub.status.idle": "2020-11-13T22:53:53.661814Z",
     "shell.execute_reply": "2020-11-13T22:53:53.661286Z"
    }
   },
   "outputs": [],
   "source": [
    "nz_obs = pst.observation_data.loc[pst.nnz_obs_names,:].copy()\n",
    "nz_obs.loc[:,\"datetime\"] = pd.to_datetime(nz_obs.obsnme.apply(lambda x: x.split(\"_\")[-1]))\n",
    "for nz_group in pst.nnz_obs_groups:\n",
    "    nz_obs_group = nz_obs.loc[nz_obs.obgnme==nz_group,:]\n",
    "    fig,ax = plt.subplots(1,1,figsize=(10,2))\n",
    "    \n",
    "    [ax.plot(nz_obs_group.datetime,oe_corr.loc[r,nz_obs_group.obsnme],color=\"r\",lw=0.1) for r in oe_corr.index]\n",
    "    ax.plot(nz_obs_group.datetime,nz_obs_group.obsval,\"r-\")\n",
    "    ax.set_title(nz_group)\n",
    "    #vmin = min(nz_obs_group.obsval.min(),oe_pt.loc[:,nz_obs_group.obsnme].min().min())\n",
    "    #vmax = max(nz_obs_group.obsval.max(),oe_pt.loc[:,nz_obs_group.obsnme].max().max())\n",
    "plt.show()"
   ]
  },
  {
   "cell_type": "markdown",
   "metadata": {},
   "source": [
    "### How often do we specify noise models like this for transient models???"
   ]
  },
  {
   "cell_type": "code",
   "execution_count": null,
   "metadata": {
    "execution": {
     "iopub.execute_input": "2020-11-13T22:53:53.664526Z",
     "iopub.status.busy": "2020-11-13T22:53:53.664097Z",
     "iopub.status.idle": "2020-11-13T22:53:53.676114Z",
     "shell.execute_reply": "2020-11-13T22:53:53.676423Z"
    }
   },
   "outputs": [],
   "source": [
    "cov.x[np.isnan(cov.x)] = 0.0\n",
    "cov.to_coo(os.path.join(t_d,\"obs_cov.jcb\"))"
   ]
  },
  {
   "cell_type": "code",
   "execution_count": null,
   "metadata": {},
   "outputs": [],
   "source": []
  },
  {
   "cell_type": "code",
   "execution_count": null,
   "metadata": {},
   "outputs": [],
   "source": []
  },
  {
   "cell_type": "code",
   "execution_count": null,
   "metadata": {},
   "outputs": [],
   "source": []
  }
 ],
 "metadata": {
  "kernelspec": {
   "display_name": "Python 3",
   "language": "python",
   "name": "python3"
  },
  "language_info": {
   "codemirror_mode": {
    "name": "ipython",
    "version": 3
   },
   "file_extension": ".py",
   "mimetype": "text/x-python",
   "name": "python",
   "nbconvert_exporter": "python",
   "pygments_lexer": "ipython3",
   "version": "3.8.3"
  }
 },
 "nbformat": 4,
 "nbformat_minor": 2
}
