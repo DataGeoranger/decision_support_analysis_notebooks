{
 "cells": [
  {
   "cell_type": "markdown",
   "metadata": {},
   "source": [
    "# Run PESTPP-IES\n",
    "\n",
    "In this notebook we will run PESTPP-IES in standard, basic mode and then use buildin functionality for resolving prior-data conflict and estimating total error covariance"
   ]
  },
  {
   "cell_type": "code",
   "execution_count": null,
   "metadata": {
    "execution": {
     "iopub.execute_input": "2020-11-12T01:58:03.893364Z",
     "iopub.status.busy": "2020-11-12T01:58:03.893364Z",
     "iopub.status.idle": "2020-11-12T01:58:04.707398Z",
     "shell.execute_reply": "2020-11-12T01:58:04.707398Z"
    }
   },
   "outputs": [],
   "source": [
    "%matplotlib inline\n",
    "import os\n",
    "import shutil\n",
    "import numpy as np\n",
    "import pandas as pd\n",
    "import matplotlib.pyplot as plt\n",
    "import matplotlib as mpl\n",
    "plt.rcParams['font.size']=12\n",
    "import flopy\n",
    "import pyemu\n",
    "%matplotlib inline"
   ]
  },
  {
   "cell_type": "markdown",
   "metadata": {},
   "source": [
    "## SUPER IMPORTANT: SET HOW MANY PARALLEL WORKERS TO USE"
   ]
  },
  {
   "cell_type": "code",
   "execution_count": null,
   "metadata": {
    "execution": {
     "iopub.execute_input": "2020-11-12T01:58:04.707398Z",
     "iopub.status.busy": "2020-11-12T01:58:04.707398Z",
     "iopub.status.idle": "2020-11-12T01:58:04.722908Z",
     "shell.execute_reply": "2020-11-12T01:58:04.722908Z"
    }
   },
   "outputs": [],
   "source": [
    "num_workers = 5"
   ]
  },
  {
   "cell_type": "code",
   "execution_count": null,
   "metadata": {
    "execution": {
     "iopub.execute_input": "2020-11-12T01:58:04.728547Z",
     "iopub.status.busy": "2020-11-12T01:58:04.728547Z",
     "iopub.status.idle": "2020-11-12T01:58:04.739296Z",
     "shell.execute_reply": "2020-11-12T01:58:04.739296Z"
    }
   },
   "outputs": [],
   "source": [
    "t_d = \"template_history\"\n",
    "m_d = \"master_ies\""
   ]
  },
  {
   "cell_type": "markdown",
   "metadata": {},
   "source": [
    "### As usual, load the model and plot the domain just to remember why we are doing all this...."
   ]
  },
  {
   "cell_type": "code",
   "execution_count": null,
   "metadata": {
    "execution": {
     "iopub.execute_input": "2020-11-12T01:58:04.739296Z",
     "iopub.status.busy": "2020-11-12T01:58:04.739296Z",
     "iopub.status.idle": "2020-11-12T01:58:04.833775Z",
     "shell.execute_reply": "2020-11-12T01:58:04.833775Z"
    }
   },
   "outputs": [],
   "source": [
    "m = flopy.modflow.Modflow.load(\"freyberg.nam\",model_ws=t_d,check=False,forgive=False)"
   ]
  },
  {
   "cell_type": "code",
   "execution_count": null,
   "metadata": {
    "execution": {
     "iopub.execute_input": "2020-11-12T01:58:04.848955Z",
     "iopub.status.busy": "2020-11-12T01:58:04.848955Z",
     "iopub.status.idle": "2020-11-12T01:58:05.038235Z",
     "shell.execute_reply": "2020-11-12T01:58:05.038235Z"
    }
   },
   "outputs": [],
   "source": [
    "# plot some model attributes\n",
    "fig = plt.figure(figsize=(12,7))\n",
    "ax = plt.subplot(111,aspect=\"equal\")\n",
    "mm = flopy.plot.PlotMapView(model=m)\n",
    "mm.plot_grid()\n",
    "mm.plot_ibound()\n",
    "mm.plot_bc('SFR')\n",
    "mm.plot_bc(\"GHB\")\n",
    "ax = mm.ax\n",
    "#m.wel.stress_period_data.plot(ax=ax,mflay=2)\n",
    "\n",
    "# plot obs locations\n",
    "obs = pd.read_csv(os.path.join(\"..\",\"base_model_files\",\"obs_loc.csv\"))\n",
    "                  \n",
    "obs_x = [m.sr.xcentergrid[r-1,c-1] for r,c in obs.loc[:,[\"row\",\"col\"]].values]\n",
    "obs_y = [m.sr.ycentergrid[r-1,c-1] for r,c in obs.loc[:,[\"row\",\"col\"]].values]\n",
    "ax.scatter(obs_x,obs_y,marker='.',label=\"water-level obs\",s=80)\n",
    "\n",
    "#plot names on the pumping well locations\n",
    "wel_data = m.wel.stress_period_data[0]\n",
    "wel_x = m.sr.xcentergrid[wel_data[\"i\"],wel_data[\"j\"]]\n",
    "wel_y = m.sr.ycentergrid[wel_data[\"i\"],wel_data[\"j\"]]\n",
    "for i,(x,y) in enumerate(zip(wel_x,wel_y)):\n",
    "    ax.scatter([x],[y],color=\"red\",marker=\"s\",s=50)\n",
    "    #ax.text(x,y,\"{0}\".format(i+1),ha=\"center\",va=\"center\")\n",
    "\n",
    "ax.set_ylabel(\"y(m)\")\n",
    "ax.set_xlabel(\"x(m)\")\n",
    "plt.show()"
   ]
  },
  {
   "cell_type": "markdown",
   "metadata": {},
   "source": [
    "### Run PESTPP-IES in original mode and post process"
   ]
  },
  {
   "cell_type": "markdown",
   "metadata": {},
   "source": [
    "Load the existing pest control file and set some problem specific PESTPP-IES settings (these all have decent internal defaults, but thru some testing, we have found these speed up the process for the synthetic freyberg problem)"
   ]
  },
  {
   "cell_type": "code",
   "execution_count": null,
   "metadata": {
    "execution": {
     "iopub.execute_input": "2020-11-12T01:58:05.038235Z",
     "iopub.status.busy": "2020-11-12T01:58:05.038235Z",
     "iopub.status.idle": "2020-11-12T01:58:05.242128Z",
     "shell.execute_reply": "2020-11-12T01:58:05.242128Z"
    }
   },
   "outputs": [],
   "source": [
    "\n",
    "pst = pyemu.Pst(os.path.join(t_d,\"freyberg.pst\"))\n",
    "pst.pestpp_options[\"ies_num_reals\"] = 50  # enough?\n",
    "pst.pestpp_options[\"ies_par_en\"] = \"prior.jcb\"\n",
    "pst.pestpp_options[\"ies_bad_phi_sigma\"] = 1.5\n",
    "pst.pestpp_options[\"overdue_giveup_fac\"] = 1.5\n",
    "pst.pestpp_options[\"ies_save_rescov\"] = True\n",
    "pst.pestpp_options[\"ies_no_noise\"] = True\n",
    "pst.control_data.noptmax = 3\n",
    "\n"
   ]
  },
  {
   "cell_type": "markdown",
   "metadata": {},
   "source": [
    "write the control file with the new PESTPP-IES specific settings"
   ]
  },
  {
   "cell_type": "code",
   "execution_count": null,
   "metadata": {
    "execution": {
     "iopub.execute_input": "2020-11-12T01:58:05.257896Z",
     "iopub.status.busy": "2020-11-12T01:58:05.257896Z",
     "iopub.status.idle": "2020-11-12T01:58:06.005607Z",
     "shell.execute_reply": "2020-11-12T01:58:06.005607Z"
    }
   },
   "outputs": [],
   "source": [
    "pst.write(os.path.join(t_d,\"freyberg_ies.pst\"))"
   ]
  },
  {
   "cell_type": "markdown",
   "metadata": {},
   "source": [
    "Run PESTPP-IES in parallel locally"
   ]
  },
  {
   "cell_type": "code",
   "execution_count": null,
   "metadata": {
    "execution": {
     "iopub.execute_input": "2020-11-12T01:58:06.005607Z",
     "iopub.status.busy": "2020-11-12T01:58:06.005607Z",
     "iopub.status.idle": "2020-11-12T02:32:25.035759Z",
     "shell.execute_reply": "2020-11-12T02:32:25.035759Z"
    }
   },
   "outputs": [],
   "source": [
    "pyemu.os_utils.start_workers(t_d,\"pestpp-ies\",\"freyberg_ies.pst\",num_workers=num_workers,master_dir=m_d)"
   ]
  },
  {
   "cell_type": "markdown",
   "metadata": {},
   "source": [
    "A cheap phi progress plot"
   ]
  },
  {
   "cell_type": "code",
   "execution_count": null,
   "metadata": {
    "execution": {
     "iopub.execute_input": "2020-11-12T02:32:25.035759Z",
     "iopub.status.busy": "2020-11-12T02:32:25.035759Z",
     "iopub.status.idle": "2020-11-12T02:32:25.542855Z",
     "shell.execute_reply": "2020-11-12T02:32:25.542855Z"
    }
   },
   "outputs": [],
   "source": [
    "phi = pd.read_csv(os.path.join(m_d,\"freyberg_ies.phi.actual.csv\"),index_col=0)\n",
    "phi.index = phi.total_runs\n",
    "phi.iloc[:,6:].apply(np.log10).plot(legend=False,lw=0.5,color='k')\n",
    "plt.ylabel('log \\$Phi$')\n",
    "plt.figure()\n",
    "phi.iloc[-1,6:].hist()\n",
    "plt.title('Final $\\Phi$ Distribution');"
   ]
  },
  {
   "cell_type": "markdown",
   "metadata": {},
   "source": [
    "That is a pretty amaz phi decrease for just a few model runs and 11K+ parameters"
   ]
  },
  {
   "cell_type": "markdown",
   "metadata": {},
   "source": [
    "But, we are focused on making the forecasts of interest.  Since PESTPP-IES evaluates a prior parameter ensemble and we will treat the final iteration parameter ensemble as a posterier sample. So let's load corresponding output (\"observation\") ensembles and plot forecast prior and posterior histograms with \"truth\" value (red line)"
   ]
  },
  {
   "cell_type": "code",
   "execution_count": null,
   "metadata": {},
   "outputs": [],
   "source": []
  },
  {
   "cell_type": "code",
   "execution_count": null,
   "metadata": {
    "execution": {
     "iopub.execute_input": "2020-11-12T02:32:25.542855Z",
     "iopub.status.busy": "2020-11-12T02:32:25.542855Z",
     "iopub.status.idle": "2020-11-12T02:32:27.110487Z",
     "shell.execute_reply": "2020-11-12T02:32:27.110487Z"
    }
   },
   "outputs": [],
   "source": [
    "oe_pr = pd.read_csv(os.path.join(m_d,\"freyberg_ies.0.obs.csv\"),index_col=0)\n",
    "oe_pt = pd.read_csv(os.path.join(m_d,\"freyberg_ies.{0}.obs.csv\".format(pst.control_data.noptmax)),index_col=0)\n",
    "obs = pst.observation_data\n",
    "fnames = pst.pestpp_options[\"forecasts\"].split(\",\")\n",
    "for forecast in fnames:\n",
    "    ax = plt.subplot(111)\n",
    "    oe_pr.loc[:,forecast].hist(ax=ax,color=\"0.5\",alpha=0.5, label='prior')\n",
    "    oe_pt.loc[:,forecast].hist(ax=ax,color=\"b\",alpha=0.5, label='posterior')\n",
    "    ax.plot([obs.loc[forecast,\"obsval\"],obs.loc[forecast,\"obsval\"]],ax.get_ylim(),\"r\", label='truth')\n",
    "    ax.set_title(forecast)\n",
    "    ax.legend(loc='upper right')\n",
    "    plt.show()"
   ]
  },
  {
   "cell_type": "markdown",
   "metadata": {},
   "source": [
    "Thoughts on this?  The prior covered the truth for all forecast but not so for the posterior.  This means we have incurred forecast-sensitive bias thru the parameter adjustment process.  #sad.  Let's how we did for observed vs simulated:"
   ]
  },
  {
   "cell_type": "code",
   "execution_count": null,
   "metadata": {
    "execution": {
     "iopub.execute_input": "2020-11-12T02:32:27.120677Z",
     "iopub.status.busy": "2020-11-12T02:32:27.120677Z",
     "iopub.status.idle": "2020-11-12T02:32:34.840381Z",
     "shell.execute_reply": "2020-11-12T02:32:34.840381Z"
    }
   },
   "outputs": [],
   "source": [
    "nz_obs = pst.observation_data.loc[pst.nnz_obs_names,:].copy()\n",
    "nz_obs.loc[:,\"datetime\"] = pd.to_datetime(nz_obs.obsnme.apply(lambda x: x.split(\"_\")[-1]))\n",
    "pst_base = pyemu.Pst(os.path.join(t_d,\"freyberg.pst\"))\n",
    "oe_base = pd.read_csv(os.path.join(m_d,\"freyberg_ies.obs+noise.csv\"),index_col=0)\n",
    "for nz_group in pst.nnz_obs_groups:\n",
    "    nz_obs_group = nz_obs.loc[nz_obs.obgnme==nz_group,:]\n",
    "    fig,ax = plt.subplots(1,1,figsize=(10,2))\n",
    "    \n",
    "    [ax.plot(nz_obs_group.datetime,oe_pr.loc[r,nz_obs_group.obsnme],color=\"0.5\",lw=0.1) for r in oe_pr.index]\n",
    "    [ax.plot(nz_obs_group.datetime,oe_pt.loc[r,nz_obs_group.obsnme],color=\"b\",lw=0.1,alpha=0.5) for r in oe_pt.index]\n",
    "    ax.plot(nz_obs_group.datetime,nz_obs_group.obsval,\"r-\")\n",
    "    #[ax.plot(nz_obs_group.datetime,oe_base.loc[r,nz_obs_group.obsnme],color=\"r\",lw=0.1,alpha=0.5) for r in oe_base.index]\n",
    "    mn = oe_base.loc[:,nz_obs_group.obsnme].min()\n",
    "    mx = oe_base.loc[:,nz_obs_group.obsnme].max()\n",
    "    \n",
    "    ax.fill_between(nz_obs_group.datetime,mn,mx,fc=\"r\",alpha=0.15)\n",
    "    ax.set_title(nz_group)\n",
    "    #vmin = min(nz_obs_group.obsval.min(),oe_pt.loc[:,nz_obs_group.obsnme].min().min())\n",
    "    #vmax = max(nz_obs_group.obsval.max(),oe_pt.loc[:,nz_obs_group.obsnme].max().max())\n",
    "    vmin = nz_obs_group.obsval.min() * 0.9\n",
    "    vmax = nz_obs_group.obsval.max() * 1.1\n",
    "    ax.set_ylim(vmin,vmax)\n",
    "plt.show()"
   ]
  },
  {
   "cell_type": "markdown",
   "metadata": {},
   "source": [
    "How can fit the observations so well and yet get the wrong \"answer\" for several of the foreacsts?  Here we see a very important outcome:  When you are using an imperfect model (compared to the truth), the link between a good fit of historic conditions and robust forecasts is broken: a good fit doesn't mean a good forecaster."
   ]
  },
  {
   "cell_type": "code",
   "execution_count": null,
   "metadata": {
    "execution": {
     "iopub.execute_input": "2020-11-12T02:32:34.840381Z",
     "iopub.status.busy": "2020-11-12T02:32:34.840381Z",
     "iopub.status.idle": "2020-11-12T02:32:43.478056Z",
     "shell.execute_reply": "2020-11-12T02:32:43.482498Z"
    }
   },
   "outputs": [],
   "source": [
    "pe_pr = pd.read_csv(os.path.join(m_d,\"freyberg_ies.0.par.csv\"),index_col=0)\n",
    "pe_pt = pd.read_csv(os.path.join(m_d,\"freyberg_ies.{0}.par.csv\".format(pst.control_data.noptmax)),index_col=0)\n",
    "par = pst.parameter_data\n",
    "pdict = par.groupby(\"pargp\").groups\n",
    "pyemu.plot_utils.ensemble_helper({\"0.5\":pe_pr,\"b\":pe_pt},plot_cols=pdict)"
   ]
  },
  {
   "cell_type": "code",
   "execution_count": null,
   "metadata": {
    "execution": {
     "iopub.execute_input": "2020-11-12T02:32:43.497878Z",
     "iopub.status.busy": "2020-11-12T02:32:43.482498Z",
     "iopub.status.idle": "2020-11-12T02:32:43.515634Z",
     "shell.execute_reply": "2020-11-12T02:32:43.515634Z"
    }
   },
   "outputs": [],
   "source": [
    "def plot_hk(real, _pe_pr, _pe_pt):\n",
    "    # replace the par values in the control file\n",
    "    _pst = pyemu.Pst(os.path.join(m_d,\"freyberg.pst\"))\n",
    "    _pst.parameter_data.loc[:,\"parval1\"] = _pe_pr.loc[real,pst.par_names]\n",
    "    # write the template files and run the array multiplier\n",
    "    os.chdir(t_d)\n",
    "    _pst.write_input_files()\n",
    "    pyemu.helpers.apply_array_pars()\n",
    "    os.chdir(\"..\")\n",
    "    \n",
    "    hk_truth = np.log10(np.loadtxt(os.path.join('..','these_arent_the_files_youre_looking_for','hk_Layer_1.ref')))\n",
    "    \n",
    "    # load the arrays\n",
    "    base_arr = np.log10(np.loadtxt(os.path.join(t_d,\"arr_org\",\"hk_Layer_1.ref\")))\n",
    "    pr_pp_arr = np.log10(np.loadtxt(os.path.join(t_d,\"arr_mlt\",\"hk0.dat_pp\")))\n",
    "    pr_gr_arr = np.log10(np.loadtxt(os.path.join(t_d,\"arr_mlt\",\"hk3.dat_gr\")))\n",
    "    pr_cn_arr = np.log10(np.loadtxt(os.path.join(t_d,\"arr_mlt\",\"hk6.dat_cn\")))\n",
    "    pr_in_arr = np.log10(np.loadtxt(os.path.join(t_d,\"hk_Layer_1.ref\")))\n",
    "    pr_arrs = [base_arr,pr_cn_arr,pr_pp_arr,pr_gr_arr,pr_in_arr, hk_truth]\n",
    "    \n",
    "    # replace the par values in the control file\n",
    "    _pst.parameter_data.loc[:,\"parval1\"] = _pe_pt.loc[real,pst.par_names]\n",
    "    # write the template files and run the array multiplier\n",
    "    os.chdir(t_d)\n",
    "    _pst.write_input_files()\n",
    "    pyemu.helpers.apply_array_pars()\n",
    "    os.chdir(\"..\")\n",
    "    # load the arrays\n",
    "    base_arr = np.log10(np.loadtxt(os.path.join(t_d,\"arr_org\",\"hk_Layer_1.ref\")))\n",
    "    pt_pp_arr = np.log10(np.loadtxt(os.path.join(t_d,\"arr_mlt\",\"hk0.dat_pp\")))\n",
    "    pt_gr_arr = np.log10(np.loadtxt(os.path.join(t_d,\"arr_mlt\",\"hk3.dat_gr\")))\n",
    "    pt_cn_arr = np.log10(np.loadtxt(os.path.join(t_d,\"arr_mlt\",\"hk6.dat_cn\")))\n",
    "    pt_in_arr = np.log10(np.loadtxt(os.path.join(t_d,\"hk_Layer_1.ref\")))\n",
    "    pt_arrs = [base_arr,pt_cn_arr,pt_pp_arr,pt_gr_arr,pt_in_arr, hk_truth]\n",
    "    \n",
    "    \n",
    "    # mask with ibound\n",
    "    ib = m.bas6.ibound[0].array\n",
    "    for i,arr in enumerate(pr_arrs):\n",
    "        arr[ib==0] = np.NaN\n",
    "    for i,arr in enumerate(pt_arrs):\n",
    "        arr[ib==0] = np.NaN\n",
    "    \n",
    "    fig,axes = plt.subplots(2,6,figsize=(18,5))\n",
    "    \n",
    "    # work out the multiplier min and max\n",
    "    vmin1 = min([np.nanmin(a) for a in pr_arrs[1:-1]])\n",
    "    vmax1 = max([np.nanmax(a) for a in pr_arrs[1:-1]])\n",
    "    vmin2 = min([np.nanmin(a) for a in pt_arrs[1:-1]])\n",
    "    vmax2 = max([np.nanmax(a) for a in pt_arrs[1:-1]])\n",
    "    vmin = min(vmin1,vmin2)\n",
    "    vmax = min(vmax1,vmax2)\n",
    "    \n",
    "    in_vmin = min(hk_truth.ravel())\n",
    "    in_vmax = max(hk_truth.ravel())\n",
    "   \n",
    "   \n",
    "    labels = [\"org\",\"constant\",\"pilot points\",\"grid\",\"input\", \"truth\"]\n",
    "    # mask with ibound\n",
    "    # plot each array\n",
    "    for i,(ax,arr,label) in enumerate(zip(axes[0,:],pr_arrs,labels)):\n",
    "        if i >= len(pr_arrs)-2:\n",
    "            cb = ax.imshow(arr,vmin=in_vmin,vmax=in_vmax)\n",
    "        elif i == 0:\n",
    "            cb = ax.imshow(arr)\n",
    "        else:\n",
    "            cb = ax.imshow(arr, vmin=vmin, vmax=vmax)\n",
    "        if \"truth\" not in label:\n",
    "            ax.set_title(\"prior \"+label)\n",
    "        else:\n",
    "            ax.set_title(label)\n",
    "        ax.set_yticks([])\n",
    "        ax.set_xticks([])\n",
    "        plt.colorbar(cb,ax=ax)\n",
    "    for i,(ax,arr,label) in enumerate(zip(axes[1,:],pt_arrs,labels)):\n",
    "        if i >= len(pr_arrs)-2:\n",
    "            cb = ax.imshow(arr,vmin=in_vmin,vmax=in_vmax)\n",
    "        elif i == 0:\n",
    "            cb = ax.imshow(arr)\n",
    "        else:\n",
    "            cb = ax.imshow(arr, vmin=vmin, vmax=vmax)\n",
    "        if \"truth\" not in label:\n",
    "            ax.set_title(\"post \"+label)\n",
    "        else:\n",
    "            ax.set_title(label)\n",
    "        ax.set_yticks([])\n",
    "        ax.set_xticks([])\n",
    "        plt.colorbar(cb,ax=ax)\n",
    "    plt.tight_layout()\n",
    "    plt.show()"
   ]
  },
  {
   "cell_type": "code",
   "execution_count": null,
   "metadata": {
    "execution": {
     "iopub.execute_input": "2020-11-12T02:32:43.515634Z",
     "iopub.status.busy": "2020-11-12T02:32:43.515634Z",
     "iopub.status.idle": "2020-11-12T02:32:43.545247Z",
     "shell.execute_reply": "2020-11-12T02:32:43.545247Z"
    }
   },
   "outputs": [],
   "source": [
    "pe_pt.index.values"
   ]
  },
  {
   "cell_type": "code",
   "execution_count": null,
   "metadata": {
    "execution": {
     "iopub.execute_input": "2020-11-12T02:32:43.545247Z",
     "iopub.status.busy": "2020-11-12T02:32:43.545247Z",
     "iopub.status.idle": "2020-11-12T02:32:43.561700Z",
     "shell.execute_reply": "2020-11-12T02:32:43.561700Z"
    }
   },
   "outputs": [],
   "source": [
    "pe_pr.index.values"
   ]
  },
  {
   "cell_type": "code",
   "execution_count": null,
   "metadata": {
    "execution": {
     "iopub.execute_input": "2020-11-12T02:32:43.561700Z",
     "iopub.status.busy": "2020-11-12T02:32:43.561700Z",
     "iopub.status.idle": "2020-11-12T02:35:15.045934Z",
     "shell.execute_reply": "2020-11-12T02:35:15.045934Z"
    }
   },
   "outputs": [],
   "source": [
    "plot_hk('base', pe_pr, pe_pt)"
   ]
  },
  {
   "cell_type": "code",
   "execution_count": null,
   "metadata": {
    "execution": {
     "iopub.execute_input": "2020-11-12T02:35:15.045934Z",
     "iopub.status.busy": "2020-11-12T02:35:15.045934Z",
     "iopub.status.idle": "2020-11-12T02:35:29.751722Z",
     "shell.execute_reply": "2020-11-12T02:35:29.751722Z"
    }
   },
   "outputs": [],
   "source": [
    "plot_hk(pe_pt.index[0], pe_pr, pe_pt)"
   ]
  },
  {
   "cell_type": "markdown",
   "metadata": {},
   "source": [
    "### PESTPP-IES with automatic prior-data conflict resolution\n",
    "\n",
    "Prior-data conflict, in the simpliest sense, means that simulated outputs from the prior parameter ensemble don't \"cover\" the observed values (plus optional measurement noise).  If the outputs from using lots of parameters and conservative (wide) parameter ranges (from the Prior) don't cover the observed values, then that implies we will need extreme parameter values (or extreme combinations) to reproduce these observations - another word for extreme is baised. So we shouldnt attempt parameter adjustments in the presence of prior-data conflict.  The easies way to deal with this is to simply not use conflicted observations for parameter adjustment calculations...PESTPP-IES will do this automatically for you:"
   ]
  },
  {
   "cell_type": "code",
   "execution_count": null,
   "metadata": {
    "execution": {
     "iopub.execute_input": "2020-11-12T02:35:29.771972Z",
     "iopub.status.busy": "2020-11-12T02:35:29.761979Z",
     "iopub.status.idle": "2020-11-12T02:35:30.529256Z",
     "shell.execute_reply": "2020-11-12T02:35:30.529256Z"
    }
   },
   "outputs": [],
   "source": [
    "pst.pestpp_options[\"ies_drop_conflicts\"] = True\n",
    "pst.pestpp_options[\"ies_pdc_sigma_distance\"] = 2.0\n",
    "pst.pestpp_options[\"ies_no_noise\"] = True\n",
    "pst.write(os.path.join(t_d,\"freyberg_ies.pst\"))"
   ]
  },
  {
   "cell_type": "code",
   "execution_count": null,
   "metadata": {
    "execution": {
     "iopub.execute_input": "2020-11-12T02:35:30.529256Z",
     "iopub.status.busy": "2020-11-12T02:35:30.529256Z",
     "iopub.status.idle": "2020-11-12T03:20:42.876012Z",
     "shell.execute_reply": "2020-11-12T03:20:42.876012Z"
    }
   },
   "outputs": [],
   "source": [
    "pyemu.os_utils.start_workers(t_d,\"pestpp-ies\",\"freyberg_ies.pst\",num_workers=num_workers,master_dir=m_d)"
   ]
  },
  {
   "cell_type": "code",
   "execution_count": null,
   "metadata": {
    "execution": {
     "iopub.execute_input": "2020-11-12T03:20:42.876012Z",
     "iopub.status.busy": "2020-11-12T03:20:42.876012Z",
     "iopub.status.idle": "2020-11-12T03:20:45.138627Z",
     "shell.execute_reply": "2020-11-12T03:20:45.134092Z"
    }
   },
   "outputs": [],
   "source": [
    "oe_pr_last = oe_pr.copy()\n",
    "oe_pt_last = oe_pt.copy()\n",
    "oe_pr = pd.read_csv(os.path.join(m_d,\"freyberg_ies.0.obs.csv\"),index_col=0)\n",
    "oe_pt = pd.read_csv(os.path.join(m_d,\"freyberg_ies.{0}.obs.csv\".format(pst.control_data.noptmax)),index_col=0)\n",
    "obs = pst.observation_data\n",
    "fnames = pst.pestpp_options[\"forecasts\"].split(\",\")\n",
    "for forecast in fnames:\n",
    "    fig,[ax,ax_last] = plt.subplots(1,2,figsize=(10,5))\n",
    "    oe_pr.loc[:,forecast].hist(ax=ax,color=\"0.5\",alpha=0.5, label='prior',density=True)\n",
    "    oe_pt.loc[:,forecast].hist(ax=ax,color=\"b\",alpha=0.5, label='posterior',density=True)\n",
    "    ax.plot([obs.loc[forecast,\"obsval\"],obs.loc[forecast,\"obsval\"]],ax.get_ylim(),\"r\", label='truth')\n",
    "    ax.set_title(forecast)\n",
    "    ax.legend(loc='upper right')\n",
    "    \n",
    "    oe_pr_last.loc[:,forecast].hist(ax=ax_last,color=\"0.5\",alpha=0.5, label='prior',density=True)\n",
    "    oe_pt_last.loc[:,forecast].hist(ax=ax_last,color=\"b\",alpha=0.5, label='posterior',density=True)\n",
    "    ax_last.plot([obs.loc[forecast,\"obsval\"],obs.loc[forecast,\"obsval\"]],ax.get_ylim(),\"r\", label='truth')\n",
    "    ax_last.set_title(\"last \" + forecast)\n",
    "    ax.legend(loc='upper right')\n",
    "    plt.show()"
   ]
  },
  {
   "cell_type": "code",
   "execution_count": null,
   "metadata": {
    "execution": {
     "iopub.execute_input": "2020-11-12T03:20:45.138627Z",
     "iopub.status.busy": "2020-11-12T03:20:45.138627Z",
     "iopub.status.idle": "2020-11-12T03:20:52.768081Z",
     "shell.execute_reply": "2020-11-12T03:20:52.768081Z"
    }
   },
   "outputs": [],
   "source": [
    "rw_obs = pd.read_csv(os.path.join(m_d,\"freyberg_ies.adjusted.obs_data.csv\"),index_col=0)\n",
    "rw_obs = rw_obs.weight.to_dict()\n",
    "nz_obs = pst.observation_data.loc[pst.nnz_obs_names,:].copy()\n",
    "nz_obs.loc[:,\"datetime\"] = pd.to_datetime(nz_obs.obsnme.apply(lambda x: x.split(\"_\")[-1]))\n",
    "pst_base = pyemu.Pst(os.path.join(t_d,\"freyberg.pst\"))\n",
    "oe_base = pd.read_csv(os.path.join(m_d,\"freyberg_ies.obs+noise.csv\"),index_col=0)\n",
    "for nz_group in pst.nnz_obs_groups:\n",
    "    nz_obs_group = nz_obs.loc[nz_obs.obgnme==nz_group,:]\n",
    "    fig,ax = plt.subplots(1,1,figsize=(10,2))\n",
    "    ax.plot(nz_obs_group.datetime,nz_obs_group.obsval,\"r-\")\n",
    "    pdc_obs = nz_obs_group.loc[nz_obs_group.obsnme.apply(lambda x: rw_obs[x]==0),:]\n",
    "   \n",
    "    ax.scatter(pdc_obs.datetime,pdc_obs.obsval,marker='.',s=50,zorder=20,color='k',ls='-',lw=2,fc=\"k\")\n",
    "    [ax.plot(nz_obs_group.datetime,oe_pr.loc[r,nz_obs_group.obsnme],color=\"0.5\",lw=0.1) for r in oe_pr.index]\n",
    "    [ax.plot(nz_obs_group.datetime,oe_pt.loc[r,nz_obs_group.obsnme],color=\"b\",lw=0.1,alpha=0.5) for r in oe_pt.index]\n",
    "    #[ax.plot(nz_obs_group.datetime,oe_base.loc[r,nz_obs_group.obsnme],color=\"r\",lw=0.1,alpha=0.5) for r in oe_base.index]\n",
    "    mn = oe_base.loc[:,nz_obs_group.obsnme].min()\n",
    "    mx = oe_base.loc[:,nz_obs_group.obsnme].max()\n",
    "    \n",
    "    ax.fill_between(nz_obs_group.datetime,mn,mx,fc=\"r\",alpha=0.15)\n",
    "    ax.set_title(nz_group)\n",
    "    #vmin = min(nz_obs_group.obsval.min(),oe_pt.loc[:,nz_obs_group.obsnme].min().min())\n",
    "    #vmax = max(nz_obs_group.obsval.max(),oe_pt.loc[:,nz_obs_group.obsnme].max().max())\n",
    "    vmin = nz_obs_group.obsval.min() * 0.9\n",
    "    vmax = nz_obs_group.obsval.max() * 1.1\n",
    "    ax.set_ylim(vmin,vmax)\n",
    "plt.show()"
   ]
  },
  {
   "cell_type": "code",
   "execution_count": null,
   "metadata": {
    "execution": {
     "iopub.execute_input": "2020-11-12T03:20:52.768081Z",
     "iopub.status.busy": "2020-11-12T03:20:52.768081Z",
     "iopub.status.idle": "2020-11-12T03:20:53.847886Z",
     "shell.execute_reply": "2020-11-12T03:20:53.847886Z"
    }
   },
   "outputs": [],
   "source": [
    "pe_pr_pdr = pd.read_csv(os.path.join(m_d,\"freyberg_ies.0.par.csv\"),index_col=0)\n",
    "pe_pt_pdr = pd.read_csv(os.path.join(m_d,\"freyberg_ies.{0}.par.csv\".format(pst.control_data.noptmax)),index_col=0)"
   ]
  },
  {
   "cell_type": "code",
   "execution_count": null,
   "metadata": {
    "execution": {
     "iopub.execute_input": "2020-11-12T03:20:53.858000Z",
     "iopub.status.busy": "2020-11-12T03:20:53.858000Z",
     "iopub.status.idle": "2020-11-12T03:20:53.863654Z",
     "shell.execute_reply": "2020-11-12T03:20:53.863654Z"
    }
   },
   "outputs": [],
   "source": [
    "pe_pr_pdr.loc[pe_pr_pdr.index[0],:]"
   ]
  },
  {
   "cell_type": "code",
   "execution_count": null,
   "metadata": {
    "execution": {
     "iopub.execute_input": "2020-11-12T03:20:53.863654Z",
     "iopub.status.busy": "2020-11-12T03:20:53.863654Z",
     "iopub.status.idle": "2020-11-12T03:21:08.819690Z",
     "shell.execute_reply": "2020-11-12T03:21:08.819690Z"
    }
   },
   "outputs": [],
   "source": [
    "plot_hk('base', pe_pr_pdr, pe_pt_pdr)"
   ]
  },
  {
   "cell_type": "code",
   "execution_count": null,
   "metadata": {
    "execution": {
     "iopub.execute_input": "2020-11-12T03:21:08.819690Z",
     "iopub.status.busy": "2020-11-12T03:21:08.819690Z",
     "iopub.status.idle": "2020-11-12T03:21:23.698797Z",
     "shell.execute_reply": "2020-11-12T03:21:23.698797Z"
    }
   },
   "outputs": [],
   "source": [
    "plot_hk(pe_pt_pdr.index[0], pe_pr_pdr, pe_pt_pdr)"
   ]
  },
  {
   "cell_type": "markdown",
   "metadata": {},
   "source": [
    "### PESTPP-IES in a total error covariance workflow"
   ]
  },
  {
   "cell_type": "markdown",
   "metadata": {},
   "source": [
    "The concept of subjective weighting implies that the covariance measurement noise is itself uncertain (a hyper parameter).  Recently, it has been shown that this covariance matrix can be \"estimated\" in a outer iteration loop.  So let's do that!  First, lets look at the final (e.g. posterior) residual covariance matrix from the last run:"
   ]
  },
  {
   "cell_type": "code",
   "execution_count": null,
   "metadata": {
    "execution": {
     "iopub.execute_input": "2020-11-12T03:21:23.709015Z",
     "iopub.status.busy": "2020-11-12T03:21:23.709015Z",
     "iopub.status.idle": "2020-11-12T03:21:24.352811Z",
     "shell.execute_reply": "2020-11-12T03:21:24.352811Z"
    }
   },
   "outputs": [],
   "source": [
    "res_cov_to_mod_file = os.path.join(m_d,'freyberg_ies_shrunk_res_to_mod.csv')\n",
    "if not os.path.exists(res_cov_to_mod_file):\n",
    "    res_cov_file = os.path.join(m_d,\"freyberg_ies.{0}.shrunk_res.cov\".format(pst.control_data.noptmax))\n",
    "    assert os.path.exists(res_cov_file)\n",
    "    shutil.copy2(res_cov_file, res_cov_to_mod_file)\n",
    "res_cov = pyemu.Cov.from_ascii(res_cov_to_mod_file)\n",
    "x = res_cov.to_pearson().x.copy()\n",
    "x[np.abs(x) < 0.2] = np.NaN\n",
    "x[x==1.0] = np.NaN\n",
    "\n",
    "fig,ax = plt.subplots(1,1,figsize=(10,10))\n",
    "cb = ax.imshow(x,cmap=\"plasma\")\n",
    "plt.colorbar(cb)"
   ]
  },
  {
   "cell_type": "markdown",
   "metadata": {},
   "source": [
    "That would make a nice bohemain rug pattern!  Seriously tho, we see lots of correlation between residuals...so much for the \"independence\" assumption..\n",
    "\n",
    "So what should we do?  Well, let's feed that covariance matrix to PESTPP-IES for the next run (an \"outer\" iteration).  During this run, the noise realizations that are paired with each parameter realization for the calculation of measurement phi will be drawn from this covariance matrix.  Additionally, the weights for non-zero weighted observations maybe lowered if the variance on the diagaonal of this matrix implies lower a weight (weights will never be increased).  In this way, PESTPP-IES is given information about how well it could (or couldn't) fit the observations last time.  In practice, this will keep PESTPP-IES from fitting the obseravtions as well, but more importantly, this helps prevent bias arising from irreducible residual and ultimately, leads to less biased and more covservative forecast estimates. \n",
    "\n",
    "Now we need to tell PESTPP-IES to use this covariance matirx and also change some options to be compatible with this mode of operation:"
   ]
  },
  {
   "cell_type": "code",
   "execution_count": null,
   "metadata": {
    "execution": {
     "iopub.execute_input": "2020-11-12T03:21:24.352811Z",
     "iopub.status.busy": "2020-11-12T03:21:24.352811Z",
     "iopub.status.idle": "2020-11-12T03:21:24.874069Z",
     "shell.execute_reply": "2020-11-12T03:21:24.874069Z"
    }
   },
   "outputs": [],
   "source": [
    "minvar = ((1./obs.loc[res_cov.names,\"weight\"])**2).min()\n",
    "shrink = np.zeros(res_cov.shape)\n",
    "np.fill_diagonal(shrink,minvar)\n",
    "lamb = 2. / (oe_pt.shape[0] + 1)\n",
    "lamb = 0.2\n",
    "print(lamb)\n",
    "shrunk = (lamb * shrink) + ((1.-lamb) * res_cov.x)\n",
    "shrunk = pyemu.Cov(x=shrunk,names=res_cov.names)\n",
    "shrunk.to_ascii(os.path.join(t_d,\"shrunk_obs.cov\"))\n",
    "x = shrunk.to_pearson().x.copy()\n",
    "x[x==0.0] = np.NaN\n",
    "plt.imshow(x,cmap=\"plasma\")"
   ]
  },
  {
   "cell_type": "code",
   "execution_count": null,
   "metadata": {
    "execution": {
     "iopub.execute_input": "2020-11-12T03:21:24.889677Z",
     "iopub.status.busy": "2020-11-12T03:21:24.889677Z",
     "iopub.status.idle": "2020-11-12T03:21:25.628118Z",
     "shell.execute_reply": "2020-11-12T03:21:25.628118Z"
    }
   },
   "outputs": [],
   "source": [
    "pst.pestpp_options[\"ies_drop_conflicts\"] = False\n",
    "pst.pestpp_options[\"ies_pdc_sigma_distance\"] = 2.0\n",
    "pst.pestpp_options[\"ies_no_noise\"] = False\n",
    "#res_cov.to_ascii(os.path.join(t_d,\"shrunk_obs.cov\"))\n",
    "pst.pestpp_options[\"obscov\"] = \"shrunk_obs.cov\"\n",
    "pst.pestpp_options[\"ies_group_draws\"] = False\n",
    "pst.write(os.path.join(t_d,\"freyberg_ies.pst\"))"
   ]
  },
  {
   "cell_type": "markdown",
   "metadata": {},
   "source": [
    "Run it!"
   ]
  },
  {
   "cell_type": "code",
   "execution_count": null,
   "metadata": {
    "execution": {
     "iopub.execute_input": "2020-11-12T03:21:25.628118Z",
     "iopub.status.busy": "2020-11-12T03:21:25.628118Z",
     "iopub.status.idle": "2020-11-12T03:46:51.529291Z",
     "shell.execute_reply": "2020-11-12T03:46:51.529291Z"
    }
   },
   "outputs": [],
   "source": [
    "pyemu.os_utils.start_workers(t_d,\"pestpp-ies\",\"freyberg_ies.pst\",num_workers=num_workers,master_dir=m_d)"
   ]
  },
  {
   "cell_type": "code",
   "execution_count": null,
   "metadata": {
    "execution": {
     "iopub.execute_input": "2020-11-12T03:46:51.529291Z",
     "iopub.status.busy": "2020-11-12T03:46:51.529291Z",
     "iopub.status.idle": "2020-11-12T03:46:53.744841Z",
     "shell.execute_reply": "2020-11-12T03:46:53.744841Z"
    }
   },
   "outputs": [],
   "source": [
    "oe_pr_last = oe_pr.copy()\n",
    "oe_pt_last = oe_pt.copy()\n",
    "oe_pr = pd.read_csv(os.path.join(m_d,\"freyberg_ies.0.obs.csv\"),index_col=0)\n",
    "oe_pt = pd.read_csv(os.path.join(m_d,\"freyberg_ies.{0}.obs.csv\".format(pst.control_data.noptmax)),index_col=0)\n",
    "obs = pst.observation_data\n",
    "fnames = pst.pestpp_options[\"forecasts\"].split(\",\")\n",
    "for forecast in fnames:\n",
    "    fig,[ax,ax_last] = plt.subplots(1,2,figsize=(10,5))\n",
    "    oe_pr.loc[:,forecast].hist(ax=ax,color=\"0.5\",alpha=0.5, label='prior')\n",
    "    oe_pt.loc[:,forecast].hist(ax=ax,color=\"b\",alpha=0.5, label='posterior')\n",
    "    ax.plot([obs.loc[forecast,\"obsval\"],obs.loc[forecast,\"obsval\"]],ax.get_ylim(),\"r\", label='truth')\n",
    "    ax.set_title(forecast)\n",
    "    ax.legend(loc='upper right')\n",
    "    \n",
    "    oe_pr_last.loc[:,forecast].hist(ax=ax_last,color=\"0.5\",alpha=0.5, label='prior')\n",
    "    oe_pt_last.loc[:,forecast].hist(ax=ax_last,color=\"b\",alpha=0.5, label='posterior')\n",
    "    ax_last.plot([obs.loc[forecast,\"obsval\"],obs.loc[forecast,\"obsval\"]],ax.get_ylim(),\"r\", label='truth')\n",
    "    ax_last.set_title(\"last \" + forecast)\n",
    "    ax.legend(loc='upper right')\n",
    "    plt.show()"
   ]
  },
  {
   "cell_type": "markdown",
   "metadata": {},
   "source": [
    "Ok, now that is much better!  We are bracketing the truth for all forecasts - that is the first time so far.  Sweet as!  But let's see the price these unbiased and conservative foreacasts:"
   ]
  },
  {
   "cell_type": "code",
   "execution_count": null,
   "metadata": {
    "execution": {
     "iopub.execute_input": "2020-11-12T03:46:53.744841Z",
     "iopub.status.busy": "2020-11-12T03:46:53.744841Z",
     "iopub.status.idle": "2020-11-12T03:46:53.764196Z",
     "shell.execute_reply": "2020-11-12T03:46:53.764196Z"
    }
   },
   "outputs": [],
   "source": [
    "[f for f in os.listdir(m_d) if f.startswith(\"freyberg_ies\") and f.endswith(\".csv\")]"
   ]
  },
  {
   "cell_type": "code",
   "execution_count": null,
   "metadata": {
    "execution": {
     "iopub.execute_input": "2020-11-12T03:46:53.779668Z",
     "iopub.status.busy": "2020-11-12T03:46:53.779668Z",
     "iopub.status.idle": "2020-11-12T03:46:59.219621Z",
     "shell.execute_reply": "2020-11-12T03:46:59.219621Z"
    }
   },
   "outputs": [],
   "source": [
    "nz_obs = pst.observation_data.loc[pst.nnz_obs_names,:].copy()\n",
    "nz_obs.loc[:,\"datetime\"] = pd.to_datetime(nz_obs.obsnme.apply(lambda x: x.split(\"_\")[-1]))\n",
    "pst_base = pyemu.Pst(os.path.join(t_d,\"freyberg.pst\"))\n",
    "oe_base = pd.read_csv(os.path.join(m_d,\"freyberg_ies.obs+noise.csv\"),index_col=0)\n",
    "for nz_group in pst.nnz_obs_groups:\n",
    "    nz_obs_group = nz_obs.loc[nz_obs.obgnme==nz_group,:]\n",
    "    fig,ax = plt.subplots(1,1,figsize=(10,2))\n",
    "    ax.plot(nz_obs_group.datetime,nz_obs_group.obsval,\"r-\")\n",
    "    pdc_obs = nz_obs_group.loc[nz_obs_group.obsnme.apply(lambda x: rw_obs[x]==0),:]\n",
    "   \n",
    "    ax.scatter(pdc_obs.datetime,pdc_obs.obsval,marker='.',s=50,zorder=20,color='k',ls='-',lw=2,fc=\"k\")\n",
    "    #[ax.plot(nz_obs_group.datetime,oe_pr.loc[r,nz_obs_group.obsnme],color=\"0.5\",lw=0.1) for r in oe_pr.index]\n",
    "    [ax.plot(nz_obs_group.datetime,oe_pt.loc[r,nz_obs_group.obsnme],color=\"b\",lw=0.1,alpha=0.75) for r in oe_pt.index]\n",
    "    #[ax.plot(nz_obs_group.datetime,oe_base.loc[r,nz_obs_group.obsnme],color=\"r\",lw=0.1,alpha=0.5) for r in oe_base.index]\n",
    "    mn = oe_base.loc[:,nz_obs_group.obsnme].min()\n",
    "    mx = oe_base.loc[:,nz_obs_group.obsnme].max()\n",
    "    \n",
    "    #ax.fill_between(nz_obs_group.datetime,mn,mx,fc=\"r\",alpha=0.15)\n",
    "    ax.set_title(nz_group)\n",
    "    #vmin = min(nz_obs_group.obsval.min(),oe_pt.loc[:,nz_obs_group.obsnme].min().min())\n",
    "    #vmax = max(nz_obs_group.obsval.max(),oe_pt.loc[:,nz_obs_group.obsnme].max().max())\n",
    "    vmin = nz_obs_group.obsval.min() * 0.9\n",
    "    vmax = nz_obs_group.obsval.max() * 1.1\n",
    "    ax.set_ylim(vmin,vmax)\n",
    "plt.show()"
   ]
  },
  {
   "cell_type": "markdown",
   "metadata": {},
   "source": [
    "Who is comfortable with this situation?  We have shown that a good fit to historic conditions doesn't mean robust forecast estimates.  But in all cases the prior ensemble covers the forecasts, implying that somewhere between the prior and well-fit posterior is the optimal location for robust forecasting (optimal meaning conservative variance and no/little bias).  From a theoritical standpoint, using the posterior residual covariance matrix in an outer iteration scheme is one way to find (more) robust forecast estimates, especially when a model needs to make a range of forecasts (like regional models?)"
   ]
  },
  {
   "cell_type": "code",
   "execution_count": null,
   "metadata": {
    "execution": {
     "iopub.execute_input": "2020-11-12T03:46:59.228703Z",
     "iopub.status.busy": "2020-11-12T03:46:59.228703Z",
     "iopub.status.idle": "2020-11-12T03:47:00.423535Z",
     "shell.execute_reply": "2020-11-12T03:47:00.423535Z"
    }
   },
   "outputs": [],
   "source": [
    "pe_pr_tec = pd.read_csv(os.path.join(m_d,\"freyberg_ies.0.par.csv\"),index_col=0)\n",
    "pe_pt_tec = pd.read_csv(os.path.join(m_d,\"freyberg_ies.{0}.par.csv\".format(pst.control_data.noptmax)),index_col=0)\n"
   ]
  },
  {
   "cell_type": "code",
   "execution_count": null,
   "metadata": {
    "execution": {
     "iopub.execute_input": "2020-11-12T03:47:00.423535Z",
     "iopub.status.busy": "2020-11-12T03:47:00.423535Z",
     "iopub.status.idle": "2020-11-12T03:47:15.427473Z",
     "shell.execute_reply": "2020-11-12T03:47:15.427473Z"
    }
   },
   "outputs": [],
   "source": [
    "plot_hk('base',pe_pr_tec, pe_pt_tec)"
   ]
  },
  {
   "cell_type": "code",
   "execution_count": null,
   "metadata": {
    "execution": {
     "iopub.execute_input": "2020-11-12T03:47:15.427473Z",
     "iopub.status.busy": "2020-11-12T03:47:15.427473Z",
     "iopub.status.idle": "2020-11-12T03:47:30.153820Z",
     "shell.execute_reply": "2020-11-12T03:47:30.153820Z"
    }
   },
   "outputs": [],
   "source": [
    "plot_hk(pe_pt_tec.index[0],pe_pr_tec, pe_pt_tec)"
   ]
  },
  {
   "cell_type": "code",
   "execution_count": null,
   "metadata": {},
   "outputs": [],
   "source": []
  },
  {
   "cell_type": "code",
   "execution_count": null,
   "metadata": {},
   "outputs": [],
   "source": []
  }
 ],
 "metadata": {
  "kernelspec": {
   "display_name": "Python 3",
   "language": "python",
   "name": "python3"
  },
  "language_info": {
   "codemirror_mode": {
    "name": "ipython",
    "version": 3
   },
   "file_extension": ".py",
   "mimetype": "text/x-python",
   "name": "python",
   "nbconvert_exporter": "python",
   "pygments_lexer": "ipython3",
   "version": "3.8.6"
  }
 },
 "nbformat": 4,
 "nbformat_minor": 2
}
