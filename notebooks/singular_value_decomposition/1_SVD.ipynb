{
 "cells": [
  {
   "cell_type": "markdown",
   "metadata": {},
   "source": [
    "<img src=\"PEST++V3_cover.jpeg\" style=\"float: left\">\n",
    "\n",
    "<img src=\"flopylogo.png\" style=\"float: right\">\n",
    "\n",
    "<img src=\"AW&H2015.png\" style=\"float: center\">\n",
    "\n",
    "# SINGULAR VALUE DECOMPOSITION (SVD)\n",
    "\n",
    ">## \"A singularly valuable decomposition\" \n",
    ">--Dan Kalman \n",
    "\n",
    ">## \"Singular Value Decomposition. Love it, learn it.\"\n",
    ">--Michael Basial\n",
    "\n",
    ">## \"SVD? Magic, simply magic.\"\n",
    ">--John Doherty\n",
    "\n",
    "### As we've said, the key to representative environmental models is allowing high levels of flexibility through a highly parameterized approach.  But this makes our parameter estimation problem illposed and underdetermined, which means our solution is nonunique even if we overcome problems of increased instability and longer runtimes.  Here we use a \"regularized inversion\" approach to overcome these problems.  Regularization is anything that makes an intractable problem solvable; for example, using a small number of zones (not highly-parameterized) is a way to regularize an illposed problem.  Regularization as we use here can be grouped into two broad categories: 1) adding soft-knowledge to the problem (Tikhonov regularization) and 2) mathematically reducing the dimensionality of the model (subspace regularization via singular value decomposition (SVD)). In practice we typically use a combination (\"hybrid\") of these two approaches. \n",
    "\n",
    "### It is worth expounding on this difference in regularization approaches. In contrast to Tikhonov regularization, which adds information to the calibration process to achieve numerical stability, subspace methods achieve stability through subtracting parameters, and/or parameter combinations, from the calibration process (making a \"subspace\" of the full parameter space). Now the calibration process is no longer required to estimate either individual parameters or combinations of correlated parameters that are inestimable given the calibration dataset we have. What combinations are estimable are automatically determined through SVD. \n",
    "\n",
    "### The effort needed to take advantage of these regularization strategies is also appreciably different, where SVD is relatively easily brought to bear and becomes \"set it and forget it\". Moreover, when SVD is used the parameter estimation problem always becomes __unconditionally stable__! Neither of these is true in all cases when adding soft knowledge using Tikhonov regularization. \n",
    "\n",
    "### In summary, SVD benefits apply to all models so it is worth widely invoking when using PEST and PEST++.  SVD involves few parameter estimation inputs, default values work for a large range of problems, and it addresses instability for all problems. Can you catch that we can't overemphasize the importance of SVD to parameter estimation?  \"Magic\" indeed! \n"
   ]
  },
  {
   "cell_type": "markdown",
   "metadata": {},
   "source": [
    "### In this and the next notebooks we'll get under the hood of SVD and see what it does.  A high-level understanding is not needed to take advantage of the power of SVD for your typical calibration parameter estimation problem (\"set it and forget it\").  BUT in addition to the glow of knowledge that they impart, these SVD concepts will cascade into understanding other tools such as Parameter Identifiability, calculation of uncertainty, and null-space Monte Carlo.  "
   ]
  },
  {
   "cell_type": "markdown",
   "metadata": {},
   "source": [
    "## Here's another extra mathy expose on SVD: https://gist.github.com/frankcleary/a89da479d85c98f86e31"
   ]
  },
  {
   "cell_type": "code",
   "execution_count": null,
   "metadata": {
    "execution": {
     "iopub.execute_input": "2020-11-14T04:54:13.613121Z",
     "iopub.status.busy": "2020-11-14T04:54:13.612382Z",
     "iopub.status.idle": "2020-11-14T04:54:14.202911Z",
     "shell.execute_reply": "2020-11-14T04:54:14.203375Z"
    }
   },
   "outputs": [],
   "source": [
    "import os, shutil\n",
    "import sys\n",
    "sys.path.append(\"..\")\n",
    "import pyemu\n",
    "import pandas as pd\n",
    "from matplotlib.pyplot import cm \n",
    "import matplotlib.pyplot as plt\n",
    "\n",
    "from ipywidgets import interact\n",
    "import ipywidgets as widgets\n",
    "import flopy as flopy\n",
    "import numpy as np\n",
    "noPIL=True\n",
    "try:\n",
    "    from PIL import Image\n",
    "except:\n",
    "    noPIL=True\n",
    "%matplotlib inline"
   ]
  },
  {
   "cell_type": "markdown",
   "metadata": {},
   "source": [
    "## Linear Algebra is the foundation of much of our maths and modeling. At the basis of this is matrices, which are containing vector information like spatial array of properties, mappings from one set of properties to another, the variability of properties."
   ]
  },
  {
   "cell_type": "markdown",
   "metadata": {},
   "source": [
    "## Another example of a matrix is just a photograph. It turns out, much of the information contained in a matrix is redundant. If we think of the columns of a matrix as vectors, they are orthogonal but maybe aren't quite the right basis for the infromation. What if we could find another basis, where we rotate to a more suitable set of orthogonal basis vectors and maybe even stretch them?"
   ]
  },
  {
   "cell_type": "markdown",
   "metadata": {},
   "source": [
    "## Any matrix can be decomposed into 3 matrices\n",
    "## <center> $\\mathbf{M}=\\mathbf{U}\\mathbf{S}\\mathbf{V}^T$ </center>"
   ]
  },
  {
   "cell_type": "markdown",
   "metadata": {},
   "source": [
    "# Let's evaluate how this works by exploring the information content in an image"
   ]
  },
  {
   "cell_type": "code",
   "execution_count": null,
   "metadata": {
    "execution": {
     "iopub.execute_input": "2020-11-14T04:54:14.206706Z",
     "iopub.status.busy": "2020-11-14T04:54:14.206250Z",
     "iopub.status.idle": "2020-11-14T04:54:14.307644Z",
     "shell.execute_reply": "2020-11-14T04:54:14.308093Z"
    }
   },
   "outputs": [],
   "source": [
    "photo = Image.open('clands.jpg')\n",
    "\n",
    "plt.imshow(photo, interpolation='nearest')\n",
    "plt.axis('off');"
   ]
  },
  {
   "cell_type": "markdown",
   "metadata": {},
   "source": [
    "## Convert to grayscale\n",
    "\n",
    "### By converting to grayscale, what we are left with is a matrix of information where each pixel (e.g. a cell in rows/columns of the matrix) has a value between 0 and 255 indicating intensity. This is then just a matrix with information in it."
   ]
  },
  {
   "cell_type": "code",
   "execution_count": null,
   "metadata": {
    "execution": {
     "iopub.execute_input": "2020-11-14T04:54:14.311573Z",
     "iopub.status.busy": "2020-11-14T04:54:14.311143Z",
     "iopub.status.idle": "2020-11-14T04:54:14.478588Z",
     "shell.execute_reply": "2020-11-14T04:54:14.478872Z"
    }
   },
   "outputs": [],
   "source": [
    "if not noPIL:\n",
    "    photogray = np.array(photo.convert('L'))\n",
    "    np.savetxt('clands_gray.dat', photogray, fmt='%d')\n",
    "else:\n",
    "    photogray = np.loadtxt('clands_gray.dat', dtype=int)\n",
    "plt.imshow(photogray, interpolation='nearest', cmap='gray')\n",
    "plt.axis('off');"
   ]
  },
  {
   "cell_type": "markdown",
   "metadata": {},
   "source": [
    "## We can treat this like any matrix and perform SVD"
   ]
  },
  {
   "cell_type": "code",
   "execution_count": null,
   "metadata": {
    "execution": {
     "iopub.execute_input": "2020-11-14T04:54:14.481638Z",
     "iopub.status.busy": "2020-11-14T04:54:14.481244Z",
     "iopub.status.idle": "2020-11-14T04:54:14.507824Z",
     "shell.execute_reply": "2020-11-14T04:54:14.508315Z"
    }
   },
   "outputs": [],
   "source": [
    "U, sigma, V = np.linalg.svd(photogray)\n",
    "print(photogray.shape)"
   ]
  },
  {
   "cell_type": "code",
   "execution_count": null,
   "metadata": {
    "execution": {
     "iopub.execute_input": "2020-11-14T04:54:14.520377Z",
     "iopub.status.busy": "2020-11-14T04:54:14.519695Z",
     "iopub.status.idle": "2020-11-14T04:54:14.618999Z",
     "shell.execute_reply": "2020-11-14T04:54:14.619540Z"
    }
   },
   "outputs": [],
   "source": [
    "plt.plot(sigma)\n",
    "plt.grid()\n",
    "plt.title('{0} Singular values in descending order'.format(len(sigma)));"
   ]
  },
  {
   "cell_type": "code",
   "execution_count": null,
   "metadata": {
    "execution": {
     "iopub.execute_input": "2020-11-14T04:54:14.631163Z",
     "iopub.status.busy": "2020-11-14T04:54:14.630563Z",
     "iopub.status.idle": "2020-11-14T04:54:15.060432Z",
     "shell.execute_reply": "2020-11-14T04:54:15.060862Z"
    }
   },
   "outputs": [],
   "source": [
    "plt.plot(sigma)\n",
    "plt.grid()\n",
    "plt.title('{0} Singular values in descending order'.format(len(sigma)));\n",
    "plt.yscale('log');"
   ]
  },
  {
   "cell_type": "markdown",
   "metadata": {},
   "source": [
    "## Let's make a little function for using a subset of singular values to reconstitute the image"
   ]
  },
  {
   "cell_type": "code",
   "execution_count": null,
   "metadata": {
    "execution": {
     "iopub.execute_input": "2020-11-14T04:54:15.065893Z",
     "iopub.status.busy": "2020-11-14T04:54:15.065493Z",
     "iopub.status.idle": "2020-11-14T04:54:15.067267Z",
     "shell.execute_reply": "2020-11-14T04:54:15.067682Z"
    }
   },
   "outputs": [],
   "source": [
    "def recon_image(numsing=1):\n",
    "    reconimg = np.dot(np.dot(U[:,:numsing], np.diag(sigma[:numsing])),V[:numsing,:])\n",
    "    basis_vec = np.dot(np.dot(np.atleast_2d(U[:,numsing-1]).T, sigma[numsing-1]),np.atleast_2d(V[numsing-1,:]))\n",
    "    fig,ax = plt.subplots(ncols=2, figsize=(12,12))\n",
    "    ax[0].imshow(basis_vec, interpolation='nearest', cmap='gray')\n",
    "    ax[0].axis('off')\n",
    "    ax[0].set_title('Basis Image')\n",
    "    ax[1].imshow(reconimg, interpolation='nearest', cmap='gray')\n",
    "    ax[1].axis('off')\n",
    "    ss = 's'\n",
    "    if numsing==1:\n",
    "        ss = ''\n",
    "    ax[1].set_title('Reconstruction using {0} singular value{1}'.format(numsing,ss))\n",
    "    plt.tight_layout()\n",
    "\n"
   ]
  },
  {
   "cell_type": "code",
   "execution_count": null,
   "metadata": {
    "execution": {
     "iopub.execute_input": "2020-11-14T04:54:15.079672Z",
     "iopub.status.busy": "2020-11-14T04:54:15.079145Z",
     "iopub.status.idle": "2020-11-14T04:54:15.213431Z",
     "shell.execute_reply": "2020-11-14T04:54:15.214026Z"
    }
   },
   "outputs": [],
   "source": [
    "interact(recon_image, numsing=widgets.widgets.IntSlider(value=1, min=1, max=300, step=1));"
   ]
  },
  {
   "cell_type": "markdown",
   "metadata": {},
   "source": [
    "# Fun times, but what does this have to do with modeling?"
   ]
  },
  {
   "cell_type": "markdown",
   "metadata": {},
   "source": [
    "### Let's load up a Jacobian Matrix"
   ]
  },
  {
   "cell_type": "code",
   "execution_count": null,
   "metadata": {
    "execution": {
     "iopub.execute_input": "2020-11-14T04:54:15.218340Z",
     "iopub.status.busy": "2020-11-14T04:54:15.217798Z",
     "iopub.status.idle": "2020-11-14T04:54:15.269756Z",
     "shell.execute_reply": "2020-11-14T04:54:15.270354Z"
    }
   },
   "outputs": [],
   "source": [
    "if os.path.exists(os.path.join('..','master_glm','freyberg_pp.jcb')):\n",
    "    injac = pyemu.Jco.from_binary(os.path.join('..','master_glm','freyberg_pp.jcb'))\n",
    "else:\n",
    "    injac = pyemu.Jco.from_binary('freyberg_pp.jcb')"
   ]
  },
  {
   "cell_type": "code",
   "execution_count": null,
   "metadata": {
    "execution": {
     "iopub.execute_input": "2020-11-14T04:54:15.281678Z",
     "iopub.status.busy": "2020-11-14T04:54:15.281246Z",
     "iopub.status.idle": "2020-11-14T04:54:15.290007Z",
     "shell.execute_reply": "2020-11-14T04:54:15.290440Z"
    }
   },
   "outputs": [],
   "source": [
    "injac.df().head()"
   ]
  },
  {
   "cell_type": "code",
   "execution_count": null,
   "metadata": {
    "execution": {
     "iopub.execute_input": "2020-11-14T04:54:15.304698Z",
     "iopub.status.busy": "2020-11-14T04:54:15.294153Z",
     "iopub.status.idle": "2020-11-14T04:54:15.483603Z",
     "shell.execute_reply": "2020-11-14T04:54:15.484061Z"
    }
   },
   "outputs": [],
   "source": [
    "if os.path.exists(os.path.join('..','master_glm','freyberg_pp.pst')):\n",
    "    inpst = pyemu.Pst(os.path.join('..','master_glm','freyberg_pp.pst'))\n",
    "else:\n",
    "    inpst = pyemu.Pst('freyberg_pp.pst')"
   ]
  },
  {
   "cell_type": "code",
   "execution_count": null,
   "metadata": {
    "execution": {
     "iopub.execute_input": "2020-11-14T04:54:15.486704Z",
     "iopub.status.busy": "2020-11-14T04:54:15.486269Z",
     "iopub.status.idle": "2020-11-14T04:54:15.487846Z",
     "shell.execute_reply": "2020-11-14T04:54:15.488325Z"
    }
   },
   "outputs": [],
   "source": [
    "Q = inpst.observation_data.weight.values"
   ]
  },
  {
   "cell_type": "code",
   "execution_count": null,
   "metadata": {
    "execution": {
     "iopub.execute_input": "2020-11-14T04:54:15.501490Z",
     "iopub.status.busy": "2020-11-14T04:54:15.500876Z",
     "iopub.status.idle": "2020-11-14T04:54:15.503255Z",
     "shell.execute_reply": "2020-11-14T04:54:15.503687Z"
    }
   },
   "outputs": [],
   "source": [
    "Q = np.diag(Q)\n",
    "Q.shape"
   ]
  },
  {
   "cell_type": "code",
   "execution_count": null,
   "metadata": {
    "execution": {
     "iopub.execute_input": "2020-11-14T04:54:15.506490Z",
     "iopub.status.busy": "2020-11-14T04:54:15.505847Z",
     "iopub.status.idle": "2020-11-14T04:54:15.508062Z",
     "shell.execute_reply": "2020-11-14T04:54:15.508498Z"
    }
   },
   "outputs": [],
   "source": [
    "X = injac.df().values"
   ]
  },
  {
   "cell_type": "code",
   "execution_count": null,
   "metadata": {
    "execution": {
     "iopub.execute_input": "2020-11-14T04:54:15.510822Z",
     "iopub.status.busy": "2020-11-14T04:54:15.510389Z",
     "iopub.status.idle": "2020-11-14T04:54:15.815508Z",
     "shell.execute_reply": "2020-11-14T04:54:15.816341Z"
    }
   },
   "outputs": [],
   "source": [
    "plt.imshow(np.log(np.abs(X)), interpolation='nearest', cmap='viridis')\n",
    "plt.colorbar()"
   ]
  },
  {
   "cell_type": "code",
   "execution_count": null,
   "metadata": {
    "execution": {
     "iopub.execute_input": "2020-11-14T04:54:15.819847Z",
     "iopub.status.busy": "2020-11-14T04:54:15.819272Z",
     "iopub.status.idle": "2020-11-14T04:54:15.821640Z",
     "shell.execute_reply": "2020-11-14T04:54:15.822062Z"
    }
   },
   "outputs": [],
   "source": [
    "X"
   ]
  },
  {
   "cell_type": "code",
   "execution_count": null,
   "metadata": {
    "execution": {
     "iopub.execute_input": "2020-11-14T04:54:15.833727Z",
     "iopub.status.busy": "2020-11-14T04:54:15.833285Z",
     "iopub.status.idle": "2020-11-14T04:54:15.958165Z",
     "shell.execute_reply": "2020-11-14T04:54:15.958679Z"
    }
   },
   "outputs": [],
   "source": [
    "plt.imshow(np.log(np.abs(X[:50,:50])), interpolation='nearest', cmap='viridis')\n",
    "plt.colorbar()"
   ]
  },
  {
   "cell_type": "markdown",
   "metadata": {},
   "source": [
    "## We can form up the normal equations matrix (including weights) and take a look at it\n",
    "\n",
    "This matrix is $\\mathbf{X}^T\\mathbf{Q}\\mathbf{X}$"
   ]
  },
  {
   "cell_type": "code",
   "execution_count": null,
   "metadata": {
    "execution": {
     "iopub.execute_input": "2020-11-14T04:54:15.965161Z",
     "iopub.status.busy": "2020-11-14T04:54:15.964270Z",
     "iopub.status.idle": "2020-11-14T04:54:16.450252Z",
     "shell.execute_reply": "2020-11-14T04:54:16.450772Z"
    }
   },
   "outputs": [],
   "source": [
    "XtQX=X.T.dot(Q).dot(X)"
   ]
  },
  {
   "cell_type": "code",
   "execution_count": null,
   "metadata": {
    "execution": {
     "iopub.execute_input": "2020-11-14T04:54:16.453555Z",
     "iopub.status.busy": "2020-11-14T04:54:16.453028Z",
     "iopub.status.idle": "2020-11-14T04:54:16.485723Z",
     "shell.execute_reply": "2020-11-14T04:54:16.486301Z"
    }
   },
   "outputs": [],
   "source": [
    "U, sigma, V = np.linalg.svd(XtQX)"
   ]
  },
  {
   "cell_type": "code",
   "execution_count": null,
   "metadata": {
    "execution": {
     "iopub.execute_input": "2020-11-14T04:54:16.497262Z",
     "iopub.status.busy": "2020-11-14T04:54:16.496603Z",
     "iopub.status.idle": "2020-11-14T04:54:17.192006Z",
     "shell.execute_reply": "2020-11-14T04:54:17.192456Z"
    }
   },
   "outputs": [],
   "source": [
    "plt.bar(range(len(sigma)),sigma)\n",
    "plt.grid()"
   ]
  },
  {
   "cell_type": "code",
   "execution_count": null,
   "metadata": {
    "execution": {
     "iopub.execute_input": "2020-11-14T04:54:17.208486Z",
     "iopub.status.busy": "2020-11-14T04:54:17.202886Z",
     "iopub.status.idle": "2020-11-14T04:54:18.057320Z",
     "shell.execute_reply": "2020-11-14T04:54:18.057824Z"
    }
   },
   "outputs": [],
   "source": [
    "plt.bar(range(len(sigma)),sigma)\n",
    "plt.yscale('log')\n",
    "plt.grid()"
   ]
  },
  {
   "cell_type": "code",
   "execution_count": null,
   "metadata": {
    "execution": {
     "iopub.execute_input": "2020-11-14T04:54:18.060703Z",
     "iopub.status.busy": "2020-11-14T04:54:18.060211Z",
     "iopub.status.idle": "2020-11-14T04:54:18.216022Z",
     "shell.execute_reply": "2020-11-14T04:54:18.215629Z"
    }
   },
   "outputs": [],
   "source": [
    "plt.imshow(np.log(XtQX), interpolation='nearest', cmap='viridis')\n",
    "plt.colorbar()"
   ]
  },
  {
   "cell_type": "code",
   "execution_count": null,
   "metadata": {
    "execution": {
     "iopub.execute_input": "2020-11-14T04:54:18.227427Z",
     "iopub.status.busy": "2020-11-14T04:54:18.226890Z",
     "iopub.status.idle": "2020-11-14T04:54:18.303985Z",
     "shell.execute_reply": "2020-11-14T04:54:18.304601Z"
    }
   },
   "outputs": [],
   "source": [
    "plt.imshow(V[:13,:13])"
   ]
  },
  {
   "cell_type": "code",
   "execution_count": null,
   "metadata": {
    "execution": {
     "iopub.execute_input": "2020-11-14T04:54:18.308425Z",
     "iopub.status.busy": "2020-11-14T04:54:18.307924Z",
     "iopub.status.idle": "2020-11-14T04:54:18.309545Z",
     "shell.execute_reply": "2020-11-14T04:54:18.310003Z"
    }
   },
   "outputs": [],
   "source": [
    "def SV_bars(SV=1):\n",
    "    plt.figure(figsize=(13,4))\n",
    "    plt.bar(list(range(U.shape[0])),U[:,SV-1])\n",
    "    plt.grid()\n",
    "    #plt.yscale('log')\n",
    "    plt.xlim([0,75])\n",
    "    plt.ylim([-1,1])\n",
    "    plt.xticks(list(range(75)))\n",
    "    plt.title('Singular vector showing parameter contributions to singular vector #{0}'.format(SV))\n",
    "    #print(U.shape)\n",
    "    plt.gca().set_xticklabels(inpst.parameter_data['parnme'][:75], rotation=90);"
   ]
  },
  {
   "cell_type": "code",
   "execution_count": null,
   "metadata": {
    "execution": {
     "iopub.execute_input": "2020-11-14T04:54:18.324852Z",
     "iopub.status.busy": "2020-11-14T04:54:18.320634Z",
     "iopub.status.idle": "2020-11-14T04:54:19.734951Z",
     "shell.execute_reply": "2020-11-14T04:54:19.735380Z"
    }
   },
   "outputs": [],
   "source": [
    "SV_bars(1)"
   ]
  },
  {
   "cell_type": "code",
   "execution_count": null,
   "metadata": {
    "execution": {
     "iopub.execute_input": "2020-11-14T04:54:19.747390Z",
     "iopub.status.busy": "2020-11-14T04:54:19.746895Z",
     "iopub.status.idle": "2020-11-14T04:54:21.313798Z",
     "shell.execute_reply": "2020-11-14T04:54:21.314235Z"
    }
   },
   "outputs": [],
   "source": [
    "interact(SV_bars, SV=widgets.widgets.IntSlider(value=1, min=1, max=20, step=1));"
   ]
  },
  {
   "cell_type": "markdown",
   "metadata": {},
   "source": [
    "### Great - finally how does this impact our calibration of a K-field?"
   ]
  },
  {
   "cell_type": "code",
   "execution_count": null,
   "metadata": {
    "execution": {
     "iopub.execute_input": "2020-11-14T04:54:21.317298Z",
     "iopub.status.busy": "2020-11-14T04:54:21.316869Z",
     "iopub.status.idle": "2020-11-14T04:54:21.456998Z",
     "shell.execute_reply": "2020-11-14T04:54:21.457671Z"
    }
   },
   "outputs": [],
   "source": [
    "ls freyberg_truth/"
   ]
  },
  {
   "cell_type": "code",
   "execution_count": null,
   "metadata": {
    "execution": {
     "iopub.execute_input": "2020-11-14T04:54:21.462744Z",
     "iopub.status.busy": "2020-11-14T04:54:21.462021Z",
     "iopub.status.idle": "2020-11-14T04:54:21.478643Z",
     "shell.execute_reply": "2020-11-14T04:54:21.479206Z"
    }
   },
   "outputs": [],
   "source": [
    "m = flopy.modflow.Modflow.load('freyberg.truth.nam',model_ws='freyberg_truth',load_only=[\"upw\", \"bas6\"],check=False)"
   ]
  },
  {
   "cell_type": "code",
   "execution_count": null,
   "metadata": {
    "execution": {
     "iopub.execute_input": "2020-11-14T04:54:21.482761Z",
     "iopub.status.busy": "2020-11-14T04:54:21.482222Z",
     "iopub.status.idle": "2020-11-14T04:54:21.484158Z",
     "shell.execute_reply": "2020-11-14T04:54:21.484511Z"
    }
   },
   "outputs": [],
   "source": [
    "v = pyemu.geostats.ExpVario(1.0,a=200,anisotropy=1.0,bearing=45)\n",
    "struct = pyemu.geostats.GeoStruct(variograms=v)"
   ]
  },
  {
   "cell_type": "code",
   "execution_count": null,
   "metadata": {
    "execution": {
     "iopub.execute_input": "2020-11-14T04:54:21.488039Z",
     "iopub.status.busy": "2020-11-14T04:54:21.487575Z",
     "iopub.status.idle": "2020-11-14T04:54:22.313569Z",
     "shell.execute_reply": "2020-11-14T04:54:22.314002Z"
    }
   },
   "outputs": [],
   "source": [
    "bd = pyemu.helpers.kl_setup(num_eig=800,sr=m.sr,struct=struct,prefixes='hk',basis_file=\"basis.jco\")"
   ]
  },
  {
   "cell_type": "code",
   "execution_count": null,
   "metadata": {
    "execution": {
     "iopub.execute_input": "2020-11-14T04:54:22.316574Z",
     "iopub.status.busy": "2020-11-14T04:54:22.316168Z",
     "iopub.status.idle": "2020-11-14T04:54:22.332480Z",
     "shell.execute_reply": "2020-11-14T04:54:22.332925Z"
    }
   },
   "outputs": [],
   "source": [
    "basis = pyemu.Matrix.from_binary(\"basis.jco\").to_dataframe()"
   ]
  },
  {
   "cell_type": "code",
   "execution_count": null,
   "metadata": {
    "execution": {
     "iopub.execute_input": "2020-11-14T04:54:22.348346Z",
     "iopub.status.busy": "2020-11-14T04:54:22.341664Z",
     "iopub.status.idle": "2020-11-14T04:54:22.350712Z",
     "shell.execute_reply": "2020-11-14T04:54:22.351144Z"
    }
   },
   "outputs": [],
   "source": [
    "basis"
   ]
  },
  {
   "cell_type": "code",
   "execution_count": null,
   "metadata": {
    "execution": {
     "iopub.execute_input": "2020-11-14T04:54:22.354696Z",
     "iopub.status.busy": "2020-11-14T04:54:22.354288Z",
     "iopub.status.idle": "2020-11-14T04:54:22.356083Z",
     "shell.execute_reply": "2020-11-14T04:54:22.356505Z"
    }
   },
   "outputs": [],
   "source": [
    "i = basis.index.map(lambda x: int(x[1:5]))\n",
    "j = basis.index.map(lambda x: int(x[-4:]))"
   ]
  },
  {
   "cell_type": "markdown",
   "metadata": {},
   "source": [
    "## Let's check out a continuous K field"
   ]
  },
  {
   "cell_type": "code",
   "execution_count": null,
   "metadata": {
    "execution": {
     "iopub.execute_input": "2020-11-14T04:54:22.359567Z",
     "iopub.status.busy": "2020-11-14T04:54:22.359168Z",
     "iopub.status.idle": "2020-11-14T04:54:22.443351Z",
     "shell.execute_reply": "2020-11-14T04:54:22.443782Z"
    }
   },
   "outputs": [],
   "source": [
    "arr = np.loadtxt(os.path.join(\"freyberg_truth\",\"hk.truth.ref\"))\n",
    "plt.figure(figsize=(4,8))\n",
    "mm = flopy.plot.PlotMapView(model=m, ax=plt.gca())\n",
    "mm.plot_array(arr)\n",
    "hk_true = arr.copy()\n",
    "mm.plot_ibound();"
   ]
  },
  {
   "cell_type": "markdown",
   "metadata": {},
   "source": [
    "## We can reconstruct it"
   ]
  },
  {
   "cell_type": "code",
   "execution_count": null,
   "metadata": {
    "execution": {
     "iopub.execute_input": "2020-11-14T04:54:22.446367Z",
     "iopub.status.busy": "2020-11-14T04:54:22.445963Z",
     "iopub.status.idle": "2020-11-14T04:54:22.449711Z",
     "shell.execute_reply": "2020-11-14T04:54:22.450121Z"
    }
   },
   "outputs": [],
   "source": [
    "basis_arr = np.array(basis.values)\n",
    "flat_arr = np.atleast_2d(arr.flatten()).transpose()"
   ]
  },
  {
   "cell_type": "code",
   "execution_count": null,
   "metadata": {
    "execution": {
     "iopub.execute_input": "2020-11-14T04:54:22.453000Z",
     "iopub.status.busy": "2020-11-14T04:54:22.452493Z",
     "iopub.status.idle": "2020-11-14T04:54:22.454878Z",
     "shell.execute_reply": "2020-11-14T04:54:22.455297Z"
    }
   },
   "outputs": [],
   "source": [
    "basis_arr.shape"
   ]
  },
  {
   "cell_type": "code",
   "execution_count": null,
   "metadata": {
    "execution": {
     "iopub.execute_input": "2020-11-14T04:54:22.457542Z",
     "iopub.status.busy": "2020-11-14T04:54:22.457147Z",
     "iopub.status.idle": "2020-11-14T04:54:22.458988Z",
     "shell.execute_reply": "2020-11-14T04:54:22.459409Z"
    }
   },
   "outputs": [],
   "source": [
    "flat_arr.shape"
   ]
  },
  {
   "cell_type": "code",
   "execution_count": null,
   "metadata": {
    "execution": {
     "iopub.execute_input": "2020-11-14T04:54:22.464233Z",
     "iopub.status.busy": "2020-11-14T04:54:22.463827Z",
     "iopub.status.idle": "2020-11-14T04:54:22.465328Z",
     "shell.execute_reply": "2020-11-14T04:54:22.465745Z"
    }
   },
   "outputs": [],
   "source": [
    "def plot_enchilada(eig):\n",
    "    fig,ax = plt.subplots(ncols=3, figsize=(14,8))\n",
    "    arr = np.zeros((m.nrow,m.ncol))\n",
    "    arr[i,j] = basis.iloc[:,eig]\n",
    "    mm = flopy.plot.PlotMapView(model=m, ax=ax[0])\n",
    "    mm.plot_array(arr)\n",
    "    mm.plot_ibound()\n",
    "    #mm = plt.imshow(arr)\n",
    "    ax[0].set_title('Plot of individual SV\\nnative scale')\n",
    "    basis_eig = basis_arr[:,:eig+1].transpose()\n",
    "    factors = np.dot(basis_eig,flat_arr).transpose()\n",
    "    factors = np.dot(factors,basis_eig).reshape(arr.shape)\n",
    "    mm2 = flopy.plot.PlotMapView(model=m, ax=ax[1])\n",
    "    mm2.plot_array(factors, vmin=0,vmax=np.max(hk_true))\n",
    "    mm2.plot_ibound()\n",
    "    ax[1].set_title('Reconstructed field\\nTrue Scale')\n",
    "    ax[2].set_title('True Field')    \n",
    "    mm3 = flopy.plot.PlotMapView(model=m, ax=ax[2])\n",
    "    c = mm3.plot_array(hk_true,vmin=0,vmax=np.max(hk_true))\n",
    "    mm3.plot_ibound()\n",
    "    plt.suptitle('Using {0} SVs'.format(eig+1))\n",
    "    plt.colorbar(c)"
   ]
  },
  {
   "cell_type": "code",
   "execution_count": null,
   "metadata": {
    "execution": {
     "iopub.execute_input": "2020-11-14T04:54:22.470025Z",
     "iopub.status.busy": "2020-11-14T04:54:22.469543Z",
     "iopub.status.idle": "2020-11-14T04:54:22.738644Z",
     "shell.execute_reply": "2020-11-14T04:54:22.739067Z"
    }
   },
   "outputs": [],
   "source": [
    "interact(plot_enchilada, eig=widgets.IntSlider(description=\"eig comp:\", \n",
    "                                           continuous_update=True, max=799));"
   ]
  },
  {
   "cell_type": "code",
   "execution_count": null,
   "metadata": {},
   "outputs": [],
   "source": []
  },
  {
   "cell_type": "code",
   "execution_count": null,
   "metadata": {},
   "outputs": [],
   "source": []
  }
 ],
 "metadata": {
  "kernelspec": {
   "display_name": "Python 3",
   "language": "python",
   "name": "python3"
  },
  "language_info": {
   "codemirror_mode": {
    "name": "ipython",
    "version": 3
   },
   "file_extension": ".py",
   "mimetype": "text/x-python",
   "name": "python",
   "nbconvert_exporter": "python",
   "pygments_lexer": "ipython3",
   "version": "3.8.3"
  },
  "widgets": {
   "application/vnd.jupyter.widget-state+json": {
    "state": {
     "0f5dd1fe83784aeaa3840a2857e208d1": {
      "model_module": "@jupyter-widgets/base",
      "model_module_version": "1.2.0",
      "model_name": "LayoutModel",
      "state": {
       "_model_module": "@jupyter-widgets/base",
       "_model_module_version": "1.2.0",
       "_model_name": "LayoutModel",
       "_view_count": null,
       "_view_module": "@jupyter-widgets/base",
       "_view_module_version": "1.2.0",
       "_view_name": "LayoutView",
       "align_content": null,
       "align_items": null,
       "align_self": null,
       "border": null,
       "bottom": null,
       "display": null,
       "flex": null,
       "flex_flow": null,
       "grid_area": null,
       "grid_auto_columns": null,
       "grid_auto_flow": null,
       "grid_auto_rows": null,
       "grid_column": null,
       "grid_gap": null,
       "grid_row": null,
       "grid_template_areas": null,
       "grid_template_columns": null,
       "grid_template_rows": null,
       "height": null,
       "justify_content": null,
       "justify_items": null,
       "left": null,
       "margin": null,
       "max_height": null,
       "max_width": null,
       "min_height": null,
       "min_width": null,
       "object_fit": null,
       "object_position": null,
       "order": null,
       "overflow": null,
       "overflow_x": null,
       "overflow_y": null,
       "padding": null,
       "right": null,
       "top": null,
       "visibility": null,
       "width": null
      }
     },
     "199d7f3176ed42308404b8c00946ecca": {
      "model_module": "@jupyter-widgets/controls",
      "model_module_version": "1.5.0",
      "model_name": "IntSliderModel",
      "state": {
       "_dom_classes": [],
       "_model_module": "@jupyter-widgets/controls",
       "_model_module_version": "1.5.0",
       "_model_name": "IntSliderModel",
       "_view_count": null,
       "_view_module": "@jupyter-widgets/controls",
       "_view_module_version": "1.5.0",
       "_view_name": "IntSliderView",
       "continuous_update": true,
       "description": "eig comp:",
       "description_tooltip": null,
       "disabled": false,
       "layout": "IPY_MODEL_c98c8de978654c0297bfc8556dc203fb",
       "max": 799,
       "min": 0,
       "orientation": "horizontal",
       "readout": true,
       "readout_format": "d",
       "step": 1,
       "style": "IPY_MODEL_37f6f30ed8054c8bbf60cd0069b85515",
       "value": 0
      }
     },
     "1a2edf1f48d74b70bbad5694eac81b12": {
      "model_module": "@jupyter-widgets/base",
      "model_module_version": "1.2.0",
      "model_name": "LayoutModel",
      "state": {
       "_model_module": "@jupyter-widgets/base",
       "_model_module_version": "1.2.0",
       "_model_name": "LayoutModel",
       "_view_count": null,
       "_view_module": "@jupyter-widgets/base",
       "_view_module_version": "1.2.0",
       "_view_name": "LayoutView",
       "align_content": null,
       "align_items": null,
       "align_self": null,
       "border": null,
       "bottom": null,
       "display": null,
       "flex": null,
       "flex_flow": null,
       "grid_area": null,
       "grid_auto_columns": null,
       "grid_auto_flow": null,
       "grid_auto_rows": null,
       "grid_column": null,
       "grid_gap": null,
       "grid_row": null,
       "grid_template_areas": null,
       "grid_template_columns": null,
       "grid_template_rows": null,
       "height": null,
       "justify_content": null,
       "justify_items": null,
       "left": null,
       "margin": null,
       "max_height": null,
       "max_width": null,
       "min_height": null,
       "min_width": null,
       "object_fit": null,
       "object_position": null,
       "order": null,
       "overflow": null,
       "overflow_x": null,
       "overflow_y": null,
       "padding": null,
       "right": null,
       "top": null,
       "visibility": null,
       "width": null
      }
     },
     "3132a73d9428449386dba76f1d93c563": {
      "model_module": "@jupyter-widgets/controls",
      "model_module_version": "1.5.0",
      "model_name": "SliderStyleModel",
      "state": {
       "_model_module": "@jupyter-widgets/controls",
       "_model_module_version": "1.5.0",
       "_model_name": "SliderStyleModel",
       "_view_count": null,
       "_view_module": "@jupyter-widgets/base",
       "_view_module_version": "1.2.0",
       "_view_name": "StyleView",
       "description_width": "",
       "handle_color": null
      }
     },
     "37f6f30ed8054c8bbf60cd0069b85515": {
      "model_module": "@jupyter-widgets/controls",
      "model_module_version": "1.5.0",
      "model_name": "SliderStyleModel",
      "state": {
       "_model_module": "@jupyter-widgets/controls",
       "_model_module_version": "1.5.0",
       "_model_name": "SliderStyleModel",
       "_view_count": null,
       "_view_module": "@jupyter-widgets/base",
       "_view_module_version": "1.2.0",
       "_view_name": "StyleView",
       "description_width": "",
       "handle_color": null
      }
     },
     "39a644e5161a464eb5b09e617316f81b": {
      "model_module": "@jupyter-widgets/base",
      "model_module_version": "1.2.0",
      "model_name": "LayoutModel",
      "state": {
       "_model_module": "@jupyter-widgets/base",
       "_model_module_version": "1.2.0",
       "_model_name": "LayoutModel",
       "_view_count": null,
       "_view_module": "@jupyter-widgets/base",
       "_view_module_version": "1.2.0",
       "_view_name": "LayoutView",
       "align_content": null,
       "align_items": null,
       "align_self": null,
       "border": null,
       "bottom": null,
       "display": null,
       "flex": null,
       "flex_flow": null,
       "grid_area": null,
       "grid_auto_columns": null,
       "grid_auto_flow": null,
       "grid_auto_rows": null,
       "grid_column": null,
       "grid_gap": null,
       "grid_row": null,
       "grid_template_areas": null,
       "grid_template_columns": null,
       "grid_template_rows": null,
       "height": null,
       "justify_content": null,
       "justify_items": null,
       "left": null,
       "margin": null,
       "max_height": null,
       "max_width": null,
       "min_height": null,
       "min_width": null,
       "object_fit": null,
       "object_position": null,
       "order": null,
       "overflow": null,
       "overflow_x": null,
       "overflow_y": null,
       "padding": null,
       "right": null,
       "top": null,
       "visibility": null,
       "width": null
      }
     },
     "3f01885aeb684c51af909fb37165954e": {
      "model_module": "@jupyter-widgets/base",
      "model_module_version": "1.2.0",
      "model_name": "LayoutModel",
      "state": {
       "_model_module": "@jupyter-widgets/base",
       "_model_module_version": "1.2.0",
       "_model_name": "LayoutModel",
       "_view_count": null,
       "_view_module": "@jupyter-widgets/base",
       "_view_module_version": "1.2.0",
       "_view_name": "LayoutView",
       "align_content": null,
       "align_items": null,
       "align_self": null,
       "border": null,
       "bottom": null,
       "display": null,
       "flex": null,
       "flex_flow": null,
       "grid_area": null,
       "grid_auto_columns": null,
       "grid_auto_flow": null,
       "grid_auto_rows": null,
       "grid_column": null,
       "grid_gap": null,
       "grid_row": null,
       "grid_template_areas": null,
       "grid_template_columns": null,
       "grid_template_rows": null,
       "height": null,
       "justify_content": null,
       "justify_items": null,
       "left": null,
       "margin": null,
       "max_height": null,
       "max_width": null,
       "min_height": null,
       "min_width": null,
       "object_fit": null,
       "object_position": null,
       "order": null,
       "overflow": null,
       "overflow_x": null,
       "overflow_y": null,
       "padding": null,
       "right": null,
       "top": null,
       "visibility": null,
       "width": null
      }
     },
     "5a3230342bf148b2a02fef161bfffa0d": {
      "model_module": "@jupyter-widgets/output",
      "model_module_version": "1.0.0",
      "model_name": "OutputModel",
      "state": {
       "_dom_classes": [],
       "_model_module": "@jupyter-widgets/output",
       "_model_module_version": "1.0.0",
       "_model_name": "OutputModel",
       "_view_count": null,
       "_view_module": "@jupyter-widgets/output",
       "_view_module_version": "1.0.0",
       "_view_name": "OutputView",
       "layout": "IPY_MODEL_e405bae729ab4e5aa26b66fe01c47b58",
       "msg_id": "",
       "outputs": [
        {
         "data": {
          "image/png": "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\n",
          "text/plain": "<Figure size 1008x576 with 4 Axes>"
         },
         "metadata": {
          "needs_background": "light"
         },
         "output_type": "display_data"
        }
       ]
      }
     },
     "5e49dc3997564533adac6d63789a1929": {
      "model_module": "@jupyter-widgets/controls",
      "model_module_version": "1.5.0",
      "model_name": "VBoxModel",
      "state": {
       "_dom_classes": [
        "widget-interact"
       ],
       "_model_module": "@jupyter-widgets/controls",
       "_model_module_version": "1.5.0",
       "_model_name": "VBoxModel",
       "_view_count": null,
       "_view_module": "@jupyter-widgets/controls",
       "_view_module_version": "1.5.0",
       "_view_name": "VBoxView",
       "box_style": "",
       "children": [
        "IPY_MODEL_199d7f3176ed42308404b8c00946ecca",
        "IPY_MODEL_5a3230342bf148b2a02fef161bfffa0d"
       ],
       "layout": "IPY_MODEL_39a644e5161a464eb5b09e617316f81b"
      }
     },
     "6c3d5d40c81844cba66edcdcb6f33dd0": {
      "model_module": "@jupyter-widgets/base",
      "model_module_version": "1.2.0",
      "model_name": "LayoutModel",
      "state": {
       "_model_module": "@jupyter-widgets/base",
       "_model_module_version": "1.2.0",
       "_model_name": "LayoutModel",
       "_view_count": null,
       "_view_module": "@jupyter-widgets/base",
       "_view_module_version": "1.2.0",
       "_view_name": "LayoutView",
       "align_content": null,
       "align_items": null,
       "align_self": null,
       "border": null,
       "bottom": null,
       "display": null,
       "flex": null,
       "flex_flow": null,
       "grid_area": null,
       "grid_auto_columns": null,
       "grid_auto_flow": null,
       "grid_auto_rows": null,
       "grid_column": null,
       "grid_gap": null,
       "grid_row": null,
       "grid_template_areas": null,
       "grid_template_columns": null,
       "grid_template_rows": null,
       "height": null,
       "justify_content": null,
       "justify_items": null,
       "left": null,
       "margin": null,
       "max_height": null,
       "max_width": null,
       "min_height": null,
       "min_width": null,
       "object_fit": null,
       "object_position": null,
       "order": null,
       "overflow": null,
       "overflow_x": null,
       "overflow_y": null,
       "padding": null,
       "right": null,
       "top": null,
       "visibility": null,
       "width": null
      }
     },
     "721e7b64b8f742648561858934022894": {
      "model_module": "@jupyter-widgets/base",
      "model_module_version": "1.2.0",
      "model_name": "LayoutModel",
      "state": {
       "_model_module": "@jupyter-widgets/base",
       "_model_module_version": "1.2.0",
       "_model_name": "LayoutModel",
       "_view_count": null,
       "_view_module": "@jupyter-widgets/base",
       "_view_module_version": "1.2.0",
       "_view_name": "LayoutView",
       "align_content": null,
       "align_items": null,
       "align_self": null,
       "border": null,
       "bottom": null,
       "display": null,
       "flex": null,
       "flex_flow": null,
       "grid_area": null,
       "grid_auto_columns": null,
       "grid_auto_flow": null,
       "grid_auto_rows": null,
       "grid_column": null,
       "grid_gap": null,
       "grid_row": null,
       "grid_template_areas": null,
       "grid_template_columns": null,
       "grid_template_rows": null,
       "height": null,
       "justify_content": null,
       "justify_items": null,
       "left": null,
       "margin": null,
       "max_height": null,
       "max_width": null,
       "min_height": null,
       "min_width": null,
       "object_fit": null,
       "object_position": null,
       "order": null,
       "overflow": null,
       "overflow_x": null,
       "overflow_y": null,
       "padding": null,
       "right": null,
       "top": null,
       "visibility": null,
       "width": null
      }
     },
     "7e6ee13596474e09acbf5387dc0285ce": {
      "model_module": "@jupyter-widgets/controls",
      "model_module_version": "1.5.0",
      "model_name": "IntSliderModel",
      "state": {
       "_dom_classes": [],
       "_model_module": "@jupyter-widgets/controls",
       "_model_module_version": "1.5.0",
       "_model_name": "IntSliderModel",
       "_view_count": null,
       "_view_module": "@jupyter-widgets/controls",
       "_view_module_version": "1.5.0",
       "_view_name": "IntSliderView",
       "continuous_update": true,
       "description": "numsing",
       "description_tooltip": null,
       "disabled": false,
       "layout": "IPY_MODEL_3f01885aeb684c51af909fb37165954e",
       "max": 300,
       "min": 1,
       "orientation": "horizontal",
       "readout": true,
       "readout_format": "d",
       "step": 1,
       "style": "IPY_MODEL_aa5e8e0bb4eb42319a4e89fa11f99cbb",
       "value": 1
      }
     },
     "9a6c5a72013e4178b5dca370ed2aa668": {
      "model_module": "@jupyter-widgets/controls",
      "model_module_version": "1.5.0",
      "model_name": "IntSliderModel",
      "state": {
       "_dom_classes": [],
       "_model_module": "@jupyter-widgets/controls",
       "_model_module_version": "1.5.0",
       "_model_name": "IntSliderModel",
       "_view_count": null,
       "_view_module": "@jupyter-widgets/controls",
       "_view_module_version": "1.5.0",
       "_view_name": "IntSliderView",
       "continuous_update": true,
       "description": "SV",
       "description_tooltip": null,
       "disabled": false,
       "layout": "IPY_MODEL_ccce53f6fec24de88fa6d86bfffe7845",
       "max": 20,
       "min": 1,
       "orientation": "horizontal",
       "readout": true,
       "readout_format": "d",
       "step": 1,
       "style": "IPY_MODEL_3132a73d9428449386dba76f1d93c563",
       "value": 1
      }
     },
     "aa5e8e0bb4eb42319a4e89fa11f99cbb": {
      "model_module": "@jupyter-widgets/controls",
      "model_module_version": "1.5.0",
      "model_name": "SliderStyleModel",
      "state": {
       "_model_module": "@jupyter-widgets/controls",
       "_model_module_version": "1.5.0",
       "_model_name": "SliderStyleModel",
       "_view_count": null,
       "_view_module": "@jupyter-widgets/base",
       "_view_module_version": "1.2.0",
       "_view_name": "StyleView",
       "description_width": "",
       "handle_color": null
      }
     },
     "bd49b6ba4b364f6f906f879192027233": {
      "model_module": "@jupyter-widgets/controls",
      "model_module_version": "1.5.0",
      "model_name": "VBoxModel",
      "state": {
       "_dom_classes": [
        "widget-interact"
       ],
       "_model_module": "@jupyter-widgets/controls",
       "_model_module_version": "1.5.0",
       "_model_name": "VBoxModel",
       "_view_count": null,
       "_view_module": "@jupyter-widgets/controls",
       "_view_module_version": "1.5.0",
       "_view_name": "VBoxView",
       "box_style": "",
       "children": [
        "IPY_MODEL_9a6c5a72013e4178b5dca370ed2aa668",
        "IPY_MODEL_fe70290aef3a4e468e3a90b08751a794"
       ],
       "layout": "IPY_MODEL_1a2edf1f48d74b70bbad5694eac81b12"
      }
     },
     "bf67b5580abf47e9ac3659b76a03d6db": {
      "model_module": "@jupyter-widgets/output",
      "model_module_version": "1.0.0",
      "model_name": "OutputModel",
      "state": {
       "_dom_classes": [],
       "_model_module": "@jupyter-widgets/output",
       "_model_module_version": "1.0.0",
       "_model_name": "OutputModel",
       "_view_count": null,
       "_view_module": "@jupyter-widgets/output",
       "_view_module_version": "1.0.0",
       "_view_name": "OutputView",
       "layout": "IPY_MODEL_6c3d5d40c81844cba66edcdcb6f33dd0",
       "msg_id": "",
       "outputs": [
        {
         "data": {
          "image/png": "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\n",
          "text/plain": "<Figure size 864x864 with 2 Axes>"
         },
         "metadata": {
          "needs_background": "light"
         },
         "output_type": "display_data"
        }
       ]
      }
     },
     "c98c8de978654c0297bfc8556dc203fb": {
      "model_module": "@jupyter-widgets/base",
      "model_module_version": "1.2.0",
      "model_name": "LayoutModel",
      "state": {
       "_model_module": "@jupyter-widgets/base",
       "_model_module_version": "1.2.0",
       "_model_name": "LayoutModel",
       "_view_count": null,
       "_view_module": "@jupyter-widgets/base",
       "_view_module_version": "1.2.0",
       "_view_name": "LayoutView",
       "align_content": null,
       "align_items": null,
       "align_self": null,
       "border": null,
       "bottom": null,
       "display": null,
       "flex": null,
       "flex_flow": null,
       "grid_area": null,
       "grid_auto_columns": null,
       "grid_auto_flow": null,
       "grid_auto_rows": null,
       "grid_column": null,
       "grid_gap": null,
       "grid_row": null,
       "grid_template_areas": null,
       "grid_template_columns": null,
       "grid_template_rows": null,
       "height": null,
       "justify_content": null,
       "justify_items": null,
       "left": null,
       "margin": null,
       "max_height": null,
       "max_width": null,
       "min_height": null,
       "min_width": null,
       "object_fit": null,
       "object_position": null,
       "order": null,
       "overflow": null,
       "overflow_x": null,
       "overflow_y": null,
       "padding": null,
       "right": null,
       "top": null,
       "visibility": null,
       "width": null
      }
     },
     "ccce53f6fec24de88fa6d86bfffe7845": {
      "model_module": "@jupyter-widgets/base",
      "model_module_version": "1.2.0",
      "model_name": "LayoutModel",
      "state": {
       "_model_module": "@jupyter-widgets/base",
       "_model_module_version": "1.2.0",
       "_model_name": "LayoutModel",
       "_view_count": null,
       "_view_module": "@jupyter-widgets/base",
       "_view_module_version": "1.2.0",
       "_view_name": "LayoutView",
       "align_content": null,
       "align_items": null,
       "align_self": null,
       "border": null,
       "bottom": null,
       "display": null,
       "flex": null,
       "flex_flow": null,
       "grid_area": null,
       "grid_auto_columns": null,
       "grid_auto_flow": null,
       "grid_auto_rows": null,
       "grid_column": null,
       "grid_gap": null,
       "grid_row": null,
       "grid_template_areas": null,
       "grid_template_columns": null,
       "grid_template_rows": null,
       "height": null,
       "justify_content": null,
       "justify_items": null,
       "left": null,
       "margin": null,
       "max_height": null,
       "max_width": null,
       "min_height": null,
       "min_width": null,
       "object_fit": null,
       "object_position": null,
       "order": null,
       "overflow": null,
       "overflow_x": null,
       "overflow_y": null,
       "padding": null,
       "right": null,
       "top": null,
       "visibility": null,
       "width": null
      }
     },
     "d04ca19ea267410a9083ec3393c80137": {
      "model_module": "@jupyter-widgets/controls",
      "model_module_version": "1.5.0",
      "model_name": "VBoxModel",
      "state": {
       "_dom_classes": [
        "widget-interact"
       ],
       "_model_module": "@jupyter-widgets/controls",
       "_model_module_version": "1.5.0",
       "_model_name": "VBoxModel",
       "_view_count": null,
       "_view_module": "@jupyter-widgets/controls",
       "_view_module_version": "1.5.0",
       "_view_name": "VBoxView",
       "box_style": "",
       "children": [
        "IPY_MODEL_7e6ee13596474e09acbf5387dc0285ce",
        "IPY_MODEL_bf67b5580abf47e9ac3659b76a03d6db"
       ],
       "layout": "IPY_MODEL_0f5dd1fe83784aeaa3840a2857e208d1"
      }
     },
     "e405bae729ab4e5aa26b66fe01c47b58": {
      "model_module": "@jupyter-widgets/base",
      "model_module_version": "1.2.0",
      "model_name": "LayoutModel",
      "state": {
       "_model_module": "@jupyter-widgets/base",
       "_model_module_version": "1.2.0",
       "_model_name": "LayoutModel",
       "_view_count": null,
       "_view_module": "@jupyter-widgets/base",
       "_view_module_version": "1.2.0",
       "_view_name": "LayoutView",
       "align_content": null,
       "align_items": null,
       "align_self": null,
       "border": null,
       "bottom": null,
       "display": null,
       "flex": null,
       "flex_flow": null,
       "grid_area": null,
       "grid_auto_columns": null,
       "grid_auto_flow": null,
       "grid_auto_rows": null,
       "grid_column": null,
       "grid_gap": null,
       "grid_row": null,
       "grid_template_areas": null,
       "grid_template_columns": null,
       "grid_template_rows": null,
       "height": null,
       "justify_content": null,
       "justify_items": null,
       "left": null,
       "margin": null,
       "max_height": null,
       "max_width": null,
       "min_height": null,
       "min_width": null,
       "object_fit": null,
       "object_position": null,
       "order": null,
       "overflow": null,
       "overflow_x": null,
       "overflow_y": null,
       "padding": null,
       "right": null,
       "top": null,
       "visibility": null,
       "width": null
      }
     },
     "fe70290aef3a4e468e3a90b08751a794": {
      "model_module": "@jupyter-widgets/output",
      "model_module_version": "1.0.0",
      "model_name": "OutputModel",
      "state": {
       "_dom_classes": [],
       "_model_module": "@jupyter-widgets/output",
       "_model_module_version": "1.0.0",
       "_model_name": "OutputModel",
       "_view_count": null,
       "_view_module": "@jupyter-widgets/output",
       "_view_module_version": "1.0.0",
       "_view_name": "OutputView",
       "layout": "IPY_MODEL_721e7b64b8f742648561858934022894",
       "msg_id": "",
       "outputs": [
        {
         "data": {
          "image/png": "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\n",
          "text/plain": "<Figure size 936x288 with 1 Axes>"
         },
         "metadata": {
          "needs_background": "light"
         },
         "output_type": "display_data"
        }
       ]
      }
     }
    },
    "version_major": 2,
    "version_minor": 0
   }
  }
 },
 "nbformat": 4,
 "nbformat_minor": 4
}
