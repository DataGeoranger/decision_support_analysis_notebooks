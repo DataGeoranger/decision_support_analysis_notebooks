{
 "cells": [
  {
   "cell_type": "markdown",
   "metadata": {},
   "source": [
    "# Basic Flopy\n",
    "\n",
    "In this notebook, we will blast through basic flopy usage.  There is a lot to cover in flopy, so this will just hit the highlights"
   ]
  },
  {
   "cell_type": "code",
   "execution_count": 1,
   "metadata": {},
   "outputs": [],
   "source": [
    "import os\n",
    "import shutil\n",
    "import numpy as np\n",
    "import matplotlib.pyplot as plt\n",
    "import pandas as pd\n",
    "import flopy\n",
    "import pyemu"
   ]
  },
  {
   "cell_type": "markdown",
   "metadata": {},
   "source": [
    "Let's jump right in and load an existing model (one we will use for the rest of the week). We will use the `model_ws` (model workspace) to access these files in a different directory:"
   ]
  },
  {
   "cell_type": "code",
   "execution_count": 3,
   "metadata": {},
   "outputs": [
    {
     "data": {
      "text/plain": [
       "['add_north_ghbs.py',\n",
       " 'forecast_truth.csv',\n",
       " 'freyberg.bas',\n",
       " 'freyberg.cbc',\n",
       " 'freyberg.chk',\n",
       " 'freyberg.dis',\n",
       " 'freyberg.drn',\n",
       " 'freyberg.ghb',\n",
       " 'freyberg.hds',\n",
       " 'freyberg.list',\n",
       " 'freyberg.lmt6',\n",
       " 'freyberg.locations',\n",
       " 'freyberg.mpbas',\n",
       " 'freyberg.mpenpt',\n",
       " 'freyberg.mplist',\n",
       " 'freyberg.mpnam',\n",
       " 'freyberg.mppthln',\n",
       " 'freyberg.mpsim',\n",
       " 'freyberg.nam',\n",
       " 'freyberg.nwt',\n",
       " 'freyberg.oc',\n",
       " 'freyberg.rch',\n",
       " 'freyberg.sfr',\n",
       " 'freyberg.sfr.out',\n",
       " 'freyberg.upw',\n",
       " 'freyberg.wel',\n",
       " 'freyberg_mt.adv',\n",
       " 'freyberg_mt.btn',\n",
       " 'freyberg_mt.gcg',\n",
       " 'freyberg_mt.list',\n",
       " 'freyberg_mt.nam',\n",
       " 'freyberg_mt.rct',\n",
       " 'freyberg_mt.sft',\n",
       " 'freyberg_mt.sftcobs.out',\n",
       " 'freyberg_mt.ssm',\n",
       " 'heads.hds',\n",
       " 'kriged_bottom_elevs.ref',\n",
       " 'kriged_bottom_Freyberg1.0.ref',\n",
       " 'make_ss_obs.pt',\n",
       " 'make_ss_obs.py',\n",
       " 'mfnwt.exe',\n",
       " 'mp_ibound_1.ref',\n",
       " 'mp_ibound_2.ref',\n",
       " 'mp_ibound_3.ref',\n",
       " 'MT3D.CNF',\n",
       " 'MT3D001.MAS',\n",
       " 'MT3D001.UCN',\n",
       " 'mt3d_link.ftl',\n",
       " 'obs_data.csv',\n",
       " 'obs_loc.csv',\n",
       " 'pestpp-glm',\n",
       " 'pestpp-ies',\n",
       " 'pestpp-opt',\n",
       " 'pestpp-sen',\n",
       " 'pestpp-swp',\n",
       " 'prsity_1.ref',\n",
       " 'prsity_2.ref',\n",
       " 'prsity_3.ref',\n",
       " 'prsity_layer_1.ref',\n",
       " 'prsity_layer_2.ref',\n",
       " 'prsity_layer_3.ref',\n",
       " 'ss_gw_obs.csv',\n",
       " 'truth_botm_layer_3.ref']"
      ]
     },
     "execution_count": 3,
     "metadata": {},
     "output_type": "execute_result"
    }
   ],
   "source": [
    "model_ws = os.path.join(\"..\",\"base_model_files\")\n",
    "os.listdir(model_ws)\n"
   ]
  },
  {
   "cell_type": "markdown",
   "metadata": {},
   "source": [
    "Do these file types look familiar???"
   ]
  },
  {
   "cell_type": "code",
   "execution_count": 4,
   "metadata": {
    "scrolled": true
   },
   "outputs": [
    {
     "name": "stdout",
     "output_type": "stream",
     "text": [
      "\n",
      "Creating new model with name: freyberg\n",
      "--------------------------------------------------\n",
      "\n",
      "Parsing the namefile --> ..\\base_model_files\\freyberg.nam\n",
      "\n",
      "--------------------------------------------------\n",
      "External unit dictionary:\n",
      "{2: filename:..\\base_model_files\\freyberg.list, filetype:LIST, 11: filename:..\\base_model_files\\freyberg.dis, filetype:DIS, 13: filename:..\\base_model_files\\freyberg.bas, filetype:BAS6, 31: filename:..\\base_model_files\\freyberg.upw, filetype:UPW, 19: filename:..\\base_model_files\\freyberg.rch, filetype:RCH, 32: filename:..\\base_model_files\\freyberg.nwt, filetype:NWT, 14: filename:..\\base_model_files\\freyberg.oc, filetype:OC, 30: filename:..\\base_model_files\\freyberg.lmt6, filetype:LMT6, 20: filename:..\\base_model_files\\freyberg.wel, filetype:WEL, 17: filename:..\\base_model_files\\freyberg.sfr, filetype:SFR, 23: filename:..\\base_model_files\\freyberg.ghb, filetype:GHB, 50: filename:..\\base_model_files\\freyberg.cbc, filetype:DATA(BINARY), 51: filename:..\\base_model_files\\freyberg.hds, filetype:DATA(BINARY), 60: filename:..\\base_model_files\\freyberg.sfr.out, filetype:DATA}\n",
      "--------------------------------------------------\n",
      "\n",
      "ModflowBas6 free format:True\n",
      "\n",
      "loading dis package file...\n",
      "   Loading dis package with:\n",
      "      3 layers, 40 rows, 20 columns, and 2 stress periods\n",
      "   loading laycbd...\n",
      "   loading delr...\n",
      "   loading delc...\n",
      "   loading top...\n",
      "   loading botm...\n",
      "      for 3 layers and 0 confining beds\n",
      "   loading stress period data...\n",
      "       for 2 stress periods\n",
      "adding Package:  DIS\n",
      "   DIS  package load...success\n",
      "   LIST package load...skipped\n",
      "loading bas6 package file...\n",
      "adding Package:  BAS6\n",
      "   BAS6 package load...success\n",
      "loading upw package file...\n",
      "   loading ipakcb, HDRY, NPUPW, IPHDRY...\n",
      "   loading LAYTYP...\n",
      "   loading LAYAVG...\n",
      "   loading CHANI...\n",
      "   loading LAYVKA...\n",
      "   loading LAYWET...\n",
      "   loading hk layer   1...\n",
      "   loading vka layer   1...\n",
      "   loading ss layer   1...\n",
      "   loading sy layer   1...\n",
      "   loading hk layer   2...\n",
      "   loading vka layer   2...\n",
      "   loading ss layer   2...\n",
      "   loading hk layer   3...\n",
      "   loading vka layer   3...\n",
      "   loading ss layer   3...\n",
      "Adding freyberg.cbc (unit=50) to the output list.\n",
      "adding Package:  UPW\n",
      "   UPW  package load...success\n",
      "loading rch package file...\n",
      "   loading rech stress period   1...\n",
      "   loading rech stress period   2...\n",
      "adding Package:  RCH\n",
      "   RCH  package load...success\n",
      "loading nwt package file...\n",
      "   did not generate dataset 1 kwargs\n",
      "adding Package:  NWT\n",
      "   NWT  package load...success\n",
      "loading oc package file...\n",
      "Adding freyberg.hds (unit=51) to the output list.\n",
      "adding Package:  OC\n",
      "   OC   package load...success\n",
      "loading lmt package file...\n",
      "adding Package:  LMT6\n",
      "   LMT6 package load...success\n",
      "loading wel package file...\n",
      "   loading <class 'flopy.modflow.mfwel.ModflowWel'> for kper     1\n",
      "   loading <class 'flopy.modflow.mfwel.ModflowWel'> for kper     2\n",
      "adding Package:  WEL\n",
      "   WEL  package load...success\n",
      "loading sfr2 package file...\n",
      "Adding freyberg.sfr.out (unit=60) to the output list.\n",
      "adding Package:  SFR\n",
      "   SFR  package load...success\n",
      "loading ghb package file...\n",
      "   loading <class 'flopy.modflow.mfghb.ModflowGhb'> for kper     1\n",
      "   loading <class 'flopy.modflow.mfghb.ModflowGhb'> for kper     2\n",
      "adding Package:  GHB\n",
      "   GHB  package load...success\n",
      "   DATA(BINARY) file load...skipped\n",
      "      freyberg.cbc\n",
      "   DATA(BINARY) file load...skipped\n",
      "      freyberg.hds\n",
      "   DATA file load...skipped\n",
      "      freyberg.sfr.out\n",
      "\n",
      "WARNING:\n",
      "    External file unit 0 does not exist in ext_unit_dict.\n",
      "\n",
      "   The following 10 packages were successfully loaded.\n",
      "      freyberg.dis\n",
      "      freyberg.bas\n",
      "      freyberg.upw\n",
      "      freyberg.rch\n",
      "      freyberg.nwt\n",
      "      freyberg.oc\n",
      "      freyberg.lmt6\n",
      "      freyberg.wel\n",
      "      freyberg.sfr\n",
      "      freyberg.ghb\n",
      "   The following 1 packages were not loaded.\n",
      "      freyberg.list\n",
      "\n",
      "freyberg MODEL DATA VALIDATION SUMMARY:\n",
      "  1 Warning:\n",
      "    1 instance of \r",
      "    OC package: action(s) defined in OC stress_period_data ignored as they are not part the stress periods defined by DIS\n",
      "  see ..\\base_model_files\\freyberg.chk for details.\n",
      "\n"
     ]
    }
   ],
   "source": [
    "m = flopy.modflow.Modflow.load(\"freyberg.nam\",model_ws=model_ws,verbose=True)"
   ]
  },
  {
   "cell_type": "code",
   "execution_count": 5,
   "metadata": {},
   "outputs": [
    {
     "data": {
      "text/plain": [
       "MODFLOW 3 layer(s) 40 row(s) 20 column(s) 2 stress period(s)"
      ]
     },
     "execution_count": 5,
     "metadata": {},
     "output_type": "execute_result"
    }
   ],
   "source": [
    "m"
   ]
  },
  {
   "cell_type": "markdown",
   "metadata": {},
   "source": [
    "individual packages are accessible through their 3-letter extension (except for the basic package, which is `bas6` for some reason :facepalm: )"
   ]
  },
  {
   "cell_type": "code",
   "execution_count": 6,
   "metadata": {},
   "outputs": [
    {
     "name": "stderr",
     "output_type": "stream",
     "text": [
      "C:\\ProgramData\\Miniconda3\\envs\\pyclass\\lib\\site-packages\\pyproj\\crs\\crs.py:280: FutureWarning: '+init=<authority>:<code>' syntax is deprecated. '<authority>:<code>' is the preferred initialization method. When making the change, be mindful of axis order changes: https://pyproj4.github.io/pyproj/stable/gotchas.html#axis-order-changes-in-proj-6\n",
      "  projstring = _prepare_from_string(projparams)\n",
      "C:\\ProgramData\\Miniconda3\\envs\\pyclass\\lib\\site-packages\\pyproj\\crs\\crs.py:280: FutureWarning: '+init=<authority>:<code>' syntax is deprecated. '<authority>:<code>' is the preferred initialization method. When making the change, be mindful of axis order changes: https://pyproj4.github.io/pyproj/stable/gotchas.html#axis-order-changes-in-proj-6\n",
      "  projstring = _prepare_from_string(projparams)\n",
      "C:\\ProgramData\\Miniconda3\\envs\\pyclass\\lib\\site-packages\\pyproj\\crs\\crs.py:280: FutureWarning: '+init=<authority>:<code>' syntax is deprecated. '<authority>:<code>' is the preferred initialization method. When making the change, be mindful of axis order changes: https://pyproj4.github.io/pyproj/stable/gotchas.html#axis-order-changes-in-proj-6\n",
      "  projstring = _prepare_from_string(projparams)\n",
      "C:\\ProgramData\\Miniconda3\\envs\\pyclass\\lib\\site-packages\\pyproj\\crs\\crs.py:280: FutureWarning: '+init=<authority>:<code>' syntax is deprecated. '<authority>:<code>' is the preferred initialization method. When making the change, be mindful of axis order changes: https://pyproj4.github.io/pyproj/stable/gotchas.html#axis-order-changes-in-proj-6\n",
      "  projstring = _prepare_from_string(projparams)\n",
      "C:\\ProgramData\\Miniconda3\\envs\\pyclass\\lib\\site-packages\\pyproj\\crs\\crs.py:280: FutureWarning: '+init=<authority>:<code>' syntax is deprecated. '<authority>:<code>' is the preferred initialization method. When making the change, be mindful of axis order changes: https://pyproj4.github.io/pyproj/stable/gotchas.html#axis-order-changes-in-proj-6\n",
      "  projstring = _prepare_from_string(projparams)\n",
      "C:\\ProgramData\\Miniconda3\\envs\\pyclass\\lib\\site-packages\\pyproj\\crs\\crs.py:280: FutureWarning: '+init=<authority>:<code>' syntax is deprecated. '<authority>:<code>' is the preferred initialization method. When making the change, be mindful of axis order changes: https://pyproj4.github.io/pyproj/stable/gotchas.html#axis-order-changes-in-proj-6\n",
      "  projstring = _prepare_from_string(projparams)\n",
      "C:\\ProgramData\\Miniconda3\\envs\\pyclass\\lib\\site-packages\\pyproj\\crs\\crs.py:280: FutureWarning: '+init=<authority>:<code>' syntax is deprecated. '<authority>:<code>' is the preferred initialization method. When making the change, be mindful of axis order changes: https://pyproj4.github.io/pyproj/stable/gotchas.html#axis-order-changes-in-proj-6\n",
      "  projstring = _prepare_from_string(projparams)\n"
     ]
    },
    {
     "data": {
      "text/plain": [
       "\n",
       "    MODFLOW Discretization Package Class.\n",
       "\n",
       "    Parameters\n",
       "    ----------\n",
       "    model : model object\n",
       "        The model object (of type :class:`flopy.modflow.Modflow`) to which\n",
       "        this package will be added.\n",
       "    nlay : int\n",
       "        Number of model layers (the default is 1).\n",
       "    nrow : int\n",
       "        Number of model rows (the default is 2).\n",
       "    ncol : int\n",
       "        Number of model columns (the default is 2).\n",
       "    nper : int\n",
       "        Number of model stress periods (the default is 1).\n",
       "    delr : float or array of floats (ncol), optional\n",
       "        An array of spacings along a row (the default is 1.0).\n",
       "    delc : float or array of floats (nrow), optional\n",
       "        An array of spacings along a column (the default is 0.0).\n",
       "    laycbd : int or array of ints (nlay), optional\n",
       "        An array of flags indicating whether or not a layer has a Quasi-3D\n",
       "        confining bed below it. 0 indicates no confining bed, and not zero\n",
       "        indicates a confining bed. LAYCBD for the bottom layer must be 0. (the\n",
       "        default is 0)\n",
       "    top : float or array of floats (nrow, ncol), optional\n",
       "        An array of the top elevation of layer 1. For the common situation in\n",
       "        which the top layer represents a water-table aquifer, it may be\n",
       "        reasonable to set Top equal to land-surface elevation (the default is\n",
       "        1.0)\n",
       "    botm : float or array of floats (nlay, nrow, ncol), optional\n",
       "        An array of the bottom elevation for each model cell (the default is\n",
       "        0.)\n",
       "    perlen : float or array of floats (nper)\n",
       "        An array of the stress period lengths.\n",
       "    nstp : int or array of ints (nper)\n",
       "        Number of time steps in each stress period (default is 1).\n",
       "    tsmult : float or array of floats (nper)\n",
       "        Time step multiplier (default is 1.0).\n",
       "    steady : boolean or array of boolean (nper)\n",
       "        true or False indicating whether or not stress period is steady state\n",
       "        (default is True).\n",
       "    itmuni : int\n",
       "        Time units, default is days (4)\n",
       "    lenuni : int\n",
       "        Length units, default is meters (2)\n",
       "    extension : string\n",
       "        Filename extension (default is 'dis')\n",
       "    unitnumber : int\n",
       "        File unit number (default is None).\n",
       "    filenames : str or list of str\n",
       "        Filenames to use for the package. If filenames=None the package name\n",
       "        will be created using the model name and package extension. If a\n",
       "        single string is passed the package will be set to the string.\n",
       "        Default is None.\n",
       "    xul : float\n",
       "        x coordinate of upper left corner of the grid, default is None, which\n",
       "        means xul will be set to zero.\n",
       "    yul : float\n",
       "        y coordinate of upper-left corner of the grid, default is None, which\n",
       "        means yul will be calculated as the sum of the delc array.  This\n",
       "        default, combined with the xul and rotation defaults will place the\n",
       "        lower-left corner of the grid at (0, 0).\n",
       "    rotation : float\n",
       "        counter-clockwise rotation (in degrees) of the grid about the lower-\n",
       "        left corner. default is 0.0\n",
       "    proj4_str : str\n",
       "        PROJ4 string that defines the projected coordinate system\n",
       "        (e.g. '+proj=utm +zone=14 +datum=WGS84 +units=m +no_defs ').\n",
       "        Can be an EPSG code (e.g. 'EPSG:32614'). Default is None.\n",
       "    start_datetime : str\n",
       "        starting datetime of the simulation. default is '1/1/1970'\n",
       "\n",
       "    Attributes\n",
       "    ----------\n",
       "    heading : str\n",
       "        Text string written to top of package input file.\n",
       "\n",
       "    Methods\n",
       "    -------\n",
       "\n",
       "    See Also\n",
       "    --------\n",
       "\n",
       "    Notes\n",
       "    -----\n",
       "\n",
       "    Examples\n",
       "    --------\n",
       "\n",
       "    >>> import flopy\n",
       "    >>> m = flopy.modflow.Modflow()\n",
       "    >>> dis = flopy.modflow.ModflowDis(m)\n",
       "\n",
       "     _ModflowDis__thickness = <flopy.utils.util_array.Util3d object at 0x000002168BAB2580> ('flopy.utils.util_array.Util3d)\n",
       " _name = DIS\n",
       " _parent = MODFLOW 3 layer(s) 40 row(s) 20 column(s) 2 stress period(s) ('flopy.modflow.mf.Modflow)\n",
       " _sr = xul:0; yul:10000; rotation:0; proj4_str:+init=EPSG:4326; units:meters; lenuni:2; length_multiplier:1.0 ('flopy.utils.reference.SpatialReference)\n",
       " acceptable_dtypes (list, items = 3)\n",
       " allowDuplicates = False ('bool)\n",
       " botm = <flopy.utils.util_array.Util3d object at 0x000002168F1D5100> ('flopy.utils.util_array.Util3d)\n",
       " delc = <flopy.utils.util_array.Util2d object at 0x000002168F1D50A0> ('flopy.utils.util_array.Util2d)\n",
       " delr = <flopy.utils.util_array.Util2d object at 0x000002168F1D5040> ('flopy.utils.util_array.Util2d)\n",
       " extra = \n",
       " file_name = freyberg.dis\n",
       " fn_path = ..\\base_model_files\\freyberg.dis ('str)\n",
       " itmuni = 4 ('int)\n",
       " itmuni_dict = {0: 'undefined', 1: 'seconds', 2: 'minutes', 3: 'hours', 4: 'days', 5: 'years'} ('dict)\n",
       " laycbd = <flopy.utils.util_array.Util2d object at 0x000002168BAB2130> ('flopy.utils.util_array.Util2d)\n",
       " lenuni = 2 ('int)\n",
       " ncol = 20 ('int)\n",
       " nlay = 3 ('int)\n",
       " nper = 2 ('int)\n",
       " nrow = 40 ('int)\n",
       " nstp = <flopy.utils.util_array.Util2d object at 0x000002168F1D5160> ('flopy.utils.util_array.Util2d)\n",
       " perlen = <flopy.utils.util_array.Util2d object at 0x000002168F1D5130> ('flopy.utils.util_array.Util2d)\n",
       " start_datetime = 1-1-1970 ('str)\n",
       " steady = <flopy.utils.util_array.Util2d object at 0x000002168F1D5340> ('flopy.utils.util_array.Util2d)\n",
       " top = <flopy.utils.util_array.Util2d object at 0x000002168F1D50D0> ('flopy.utils.util_array.Util2d)\n",
       " tr = <flopy.utils.reference.TemporalReference object at 0x000002168BAB2A00> ('flopy.utils.reference.TemporalReference)\n",
       " tsmult = <flopy.utils.util_array.Util2d object at 0x000002168F1D52E0> ('flopy.utils.util_array.Util2d)\n",
       " unit_number = 11"
      ]
     },
     "execution_count": 6,
     "metadata": {},
     "output_type": "execute_result"
    }
   ],
   "source": [
    "m.dis"
   ]
  },
  {
   "cell_type": "markdown",
   "metadata": {},
   "source": [
    "In each package, the array-type data are housed in special array-handling classes:"
   ]
  },
  {
   "cell_type": "code",
   "execution_count": 7,
   "metadata": {},
   "outputs": [
    {
     "data": {
      "text/plain": [
       "<flopy.utils.util_array.Util2d at 0x2168f1d50d0>"
      ]
     },
     "execution_count": 7,
     "metadata": {},
     "output_type": "execute_result"
    }
   ],
   "source": [
    "m.dis.top"
   ]
  },
  {
   "cell_type": "code",
   "execution_count": 8,
   "metadata": {},
   "outputs": [
    {
     "data": {
      "text/plain": [
       "<flopy.utils.util_array.Transient2d at 0x2168f1ef4f0>"
      ]
     },
     "execution_count": 8,
     "metadata": {},
     "output_type": "execute_result"
    }
   ],
   "source": [
    "m.rch.rech"
   ]
  },
  {
   "cell_type": "code",
   "execution_count": 9,
   "metadata": {},
   "outputs": [
    {
     "data": {
      "text/plain": [
       "<flopy.utils.util_array.Util3d at 0x2168f1d5730>"
      ]
     },
     "execution_count": 9,
     "metadata": {},
     "output_type": "execute_result"
    }
   ],
   "source": [
    "m.bas6.strt"
   ]
  },
  {
   "cell_type": "markdown",
   "metadata": {},
   "source": [
    "List-type data also have special handlers - the list type data is always stored in the `stress_period_data` attribute:"
   ]
  },
  {
   "cell_type": "code",
   "execution_count": 10,
   "metadata": {},
   "outputs": [
    {
     "data": {
      "text/plain": [
       "<flopy.utils.util_list.MfList at 0x2168f1ef610>"
      ]
     },
     "execution_count": 10,
     "metadata": {},
     "output_type": "execute_result"
    }
   ],
   "source": [
    "m.ghb.stress_period_data"
   ]
  },
  {
   "cell_type": "markdown",
   "metadata": {},
   "source": [
    "Each of these has an `array` attribute to access the actual data values"
   ]
  },
  {
   "cell_type": "code",
   "execution_count": 11,
   "metadata": {},
   "outputs": [
    {
     "data": {
      "text/plain": [
       "<matplotlib.colorbar.Colorbar at 0x216903e1310>"
      ]
     },
     "execution_count": 11,
     "metadata": {},
     "output_type": "execute_result"
    },
    {
     "data": {
      "image/png": "[encoded data removed]",
      "text/plain": [
       "<Figure size 432x288 with 2 Axes>"
      ]
     },
     "metadata": {
      "needs_background": "light"
     },
     "output_type": "display_data"
    }
   ],
   "source": [
    "arr = m.ghb.stress_period_data.array[\"bhead\"]\n",
    "cb = plt.imshow(arr[0,0,:,:])\n",
    "plt.colorbar(cb)"
   ]
  },
  {
   "cell_type": "code",
   "execution_count": 12,
   "metadata": {},
   "outputs": [
    {
     "data": {
      "text/plain": [
       "(2, 1, 40, 20)"
      ]
     },
     "execution_count": 12,
     "metadata": {},
     "output_type": "execute_result"
    }
   ],
   "source": [
    "m.rch.rech.array.shape"
   ]
  },
  {
   "cell_type": "markdown",
   "metadata": {},
   "source": [
    "\n",
    "And of course, `SFR` has to be difficult"
   ]
  },
  {
   "cell_type": "code",
   "execution_count": 13,
   "metadata": {},
   "outputs": [
    {
     "data": {
      "text/html": [
       "<div>\n",
       "<style scoped>\n",
       "    .dataframe tbody tr th:only-of-type {\n",
       "        vertical-align: middle;\n",
       "    }\n",
       "\n",
       "    .dataframe tbody tr th {\n",
       "        vertical-align: top;\n",
       "    }\n",
       "\n",
       "    .dataframe thead th {\n",
       "        text-align: right;\n",
       "    }\n",
       "</style>\n",
       "<table border=\"1\" class=\"dataframe\">\n",
       "  <thead>\n",
       "    <tr style=\"text-align: right;\">\n",
       "      <th></th>\n",
       "      <th>node</th>\n",
       "      <th>k</th>\n",
       "      <th>i</th>\n",
       "      <th>j</th>\n",
       "      <th>iseg</th>\n",
       "      <th>ireach</th>\n",
       "      <th>rchlen</th>\n",
       "      <th>strtop</th>\n",
       "      <th>slope</th>\n",
       "      <th>strthick</th>\n",
       "      <th>strhc1</th>\n",
       "      <th>thts</th>\n",
       "      <th>thti</th>\n",
       "      <th>eps</th>\n",
       "      <th>uhc</th>\n",
       "      <th>reachID</th>\n",
       "      <th>outreach</th>\n",
       "    </tr>\n",
       "  </thead>\n",
       "  <tbody>\n",
       "    <tr>\n",
       "      <th>0</th>\n",
       "      <td>15</td>\n",
       "      <td>0</td>\n",
       "      <td>0</td>\n",
       "      <td>15</td>\n",
       "      <td>1</td>\n",
       "      <td>1</td>\n",
       "      <td>250.0</td>\n",
       "      <td>34.000000</td>\n",
       "      <td>0.00005</td>\n",
       "      <td>1.0</td>\n",
       "      <td>0.1</td>\n",
       "      <td>0.0</td>\n",
       "      <td>0.0</td>\n",
       "      <td>0.0</td>\n",
       "      <td>0.0</td>\n",
       "      <td>1</td>\n",
       "      <td>2</td>\n",
       "    </tr>\n",
       "    <tr>\n",
       "      <th>1</th>\n",
       "      <td>35</td>\n",
       "      <td>0</td>\n",
       "      <td>1</td>\n",
       "      <td>15</td>\n",
       "      <td>2</td>\n",
       "      <td>1</td>\n",
       "      <td>250.0</td>\n",
       "      <td>33.987179</td>\n",
       "      <td>0.00005</td>\n",
       "      <td>1.0</td>\n",
       "      <td>0.1</td>\n",
       "      <td>0.0</td>\n",
       "      <td>0.0</td>\n",
       "      <td>0.0</td>\n",
       "      <td>0.0</td>\n",
       "      <td>2</td>\n",
       "      <td>3</td>\n",
       "    </tr>\n",
       "    <tr>\n",
       "      <th>2</th>\n",
       "      <td>55</td>\n",
       "      <td>0</td>\n",
       "      <td>2</td>\n",
       "      <td>15</td>\n",
       "      <td>3</td>\n",
       "      <td>1</td>\n",
       "      <td>250.0</td>\n",
       "      <td>33.974358</td>\n",
       "      <td>0.00005</td>\n",
       "      <td>1.0</td>\n",
       "      <td>0.1</td>\n",
       "      <td>0.0</td>\n",
       "      <td>0.0</td>\n",
       "      <td>0.0</td>\n",
       "      <td>0.0</td>\n",
       "      <td>3</td>\n",
       "      <td>4</td>\n",
       "    </tr>\n",
       "    <tr>\n",
       "      <th>3</th>\n",
       "      <td>75</td>\n",
       "      <td>0</td>\n",
       "      <td>3</td>\n",
       "      <td>15</td>\n",
       "      <td>4</td>\n",
       "      <td>1</td>\n",
       "      <td>250.0</td>\n",
       "      <td>33.961540</td>\n",
       "      <td>0.00005</td>\n",
       "      <td>1.0</td>\n",
       "      <td>0.1</td>\n",
       "      <td>0.0</td>\n",
       "      <td>0.0</td>\n",
       "      <td>0.0</td>\n",
       "      <td>0.0</td>\n",
       "      <td>4</td>\n",
       "      <td>5</td>\n",
       "    </tr>\n",
       "    <tr>\n",
       "      <th>4</th>\n",
       "      <td>95</td>\n",
       "      <td>0</td>\n",
       "      <td>4</td>\n",
       "      <td>15</td>\n",
       "      <td>5</td>\n",
       "      <td>1</td>\n",
       "      <td>250.0</td>\n",
       "      <td>33.948719</td>\n",
       "      <td>0.00005</td>\n",
       "      <td>1.0</td>\n",
       "      <td>0.1</td>\n",
       "      <td>0.0</td>\n",
       "      <td>0.0</td>\n",
       "      <td>0.0</td>\n",
       "      <td>0.0</td>\n",
       "      <td>5</td>\n",
       "      <td>6</td>\n",
       "    </tr>\n",
       "  </tbody>\n",
       "</table>\n",
       "</div>"
      ],
      "text/plain": [
       "   node  k  i   j  iseg  ireach  rchlen     strtop    slope  strthick  strhc1  \\\n",
       "0    15  0  0  15     1       1   250.0  34.000000  0.00005       1.0     0.1   \n",
       "1    35  0  1  15     2       1   250.0  33.987179  0.00005       1.0     0.1   \n",
       "2    55  0  2  15     3       1   250.0  33.974358  0.00005       1.0     0.1   \n",
       "3    75  0  3  15     4       1   250.0  33.961540  0.00005       1.0     0.1   \n",
       "4    95  0  4  15     5       1   250.0  33.948719  0.00005       1.0     0.1   \n",
       "\n",
       "   thts  thti  eps  uhc  reachID  outreach  \n",
       "0   0.0   0.0  0.0  0.0        1         2  \n",
       "1   0.0   0.0  0.0  0.0        2         3  \n",
       "2   0.0   0.0  0.0  0.0        3         4  \n",
       "3   0.0   0.0  0.0  0.0        4         5  \n",
       "4   0.0   0.0  0.0  0.0        5         6  "
      ]
     },
     "execution_count": 13,
     "metadata": {},
     "output_type": "execute_result"
    }
   ],
   "source": [
    "pd.DataFrame.from_records(m.sfr.reach_data).head()"
   ]
  },
  {
   "cell_type": "code",
   "execution_count": 14,
   "metadata": {},
   "outputs": [
    {
     "data": {
      "text/html": [
       "<div>\n",
       "<style scoped>\n",
       "    .dataframe tbody tr th:only-of-type {\n",
       "        vertical-align: middle;\n",
       "    }\n",
       "\n",
       "    .dataframe tbody tr th {\n",
       "        vertical-align: top;\n",
       "    }\n",
       "\n",
       "    .dataframe thead th {\n",
       "        text-align: right;\n",
       "    }\n",
       "</style>\n",
       "<table border=\"1\" class=\"dataframe\">\n",
       "  <thead>\n",
       "    <tr style=\"text-align: right;\">\n",
       "      <th></th>\n",
       "      <th>nseg</th>\n",
       "      <th>icalc</th>\n",
       "      <th>outseg</th>\n",
       "      <th>iupseg</th>\n",
       "      <th>iprior</th>\n",
       "      <th>nstrpts</th>\n",
       "      <th>flow</th>\n",
       "      <th>runoff</th>\n",
       "      <th>etsw</th>\n",
       "      <th>pptsw</th>\n",
       "      <th>...</th>\n",
       "      <th>uhc1</th>\n",
       "      <th>hcond2</th>\n",
       "      <th>thickm2</th>\n",
       "      <th>elevdn</th>\n",
       "      <th>width2</th>\n",
       "      <th>depth2</th>\n",
       "      <th>thts2</th>\n",
       "      <th>thti2</th>\n",
       "      <th>eps2</th>\n",
       "      <th>uhc2</th>\n",
       "    </tr>\n",
       "  </thead>\n",
       "  <tbody>\n",
       "    <tr>\n",
       "      <th>0</th>\n",
       "      <td>1</td>\n",
       "      <td>1</td>\n",
       "      <td>2</td>\n",
       "      <td>0</td>\n",
       "      <td>0</td>\n",
       "      <td>0</td>\n",
       "      <td>10000.0</td>\n",
       "      <td>0.0</td>\n",
       "      <td>0.0</td>\n",
       "      <td>0.0</td>\n",
       "      <td>...</td>\n",
       "      <td>0.0</td>\n",
       "      <td>0.0</td>\n",
       "      <td>0.0</td>\n",
       "      <td>0.0</td>\n",
       "      <td>5.0</td>\n",
       "      <td>0.0</td>\n",
       "      <td>0.0</td>\n",
       "      <td>0.0</td>\n",
       "      <td>0.0</td>\n",
       "      <td>0.0</td>\n",
       "    </tr>\n",
       "    <tr>\n",
       "      <th>1</th>\n",
       "      <td>2</td>\n",
       "      <td>1</td>\n",
       "      <td>3</td>\n",
       "      <td>0</td>\n",
       "      <td>0</td>\n",
       "      <td>0</td>\n",
       "      <td>0.0</td>\n",
       "      <td>0.0</td>\n",
       "      <td>0.0</td>\n",
       "      <td>0.0</td>\n",
       "      <td>...</td>\n",
       "      <td>0.0</td>\n",
       "      <td>0.0</td>\n",
       "      <td>0.0</td>\n",
       "      <td>0.0</td>\n",
       "      <td>5.0</td>\n",
       "      <td>0.0</td>\n",
       "      <td>0.0</td>\n",
       "      <td>0.0</td>\n",
       "      <td>0.0</td>\n",
       "      <td>0.0</td>\n",
       "    </tr>\n",
       "    <tr>\n",
       "      <th>2</th>\n",
       "      <td>3</td>\n",
       "      <td>1</td>\n",
       "      <td>4</td>\n",
       "      <td>0</td>\n",
       "      <td>0</td>\n",
       "      <td>0</td>\n",
       "      <td>0.0</td>\n",
       "      <td>0.0</td>\n",
       "      <td>0.0</td>\n",
       "      <td>0.0</td>\n",
       "      <td>...</td>\n",
       "      <td>0.0</td>\n",
       "      <td>0.0</td>\n",
       "      <td>0.0</td>\n",
       "      <td>0.0</td>\n",
       "      <td>5.0</td>\n",
       "      <td>0.0</td>\n",
       "      <td>0.0</td>\n",
       "      <td>0.0</td>\n",
       "      <td>0.0</td>\n",
       "      <td>0.0</td>\n",
       "    </tr>\n",
       "    <tr>\n",
       "      <th>3</th>\n",
       "      <td>4</td>\n",
       "      <td>1</td>\n",
       "      <td>5</td>\n",
       "      <td>0</td>\n",
       "      <td>0</td>\n",
       "      <td>0</td>\n",
       "      <td>0.0</td>\n",
       "      <td>0.0</td>\n",
       "      <td>0.0</td>\n",
       "      <td>0.0</td>\n",
       "      <td>...</td>\n",
       "      <td>0.0</td>\n",
       "      <td>0.0</td>\n",
       "      <td>0.0</td>\n",
       "      <td>0.0</td>\n",
       "      <td>5.0</td>\n",
       "      <td>0.0</td>\n",
       "      <td>0.0</td>\n",
       "      <td>0.0</td>\n",
       "      <td>0.0</td>\n",
       "      <td>0.0</td>\n",
       "    </tr>\n",
       "    <tr>\n",
       "      <th>4</th>\n",
       "      <td>5</td>\n",
       "      <td>1</td>\n",
       "      <td>6</td>\n",
       "      <td>0</td>\n",
       "      <td>0</td>\n",
       "      <td>0</td>\n",
       "      <td>0.0</td>\n",
       "      <td>0.0</td>\n",
       "      <td>0.0</td>\n",
       "      <td>0.0</td>\n",
       "      <td>...</td>\n",
       "      <td>0.0</td>\n",
       "      <td>0.0</td>\n",
       "      <td>0.0</td>\n",
       "      <td>0.0</td>\n",
       "      <td>5.0</td>\n",
       "      <td>0.0</td>\n",
       "      <td>0.0</td>\n",
       "      <td>0.0</td>\n",
       "      <td>0.0</td>\n",
       "      <td>0.0</td>\n",
       "    </tr>\n",
       "  </tbody>\n",
       "</table>\n",
       "<p>5 rows × 34 columns</p>\n",
       "</div>"
      ],
      "text/plain": [
       "   nseg  icalc  outseg  iupseg  iprior  nstrpts     flow  runoff  etsw  pptsw  \\\n",
       "0     1      1       2       0       0        0  10000.0     0.0   0.0    0.0   \n",
       "1     2      1       3       0       0        0      0.0     0.0   0.0    0.0   \n",
       "2     3      1       4       0       0        0      0.0     0.0   0.0    0.0   \n",
       "3     4      1       5       0       0        0      0.0     0.0   0.0    0.0   \n",
       "4     5      1       6       0       0        0      0.0     0.0   0.0    0.0   \n",
       "\n",
       "   ...  uhc1  hcond2  thickm2  elevdn  width2  depth2  thts2  thti2  eps2  \\\n",
       "0  ...   0.0     0.0      0.0     0.0     5.0     0.0    0.0    0.0   0.0   \n",
       "1  ...   0.0     0.0      0.0     0.0     5.0     0.0    0.0    0.0   0.0   \n",
       "2  ...   0.0     0.0      0.0     0.0     5.0     0.0    0.0    0.0   0.0   \n",
       "3  ...   0.0     0.0      0.0     0.0     5.0     0.0    0.0    0.0   0.0   \n",
       "4  ...   0.0     0.0      0.0     0.0     5.0     0.0    0.0    0.0   0.0   \n",
       "\n",
       "   uhc2  \n",
       "0   0.0  \n",
       "1   0.0  \n",
       "2   0.0  \n",
       "3   0.0  \n",
       "4   0.0  \n",
       "\n",
       "[5 rows x 34 columns]"
      ]
     },
     "execution_count": 14,
     "metadata": {},
     "output_type": "execute_result"
    }
   ],
   "source": [
    "pd.DataFrame.from_records(m.sfr.segment_data[0]).head()"
   ]
  },
  {
   "cell_type": "markdown",
   "metadata": {},
   "source": [
    "## Exporting to shapefiles\n",
    "\n",
    "You can export the entire model, individual packages or individual attributes:"
   ]
  },
  {
   "cell_type": "code",
   "execution_count": 15,
   "metadata": {},
   "outputs": [
    {
     "name": "stdout",
     "output_type": "stream",
     "text": [
      "wrote model.shp\n",
      "wrote dis.shp\n",
      "wrote top.shp\n",
      "wrote ghb.shp\n"
     ]
    }
   ],
   "source": [
    "m.export(\"model.shp\")\n",
    "m.dis.export(\"dis.shp\")\n",
    "m.dis.top.export(\"top.shp\")\n",
    "m.ghb.stress_period_data.export(\"ghb.shp\")"
   ]
  },
  {
   "cell_type": "markdown",
   "metadata": {},
   "source": [
    "How does flopy know where the model is in space? The spatial reference:"
   ]
  },
  {
   "cell_type": "code",
   "execution_count": 16,
   "metadata": {},
   "outputs": [
    {
     "data": {
      "text/plain": [
       "xll:0.0; yll:0.0; rotation:0.0; proj4_str:+init=EPSG:4326; units:meters; lenuni:2"
      ]
     },
     "execution_count": 16,
     "metadata": {},
     "output_type": "execute_result"
    }
   ],
   "source": [
    "m.modelgrid"
   ]
  },
  {
   "cell_type": "markdown",
   "metadata": {},
   "source": [
    "# changing `model_ws` and writing\n",
    "\n",
    "It is probably good form to not overwrite the existing files.  To avoid this danger, we can change the model workspace and then write a new set of model files in this location:"
   ]
  },
  {
   "cell_type": "code",
   "execution_count": 17,
   "metadata": {},
   "outputs": [
    {
     "name": "stdout",
     "output_type": "stream",
     "text": [
      "\n",
      "changing model workspace...\n",
      "   flopy_temp\n",
      "\n",
      "Writing packages:\n",
      "   Package:  DIS\n",
      "   Package:  BAS6\n",
      "   Package:  UPW\n",
      "   Package:  RCH\n",
      "   Package:  NWT\n",
      "   Package:  OC\n",
      "   Package:  LMT6\n",
      "   Package:  WEL\n",
      "   Package:  SFR\n",
      "   Package:  GHB\n",
      " \n"
     ]
    }
   ],
   "source": [
    "m.change_model_ws(\"flopy_temp\",reset_external=True)\n",
    "m.write_input()"
   ]
  },
  {
   "cell_type": "code",
   "execution_count": 18,
   "metadata": {},
   "outputs": [
    {
     "data": {
      "text/plain": [
       "['freyberg.bas',\n",
       " 'freyberg.cbc',\n",
       " 'freyberg.dis',\n",
       " 'freyberg.ghb',\n",
       " 'freyberg.hds',\n",
       " 'freyberg.list',\n",
       " 'freyberg.lmt6',\n",
       " 'freyberg.nam',\n",
       " 'freyberg.nwt',\n",
       " 'freyberg.oc',\n",
       " 'freyberg.rch',\n",
       " 'freyberg.sfr',\n",
       " 'freyberg.sfr.out',\n",
       " 'freyberg.upw',\n",
       " 'freyberg.wel',\n",
       " 'mfnwt.exe',\n",
       " 'mt3d_link.ftl']"
      ]
     },
     "execution_count": 18,
     "metadata": {},
     "output_type": "execute_result"
    }
   ],
   "source": [
    "os.listdir(m.model_ws)"
   ]
  },
  {
   "cell_type": "markdown",
   "metadata": {},
   "source": [
    "# Run the model"
   ]
  },
  {
   "cell_type": "markdown",
   "metadata": {},
   "source": [
    "A little trickery is needed here: we need to get the right MODFLOW binary into this new `model_ws`.  What should we do? \n",
    "\n",
    "### DIY: use `shutil` and `os` to copy the `mfnwt` binary into the new `model_ws` (this is a super-common task)"
   ]
  },
  {
   "cell_type": "code",
   "execution_count": 21,
   "metadata": {},
   "outputs": [
    {
     "name": "stdout",
     "output_type": "stream",
     "text": [
      "['.DS_Store', 'linux', 'mac', 'win']\n"
     ]
    },
    {
     "data": {
      "text/plain": [
       "'flopy_temp\\\\mfnwt.exe'"
      ]
     },
     "execution_count": 21,
     "metadata": {},
     "output_type": "execute_result"
    }
   ],
   "source": [
    "print(os.listdir(\"bin\")) #hint the platform specific binaries in the bin dir\n",
    "# your code here: os.path.join, shutil.copy2\n",
    "src_exe = os.path.join(\"bin\",\"win\",\"mfnwt.exe\")\n",
    "dest_exe = os.path.join(\"flopy_temp\",\"mfnwt.exe\")\n",
    "shutil.copy2(src_exe,dest_exe)"
   ]
  },
  {
   "cell_type": "markdown",
   "metadata": {},
   "source": [
    "I prefer to use the pyemu run function here because it is more tolerant of cross platform issues..."
   ]
  },
  {
   "cell_type": "code",
   "execution_count": 22,
   "metadata": {},
   "outputs": [],
   "source": [
    "pyemu.os_utils.run(\"mfnwt freyberg.nam\",cwd=m.model_ws)"
   ]
  },
  {
   "cell_type": "markdown",
   "metadata": {},
   "source": [
    "If you go back to the terminal, you should see the output from MODFLOW-NWT..."
   ]
  },
  {
   "cell_type": "markdown",
   "metadata": {},
   "source": [
    "# Post-processing\n",
    "\n",
    "Flopy has lots of support to help use deal with the terrible MDOFLOW file formats"
   ]
  },
  {
   "cell_type": "code",
   "execution_count": 23,
   "metadata": {},
   "outputs": [],
   "source": [
    "mflist = flopy.utils.MfListBudget(os.path.join(m.model_ws,m.name+\".list\"))"
   ]
  },
  {
   "cell_type": "code",
   "execution_count": 24,
   "metadata": {},
   "outputs": [
    {
     "data": {
      "text/html": [
       "<div>\n",
       "<style scoped>\n",
       "    .dataframe tbody tr th:only-of-type {\n",
       "        vertical-align: middle;\n",
       "    }\n",
       "\n",
       "    .dataframe tbody tr th {\n",
       "        vertical-align: top;\n",
       "    }\n",
       "\n",
       "    .dataframe thead th {\n",
       "        text-align: right;\n",
       "    }\n",
       "</style>\n",
       "<table border=\"1\" class=\"dataframe\">\n",
       "  <thead>\n",
       "    <tr style=\"text-align: right;\">\n",
       "      <th></th>\n",
       "      <th>constant_head</th>\n",
       "      <th>head_dep_bounds</th>\n",
       "      <th>in-out</th>\n",
       "      <th>percent_discrepancy</th>\n",
       "      <th>recharge</th>\n",
       "      <th>storage</th>\n",
       "      <th>stream_leakage</th>\n",
       "      <th>total</th>\n",
       "      <th>wells</th>\n",
       "    </tr>\n",
       "  </thead>\n",
       "  <tbody>\n",
       "    <tr>\n",
       "      <th>1965-05-08</th>\n",
       "      <td>0.0</td>\n",
       "      <td>-50.153320</td>\n",
       "      <td>0.046387</td>\n",
       "      <td>0.00</td>\n",
       "      <td>2588.760010</td>\n",
       "      <td>0.0000</td>\n",
       "      <td>-288.560089</td>\n",
       "      <td>0.046387</td>\n",
       "      <td>-2250.0</td>\n",
       "    </tr>\n",
       "    <tr>\n",
       "      <th>1966-05-08</th>\n",
       "      <td>0.0</td>\n",
       "      <td>-67.346497</td>\n",
       "      <td>-0.365200</td>\n",
       "      <td>-0.01</td>\n",
       "      <td>2284.199951</td>\n",
       "      <td>-25.3134</td>\n",
       "      <td>-391.905182</td>\n",
       "      <td>-0.365234</td>\n",
       "      <td>-1800.0</td>\n",
       "    </tr>\n",
       "  </tbody>\n",
       "</table>\n",
       "</div>"
      ],
      "text/plain": [
       "            constant_head  head_dep_bounds    in-out  percent_discrepancy  \\\n",
       "1965-05-08            0.0       -50.153320  0.046387                 0.00   \n",
       "1966-05-08            0.0       -67.346497 -0.365200                -0.01   \n",
       "\n",
       "               recharge  storage  stream_leakage     total   wells  \n",
       "1965-05-08  2588.760010   0.0000     -288.560089  0.046387 -2250.0  \n",
       "1966-05-08  2284.199951 -25.3134     -391.905182 -0.365234 -1800.0  "
      ]
     },
     "execution_count": 24,
     "metadata": {},
     "output_type": "execute_result"
    }
   ],
   "source": [
    "inc_df,cum_df = mflist.get_dataframes(start_datetime=\"5-11-1955\",diff=True)\n",
    "inc_df"
   ]
  },
  {
   "cell_type": "markdown",
   "metadata": {},
   "source": [
    "Where did those dates come from???  You can pass a `start_datetime` string to the `get_dataframes()` method to control those better.  In fact, the flopy model instance has its own `start_datetime` attribute for temporally locating the model inputs..."
   ]
  },
  {
   "cell_type": "markdown",
   "metadata": {},
   "source": [
    "### DIY: plot the NET increment water budget as a bar chart but change the starting datetime to 5 Nov 1955:"
   ]
  },
  {
   "cell_type": "code",
   "execution_count": 27,
   "metadata": {},
   "outputs": [
    {
     "data": {
      "text/plain": [
       "<AxesSubplot:>"
      ]
     },
     "execution_count": 27,
     "metadata": {},
     "output_type": "execute_result"
    },
    {
     "data": {
      "image/png": "[encoded data removed]",
      "text/plain": [
       "<Figure size 720x360 with 1 Axes>"
      ]
     },
     "metadata": {
      "needs_background": "light"
     },
     "output_type": "display_data"
    }
   ],
   "source": [
    "# hint: checkout the options you can pass get_dataframes()\n",
    "# your code here\n",
    "inc_df.plot(kind=\"bar\",figsize=(10,5))"
   ]
  },
  {
   "cell_type": "markdown",
   "metadata": {},
   "source": [
    "We can also load the binary head save file"
   ]
  },
  {
   "cell_type": "code",
   "execution_count": 29,
   "metadata": {},
   "outputs": [
    {
     "data": {
      "text/plain": [
       "<flopy.utils.binaryfile.HeadFile at 0x216906de040>"
      ]
     },
     "execution_count": 29,
     "metadata": {},
     "output_type": "execute_result"
    }
   ],
   "source": [
    "hds = flopy.utils.HeadFile(os.path.join(m.model_ws,m.name+\".hds\"))\n",
    "hds"
   ]
  },
  {
   "cell_type": "code",
   "execution_count": 30,
   "metadata": {},
   "outputs": [
    {
     "data": {
      "text/plain": [
       "[3650.0, 4015.0]"
      ]
     },
     "execution_count": 30,
     "metadata": {},
     "output_type": "execute_result"
    }
   ],
   "source": [
    "hds.get_times()"
   ]
  },
  {
   "cell_type": "code",
   "execution_count": 31,
   "metadata": {},
   "outputs": [
    {
     "data": {
      "text/plain": [
       "(3, 40, 20)"
      ]
     },
     "execution_count": 31,
     "metadata": {},
     "output_type": "execute_result"
    }
   ],
   "source": [
    "data = hds.get_data() #by defauly, get_data() returns the last entry\n",
    "data.shape"
   ]
  },
  {
   "cell_type": "code",
   "execution_count": 32,
   "metadata": {},
   "outputs": [
    {
     "data": {
      "text/plain": [
       "[<AxesSubplot:title={'center':'data Layer 1'}>,\n",
       " <AxesSubplot:title={'center':'data Layer 2'}>,\n",
       " <AxesSubplot:title={'center':'data Layer 3'}>]"
      ]
     },
     "execution_count": 32,
     "metadata": {},
     "output_type": "execute_result"
    },
    {
     "data": {
      "image/png": "[encoded data removed]",
      "text/plain": [
       "<Figure size 432x288 with 2 Axes>"
      ]
     },
     "metadata": {
      "needs_background": "light"
     },
     "output_type": "display_data"
    },
    {
     "data": {
      "image/png": "[encoded data removed]",
      "text/plain": [
       "<Figure size 432x288 with 2 Axes>"
      ]
     },
     "metadata": {
      "needs_background": "light"
     },
     "output_type": "display_data"
    },
    {
     "data": {
      "image/png": "[encoded data removed]",
      "text/plain": [
       "<Figure size 432x288 with 2 Axes>"
      ]
     },
     "metadata": {
      "needs_background": "light"
     },
     "output_type": "display_data"
    }
   ],
   "source": [
    "hds.plot(mflay=None,totim=None,colorbar=True) # if these args are None, then you get all layers from the last entry"
   ]
  },
  {
   "cell_type": "markdown",
   "metadata": {},
   "source": [
    "That looks kinda shitty...but we can do better! if you pass the model instance the the `HeadFile` constructor, the plot routines will use the ibound to mask..."
   ]
  },
  {
   "cell_type": "markdown",
   "metadata": {},
   "source": [
    "### DIY: re-instantiate the `HeadFile` object but pass it the model instance and plot layer 1 heads from both stress periods:"
   ]
  },
  {
   "cell_type": "code",
   "execution_count": 33,
   "metadata": {},
   "outputs": [
    {
     "data": {
      "text/plain": [
       "[<AxesSubplot:title={'center':'data Layer 1'}>,\n",
       " <AxesSubplot:title={'center':'data Layer 2'}>,\n",
       " <AxesSubplot:title={'center':'data Layer 3'}>]"
      ]
     },
     "execution_count": 33,
     "metadata": {},
     "output_type": "execute_result"
    },
    {
     "data": {
      "image/png": "[encoded data removed]",
      "text/plain": [
       "<Figure size 432x288 with 2 Axes>"
      ]
     },
     "metadata": {
      "needs_background": "light"
     },
     "output_type": "display_data"
    },
    {
     "data": {
      "image/png": "[encoded data removed]",
      "text/plain": [
       "<Figure size 432x288 with 2 Axes>"
      ]
     },
     "metadata": {
      "needs_background": "light"
     },
     "output_type": "display_data"
    },
    {
     "data": {
      "image/png": "[encoded data removed]",
      "text/plain": [
       "<Figure size 432x288 with 2 Axes>"
      ]
     },
     "metadata": {
      "needs_background": "light"
     },
     "output_type": "display_data"
    }
   ],
   "source": [
    "hds = flopy.utils.HeadFile(os.path.join(m.model_ws,m.name+\".hds\"),model=m)\n",
    "hds.plot(mflay=None,totim=None,colorbar=True)"
   ]
  },
  {
   "cell_type": "markdown",
   "metadata": {},
   "source": [
    "The `HeadFile` class also support writing to shapefiles:"
   ]
  },
  {
   "cell_type": "code",
   "execution_count": 34,
   "metadata": {},
   "outputs": [
    {
     "name": "stdout",
     "output_type": "stream",
     "text": [
      "wrote hds.shp\n"
     ]
    }
   ],
   "source": [
    "hds.to_shapefile(\"hds.shp\")"
   ]
  },
  {
   "cell_type": "markdown",
   "metadata": {},
   "source": [
    "The same type of support is available for the cell-by-cell budget file:"
   ]
  },
  {
   "cell_type": "code",
   "execution_count": 35,
   "metadata": {},
   "outputs": [
    {
     "name": "stdout",
     "output_type": "stream",
     "text": [
      "(1, 1, b'   CONSTANT HEAD', 20, 40, -3, 2, 3650., 3650., 3650., b'', b'', b'', b'')\n",
      "(1, 1, b'FLOW RIGHT FACE ', 20, 40, -3, 1, 3650., 3650., 3650., b'', b'', b'', b'')\n",
      "(1, 1, b'FLOW FRONT FACE ', 20, 40, -3, 1, 3650., 3650., 3650., b'', b'', b'', b'')\n",
      "(1, 1, b'FLOW LOWER FACE ', 20, 40, -3, 1, 3650., 3650., 3650., b'', b'', b'', b'')\n",
      "(1, 1, b'           WELLS', 20, 40, -3, 5, 3650., 3650., 3650., b'', b'', b'', b'')\n",
      "(1, 1, b'        RECHARGE', 20, 40, -3, 3, 3650., 3650., 3650., b'', b'', b'', b'')\n",
      "(1, 1, b'  STREAM LEAKAGE', 20, 40, -3, 5, 3650., 3650., 3650., b'', b'', b'', b'')\n",
      "(1, 2, b'         STORAGE', 20, 40, -3, 1, 365., 365., 4015., b'', b'', b'', b'')\n",
      "(1, 2, b'   CONSTANT HEAD', 20, 40, -3, 2, 365., 365., 4015., b'', b'', b'', b'')\n",
      "(1, 2, b'FLOW RIGHT FACE ', 20, 40, -3, 1, 365., 365., 4015., b'', b'', b'', b'')\n",
      "(1, 2, b'FLOW FRONT FACE ', 20, 40, -3, 1, 365., 365., 4015., b'', b'', b'', b'')\n",
      "(1, 2, b'FLOW LOWER FACE ', 20, 40, -3, 1, 365., 365., 4015., b'', b'', b'', b'')\n",
      "(1, 2, b'           WELLS', 20, 40, -3, 5, 365., 365., 4015., b'', b'', b'', b'')\n",
      "(1, 2, b'        RECHARGE', 20, 40, -3, 3, 365., 365., 4015., b'', b'', b'', b'')\n",
      "(1, 2, b'  STREAM LEAKAGE', 20, 40, -3, 5, 365., 365., 4015., b'', b'', b'', b'')\n"
     ]
    }
   ],
   "source": [
    "cbc = flopy.utils.CellBudgetFile(os.path.join(m.model_ws,m.name+\".cbc\"))\n",
    "cbc.list_records()"
   ]
  },
  {
   "cell_type": "markdown",
   "metadata": {},
   "source": [
    "Lets plot up some cell-by-cell info:"
   ]
  },
  {
   "cell_type": "code",
   "execution_count": 36,
   "metadata": {},
   "outputs": [
    {
     "data": {
      "image/png": "[encoded data removed]",
      "text/plain": [
       "<Figure size 720x720 with 12 Axes>"
      ]
     },
     "metadata": {
      "needs_background": "light"
     },
     "output_type": "display_data"
    }
   ],
   "source": [
    "text = \"flow right face\"\n",
    "times = cbc.get_times()\n",
    "fig,axes = plt.subplots(m.nlay,m.nper,figsize=(10,10))\n",
    "for kper in range(m.nper):\n",
    "    data = cbc.get_data(text=text,totim=times[kper],full3D=True)[0]\n",
    "    data = np.ma.masked_where(m.bas6.ibound.array<1,data)\n",
    "    vmin,vmax = data.min(),data.max()\n",
    "    \n",
    "    for k in range(m.nlay):    \n",
    "        cb = axes[k,kper].imshow(data[k,:,:],vmin=vmin,vmax=vmax)\n",
    "        axes[k,kper].set_title(\"{0}, layer {1}, SP {2}\".format(text,k+1,kper+1))\n",
    "        plt.colorbar(cb,ax=axes[k,kper])\n",
    "plt.tight_layout()\n",
    "plt.show()\n"
   ]
  },
  {
   "cell_type": "markdown",
   "metadata": {},
   "source": [
    "### DIY: change the `model_ws` again (and get the binary into the new `model_ws`).  Then change everyone's fav hydrogeoloical obsession `hk` in each layer by a factor of 10, run the model and *visually* compare the water budget and heads to the base case we ran through above."
   ]
  },
  {
   "cell_type": "code",
   "execution_count": 38,
   "metadata": {},
   "outputs": [
    {
     "name": "stdout",
     "output_type": "stream",
     "text": [
      "\n",
      "creating model workspace...\n",
      "   flopy_temp1\n",
      "\n",
      "changing model workspace...\n",
      "   flopy_temp1\n",
      "\n",
      "Writing packages:\n",
      "   Package:  DIS\n",
      "   Package:  BAS6\n",
      "   Package:  UPW\n",
      "   Package:  RCH\n",
      "   Package:  NWT\n",
      "   Package:  OC\n",
      "   Package:  LMT6\n",
      "   Package:  WEL\n",
      "   Package:  SFR\n",
      "   Package:  GHB\n",
      " \n"
     ]
    },
    {
     "data": {
      "text/plain": [
       "[<AxesSubplot:title={'center':'data Layer 1'}>,\n",
       " <AxesSubplot:title={'center':'data Layer 2'}>,\n",
       " <AxesSubplot:title={'center':'data Layer 3'}>]"
      ]
     },
     "execution_count": 38,
     "metadata": {},
     "output_type": "execute_result"
    },
    {
     "data": {
      "image/png": "[encoded data removed]",
      "text/plain": [
       "<Figure size 432x288 with 2 Axes>"
      ]
     },
     "metadata": {
      "needs_background": "light"
     },
     "output_type": "display_data"
    },
    {
     "data": {
      "image/png": "[encoded data removed]",
      "text/plain": [
       "<Figure size 432x288 with 2 Axes>"
      ]
     },
     "metadata": {
      "needs_background": "light"
     },
     "output_type": "display_data"
    },
    {
     "data": {
      "image/png": "[encoded data removed]",
      "text/plain": [
       "<Figure size 432x288 with 2 Axes>"
      ]
     },
     "metadata": {
      "needs_background": "light"
     },
     "output_type": "display_data"
    }
   ],
   "source": [
    "#step 0: change_model_ws\n",
    "m.change_model_ws(\"flopy_temp1\",reset_external=True)\n",
    "#step 1: change hk: m.upw.hk\n",
    "m.upw.hk *= 10.0\n",
    "#step 2: write inputs\n",
    "m.write_input()\n",
    "#step 3: copy binary into model_ws\n",
    "src_exe = os.path.join(\"bin\",\"win\",\"mfnwt.exe\")\n",
    "dest_exe = os.path.join(\"flopy_temp1\",\"mfnwt.exe\")\n",
    "shutil.copy2(src_exe,dest_exe)\n",
    "#step 4: run model\n",
    "pyemu.os_utils.run(\"mfnwt freyberg.nam\",cwd=m.model_ws)\n",
    "#step 5: plot results\n",
    "hds = flopy.utils.HeadFile(os.path.join(m.model_ws,m.name+\".hds\"),model=m)\n",
    "hds.plot(mflay=None,totim=None,colorbar=True)"
   ]
  },
  {
   "cell_type": "code",
   "execution_count": null,
   "metadata": {},
   "outputs": [],
   "source": []
  },
  {
   "cell_type": "markdown",
   "metadata": {},
   "source": [
    "# Creating a new model and adding packages\n",
    "\n",
    "Now we will go through the super painful process of creating a model from scratch"
   ]
  },
  {
   "cell_type": "code",
   "execution_count": null,
   "metadata": {},
   "outputs": [],
   "source": [
    "m = flopy.modflow.Modflow(\"newmodel\",model_ws=\"newmodel\",\n",
    "                          version=\"mfnwt\",exe_name=\"mfnwt\",\n",
    "                          external_path=\"data\")"
   ]
  },
  {
   "cell_type": "code",
   "execution_count": null,
   "metadata": {},
   "outputs": [],
   "source": [
    "ncol,nper = 10000,365\n",
    "tot_length = 100\n",
    "delr = tot_length / ncol\n",
    "steady,perlen = [True],[1.0]\n",
    "for kper in range(nper-1):\n",
    "    steady.append(False)\n",
    "    perlen.append(10.0)\n"
   ]
  },
  {
   "cell_type": "code",
   "execution_count": null,
   "metadata": {},
   "outputs": [],
   "source": [
    "dis = flopy.modflow.ModflowDis(m,nrow=1,ncol=ncol,nlay=1,\n",
    "                               nper=nper,delr=delr,top=10,\n",
    "                               botm=0,steady=steady,perlen=perlen)"
   ]
  },
  {
   "cell_type": "code",
   "execution_count": null,
   "metadata": {},
   "outputs": [],
   "source": [
    "m.dis.delr.array[0]"
   ]
  },
  {
   "cell_type": "code",
   "execution_count": null,
   "metadata": {},
   "outputs": [],
   "source": [
    "ibound = np.ones((m.nlay,m.nrow,m.ncol))\n",
    "ibound[:,:,[0,-1]] = -1 #set constant heads in the first and last column\n",
    "strt = np.ones_like(ibound)\n",
    "strt[:,:,-1] = 10 # set the initial heads in the last (constant head) column\n",
    "bas = flopy.modflow.ModflowBas(m,strt=strt,ibound=ibound)"
   ]
  },
  {
   "cell_type": "code",
   "execution_count": null,
   "metadata": {},
   "outputs": [],
   "source": [
    "upw = flopy.modflow.ModflowUpw(m,hk=10,ss=0.001,sy=0.1)"
   ]
  },
  {
   "cell_type": "code",
   "execution_count": null,
   "metadata": {},
   "outputs": [],
   "source": [
    "nwt = flopy.modflow.ModflowNwt(m)"
   ]
  },
  {
   "cell_type": "code",
   "execution_count": null,
   "metadata": {},
   "outputs": [],
   "source": [
    "oc = flopy.modflow.ModflowOc(m)"
   ]
  },
  {
   "cell_type": "markdown",
   "metadata": {},
   "source": [
    "To add a boundary condition, we need to generate a dict of stress period key and list-type data values for the wel package, the list type data need to have k, i, j, and flux.  Each BC package has a `get_default_dtype()` method to show you what it is expecting:"
   ]
  },
  {
   "cell_type": "code",
   "execution_count": null,
   "metadata": {},
   "outputs": [],
   "source": [
    "flopy.modflow.ModflowWel.get_default_dtype()"
   ]
  },
  {
   "cell_type": "markdown",
   "metadata": {},
   "source": [
    "So let's set a well in (about) the center of the model with some pumping in each stress period:"
   ]
  },
  {
   "cell_type": "code",
   "execution_count": null,
   "metadata": {},
   "outputs": [],
   "source": [
    "spd = {}\n",
    "np.random.seed(111)\n",
    "for kper in range(m.nper):\n",
    "    spd[kper] = [0,0,int(m.ncol/2),np.random.uniform(-10,-50,1)]\n",
    "spd"
   ]
  },
  {
   "cell_type": "code",
   "execution_count": null,
   "metadata": {},
   "outputs": [],
   "source": [
    "wel = flopy.modflow.ModflowWel(m,stress_period_data=spd)"
   ]
  },
  {
   "cell_type": "code",
   "execution_count": null,
   "metadata": {},
   "outputs": [],
   "source": [
    "m.write_input()"
   ]
  },
  {
   "cell_type": "code",
   "execution_count": null,
   "metadata": {},
   "outputs": [],
   "source": [
    "shutil.copy2(os.path.join(\"bin\",\"mac\",\"mfnwt\"),os.path.join(m.model_ws,\"mfnwt\"))"
   ]
  },
  {
   "cell_type": "code",
   "execution_count": null,
   "metadata": {},
   "outputs": [],
   "source": [
    "pyemu.os_utils.run(\"mfnwt newmodel.nam\",cwd=m.model_ws)"
   ]
  },
  {
   "cell_type": "code",
   "execution_count": null,
   "metadata": {},
   "outputs": [],
   "source": [
    "hds = flopy.utils.HeadFile(os.path.join(m.model_ws,m.name+\".hds\"))\n",
    "fig = plt.figure(figsize=(10,10))\n",
    "ax = plt.subplot(111,aspect=1000)\n",
    "hds.plot(axes=[ax],colorbar=True)\n"
   ]
  },
  {
   "cell_type": "code",
   "execution_count": null,
   "metadata": {},
   "outputs": [],
   "source": [
    "mflist = flopy.utils.MfListBudget(os.path.join(m.model_ws,m.name+\".list\"))\n",
    "inc,cum = mflist.get_dataframes(diff=True)\n",
    "inc.plot(figsize=(10,10))"
   ]
  },
  {
   "cell_type": "markdown",
   "metadata": {},
   "source": [
    "Just to show you how power this can be, lets go back up and change the number of columns and stress period..."
   ]
  },
  {
   "cell_type": "markdown",
   "metadata": {},
   "source": [
    "# DIY: create a 3 layer, 11 row, 11 col model with 365 daily stress periods (first stress period steady-state).  Put constant heads in layer 1 on the left and right with a gradient across the model and a single pumping well in the center of layer 3 and drive the pumping well with random values for each day. Run this model and post-process as above. Copy-and-paste is not cheating!"
   ]
  },
  {
   "cell_type": "code",
   "execution_count": null,
   "metadata": {},
   "outputs": [],
   "source": []
  }
 ],
 "metadata": {
  "kernelspec": {
   "display_name": "Python 3",
   "language": "python",
   "name": "python3"
  },
  "language_info": {
   "codemirror_mode": {
    "name": "ipython",
    "version": 3
   },
   "file_extension": ".py",
   "mimetype": "text/x-python",
   "name": "python",
   "nbconvert_exporter": "python",
   "pygments_lexer": "ipython3",
   "version": "3.8.6"
  }
 },
 "nbformat": 4,
 "nbformat_minor": 2
}
