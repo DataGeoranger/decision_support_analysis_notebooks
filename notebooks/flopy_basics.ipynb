{
 "cells": [
  {
   "cell_type": "markdown",
   "metadata": {},
   "source": [
    "# Basic Flopy\n",
    "\n",
    "In this notebook, we will blast through basic flopy usage.  There is a lot to cover in flopy, so this will just hit the highlights"
   ]
  },
  {
   "cell_type": "code",
   "execution_count": null,
   "metadata": {},
   "outputs": [],
   "source": [
    "import os\n",
    "import shutil\n",
    "import numpy as np\n",
    "import matplotlib.pyplot as plt\n",
    "import pandas as pd\n",
    "import flopy\n",
    "import pyemu"
   ]
  },
  {
   "cell_type": "markdown",
   "metadata": {},
   "source": [
    "Let's jump right in and load an existing model (one we will use for the rest of the week). We will use the `model_ws` (model workspace) to access these files in a different directory:"
   ]
  },
  {
   "cell_type": "code",
   "execution_count": null,
   "metadata": {},
   "outputs": [],
   "source": [
    "model_ws = os.path.join(\"..\",\"base_model_files\")\n",
    "os.listdir(model_ws)\n"
   ]
  },
  {
   "cell_type": "markdown",
   "metadata": {},
   "source": [
    "Do these file types look familiar???"
   ]
  },
  {
   "cell_type": "code",
   "execution_count": null,
   "metadata": {},
   "outputs": [],
   "source": [
    "m = flopy.modflow.Modflow.load(\"freyberg.nam\",model_ws=model_ws,verbose=True)"
   ]
  },
  {
   "cell_type": "code",
   "execution_count": null,
   "metadata": {},
   "outputs": [],
   "source": [
    "m"
   ]
  },
  {
   "cell_type": "markdown",
   "metadata": {},
   "source": [
    "individual packages are accessible through their 3-letter extension (except for the basic package, which is `bas6` for some reason :facepalm: )"
   ]
  },
  {
   "cell_type": "code",
   "execution_count": null,
   "metadata": {},
   "outputs": [],
   "source": [
    "m.dis"
   ]
  },
  {
   "cell_type": "markdown",
   "metadata": {},
   "source": [
    "In each package, the array-type data are housed in special array-handling classes:"
   ]
  },
  {
   "cell_type": "code",
   "execution_count": null,
   "metadata": {},
   "outputs": [],
   "source": [
    "m.dis.top"
   ]
  },
  {
   "cell_type": "code",
   "execution_count": null,
   "metadata": {},
   "outputs": [],
   "source": [
    "m.rch.rech"
   ]
  },
  {
   "cell_type": "code",
   "execution_count": null,
   "metadata": {},
   "outputs": [],
   "source": [
    "m.bas6.strt"
   ]
  },
  {
   "cell_type": "markdown",
   "metadata": {},
   "source": [
    "List-type data also have special handlers - the list type data is always stored in the `stress_period_data` attribute:"
   ]
  },
  {
   "cell_type": "code",
   "execution_count": null,
   "metadata": {},
   "outputs": [],
   "source": [
    "m.ghb.stress_period_data"
   ]
  },
  {
   "cell_type": "markdown",
   "metadata": {},
   "source": [
    "Each of these has an `array` attribute to access the actual data values"
   ]
  },
  {
   "cell_type": "code",
   "execution_count": null,
   "metadata": {},
   "outputs": [],
   "source": [
    "arr = m.ghb.stress_period_data.array[\"bhead\"]\n",
    "cb = plt.imshow(arr[0,0,:,:])\n",
    "plt.colorbar(cb)"
   ]
  },
  {
   "cell_type": "code",
   "execution_count": null,
   "metadata": {},
   "outputs": [],
   "source": [
    "m.rch.rech.array.shape"
   ]
  },
  {
   "cell_type": "markdown",
   "metadata": {},
   "source": [
    "\n",
    "And of course, `SFR` has to be difficult"
   ]
  },
  {
   "cell_type": "code",
   "execution_count": null,
   "metadata": {},
   "outputs": [],
   "source": [
    "pd.DataFrame.from_records(m.sfr.reach_data).head()"
   ]
  },
  {
   "cell_type": "code",
   "execution_count": null,
   "metadata": {},
   "outputs": [],
   "source": [
    "pd.DataFrame.from_records(m.sfr.segment_data[0]).head()"
   ]
  },
  {
   "cell_type": "markdown",
   "metadata": {},
   "source": [
    "## Exporting to shapefiles\n",
    "\n",
    "You can export the entire model, individual packages or individual attributes:"
   ]
  },
  {
   "cell_type": "code",
   "execution_count": null,
   "metadata": {},
   "outputs": [],
   "source": [
    "m.export(\"model.shp\")\n",
    "m.dis.export(\"dis.shp\")\n",
    "m.dis.top.export(\"top.shp\")\n",
    "m.ghb.stress_period_data.export(\"ghb.shp\")"
   ]
  },
  {
   "cell_type": "markdown",
   "metadata": {},
   "source": [
    "How does flopy know where the model is in space? The spatial reference:"
   ]
  },
  {
   "cell_type": "code",
   "execution_count": null,
   "metadata": {},
   "outputs": [],
   "source": [
    "m.modelgrid"
   ]
  },
  {
   "cell_type": "markdown",
   "metadata": {},
   "source": [
    "# changing `model_ws` and writing\n",
    "\n",
    "It is probably good form to not overwrite the existing files.  To avoid this danger, we can change the model workspace and then write a new set of model files in this location:"
   ]
  },
  {
   "cell_type": "code",
   "execution_count": null,
   "metadata": {},
   "outputs": [],
   "source": [
    "m.change_model_ws(\"flopy_temp\",reset_external=True)\n",
    "m.write_input()"
   ]
  },
  {
   "cell_type": "code",
   "execution_count": null,
   "metadata": {},
   "outputs": [],
   "source": [
    "os.listdir(m.model_ws)"
   ]
  },
  {
   "cell_type": "markdown",
   "metadata": {},
   "source": [
    "# Run the model"
   ]
  },
  {
   "cell_type": "markdown",
   "metadata": {},
   "source": [
    "A little trickery is needed here: we need to get the right MODFLOW binary into this new `model_ws`.  What should we do? \n",
    "\n",
    "### DIY: use `shutil` and `os` to copy the `mfnwt` binary into the new `model_ws` (this is a super-common task)"
   ]
  },
  {
   "cell_type": "code",
   "execution_count": null,
   "metadata": {},
   "outputs": [],
   "source": [
    "print(os.listdir(\"bin\")) #hint the platform specific binaries in the bin dir\n",
    "# your code here:"
   ]
  },
  {
   "cell_type": "markdown",
   "metadata": {},
   "source": [
    "I prefer to use the pyemu run function here because it is more tolerant of cross platform issues..."
   ]
  },
  {
   "cell_type": "code",
   "execution_count": null,
   "metadata": {},
   "outputs": [],
   "source": [
    "pyemu.os_utils.run(\"mfnwt freyberg.nam\",cwd=m.model_ws)"
   ]
  },
  {
   "cell_type": "markdown",
   "metadata": {},
   "source": [
    "If you go back to the terminal, you should see the output from MODFLOW-NWT..."
   ]
  },
  {
   "cell_type": "markdown",
   "metadata": {},
   "source": [
    "# Post-processing\n",
    "\n",
    "Flopy has lots of support to help use deal with the terrible MDOFLOW file formats"
   ]
  },
  {
   "cell_type": "code",
   "execution_count": null,
   "metadata": {},
   "outputs": [],
   "source": [
    "mflist = flopy.utils.MfListBudget(os.path.join(m.model_ws,m.name+\".list\"))"
   ]
  },
  {
   "cell_type": "code",
   "execution_count": null,
   "metadata": {},
   "outputs": [],
   "source": [
    "inc_df,cum_df = mflist.get_dataframes(start_datetime=\"5-11-1955\",diff=True)\n",
    "inc_df"
   ]
  },
  {
   "cell_type": "markdown",
   "metadata": {},
   "source": [
    "Where did those dates come from???  You can pass a `start_datetime` string to the `get_dataframes()` method to control those better.  In fact, the flopy model instance has its own `start_datetime` attribute for temporally locating the model inputs..."
   ]
  },
  {
   "cell_type": "markdown",
   "metadata": {},
   "source": [
    "### DIY: plot the NET increment water budget as a bar chart but change the starting datetime to 5 Nov 1955:"
   ]
  },
  {
   "cell_type": "code",
   "execution_count": null,
   "metadata": {},
   "outputs": [],
   "source": [
    "# hint: checkout the options you can pass get_dataframes()\n",
    "# your code here"
   ]
  },
  {
   "cell_type": "markdown",
   "metadata": {},
   "source": [
    "We can also load the binary head save file"
   ]
  },
  {
   "cell_type": "code",
   "execution_count": null,
   "metadata": {},
   "outputs": [],
   "source": [
    "hds = flopy.utils.HeadFile(os.path.join(m.model_ws,m.name+\".hds\"))\n",
    "hds"
   ]
  },
  {
   "cell_type": "code",
   "execution_count": null,
   "metadata": {},
   "outputs": [],
   "source": [
    "hds.get_times()"
   ]
  },
  {
   "cell_type": "code",
   "execution_count": null,
   "metadata": {},
   "outputs": [],
   "source": [
    "data = hds.get_data() #by defauly, get_data() returns the last entry\n",
    "data.shape"
   ]
  },
  {
   "cell_type": "code",
   "execution_count": null,
   "metadata": {},
   "outputs": [],
   "source": [
    "hds.plot(mflay=None,totim=None,colorbar=True) # if these args are None, then you get all layers from the last entry"
   ]
  },
  {
   "cell_type": "markdown",
   "metadata": {},
   "source": [
    "That looks kinda shitty...but we can do better! if you pass the model instance the the `HeadFile` constructor, the plot routines will use the ibound to mask..."
   ]
  },
  {
   "cell_type": "markdown",
   "metadata": {},
   "source": [
    "### DIY: re-instantiate the `HeadFile` object but pass it the model instance and plot layer 1 heads from both stress periods:"
   ]
  },
  {
   "cell_type": "code",
   "execution_count": null,
   "metadata": {},
   "outputs": [],
   "source": []
  },
  {
   "cell_type": "markdown",
   "metadata": {},
   "source": [
    "The `HeadFile` class also support writing to shapefiles:"
   ]
  },
  {
   "cell_type": "code",
   "execution_count": null,
   "metadata": {},
   "outputs": [],
   "source": [
    "hds.to_shapefile(\"hds.shp\")"
   ]
  },
  {
   "cell_type": "markdown",
   "metadata": {},
   "source": [
    "The same type of support is available for the cell-by-cell budget file:"
   ]
  },
  {
   "cell_type": "code",
   "execution_count": null,
   "metadata": {},
   "outputs": [],
   "source": [
    "cbc = flopy.utils.CellBudgetFile(os.path.join(m.model_ws,m.name+\".cbc\"))\n",
    "cbc.list_records()"
   ]
  },
  {
   "cell_type": "markdown",
   "metadata": {},
   "source": [
    "Lets plot up some cell-by-cell info:"
   ]
  },
  {
   "cell_type": "code",
   "execution_count": null,
   "metadata": {},
   "outputs": [],
   "source": [
    "text = \"flow right face\"\n",
    "times = cbc.get_times()\n",
    "fig,axes = plt.subplots(m.nlay,m.nper,figsize=(10,10))\n",
    "for kper in range(m.nper):\n",
    "    data = cbc.get_data(text=text,totim=times[kper],full3D=True)[0]\n",
    "    data = np.ma.masked_where(m.bas6.ibound.array<1,data)\n",
    "    vmin,vmax = data.min(),data.max()\n",
    "    \n",
    "    for k in range(m.nlay):    \n",
    "        cb = axes[k,kper].imshow(data[k,:,:],vmin=vmin,vmax=vmax)\n",
    "        axes[k,kper].set_title(\"{0}, layer {1}, SP {2}\".format(text,k+1,kper+1))\n",
    "        plt.colorbar(cb,ax=axes[k,kper])\n",
    "plt.tight_layout()\n",
    "plt.show()\n"
   ]
  },
  {
   "cell_type": "markdown",
   "metadata": {},
   "source": [
    "### DIY: change the `model_ws` again (and get the binary into the new `model_ws`).  Then change everyone's fav hydrogeoloical obsession `hk` in each layer by a factor of 10, run the model and *visually* compare the water budget and heads to the base case we ran through above."
   ]
  },
  {
   "cell_type": "code",
   "execution_count": null,
   "metadata": {},
   "outputs": [],
   "source": []
  },
  {
   "cell_type": "code",
   "execution_count": null,
   "metadata": {},
   "outputs": [],
   "source": []
  },
  {
   "cell_type": "markdown",
   "metadata": {},
   "source": [
    "# Creating a new model and adding packages\n",
    "\n",
    "Now we will go through the super painful process of creating a model from scratch"
   ]
  },
  {
   "cell_type": "code",
   "execution_count": null,
   "metadata": {},
   "outputs": [],
   "source": [
    "m = flopy.modflow.Modflow(\"newmodel\",model_ws=\"newmodel\",\n",
    "                          version=\"mfnwt\",exe_name=\"mfnwt\",\n",
    "                          external_path=\"data\")"
   ]
  },
  {
   "cell_type": "code",
   "execution_count": null,
   "metadata": {},
   "outputs": [],
   "source": [
    "ncol,nper = 10000,365\n",
    "tot_length = 100\n",
    "delr = tot_length / ncol\n",
    "steady,perlen = [True],[1.0]\n",
    "for kper in range(nper-1):\n",
    "    steady.append(False)\n",
    "    perlen.append(10.0)\n"
   ]
  },
  {
   "cell_type": "code",
   "execution_count": null,
   "metadata": {},
   "outputs": [],
   "source": [
    "dis = flopy.modflow.ModflowDis(m,nrow=1,ncol=ncol,nlay=1,\n",
    "                               nper=nper,delr=delr,top=10,\n",
    "                               botm=0,steady=steady,perlen=perlen)"
   ]
  },
  {
   "cell_type": "code",
   "execution_count": null,
   "metadata": {},
   "outputs": [],
   "source": [
    "m.dis.delr.array[0]"
   ]
  },
  {
   "cell_type": "code",
   "execution_count": null,
   "metadata": {},
   "outputs": [],
   "source": [
    "ibound = np.ones((m.nlay,m.nrow,m.ncol))\n",
    "ibound[:,:,[0,-1]] = -1 #set constant heads in the first and last column\n",
    "strt = np.ones_like(ibound)\n",
    "strt[:,:,-1] = 10 # set the initial heads in the last (constant head) column\n",
    "bas = flopy.modflow.ModflowBas(m,strt=strt,ibound=ibound)"
   ]
  },
  {
   "cell_type": "code",
   "execution_count": null,
   "metadata": {},
   "outputs": [],
   "source": [
    "upw = flopy.modflow.ModflowUpw(m,hk=10,ss=0.001,sy=0.1)"
   ]
  },
  {
   "cell_type": "code",
   "execution_count": null,
   "metadata": {},
   "outputs": [],
   "source": [
    "nwt = flopy.modflow.ModflowNwt(m)"
   ]
  },
  {
   "cell_type": "code",
   "execution_count": null,
   "metadata": {},
   "outputs": [],
   "source": [
    "oc = flopy.modflow.ModflowOc(m)"
   ]
  },
  {
   "cell_type": "markdown",
   "metadata": {},
   "source": [
    "To add a boundary condition, we need to generate a dict of stress period key and list-type data values for the wel package, the list type data need to have k, i, j, and flux.  Each BC package has a `get_default_dtype()` method to show you what it is expecting:"
   ]
  },
  {
   "cell_type": "code",
   "execution_count": null,
   "metadata": {},
   "outputs": [],
   "source": [
    "flopy.modflow.ModflowWel.get_default_dtype()"
   ]
  },
  {
   "cell_type": "markdown",
   "metadata": {},
   "source": [
    "So let's set a well in (about) the center of the model with some pumping in each stress period:"
   ]
  },
  {
   "cell_type": "code",
   "execution_count": null,
   "metadata": {},
   "outputs": [],
   "source": [
    "spd = {}\n",
    "np.random.seed(111)\n",
    "for kper in range(m.nper):\n",
    "    spd[kper] = [0,0,int(m.ncol/2),np.random.uniform(-10,-50,1)]\n",
    "spd"
   ]
  },
  {
   "cell_type": "code",
   "execution_count": null,
   "metadata": {},
   "outputs": [],
   "source": [
    "wel = flopy.modflow.ModflowWel(m,stress_period_data=spd)"
   ]
  },
  {
   "cell_type": "code",
   "execution_count": null,
   "metadata": {},
   "outputs": [],
   "source": [
    "m.write_input()"
   ]
  },
  {
   "cell_type": "code",
   "execution_count": null,
   "metadata": {},
   "outputs": [],
   "source": [
    "shutil.copy2(os.path.join(\"bin\",\"mac\",\"mfnwt\"),os.path.join(m.model_ws,\"mfnwt\"))"
   ]
  },
  {
   "cell_type": "code",
   "execution_count": null,
   "metadata": {},
   "outputs": [],
   "source": [
    "pyemu.os_utils.run(\"mfnwt newmodel.nam\",cwd=m.model_ws)"
   ]
  },
  {
   "cell_type": "code",
   "execution_count": null,
   "metadata": {},
   "outputs": [],
   "source": [
    "hds = flopy.utils.HeadFile(os.path.join(m.model_ws,m.name+\".hds\"))\n",
    "fig = plt.figure(figsize=(10,10))\n",
    "ax = plt.subplot(111,aspect=1000)\n",
    "hds.plot(axes=[ax],colorbar=True)\n"
   ]
  },
  {
   "cell_type": "code",
   "execution_count": null,
   "metadata": {},
   "outputs": [],
   "source": [
    "mflist = flopy.utils.MfListBudget(os.path.join(m.model_ws,m.name+\".list\"))\n",
    "inc,cum = mflist.get_dataframes(diff=True)\n",
    "inc.plot(figsize=(10,10))"
   ]
  },
  {
   "cell_type": "markdown",
   "metadata": {},
   "source": [
    "Just to show you how power this can be, lets go back up and change the number of columns and stress period..."
   ]
  },
  {
   "cell_type": "markdown",
   "metadata": {},
   "source": [
    "# DIY: create a 3 layer, 11 row, 11 col model with 365 daily stress periods (first stress period steady-state).  Put constant heads in layer 1 on the left and right with a gradient across the model and a single pumping well in the center of layer 3 and drive the pumping well with random values for each day. Run this model and post-process as above. Copy-and-paste is not cheating!"
   ]
  },
  {
   "cell_type": "code",
   "execution_count": null,
   "metadata": {},
   "outputs": [],
   "source": []
  }
 ],
 "metadata": {
  "kernelspec": {
   "display_name": "Python 3",
   "language": "python",
   "name": "python3"
  },
  "language_info": {
   "codemirror_mode": {
    "name": "ipython",
    "version": 3
   },
   "file_extension": ".py",
   "mimetype": "text/x-python",
   "name": "python",
   "nbconvert_exporter": "python",
   "pygments_lexer": "ipython3",
   "version": "3.8.6"
  }
 },
 "nbformat": 4,
 "nbformat_minor": 2
}
