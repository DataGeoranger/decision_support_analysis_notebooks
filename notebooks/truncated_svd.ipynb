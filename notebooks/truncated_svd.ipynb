{
 "cells": [
  {
   "cell_type": "markdown",
   "metadata": {},
   "source": [
    "# Truncated SVD"
   ]
  },
  {
   "cell_type": "markdown",
   "metadata": {},
   "source": [
    "In this notebook..."
   ]
  },
  {
   "cell_type": "code",
   "execution_count": null,
   "metadata": {
    "execution": {
     "iopub.execute_input": "2020-11-14T03:55:14.701145Z",
     "iopub.status.busy": "2020-11-14T03:55:14.700492Z",
     "iopub.status.idle": "2020-11-14T03:55:15.938572Z",
     "shell.execute_reply": "2020-11-14T03:55:15.937922Z"
    }
   },
   "outputs": [],
   "source": [
    "%matplotlib inline\n",
    "import os\n",
    "import shutil\n",
    "import numpy as np\n",
    "import pandas as pd\n",
    "import matplotlib.pyplot as plt\n",
    "import matplotlib as mpl\n",
    "import flopy\n",
    "import pyemu\n"
   ]
  },
  {
   "cell_type": "code",
   "execution_count": null,
   "metadata": {
    "execution": {
     "iopub.execute_input": "2020-11-14T03:55:15.946235Z",
     "iopub.status.busy": "2020-11-14T03:55:15.945776Z",
     "iopub.status.idle": "2020-11-14T03:55:15.947514Z",
     "shell.execute_reply": "2020-11-14T03:55:15.947880Z"
    }
   },
   "outputs": [],
   "source": [
    "t_d = \"template_history\"\n",
    "m_d = \"master_glm_run\""
   ]
  },
  {
   "cell_type": "code",
   "execution_count": null,
   "metadata": {
    "execution": {
     "iopub.execute_input": "2020-11-14T03:55:15.954154Z",
     "iopub.status.busy": "2020-11-14T03:55:15.953653Z",
     "iopub.status.idle": "2020-11-14T03:55:16.209072Z",
     "shell.execute_reply": "2020-11-14T03:55:16.209518Z"
    }
   },
   "outputs": [],
   "source": [
    "m = flopy.modflow.Modflow.load(\"freyberg.nam\",model_ws=t_d,check=False,forgive=False)\n",
    "# plot some model attributes\n",
    "fig = plt.figure(figsize=(12,7))\n",
    "ax = plt.subplot(111,aspect=\"equal\")\n",
    "mm = flopy.plot.PlotMapView(model=m)\n",
    "mm.plot_grid()\n",
    "mm.plot_ibound()\n",
    "mm.plot_bc('SFR')\n",
    "mm.plot_bc(\"GHB\")\n",
    "ax = mm.ax\n",
    "#m.wel.stress_period_data.plot(ax=ax,mflay=2)\n",
    "\n",
    "# plot obs locations\n",
    "obs = pd.read_csv(os.path.join(\"..\",\"base_model_files\",\"obs_loc.csv\"))\n",
    "                  \n",
    "obs_x = [m.sr.xcentergrid[r-1,c-1] for r,c in obs.loc[:,[\"row\",\"col\"]].values]\n",
    "obs_y = [m.sr.ycentergrid[r-1,c-1] for r,c in obs.loc[:,[\"row\",\"col\"]].values]\n",
    "ax.scatter(obs_x,obs_y,marker='.',label=\"water-level obs\",s=80)\n",
    "\n",
    "#plot names on the pumping well locations\n",
    "wel_data = m.wel.stress_period_data[0]\n",
    "wel_x = m.sr.xcentergrid[wel_data[\"i\"],wel_data[\"j\"]]\n",
    "wel_y = m.sr.ycentergrid[wel_data[\"i\"],wel_data[\"j\"]]\n",
    "for i,(x,y) in enumerate(zip(wel_x,wel_y)):\n",
    "    ax.scatter([x],[y],color=\"red\",marker=\"s\",s=50)\n",
    "    #ax.text(x,y,\"{0}\".format(i+1),ha=\"center\",va=\"center\")\n",
    "\n",
    "ax.set_ylabel(\"y(m)\")\n",
    "ax.set_xlabel(\"x(m)\")\n",
    "plt.show()"
   ]
  },
  {
   "cell_type": "markdown",
   "metadata": {},
   "source": [
    "Load the control file:"
   ]
  },
  {
   "cell_type": "code",
   "execution_count": null,
   "metadata": {
    "execution": {
     "iopub.execute_input": "2020-11-14T03:55:16.213886Z",
     "iopub.status.busy": "2020-11-14T03:55:16.213438Z",
     "iopub.status.idle": "2020-11-14T03:55:16.489173Z",
     "shell.execute_reply": "2020-11-14T03:55:16.489662Z"
    }
   },
   "outputs": [],
   "source": [
    "pst = pyemu.Pst(os.path.join(\"master_glm\",\"freyberg_pp.pst\"))\n",
    "pst.write_par_summary_table(filename=\"none\")"
   ]
  },
  {
   "cell_type": "markdown",
   "metadata": {},
   "source": [
    "Load Jacobian matrix:"
   ]
  },
  {
   "cell_type": "code",
   "execution_count": null,
   "metadata": {
    "execution": {
     "iopub.execute_input": "2020-11-14T03:55:16.492188Z",
     "iopub.status.busy": "2020-11-14T03:55:16.491788Z",
     "iopub.status.idle": "2020-11-14T03:55:17.352896Z",
     "shell.execute_reply": "2020-11-14T03:55:17.353334Z"
    }
   },
   "outputs": [],
   "source": [
    "jco = pyemu.Jco.from_binary(os.path.join(\"master_glm\",\"freyberg_pp.jcb\"))\n",
    "jco.shape"
   ]
  },
  {
   "cell_type": "markdown",
   "metadata": {},
   "source": [
    "use only the non-zero-weighted obs"
   ]
  },
  {
   "cell_type": "code",
   "execution_count": null,
   "metadata": {},
   "outputs": [],
   "source": [
    "jco = jco.get(pst.nnz_obs_names,pst.adj_par_names)\n",
    "jco.shape"
   ]
  },
  {
   "cell_type": "markdown",
   "metadata": {},
   "source": [
    "work up the components for the gauss-newton alg:"
   ]
  },
  {
   "cell_type": "code",
   "execution_count": null,
   "metadata": {},
   "outputs": [],
   "source": [
    "obscov = pyemu.Cov.from_observation_data(pst).get(pst.nnz_obs_names)\n",
    "obscov.shape"
   ]
  },
  {
   "cell_type": "code",
   "execution_count": null,
   "metadata": {},
   "outputs": [],
   "source": [
    "q = obscov.inv"
   ]
  },
  {
   "cell_type": "code",
   "execution_count": null,
   "metadata": {},
   "outputs": [],
   "source": [
    "jtqj = jco.T * q * jco\n",
    "jtqj.shape"
   ]
  },
  {
   "cell_type": "code",
   "execution_count": null,
   "metadata": {},
   "outputs": [],
   "source": [
    "jtqj.x"
   ]
  },
  {
   "cell_type": "code",
   "execution_count": null,
   "metadata": {},
   "outputs": [],
   "source": [
    "type(jtqj)"
   ]
  },
  {
   "cell_type": "code",
   "execution_count": null,
   "metadata": {},
   "outputs": [],
   "source": [
    "c = pyemu.Cov(x=jtqj.x.copy(),names=pst.adj_par_names)\n",
    "c = c.to_pearson()"
   ]
  },
  {
   "cell_type": "code",
   "execution_count": null,
   "metadata": {},
   "outputs": [],
   "source": [
    "cb = plt.imshow(c.x)\n",
    "cb = plt.colorbar(cb)\n",
    "cb.set_label(\"correlation coef\")"
   ]
  },
  {
   "cell_type": "code",
   "execution_count": null,
   "metadata": {},
   "outputs": [],
   "source": [
    "try:\n",
    "    jtqj.inv\n",
    "except Exception as e:\n",
    "    print(\"frowny face: \"+str(e))"
   ]
  },
  {
   "cell_type": "markdown",
   "metadata": {},
   "source": [
    "### SVD to the rescue!\n",
    "\n",
    "First let's examine the singular value matrix (`s`)"
   ]
  },
  {
   "cell_type": "code",
   "execution_count": null,
   "metadata": {},
   "outputs": [],
   "source": [
    "s = jtqj.s"
   ]
  },
  {
   "cell_type": "code",
   "execution_count": null,
   "metadata": {},
   "outputs": [],
   "source": [
    "fig,ax = plt.subplots(1,1,figsize=(4,4))\n",
    "ax.plot(s.x,color=\"c\")\n",
    "axt = plt.twinx(ax)\n",
    "axt.plot(np.log10(s.x),color=\"r\")\n",
    "ax.set_xlabel(\"parameter space dimension\")\n",
    "ax.set_ylabel(\"singular value\")\n",
    "axt.set_ylabel(\"$log_{10}$ singular value\")"
   ]
  },
  {
   "cell_type": "markdown",
   "metadata": {},
   "source": [
    "We see that even with 350 observations, there is significantly less information content because there is non-unique information in those 350 observations.  "
   ]
  },
  {
   "cell_type": "markdown",
   "metadata": {},
   "source": []
  },
  {
   "cell_type": "code",
   "execution_count": null,
   "metadata": {},
   "outputs": [],
   "source": [
    "v = jtqj.v"
   ]
  },
  {
   "cell_type": "code",
   "execution_count": null,
   "metadata": {},
   "outputs": [],
   "source": [
    "v.shape"
   ]
  },
  {
   "cell_type": "code",
   "execution_count": null,
   "metadata": {},
   "outputs": [],
   "source": [
    "maxsing = 10"
   ]
  },
  {
   "cell_type": "code",
   "execution_count": null,
   "metadata": {},
   "outputs": [],
   "source": [
    "u1,s1,v1 = jtqj.pseudo_inv_components(maxsing=maxsing)"
   ]
  },
  {
   "cell_type": "code",
   "execution_count": null,
   "metadata": {},
   "outputs": [],
   "source": [
    "u1.shape,s1.shape,v1.shape"
   ]
  },
  {
   "cell_type": "markdown",
   "metadata": {},
   "source": [
    "reconstruct the normal matrix using the truncated SVD components"
   ]
  },
  {
   "cell_type": "code",
   "execution_count": null,
   "metadata": {},
   "outputs": [],
   "source": [
    "jtqj_t = u1 * s1 * v1.T"
   ]
  },
  {
   "cell_type": "code",
   "execution_count": null,
   "metadata": {},
   "outputs": [],
   "source": [
    "jtqj_t.shape"
   ]
  },
  {
   "cell_type": "markdown",
   "metadata": {},
   "source": [
    "The original normal matrix as a correlation coef matrix"
   ]
  },
  {
   "cell_type": "code",
   "execution_count": null,
   "metadata": {},
   "outputs": [],
   "source": [
    "c = pyemu.Cov(x=jtqj.x.copy(),names=pst.adj_par_names)\n",
    "c = c.to_pearson()\n",
    "cb = plt.imshow(c.x,vmax=1,vmin=-1)\n",
    "cb = plt.colorbar(cb)\n",
    "cb.set_label(\"correlation coef\")"
   ]
  },
  {
   "cell_type": "markdown",
   "metadata": {},
   "source": [
    "The truncated normal matrix as a correlation coef matrix"
   ]
  },
  {
   "cell_type": "code",
   "execution_count": null,
   "metadata": {},
   "outputs": [],
   "source": [
    "c = pyemu.Cov(x=jtqj_t.x.copy(),names=pst.adj_par_names)\n",
    "c = c.to_pearson()\n",
    "cb = plt.imshow(c.x,vmax=1,vmin=-1)\n",
    "cb = plt.colorbar(cb)\n",
    "cb.set_label(\"correlation coef\")"
   ]
  },
  {
   "cell_type": "markdown",
   "metadata": {},
   "source": [
    "## Exploring how truncation effects the solution process\n",
    "\n",
    "Let's solve the gauss-netwon equation using the truncated svd inverse of the normal matrix and explore how changing the truncation level effects the solution:"
   ]
  },
  {
   "cell_type": "code",
   "execution_count": null,
   "metadata": {},
   "outputs": [],
   "source": [
    "maxsing = 350\n",
    "u1,s1,v1 = jtqj.pseudo_inv_components(maxsing=maxsing,eigthresh=1e-30)"
   ]
  },
  {
   "cell_type": "code",
   "execution_count": null,
   "metadata": {},
   "outputs": [],
   "source": [
    "s1_inv = s1.inv"
   ]
  },
  {
   "cell_type": "code",
   "execution_count": null,
   "metadata": {},
   "outputs": [],
   "source": [
    "fig,ax = plt.subplots(1,1,figsize=(5,5))\n",
    "ax.plot(np.log10(np.diag(s1.x)),color='c')\n",
    "axt = plt.twinx(ax)\n",
    "axt.plot(np.log10(np.diag(s1_inv.x)),color='r')\n",
    "ax.set_ylabel(\"$log_{10}$ singular value\",color=\"c\")\n",
    "axt.set_ylabel(\"$log_{10}$ inverse singular value\",color=\"r\")\n",
    "_ = ax.set_xlabel(\"parameter space dimension\")"
   ]
  },
  {
   "cell_type": "markdown",
   "metadata": {},
   "source": [
    "So as we use more and more singular components, we include smaller and smaller singular values in the solution (which correspond to \"higher frequency\" parameter and observation components - remember the image-based examples with the SVD_1 notebook).   But when we invert the singular value matrix to form a pseudo inverese, those small singluar values become very large values, essentially amplifying the high frequencey components in the solution process #sad."
   ]
  },
  {
   "cell_type": "markdown",
   "metadata": {},
   "source": [
    "Form the inverse of the normal matrix"
   ]
  },
  {
   "cell_type": "code",
   "execution_count": null,
   "metadata": {},
   "outputs": [],
   "source": [
    "jtqj_inv = v1 * s1_inv * u1.T"
   ]
  },
  {
   "cell_type": "markdown",
   "metadata": {},
   "source": [
    "Get the residual vector"
   ]
  },
  {
   "cell_type": "code",
   "execution_count": null,
   "metadata": {},
   "outputs": [],
   "source": [
    "res_vec = pst.res.loc[pst.nnz_obs_names,\"residual\"].values\n",
    "res_vec.shape"
   ]
  },
  {
   "cell_type": "markdown",
   "metadata": {},
   "source": [
    "Solve for the inverted parameter values using gauss-newton:"
   ]
  },
  {
   "cell_type": "code",
   "execution_count": null,
   "metadata": {},
   "outputs": [],
   "source": [
    "p_inv = jtqj_inv * jco.T * q * res_vec"
   ]
  },
  {
   "cell_type": "code",
   "execution_count": null,
   "metadata": {},
   "outputs": [],
   "source": [
    "p_inv.shape"
   ]
  },
  {
   "cell_type": "markdown",
   "metadata": {},
   "source": [
    "Let's explore how changing the truncation point effects the resulting inverted parameter values - we will only examine the magnitude of parameter changes..."
   ]
  },
  {
   "cell_type": "code",
   "execution_count": null,
   "metadata": {},
   "outputs": [],
   "source": [
    "maxsing = 50\n",
    "u1,s1,v1 = jtqj.pseudo_inv_components(maxsing=maxsing,eigthresh=1e-30)\n",
    "jtqj_inv = v1 * s1.inv * u1.T\n",
    "p_inv = jtqj_inv * jco.T * q * res_vec\n",
    "print(\"max abs change\",np.abs(p_inv.x).max())\n",
    "print(\"mean abs change\",np.abs(p_inv.x).mean())"
   ]
  },
  {
   "cell_type": "markdown",
   "metadata": {},
   "source": [
    "So we see that if we use the full compliment of singular components (350 = nnz obs), we get crazy parameter changes.  yikes!  This implies that our inverse problem is highly sensitive to small changes in the residuals...but using 50-100 results in more reasonable changes.  \n",
    "\n",
    "To further drive this point home, lets compare how sensitive the solution is to \"expected\" noise (that is, the noise we expressed through the observation weights)"
   ]
  },
  {
   "cell_type": "markdown",
   "metadata": {},
   "source": [
    "Generate a single observation values plus noise realization and form a new residual vector"
   ]
  },
  {
   "cell_type": "code",
   "execution_count": null,
   "metadata": {},
   "outputs": [],
   "source": [
    "np.random.seed = 1111\n",
    "oe = pyemu.ObservationEnsemble.from_gaussian_draw(pst,num_reals=1)\n",
    "noisy_res_vec = oe.loc[oe.index[0],pst.nnz_obs_names] - pst.res.loc[pst.nnz_obs_names,\"modelled\"]\n",
    "noisy_res_vec = noisy_res_vec.values"
   ]
  },
  {
   "cell_type": "code",
   "execution_count": null,
   "metadata": {},
   "outputs": [],
   "source": [
    "maxsing = 350\n",
    "u1,s1,v1 = jtqj.pseudo_inv_components(maxsing=maxsing,eigthresh=1e-30)\n",
    "jtqj_inv = v1 * s1.inv * u1.T\n",
    "p_inv = jtqj_inv * jco.T * q * res_vec\n",
    "p_inv_noisy = jtqj_inv * jco.T * q * noisy_res_vec\n",
    "\n",
    "print(\"max abs change\",np.abs(p_inv.x - p_inv_noisy.x).max())\n",
    "print(\"mean abs change\",np.abs(p_inv.x - p_inv_noisy.x).mean())"
   ]
  },
  {
   "cell_type": "markdown",
   "metadata": {},
   "source": [
    "Again, we see that trying to use all the 350 singular components is dangerous - the resulting inverse problem is highly sensitive to noise.  But using a more convervative pseudo inverse stabilizes the problem.  #winning"
   ]
  },
  {
   "cell_type": "code",
   "execution_count": null,
   "metadata": {},
   "outputs": [],
   "source": []
  }
 ],
 "metadata": {
  "kernelspec": {
   "display_name": "Python 3",
   "language": "python",
   "name": "python3"
  },
  "language_info": {
   "codemirror_mode": {
    "name": "ipython",
    "version": 3
   },
   "file_extension": ".py",
   "mimetype": "text/x-python",
   "name": "python",
   "nbconvert_exporter": "python",
   "pygments_lexer": "ipython3",
   "version": "3.8.6"
  }
 },
 "nbformat": 4,
 "nbformat_minor": 2
}
