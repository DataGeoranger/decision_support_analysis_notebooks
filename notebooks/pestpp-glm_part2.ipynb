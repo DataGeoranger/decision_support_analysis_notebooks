{
 "cells": [
  {
   "cell_type": "markdown",
   "metadata": {},
   "source": [
    "# PESTPP-GLM Part 2"
   ]
  },
  {
   "cell_type": "markdown",
   "metadata": {},
   "source": [
    "In this notebook, we will actually run PESTPP-GLM in standard parameter estimation mode and regularization mode.  In both cases, we will use the baked-in bayes-linear posterior monte carlo analysis to get posterior forecast PDFs.  We will use the prior monte carlo outputs as the prior forecast PDF. We will reuse the jacobian we used for FOSM to save runs"
   ]
  },
  {
   "cell_type": "code",
   "execution_count": null,
   "metadata": {
    "execution": {
     "iopub.execute_input": "2020-11-14T03:55:14.701145Z",
     "iopub.status.busy": "2020-11-14T03:55:14.700492Z",
     "iopub.status.idle": "2020-11-14T03:55:15.938572Z",
     "shell.execute_reply": "2020-11-14T03:55:15.937922Z"
    }
   },
   "outputs": [],
   "source": [
    "%matplotlib inline\n",
    "import os\n",
    "import shutil\n",
    "import numpy as np\n",
    "import pandas as pd\n",
    "import matplotlib.pyplot as plt\n",
    "import matplotlib as mpl\n",
    "import flopy\n",
    "import pyemu\n"
   ]
  },
  {
   "cell_type": "markdown",
   "metadata": {},
   "source": [
    "## SUPER IMPORTANT: SET HOW MANY PARALLEL WORKERS TO USE"
   ]
  },
  {
   "cell_type": "code",
   "execution_count": null,
   "metadata": {
    "execution": {
     "iopub.execute_input": "2020-11-14T03:55:15.941944Z",
     "iopub.status.busy": "2020-11-14T03:55:15.941418Z",
     "iopub.status.idle": "2020-11-14T03:55:15.943050Z",
     "shell.execute_reply": "2020-11-14T03:55:15.943560Z"
    }
   },
   "outputs": [],
   "source": [
    "num_workers = 5"
   ]
  },
  {
   "cell_type": "code",
   "execution_count": null,
   "metadata": {
    "execution": {
     "iopub.execute_input": "2020-11-14T03:55:15.946235Z",
     "iopub.status.busy": "2020-11-14T03:55:15.945776Z",
     "iopub.status.idle": "2020-11-14T03:55:15.947514Z",
     "shell.execute_reply": "2020-11-14T03:55:15.947880Z"
    }
   },
   "outputs": [],
   "source": [
    "t_d = \"template_history\"\n",
    "m_d = \"master_glm_run\""
   ]
  },
  {
   "cell_type": "code",
   "execution_count": null,
   "metadata": {
    "execution": {
     "iopub.execute_input": "2020-11-14T03:55:15.954154Z",
     "iopub.status.busy": "2020-11-14T03:55:15.953653Z",
     "iopub.status.idle": "2020-11-14T03:55:16.209072Z",
     "shell.execute_reply": "2020-11-14T03:55:16.209518Z"
    }
   },
   "outputs": [],
   "source": [
    "m = flopy.modflow.Modflow.load(\"freyberg.nam\",model_ws=t_d,check=False,forgive=False)\n",
    "# plot some model attributes\n",
    "fig = plt.figure(figsize=(12,7))\n",
    "ax = plt.subplot(111,aspect=\"equal\")\n",
    "mm = flopy.plot.PlotMapView(model=m)\n",
    "mm.plot_grid()\n",
    "mm.plot_ibound()\n",
    "mm.plot_bc('SFR')\n",
    "mm.plot_bc(\"GHB\")\n",
    "ax = mm.ax\n",
    "#m.wel.stress_period_data.plot(ax=ax,mflay=2)\n",
    "\n",
    "# plot obs locations\n",
    "obs = pd.read_csv(os.path.join(\"..\",\"base_model_files\",\"obs_loc.csv\"))\n",
    "                  \n",
    "obs_x = [m.sr.xcentergrid[r-1,c-1] for r,c in obs.loc[:,[\"row\",\"col\"]].values]\n",
    "obs_y = [m.sr.ycentergrid[r-1,c-1] for r,c in obs.loc[:,[\"row\",\"col\"]].values]\n",
    "ax.scatter(obs_x,obs_y,marker='.',label=\"water-level obs\",s=80)\n",
    "\n",
    "#plot names on the pumping well locations\n",
    "wel_data = m.wel.stress_period_data[0]\n",
    "wel_x = m.sr.xcentergrid[wel_data[\"i\"],wel_data[\"j\"]]\n",
    "wel_y = m.sr.ycentergrid[wel_data[\"i\"],wel_data[\"j\"]]\n",
    "for i,(x,y) in enumerate(zip(wel_x,wel_y)):\n",
    "    ax.scatter([x],[y],color=\"red\",marker=\"s\",s=50)\n",
    "    #ax.text(x,y,\"{0}\".format(i+1),ha=\"center\",va=\"center\")\n",
    "\n",
    "ax.set_ylabel(\"y(m)\")\n",
    "ax.set_xlabel(\"x(m)\")\n",
    "plt.show()"
   ]
  },
  {
   "cell_type": "markdown",
   "metadata": {},
   "source": [
    "Load the control file:"
   ]
  },
  {
   "cell_type": "code",
   "execution_count": null,
   "metadata": {
    "execution": {
     "iopub.execute_input": "2020-11-14T03:55:16.213886Z",
     "iopub.status.busy": "2020-11-14T03:55:16.213438Z",
     "iopub.status.idle": "2020-11-14T03:55:16.489173Z",
     "shell.execute_reply": "2020-11-14T03:55:16.489662Z"
    }
   },
   "outputs": [],
   "source": [
    "pst = pyemu.Pst(os.path.join(\"master_glm\",\"freyberg_pp.pst\"))\n",
    "pst.write_par_summary_table(filename=\"none\")"
   ]
  },
  {
   "cell_type": "markdown",
   "metadata": {},
   "source": [
    "Load and extract the portion of the geostatistical prior parameter covariance matrix we need for the integrated FOSM analyses build in to PESTPP-GLM"
   ]
  },
  {
   "cell_type": "code",
   "execution_count": null,
   "metadata": {
    "execution": {
     "iopub.execute_input": "2020-11-14T03:55:16.492188Z",
     "iopub.status.busy": "2020-11-14T03:55:16.491788Z",
     "iopub.status.idle": "2020-11-14T03:55:17.352896Z",
     "shell.execute_reply": "2020-11-14T03:55:17.353334Z"
    }
   },
   "outputs": [],
   "source": [
    "cov = pyemu.Cov.from_binary(os.path.join(t_d,\"prior_cov.jcb\"))\n",
    "cov.get(pst.adj_par_names).to_ascii(os.path.join(t_d,\"glm_prior.cov\"))"
   ]
  },
  {
   "cell_type": "markdown",
   "metadata": {},
   "source": [
    " set some control options specific to PESTPP-GLM.  Each of these has a solid internal default but we have found these setting work well for this synthetic problem."
   ]
  },
  {
   "cell_type": "code",
   "execution_count": null,
   "metadata": {
    "execution": {
     "iopub.execute_input": "2020-11-14T03:55:17.356401Z",
     "iopub.status.busy": "2020-11-14T03:55:17.356002Z",
     "iopub.status.idle": "2020-11-14T03:55:17.357742Z",
     "shell.execute_reply": "2020-11-14T03:55:17.358031Z"
    }
   },
   "outputs": [],
   "source": [
    "pst.parameter_groups.loc[:,\"forcen\"] = \"always_2\""
   ]
  },
  {
   "cell_type": "code",
   "execution_count": null,
   "metadata": {
    "execution": {
     "iopub.execute_input": "2020-11-14T03:55:17.372498Z",
     "iopub.status.busy": "2020-11-14T03:55:17.361530Z",
     "iopub.status.idle": "2020-11-14T03:55:17.918498Z",
     "shell.execute_reply": "2020-11-14T03:55:17.917998Z"
    }
   },
   "outputs": [],
   "source": [
    "pst.control_data.noptmax = 6\n",
    "print(pst.pestpp_options)\n",
    "pst.pestpp_options = {\"forecasts\":pst.pestpp_options[\"forecasts\"]}\n",
    "pst.pestpp_options[\"n_iter_base\"] = -1\n",
    "pst.pestpp_options[\"n_iter_super\"] = pst.control_data.noptmax\n",
    "pst.pestpp_options[\"glm_num_reals\"] = 50\n",
    "pst.pestpp_options[\"parcov\"] = \"glm_prior.cov\"\n",
    "pst.pestpp_options[\"base_jacobian\"] = \"freyberg_reuse.jcb\"\n",
    "pst.pestpp_options[\"glm_normal_form\"] = \"prior\"\n",
    "pst.pestpp_options[\"max_n_super\"] = 80\n",
    "pst.pestpp_options[\"overdue_giveup_fac\"] = 5.0\n",
    "pst.pestpp_options[\"max_run_fail\"] = 3\n",
    "#pst.svd_data.maxsing = 30\n",
    "pst.write(os.path.join(t_d,\"freyberg_pp.pst\"))"
   ]
  },
  {
   "cell_type": "markdown",
   "metadata": {},
   "source": [
    "Copy the existing jacobian over"
   ]
  },
  {
   "cell_type": "code",
   "execution_count": null,
   "metadata": {
    "execution": {
     "iopub.execute_input": "2020-11-14T03:55:17.921665Z",
     "iopub.status.busy": "2020-11-14T03:55:17.920921Z",
     "iopub.status.idle": "2020-11-14T03:55:17.931989Z",
     "shell.execute_reply": "2020-11-14T03:55:17.932311Z"
    }
   },
   "outputs": [],
   "source": [
    "shutil.copy2(os.path.join(\"master_glm\",\"freyberg_pp.jcb\"),\n",
    "             os.path.join(t_d,\"freyberg_reuse.jcb\"))"
   ]
  },
  {
   "cell_type": "markdown",
   "metadata": {},
   "source": [
    "Run in parallel locally..."
   ]
  },
  {
   "cell_type": "code",
   "execution_count": null,
   "metadata": {
    "execution": {
     "iopub.execute_input": "2020-11-14T03:55:17.935091Z",
     "iopub.status.busy": "2020-11-14T03:55:17.934648Z",
     "iopub.status.idle": "2020-11-14T04:43:01.492408Z",
     "shell.execute_reply": "2020-11-14T04:43:01.493029Z"
    }
   },
   "outputs": [],
   "source": [
    "pyemu.os_utils.start_workers(t_d,\"pestpp-glm\",\"freyberg_pp.pst\",num_workers=num_workers,worker_root=\".\",\n",
    "                           master_dir=m_d)"
   ]
  },
  {
   "cell_type": "markdown",
   "metadata": {},
   "source": [
    "### post process\n",
    "\n",
    "Now lets visualize what just happened:"
   ]
  },
  {
   "cell_type": "code",
   "execution_count": null,
   "metadata": {},
   "outputs": [],
   "source": []
  },
  {
   "cell_type": "code",
   "execution_count": null,
   "metadata": {
    "execution": {
     "iopub.execute_input": "2020-11-14T04:43:01.497028Z",
     "iopub.status.busy": "2020-11-14T04:43:01.496545Z",
     "iopub.status.idle": "2020-11-14T04:43:01.805638Z",
     "shell.execute_reply": "2020-11-14T04:43:01.806190Z"
    }
   },
   "outputs": [],
   "source": [
    "df = df=pd.read_csv(os.path.join(m_d,\"freyberg_pp.post.obsen.csv\"),index_col=0)\n",
    "oe = pyemu.ObservationEnsemble.from_dataframe(pst=pst,df=df)"
   ]
  },
  {
   "cell_type": "code",
   "execution_count": null,
   "metadata": {
    "execution": {
     "iopub.execute_input": "2020-11-14T04:43:01.934135Z",
     "iopub.status.busy": "2020-11-14T04:43:01.861183Z",
     "iopub.status.idle": "2020-11-14T04:43:02.189943Z",
     "shell.execute_reply": "2020-11-14T04:43:02.190445Z"
    }
   },
   "outputs": [],
   "source": [
    "#ax = oe.phi_vector.hist()#bins=np.linspace(0,100,20))\n",
    "oe.phi_vector.sort_values().iloc[:20].hist()"
   ]
  },
  {
   "cell_type": "markdown",
   "metadata": {},
   "source": [
    "Here we see the distribution of phi values across the posterior realizations.  Should we accept all of these???  The theoretical phi for each realization that we should accept is number of nonzero obs, but because of model error, we rarely reach that on the first go (this is a determistic symptom what we will look at in depth later in the PESTPP-IES notebook in the context of total error covariance). But, for the time being, to get a \"posterior\" ensemble, we need to throw out the realizations with large phi - lets just take the 20 best:"
   ]
  },
  {
   "cell_type": "code",
   "execution_count": null,
   "metadata": {
    "execution": {
     "iopub.execute_input": "2020-11-14T04:43:02.193418Z",
     "iopub.status.busy": "2020-11-14T04:43:02.192879Z",
     "iopub.status.idle": "2020-11-14T04:43:02.194593Z",
     "shell.execute_reply": "2020-11-14T04:43:02.195089Z"
    }
   },
   "outputs": [],
   "source": [
    "oe_pt = oe#.loc[oe.phi_vector.sort_values().index[:20],:] #just take the 20 lowest phi realizations"
   ]
  },
  {
   "cell_type": "markdown",
   "metadata": {},
   "source": [
    "We can also load and plot the FOSM forecast results along side of the ensemble results - this let's us investigate the validity of the assumed linear relation between parameters and forecasts (the forecast sensitivity vectors):"
   ]
  },
  {
   "cell_type": "code",
   "execution_count": null,
   "metadata": {
    "execution": {
     "iopub.execute_input": "2020-11-14T04:43:02.205985Z",
     "iopub.status.busy": "2020-11-14T04:43:02.205417Z",
     "iopub.status.idle": "2020-11-14T04:43:02.207654Z",
     "shell.execute_reply": "2020-11-14T04:43:02.208142Z"
    }
   },
   "outputs": [],
   "source": [
    "f_df = pd.read_csv(os.path.join(m_d,\"freyberg_pp.pred.usum.csv\"),index_col=0)\n",
    "f_df.index = f_df.index.map(str.lower)\n",
    "f_df"
   ]
  },
  {
   "cell_type": "code",
   "execution_count": null,
   "metadata": {
    "execution": {
     "iopub.execute_input": "2020-11-14T04:43:02.225371Z",
     "iopub.status.busy": "2020-11-14T04:43:02.223470Z",
     "iopub.status.idle": "2020-11-14T04:43:03.000393Z",
     "shell.execute_reply": "2020-11-14T04:43:03.000919Z"
    }
   },
   "outputs": [],
   "source": [
    "obs = pst.observation_data\n",
    "fnames = pst.pestpp_options[\"forecasts\"].split(\",\")\n",
    "for forecast in fnames:\n",
    "    ax = plt.subplot(111)\n",
    "    oe_pt.loc[:,forecast].hist(ax=ax,color=\"b\",alpha=0.5,density=True)\n",
    "    ax.plot([obs.loc[forecast,\"obsval\"],obs.loc[forecast,\"obsval\"]],ax.get_ylim(),\"r\")\n",
    "    axt = plt.twinx()\n",
    "    x,y = pyemu.plot_utils.gaussian_distribution(f_df.loc[forecast,\"prior_mean\"],f_df.loc[forecast,\"prior_stdev\"])\n",
    "    axt.fill_between(x,0,y,facecolor=\"0.5\",alpha=0.25)\n",
    "    x,y = pyemu.plot_utils.gaussian_distribution(f_df.loc[forecast,\"post_mean\"],f_df.loc[forecast,\"post_stdev\"])\n",
    "    axt.fill_between(x,0,y,facecolor=\"b\",alpha=0.25)\n",
    "    axt.set_ylim(0,axt.get_ylim()[1])\n",
    "    axt.set_yticks([])\n",
    "    #ax.set_xlim(oe_pt.loc[:,forecast].min() * .1,oe_pt.loc[:,forecast].max() * 1.5)\n",
    "    #axt.set_xlim(oe_pt.loc[:,forecast].min() * .10,oe_pt.loc[:,forecast].max() * 1.5)\n",
    "    ax.set_title(forecast)\n",
    "    plt.show()"
   ]
  },
  {
   "cell_type": "markdown",
   "metadata": {},
   "source": [
    "Ok, so we see that the assumed linear parameter-forecast relation in the FOSM calculations seems to hold up - yeah!  But, neither the FOSM posterior nor the Monte Carlo posterior cover the truth for several foreacsts.  #sad.  Why is that?  Is it because we are using an imperfect model (yes), because we are using less parameters than we initially acknowledged (maybe).  We will return to this issue in the PESTPP-IES notebooks.\n",
    "\n",
    "Let's now investigate the observations vs cooresponding simulated outputs:"
   ]
  },
  {
   "cell_type": "code",
   "execution_count": null,
   "metadata": {
    "execution": {
     "iopub.execute_input": "2020-11-14T04:43:03.020700Z",
     "iopub.status.busy": "2020-11-14T04:43:03.010813Z",
     "iopub.status.idle": "2020-11-14T04:43:09.855648Z",
     "shell.execute_reply": "2020-11-14T04:43:09.855021Z"
    }
   },
   "outputs": [],
   "source": [
    "nz_obs = pst.observation_data.loc[pst.nnz_obs_names,:].copy()\n",
    "nz_obs.loc[:,\"datetime\"] = pd.to_datetime(nz_obs.obsnme.apply(lambda x: x.split(\"_\")[-1]))\n",
    "\n",
    "for nz_group in pst.nnz_obs_groups:\n",
    "    nz_obs_group = nz_obs.loc[nz_obs.obgnme==nz_group,:]\n",
    "    fig,ax = plt.subplots(1,1,figsize=(10,2))\n",
    "    ax.plot(nz_obs_group.datetime,nz_obs_group.obsval,\"r-\")\n",
    "    [ax.plot(nz_obs_group.datetime,oe_pt.loc[r,nz_obs_group.obsnme],color=\"b\",lw=0.1,alpha=0.5) for r in oe_pt.index]\n",
    "    #mn = oe_base.loc[:,nz_obs_group.obsnme].min()\n",
    "    #mx = oe_base.loc[:,nz_obs_group.obsnme].max()\n",
    "    \n",
    "    #ax.fill_between(nz_obs_group.datetime,mn,mx,fc=\"r\",alpha=0.15)\n",
    "    ax.set_title(nz_group)\n",
    "    #vmin = min(nz_obs_group.obsval.min(),oe_pt.loc[:,nz_obs_group.obsnme].min().min())\n",
    "    #vmax = max(nz_obs_group.obsval.max(),oe_pt.loc[:,nz_obs_group.obsnme].max().max())\n",
    "    vmin = nz_obs_group.obsval.min() * 0.9\n",
    "    vmax = nz_obs_group.obsval.max() * 1.1\n",
    "    ax.set_ylim(vmin,vmax)\n",
    "plt.show()"
   ]
  },
  {
   "cell_type": "markdown",
   "metadata": {},
   "source": [
    "Ok, now we see a problem and this is a problem we can detect without knowing the truth:  The posterior ensemble fails to cover a substantial portion of the observed data - this is due to apparent bias (offsets) as well as undere estimation of variance.  This situation means something is wrong either with the model (likely) or the algorithm/assumptions used for history matching (also likely).  If we use our unusual knowledge of the \"true\" forecast values, we can draw correlation between an improper history matching and biased forecast estimates.  Remember, in the prior monte carlo excersize, we saw that the prior parameter distribution yielded outputs that covered the true forecast values. \n"
   ]
  },
  {
   "cell_type": "code",
   "execution_count": null,
   "metadata": {},
   "outputs": [],
   "source": []
  }
 ],
 "metadata": {
  "kernelspec": {
   "display_name": "Python 3",
   "language": "python",
   "name": "python3"
  },
  "language_info": {
   "codemirror_mode": {
    "name": "ipython",
    "version": 3
   },
   "file_extension": ".py",
   "mimetype": "text/x-python",
   "name": "python",
   "nbconvert_exporter": "python",
   "pygments_lexer": "ipython3",
   "version": "3.8.3"
  }
 },
 "nbformat": 4,
 "nbformat_minor": 2
}
