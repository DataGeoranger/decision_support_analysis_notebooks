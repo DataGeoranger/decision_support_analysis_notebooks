{
 "cells": [
  {
   "cell_type": "markdown",
   "metadata": {
    "slideshow": {
     "slide_type": "slide"
    }
   },
   "source": [
    "# _\"When the facts change, I change my mind. What do you do, sir?\"_\n",
    "## --John Maynard Keynes"
   ]
  },
  {
   "cell_type": "markdown",
   "metadata": {
    "slideshow": {
     "slide_type": "slide"
    }
   },
   "source": [
    "# Bayes' Theorem\n",
    "$$P\\left(\\boldsymbol{\\theta}|\\textbf{d}\\right)=\\frac{P\\left(\\textbf{d}|\\boldsymbol{\\theta}\\right) P\\left(\\boldsymbol{\\theta}\\right)}{P\\left(\\textbf{d}\\right)}$$\n",
    "\n",
    "#### $\\boldsymbol{\\theta}$  are parameters, $\\mathbf{d}$ are the data\n",
    "#### $|$ Means ``conditional on''"
   ]
  },
  {
   "cell_type": "markdown",
   "metadata": {
    "slideshow": {
     "slide_type": "subslide"
    }
   },
   "source": [
    "## This is really just rearranging the law of conditional probabilities\n",
    "\n",
    "## $P\\left(\\boldsymbol{\\theta}|\\textbf{d}\\right)P\\left(\\textbf{d}\\right)=P\\left(\\textbf{d}|\\boldsymbol{\\theta}\\right) P\\left(\\boldsymbol{\\theta}\\right)$\n",
    "\n",
    "### _Um, what?_"
   ]
  },
  {
   "cell_type": "markdown",
   "metadata": {
    "slideshow": {
     "slide_type": "slide"
    }
   },
   "source": [
    "## Let's check out a Venn diagram and explore conditional probabilities\n",
    "<img src=\"conditional_probability.png\" style=\"float: left; width: 50%; margin-right: 1%; margin-bottom: 0.5em;\">\n",
    "<p style=\"clear: both;\">\n",
    "By Gnathan87 - Own work, CC0, https://commons.wikimedia.org/w/index.php?curid=15991401"
   ]
  },
  {
   "cell_type": "markdown",
   "metadata": {
    "slideshow": {
     "slide_type": "subslide"
    }
   },
   "source": [
    "## What is the probability of $A$ if we know we are in $B_1$? The equation for this is $P\\left(A|B_1\\right)$"
   ]
  },
  {
   "cell_type": "markdown",
   "metadata": {
    "slideshow": {
     "slide_type": "subslide"
    }
   },
   "source": [
    "## Easy to see this is 100% or $P\\left(A|B_1\\right)=1.0$"
   ]
  },
  {
   "cell_type": "markdown",
   "metadata": {
    "slideshow": {
     "slide_type": "subslide"
    }
   },
   "source": [
    "## As a general rule, we can state \n",
    "$$P\\left(A|B_1\\right)=\\frac{P\\left(A\\cap B_1\\right)}{P\\left(B_1\\right)}$$\n",
    "\n",
    "## or, equivalently \n",
    "$$P\\left(A\\cap B_1\\right)=P\\left(A|B_1\\right)P\\left(B_1\\right)$$"
   ]
  },
  {
   "cell_type": "markdown",
   "metadata": {
    "slideshow": {
     "slide_type": "slide"
    }
   },
   "source": [
    "## So what about $P\\left(A|B_2\\right)$?"
   ]
  },
  {
   "cell_type": "markdown",
   "metadata": {
    "slideshow": {
     "slide_type": "subslide"
    }
   },
   "source": [
    "## Let's check out a Venn diagram and explore conditional probabilities\n",
    "<img src=\"conditional_probability.png\" style=\"float: left; width: 50%; margin-right: 1%; margin-bottom: 0.5em;\">\n",
    "<p style=\"clear: both;\">\n",
    "By Gnathan87 - Own work, CC0, https://commons.wikimedia.org/w/index.php?curid=15991401"
   ]
  },
  {
   "cell_type": "markdown",
   "metadata": {
    "slideshow": {
     "slide_type": "subslide"
    }
   },
   "source": [
    "$$\n",
    "P\\left(A|B_2\\right)=\\frac{P\\left(A\\cap B_2\\right)}{P\\left(B_2\\right)}=\\frac{0.12}{0.12+0.04}=0.75\n",
    "$$"
   ]
  },
  {
   "cell_type": "markdown",
   "metadata": {
    "slideshow": {
     "slide_type": "slide"
    }
   },
   "source": [
    "### So now we can derive Bayes' theorem because joint probabilities are symmetrical. Switching notation to \n",
    "$$\\boldsymbol{\\theta} \\text{ and }\n",
    "\\mathbf{d}$$\n",
    "\n",
    "$$P\\left(\\boldsymbol{\\theta}\\cap \\mathbf{d}\\right)=P\\left(\\mathbf{d}\\cap \\boldsymbol{\\theta}\\right)$$\n",
    "\n",
    "$$P\\left(\\boldsymbol{\\theta}|\\textbf{d}\\right) P\\left(\\textbf{d}\\right) = P\\left(\\textbf{d}|\\boldsymbol{\\theta}\\right) P\\left(\\boldsymbol{\\theta}\\right)$$\n",
    "\n",
    "### With the tiniest little algebra, we get Bayes' theorem -- #boom#!\n",
    "\n",
    "$$P\\left(\\boldsymbol{\\theta}|\\textbf{d}\\right) = \\frac{P\\left(\\textbf{d}|\\boldsymbol{\\theta}\\right) P\\left(\\boldsymbol{\\theta}\\right)}{P\\left(\\textbf{d}\\right)}$$\n"
   ]
  },
  {
   "cell_type": "markdown",
   "metadata": {
    "slideshow": {
     "slide_type": "slide"
    }
   },
   "source": [
    "# So, what does this really mean?:  \n",
    "\n",
    "## Where are my keys??????"
   ]
  },
  {
   "cell_type": "markdown",
   "metadata": {
    "slideshow": {
     "slide_type": "slide"
    }
   },
   "source": [
    "## Let's play with another concrete example, one hinging on life, death, trust, and promises kept!\n",
    "<img src=\"plant.JPG\" style=\"float: left; width: 28%; margin-right: 1%; margin-bottom: 0em;\">\n",
    "<img src=\"dead_plant.JPG\" style=\"float: left; width: 30%; margin-right: 1%; margin-bottom: 0em;\">\n",
    "<p style=\"clear: both;\">"
   ]
  },
  {
   "cell_type": "markdown",
   "metadata": {
    "slideshow": {
     "slide_type": "slide"
    }
   },
   "source": [
    "### You have a plant at home, and you're going to go away for a week.\n",
    "### If it gets watered, its probability of dying is 15%. If it doesn't get watered, it is 80% likely to die.\n",
    "\n",
    "### You ask your partner to water it for you and you are 90% certain they will do it.\n",
    "\n",
    "### We can express this all in terms of probabilities and conditional probabilities."
   ]
  },
  {
   "cell_type": "markdown",
   "metadata": {
    "slideshow": {
     "slide_type": "slide"
    }
   },
   "source": [
    "## First a couple definitions:\n",
    "\n",
    "### $\\theta_w$: partner waters the plant\n",
    "### $\\theta_{nw}$: partner forgets to water the plant\n",
    "### $d_a$: plant is alive when we return \n",
    "### $d_d$: plant is dead when we return"
   ]
  },
  {
   "cell_type": "markdown",
   "metadata": {
    "slideshow": {
     "slide_type": "subslide"
    }
   },
   "source": [
    "### $\\mathbf{d} = [d_a,d_d]$: a vector of all possible outcomes\n",
    "### $\\boldsymbol{\\theta} = [\\theta_w,\\theta_{nw}]$: a vector of all possible outcomes"
   ]
  },
  {
   "cell_type": "markdown",
   "metadata": {
    "slideshow": {
     "slide_type": "slide"
    }
   },
   "source": [
    "## Cool, so let's express what we know in probability equations"
   ]
  },
  {
   "cell_type": "markdown",
   "metadata": {},
   "source": [
    "$$P\\left(d_d | \\theta_w\\right)=0.15$$\n",
    "$$P\\left(d_d | \\theta_{nw}\\right)=0.8$$\n",
    "$$P\\left(\\theta_w\\right)=0.9$$\n",
    "$$P\\left(\\theta_{nw}\\right)=0.1$$\n",
    "\n"
   ]
  },
  {
   "cell_type": "markdown",
   "metadata": {
    "slideshow": {
     "slide_type": "slide"
    }
   },
   "source": [
    "## And we can assign these as python variables to get our maths groove on"
   ]
  },
  {
   "cell_type": "code",
   "execution_count": null,
   "metadata": {
    "execution": {
     "iopub.execute_input": "2020-11-11T08:17:38.887593Z",
     "iopub.status.busy": "2020-11-11T08:17:38.887017Z",
     "iopub.status.idle": "2020-11-12T07:29:09.615219Z",
     "shell.execute_reply": "2020-11-12T07:29:09.607190Z"
    }
   },
   "outputs": [],
   "source": [
    "PDd_thw=0.15\n",
    "PDd_thnw = 0.8\n",
    "Prior_thw = 0.9\n",
    "Prior_thnw = 0.1"
   ]
  },
  {
   "cell_type": "markdown",
   "metadata": {
    "slideshow": {
     "slide_type": "slide"
    }
   },
   "source": [
    "## Now we can ask questions like, \"what is the probability the plant is dead\"\n",
    "\n",
    "### To calculate, we add up all the conditional probablities like this:\n",
    "$$P\\left(d_d\\right) = P\\left(d_d\\cap\\theta_w\\right) + P\\left(d_d\\cap\\theta_{nw}\\right)$$\n",
    "\n",
    "$$P\\left(d_d\\right) = P\\left(d_d|\\theta_w\\right)P\\left(\\theta_w\\right) + P\\left(d_d|\\theta_{nw}\\right)P\\left(\\theta_{nw}\\right)$$"
   ]
  },
  {
   "cell_type": "code",
   "execution_count": null,
   "metadata": {
    "execution": {
     "iopub.execute_input": "2020-11-12T07:29:09.619951Z",
     "iopub.status.busy": "2020-11-12T07:29:09.619951Z",
     "iopub.status.idle": "2020-11-12T07:29:09.642748Z",
     "shell.execute_reply": "2020-11-12T07:29:09.637543Z"
    }
   },
   "outputs": [],
   "source": [
    "PDd = PDd_thw*Prior_thw + PDd_thnw*Prior_thnw\n",
    "print ('Probability Plant is dead = {0:.3f}'.format(PDd))"
   ]
  },
  {
   "cell_type": "markdown",
   "metadata": {
    "slideshow": {
     "slide_type": "slide"
    }
   },
   "source": [
    "## Since we only have two discrete outcomes, the probability of the plant being alive is simply \n",
    "\n",
    "$$P\\left(d_a\\right)=1-P\\left(d_d\\right)$$"
   ]
  },
  {
   "cell_type": "code",
   "execution_count": null,
   "metadata": {
    "execution": {
     "iopub.execute_input": "2020-11-12T07:29:09.652653Z",
     "iopub.status.busy": "2020-11-12T07:29:09.652653Z",
     "iopub.status.idle": "2020-11-12T07:29:09.675043Z",
     "shell.execute_reply": "2020-11-12T07:29:09.673031Z"
    }
   },
   "outputs": [],
   "source": [
    "PDa = 1-PDd\n",
    "print ('Probability Plant is alive = {0:.3f}'.format(PDa))"
   ]
  },
  {
   "cell_type": "markdown",
   "metadata": {
    "slideshow": {
     "slide_type": "slide"
    }
   },
   "source": [
    "# Great! So we can incorporate all the possible arrangements of events to determine likely outcomes. But....what we are _really_ interested in is what we learn with partial information. This is where household harmony can be made or broken!"
   ]
  },
  {
   "cell_type": "markdown",
   "metadata": {
    "slideshow": {
     "slide_type": "slide"
    }
   },
   "source": [
    "## Example 1: We come home and see that the plant is dead (crumbs!). Who to blame? What is the probability that our partner forgot to water it? \n",
    "\n",
    "## Mathematically, this is;\n",
    "$$P\\left(\\theta_{nw} | d_d\\right)$$"
   ]
  },
  {
   "cell_type": "markdown",
   "metadata": {
    "slideshow": {
     "slide_type": "subslide"
    }
   },
   "source": [
    "## We can use Bayes' theorem to evaluate this new information (e.g. we have observed that the plant is dead)\n",
    "\n",
    "$$P\\left(\\theta_{nw} | d_d\\right) = \\frac{P\\left(d_d | \\theta_{nw}\\right) P\\left(\\theta_{nw}\\right)}{P\\left(d_d\\right)}$$"
   ]
  },
  {
   "cell_type": "code",
   "execution_count": null,
   "metadata": {
    "execution": {
     "iopub.execute_input": "2020-11-12T07:29:09.676331Z",
     "iopub.status.busy": "2020-11-12T07:29:09.676331Z",
     "iopub.status.idle": "2020-11-12T07:29:09.689578Z",
     "shell.execute_reply": "2020-11-12T07:29:09.689578Z"
    },
    "slideshow": {
     "slide_type": "subslide"
    }
   },
   "outputs": [],
   "source": [
    "PthnwDd = PDd_thnw * Prior_thnw/ PDd\n",
    "print (\"Probability that partner failed to water the plant\")\n",
    "print(\"having seen it's dead is {0:.3f}\".format(PthnwDd))"
   ]
  },
  {
   "cell_type": "markdown",
   "metadata": {
    "slideshow": {
     "slide_type": "slide"
    }
   },
   "source": [
    "## Alternatively, we can see the converse: How likely did our partner water the plant given that it's alive?"
   ]
  },
  {
   "cell_type": "markdown",
   "metadata": {
    "slideshow": {
     "slide_type": "subslide"
    }
   },
   "source": [
    "$$P\\left(\\theta_w | d_a\\right) = \\frac{P\\left(d_a | \\theta_w\\right) P\\left(\\theta_w\\right)}{P\\left(d_a\\right)}$$"
   ]
  },
  {
   "cell_type": "code",
   "execution_count": null,
   "metadata": {
    "execution": {
     "iopub.execute_input": "2020-11-12T07:29:09.699711Z",
     "iopub.status.busy": "2020-11-12T07:29:09.697679Z",
     "iopub.status.idle": "2020-11-12T07:29:09.710637Z",
     "shell.execute_reply": "2020-11-12T07:29:09.710637Z"
    }
   },
   "outputs": [],
   "source": [
    "PthwDa = (1-PDd_thw) * Prior_thw/ PDa\n",
    "print (\"Probability that partner did water the plant\")\n",
    "print (\"having seen it's alive is {0:.3f}\".format(PthwDa))"
   ]
  },
  {
   "cell_type": "markdown",
   "metadata": {
    "slideshow": {
     "slide_type": "slide"
    }
   },
   "source": [
    "## How likely did our partner forget given that we see it's alive?"
   ]
  },
  {
   "cell_type": "markdown",
   "metadata": {},
   "source": [
    "$$P\\left(\\theta_{nw} | d_a\\right) = \\frac{P\\left(d_a | \\theta_{nw}\\right) P\\left(\\theta_{nw}\\right)}{P\\left(d_a\\right)}$$"
   ]
  },
  {
   "cell_type": "code",
   "execution_count": null,
   "metadata": {
    "execution": {
     "iopub.execute_input": "2020-11-12T07:29:09.723426Z",
     "iopub.status.busy": "2020-11-12T07:29:09.718660Z",
     "iopub.status.idle": "2020-11-12T07:29:09.725059Z",
     "shell.execute_reply": "2020-11-12T07:29:09.725059Z"
    }
   },
   "outputs": [],
   "source": [
    "PthnwDa = (1-PDd_thnw) * Prior_thnw/ PDa\n",
    "print (\"Probability that partner forgot to water the plant\")\n",
    "print(\"having seen it's alive is {0:.3f}\".format(PthnwDa))"
   ]
  },
  {
   "cell_type": "markdown",
   "metadata": {
    "slideshow": {
     "slide_type": "slide"
    }
   },
   "source": [
    "# Right then, but we are in the world of continuous variables, not simple discrete probabilities\n",
    "\n",
    "## This means that we end up with probability density functions rather than discrete probabilities and the denominator on the RHS gets tricky to evaluate (the total probability). Luckily, we are mostly conncerned with finding the parameters that maximize the probability and less concerned with the probability itself."
   ]
  },
  {
   "cell_type": "markdown",
   "metadata": {
    "slideshow": {
     "slide_type": "slide"
    }
   },
   "source": [
    "<img src=\"Fig10.3_Bayes_figure.png\" style=\"float: left; width: 75%; margin-right: 1%; margin-bottom: 0.5em;\">\n"
   ]
  },
  {
   "cell_type": "markdown",
   "metadata": {
    "slideshow": {
     "slide_type": "slide"
    }
   },
   "source": [
    "## This is a learning framework, where what we know at the end is a function of what we started with and what we _learned_ through a new experiment (model) or new information"
   ]
  },
  {
   "cell_type": "markdown",
   "metadata": {
    "slideshow": {
     "slide_type": "subslide"
    }
   },
   "source": [
    "$$\\underbrace{P(\\boldsymbol{\\theta}|\\textbf{d})}_{\\substack{\\text{posterior} \\\\ \\text{pdf}}} \\propto \\underbrace{\\mathcal{L}( \\boldsymbol{\\theta}| \\textbf{d})}_{\\substack{\\text{likelihood} \\\\ \\text{function}}} \\underbrace{P(\\boldsymbol{\\theta})}_{\\substack{\\text{prior } \\\\ \\text{pdf}}} $$"
   ]
  },
  {
   "cell_type": "markdown",
   "metadata": {
    "slideshow": {
     "slide_type": "subslide"
    }
   },
   "source": [
    "$$\\underbrace{P(\\boldsymbol{\\theta}|\\textbf{d})}_{\\substack{\\text{what we} \\\\ \\text{know now}}} \\propto \\underbrace{\\mathcal{L}(\\boldsymbol{\\theta} | \\textbf{d})}_{\\substack{\\text{what we} \\\\ \\text{learned}}} \\underbrace{P(\\boldsymbol{\\theta})}_{\\substack{\\text{what we} \\\\ \\text{knew}}} $$"
   ]
  },
  {
   "cell_type": "markdown",
   "metadata": {
    "slideshow": {
     "slide_type": "slide"
    }
   },
   "source": [
    "## Let's look at an interactive example of how distributions behave"
   ]
  },
  {
   "cell_type": "code",
   "execution_count": null,
   "metadata": {
    "execution": {
     "iopub.execute_input": "2020-11-12T07:29:09.733658Z",
     "iopub.status.busy": "2020-11-12T07:29:09.733658Z",
     "iopub.status.idle": "2020-11-12T07:29:39.721995Z",
     "shell.execute_reply": "2020-11-12T07:29:39.721995Z"
    },
    "slideshow": {
     "slide_type": "subslide"
    }
   },
   "outputs": [],
   "source": [
    "import bayes_helper as bh\n",
    "from ipywidgets import interact\n"
   ]
  },
  {
   "cell_type": "code",
   "execution_count": null,
   "metadata": {
    "execution": {
     "iopub.execute_input": "2020-11-12T07:29:39.730057Z",
     "iopub.status.busy": "2020-11-12T07:29:39.730057Z",
     "iopub.status.idle": "2020-11-12T07:29:41.955859Z",
     "shell.execute_reply": "2020-11-12T07:29:41.955859Z"
    },
    "slideshow": {
     "slide_type": "subslide"
    }
   },
   "outputs": [],
   "source": [
    "bh.plot_posterior(prior_mean=10, prior_std=11, likeli_mean = 25, likeli_std=5)"
   ]
  },
  {
   "cell_type": "code",
   "execution_count": null,
   "metadata": {
    "execution": {
     "iopub.execute_input": "2020-11-12T07:29:41.979597Z",
     "iopub.status.busy": "2020-11-12T07:29:41.979597Z",
     "iopub.status.idle": "2020-11-12T07:29:44.061811Z",
     "shell.execute_reply": "2020-11-12T07:29:44.061811Z"
    },
    "slideshow": {
     "slide_type": "subslide"
    }
   },
   "outputs": [],
   "source": [
    "interact(bh.plot_posterior,\n",
    "         prior_mean=(10, 100., .5), likeli_mean=(10,200, 1), \n",
    "         prior_std=(.1, 50, 1), likeli_std=(.1, 20, .1));"
   ]
  },
  {
   "cell_type": "markdown",
   "metadata": {
    "slideshow": {
     "slide_type": "slide"
    }
   },
   "source": [
    "# Here's a \"mandatory coin-flipping example\" \n",
    "#### _Borrowed from Bayesian Methods for Hackers. The full Github repository is available at_\n",
    "http://github.com/Probabilistic-Programming-and-Bayesian-Methods-for-Hackers.\n",
    "\n",
    "\n",
    "### We can start with an \"ignorance\" prior - equal probabilities of all outcomes (both, in the case---heads and tails). By flipping a coin we can observer outcomes, constantly updating and learning from each experiment."
   ]
  },
  {
   "cell_type": "code",
   "execution_count": null,
   "metadata": {
    "execution": {
     "iopub.execute_input": "2020-11-12T07:29:44.072893Z",
     "iopub.status.busy": "2020-11-12T07:29:44.067839Z",
     "iopub.status.idle": "2020-11-12T07:30:02.446422Z",
     "shell.execute_reply": "2020-11-12T07:30:02.448431Z"
    }
   },
   "outputs": [],
   "source": [
    "max_trials = 10000\n",
    "\n",
    "\n",
    "# The code below can be passed over, as it is currently not important, plus it\n",
    "# uses advanced topics we have not covered yet. \n",
    "%matplotlib inline\n",
    "from IPython.core.pylabtools import figsize\n",
    "import numpy as np\n",
    "from matplotlib import pyplot as plt\n",
    "figsize(11, 9)\n",
    "\n",
    "import scipy.stats as stats\n",
    "\n",
    "dist = stats.beta\n",
    "n_trials = [0, 1, 2, 3, 4, 5, 8, 15, 50, max_trials]\n",
    "data = stats.bernoulli.rvs(0.5, size=n_trials[-1])\n",
    "x = np.linspace(0, 1, 100)\n",
    "\n",
    "# For the already prepared, I'm using Binomial's conj. prior.\n",
    "for k, N in enumerate(n_trials):\n",
    "    sx = plt.subplot(len(n_trials) / 2, 2, k + 1)\n",
    "    plt.xlabel(\"$p$, probability of heads\") \\\n",
    "        if k in [0, len(n_trials) - 1] else None\n",
    "    plt.setp(sx.get_yticklabels(), visible=False)\n",
    "    heads = data[:N].sum()\n",
    "    y = dist.pdf(x, 1 + heads, 1 + N - heads)\n",
    "    plt.plot(x, y, label=\"observe %d tosses,\\n %d heads\" % (N, heads))\n",
    "    plt.fill_between(x, 0, y, color=\"#348ABD\", alpha=0.4)\n",
    "    plt.vlines(0.5, 0, 4, color=\"k\", linestyles=\"--\", lw=1)\n",
    "\n",
    "    leg = plt.legend()\n",
    "    leg.get_frame().set_alpha(0.4)\n",
    "    plt.autoscale(tight=True)\n",
    "\n",
    "\n",
    "plt.suptitle(\"Bayesian updating of posterior probabilities\",\n",
    "             y=1.02,\n",
    "             fontsize=14)\n",
    "\n",
    "plt.tight_layout()"
   ]
  },
  {
   "cell_type": "markdown",
   "metadata": {},
   "source": [
    "The posterior probabilities are represented by the curves, and our uncertainty is proportional to the width of the curve. As the plot above shows, as we start to observe data our posterior probabilities start to shift and move around. Eventually, as we observe more and more data (coin-flips), our probabilities will tighten closer and closer around the true value of $p=0.5$ (marked by a dashed line). \n",
    "\n",
    "Notice that the plots are not always *peaked* at 0.5. There is no reason it should be: recall we assumed we did not have a prior opinion of what $p$ is. In fact, if we observe quite extreme data, say 8 flips and only 1 observed heads, our distribution would look very biased *away* from lumping around 0.5 (with no prior opinion, how confident would you feel betting on a fair coin after observing 8 tails and 1 head). As more data accumulates, we would see more and more probability being assigned at $p=0.5$, though never all of it.\n"
   ]
  },
  {
   "cell_type": "markdown",
   "metadata": {},
   "source": [
    "<img src=\"bayes_editorial.png\" style=\"float: left; width: 75%; margin-right: 1%; margin-bottom: 0.5em;\">\n"
   ]
  },
  {
   "cell_type": "code",
   "execution_count": null,
   "metadata": {},
   "outputs": [],
   "source": []
  },
  {
   "cell_type": "code",
   "execution_count": null,
   "metadata": {},
   "outputs": [],
   "source": []
  }
 ],
 "metadata": {
  "celltoolbar": "Slideshow",
  "kernelspec": {
   "display_name": "Python 3",
   "language": "python",
   "name": "python3"
  },
  "language_info": {
   "codemirror_mode": {
    "name": "ipython",
    "version": 3
   },
   "file_extension": ".py",
   "mimetype": "text/x-python",
   "name": "python",
   "nbconvert_exporter": "python",
   "pygments_lexer": "ipython3",
   "version": "3.8.6"
  },
  "widgets": {
   "application/vnd.jupyter.widget-state+json": {
    "state": {
     "0d1fd2bf8bdf46ddb4ad2531b673fd3c": {
      "model_module": "@jupyter-widgets/base",
      "model_module_version": "1.2.0",
      "model_name": "LayoutModel",
      "state": {
       "_model_module": "@jupyter-widgets/base",
       "_model_module_version": "1.2.0",
       "_model_name": "LayoutModel",
       "_view_count": null,
       "_view_module": "@jupyter-widgets/base",
       "_view_module_version": "1.2.0",
       "_view_name": "LayoutView",
       "align_content": null,
       "align_items": null,
       "align_self": null,
       "border": null,
       "bottom": null,
       "display": null,
       "flex": null,
       "flex_flow": null,
       "grid_area": null,
       "grid_auto_columns": null,
       "grid_auto_flow": null,
       "grid_auto_rows": null,
       "grid_column": null,
       "grid_gap": null,
       "grid_row": null,
       "grid_template_areas": null,
       "grid_template_columns": null,
       "grid_template_rows": null,
       "height": null,
       "justify_content": null,
       "justify_items": null,
       "left": null,
       "margin": null,
       "max_height": null,
       "max_width": null,
       "min_height": null,
       "min_width": null,
       "object_fit": null,
       "object_position": null,
       "order": null,
       "overflow": null,
       "overflow_x": null,
       "overflow_y": null,
       "padding": null,
       "right": null,
       "top": null,
       "visibility": null,
       "width": null
      }
     },
     "0ee6ae7a0f4d49b68bc518f536bc5e1f": {
      "model_module": "@jupyter-widgets/controls",
      "model_module_version": "1.5.0",
      "model_name": "VBoxModel",
      "state": {
       "_dom_classes": [
        "widget-interact"
       ],
       "_model_module": "@jupyter-widgets/controls",
       "_model_module_version": "1.5.0",
       "_model_name": "VBoxModel",
       "_view_count": null,
       "_view_module": "@jupyter-widgets/controls",
       "_view_module_version": "1.5.0",
       "_view_name": "VBoxView",
       "box_style": "",
       "children": [
        "IPY_MODEL_fe18a2768cd344aa814ee08e31fbc0e3",
        "IPY_MODEL_4469f9437927473385c07442bf1cc107",
        "IPY_MODEL_1a9085afe1e649ad9cf2b798064e6d31",
        "IPY_MODEL_be7ee071bc8b4a7a90161ed769eec613",
        "IPY_MODEL_e74a392b6bd24929809b8535f5a3176d",
        "IPY_MODEL_edc68cf3ba2348bfae2334bf9bb127cb",
        "IPY_MODEL_458cc5febc8149b099763d71383fa45b"
       ],
       "layout": "IPY_MODEL_c9d0c1c8cca9442da00846bf56b63494"
      }
     },
     "1a9085afe1e649ad9cf2b798064e6d31": {
      "model_module": "@jupyter-widgets/controls",
      "model_module_version": "1.5.0",
      "model_name": "IntSliderModel",
      "state": {
       "_dom_classes": [],
       "_model_module": "@jupyter-widgets/controls",
       "_model_module_version": "1.5.0",
       "_model_name": "IntSliderModel",
       "_view_count": null,
       "_view_module": "@jupyter-widgets/controls",
       "_view_module_version": "1.5.0",
       "_view_name": "IntSliderView",
       "continuous_update": true,
       "description": "likeli_mean",
       "description_tooltip": null,
       "disabled": false,
       "layout": "IPY_MODEL_0d1fd2bf8bdf46ddb4ad2531b673fd3c",
       "max": 200,
       "min": 10,
       "orientation": "horizontal",
       "readout": true,
       "readout_format": "d",
       "step": 1,
       "style": "IPY_MODEL_f2f80d80f584450f93b626a85647c41d",
       "value": 105
      }
     },
     "4469f9437927473385c07442bf1cc107": {
      "model_module": "@jupyter-widgets/controls",
      "model_module_version": "1.5.0",
      "model_name": "FloatSliderModel",
      "state": {
       "_dom_classes": [],
       "_model_module": "@jupyter-widgets/controls",
       "_model_module_version": "1.5.0",
       "_model_name": "FloatSliderModel",
       "_view_count": null,
       "_view_module": "@jupyter-widgets/controls",
       "_view_module_version": "1.5.0",
       "_view_name": "FloatSliderView",
       "continuous_update": true,
       "description": "prior_std",
       "description_tooltip": null,
       "disabled": false,
       "layout": "IPY_MODEL_72eea7b267be4e52b9621de8b9fdbc17",
       "max": 50.0,
       "min": 0.1,
       "orientation": "horizontal",
       "readout": true,
       "readout_format": ".2f",
       "step": 1.0,
       "style": "IPY_MODEL_49b65cfec96d4ccaa618fe8702cdb340",
       "value": 24.1
      }
     },
     "458cc5febc8149b099763d71383fa45b": {
      "model_module": "@jupyter-widgets/output",
      "model_module_version": "1.0.0",
      "model_name": "OutputModel",
      "state": {
       "_dom_classes": [],
       "_model_module": "@jupyter-widgets/output",
       "_model_module_version": "1.0.0",
       "_model_name": "OutputModel",
       "_view_count": null,
       "_view_module": "@jupyter-widgets/output",
       "_view_module_version": "1.0.0",
       "_view_name": "OutputView",
       "layout": "IPY_MODEL_45ac87c00dfc4e63b20e7408388edb32",
       "msg_id": "",
       "outputs": [
        {
         "data": {
          "image/png": "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\n",
          "text/plain": "<Figure size 432x288 with 1 Axes>"
         },
         "metadata": {
          "needs_background": "light"
         },
         "output_type": "display_data"
        }
       ]
      }
     },
     "45ac87c00dfc4e63b20e7408388edb32": {
      "model_module": "@jupyter-widgets/base",
      "model_module_version": "1.2.0",
      "model_name": "LayoutModel",
      "state": {
       "_model_module": "@jupyter-widgets/base",
       "_model_module_version": "1.2.0",
       "_model_name": "LayoutModel",
       "_view_count": null,
       "_view_module": "@jupyter-widgets/base",
       "_view_module_version": "1.2.0",
       "_view_name": "LayoutView",
       "align_content": null,
       "align_items": null,
       "align_self": null,
       "border": null,
       "bottom": null,
       "display": null,
       "flex": null,
       "flex_flow": null,
       "grid_area": null,
       "grid_auto_columns": null,
       "grid_auto_flow": null,
       "grid_auto_rows": null,
       "grid_column": null,
       "grid_gap": null,
       "grid_row": null,
       "grid_template_areas": null,
       "grid_template_columns": null,
       "grid_template_rows": null,
       "height": null,
       "justify_content": null,
       "justify_items": null,
       "left": null,
       "margin": null,
       "max_height": null,
       "max_width": null,
       "min_height": null,
       "min_width": null,
       "object_fit": null,
       "object_position": null,
       "order": null,
       "overflow": null,
       "overflow_x": null,
       "overflow_y": null,
       "padding": null,
       "right": null,
       "top": null,
       "visibility": null,
       "width": null
      }
     },
     "49b65cfec96d4ccaa618fe8702cdb340": {
      "model_module": "@jupyter-widgets/controls",
      "model_module_version": "1.5.0",
      "model_name": "SliderStyleModel",
      "state": {
       "_model_module": "@jupyter-widgets/controls",
       "_model_module_version": "1.5.0",
       "_model_name": "SliderStyleModel",
       "_view_count": null,
       "_view_module": "@jupyter-widgets/base",
       "_view_module_version": "1.2.0",
       "_view_name": "StyleView",
       "description_width": "",
       "handle_color": null
      }
     },
     "540c39aa64504174bd977fd2d32dcb9f": {
      "model_module": "@jupyter-widgets/controls",
      "model_module_version": "1.5.0",
      "model_name": "DescriptionStyleModel",
      "state": {
       "_model_module": "@jupyter-widgets/controls",
       "_model_module_version": "1.5.0",
       "_model_name": "DescriptionStyleModel",
       "_view_count": null,
       "_view_module": "@jupyter-widgets/base",
       "_view_module_version": "1.2.0",
       "_view_name": "StyleView",
       "description_width": ""
      }
     },
     "5ccd9ba666f04b89a87682f39fbad9ee": {
      "model_module": "@jupyter-widgets/controls",
      "model_module_version": "1.5.0",
      "model_name": "DescriptionStyleModel",
      "state": {
       "_model_module": "@jupyter-widgets/controls",
       "_model_module_version": "1.5.0",
       "_model_name": "DescriptionStyleModel",
       "_view_count": null,
       "_view_module": "@jupyter-widgets/base",
       "_view_module_version": "1.2.0",
       "_view_name": "StyleView",
       "description_width": ""
      }
     },
     "6d56b0222ce049e7b6ac6e0585b5c110": {
      "model_module": "@jupyter-widgets/base",
      "model_module_version": "1.2.0",
      "model_name": "LayoutModel",
      "state": {
       "_model_module": "@jupyter-widgets/base",
       "_model_module_version": "1.2.0",
       "_model_name": "LayoutModel",
       "_view_count": null,
       "_view_module": "@jupyter-widgets/base",
       "_view_module_version": "1.2.0",
       "_view_name": "LayoutView",
       "align_content": null,
       "align_items": null,
       "align_self": null,
       "border": null,
       "bottom": null,
       "display": null,
       "flex": null,
       "flex_flow": null,
       "grid_area": null,
       "grid_auto_columns": null,
       "grid_auto_flow": null,
       "grid_auto_rows": null,
       "grid_column": null,
       "grid_gap": null,
       "grid_row": null,
       "grid_template_areas": null,
       "grid_template_columns": null,
       "grid_template_rows": null,
       "height": null,
       "justify_content": null,
       "justify_items": null,
       "left": null,
       "margin": null,
       "max_height": null,
       "max_width": null,
       "min_height": null,
       "min_width": null,
       "object_fit": null,
       "object_position": null,
       "order": null,
       "overflow": null,
       "overflow_x": null,
       "overflow_y": null,
       "padding": null,
       "right": null,
       "top": null,
       "visibility": null,
       "width": null
      }
     },
     "72eea7b267be4e52b9621de8b9fdbc17": {
      "model_module": "@jupyter-widgets/base",
      "model_module_version": "1.2.0",
      "model_name": "LayoutModel",
      "state": {
       "_model_module": "@jupyter-widgets/base",
       "_model_module_version": "1.2.0",
       "_model_name": "LayoutModel",
       "_view_count": null,
       "_view_module": "@jupyter-widgets/base",
       "_view_module_version": "1.2.0",
       "_view_name": "LayoutView",
       "align_content": null,
       "align_items": null,
       "align_self": null,
       "border": null,
       "bottom": null,
       "display": null,
       "flex": null,
       "flex_flow": null,
       "grid_area": null,
       "grid_auto_columns": null,
       "grid_auto_flow": null,
       "grid_auto_rows": null,
       "grid_column": null,
       "grid_gap": null,
       "grid_row": null,
       "grid_template_areas": null,
       "grid_template_columns": null,
       "grid_template_rows": null,
       "height": null,
       "justify_content": null,
       "justify_items": null,
       "left": null,
       "margin": null,
       "max_height": null,
       "max_width": null,
       "min_height": null,
       "min_width": null,
       "object_fit": null,
       "object_position": null,
       "order": null,
       "overflow": null,
       "overflow_x": null,
       "overflow_y": null,
       "padding": null,
       "right": null,
       "top": null,
       "visibility": null,
       "width": null
      }
     },
     "72f3e3b10f8442c7ad16507c1c113f90": {
      "model_module": "@jupyter-widgets/base",
      "model_module_version": "1.2.0",
      "model_name": "LayoutModel",
      "state": {
       "_model_module": "@jupyter-widgets/base",
       "_model_module_version": "1.2.0",
       "_model_name": "LayoutModel",
       "_view_count": null,
       "_view_module": "@jupyter-widgets/base",
       "_view_module_version": "1.2.0",
       "_view_name": "LayoutView",
       "align_content": null,
       "align_items": null,
       "align_self": null,
       "border": null,
       "bottom": null,
       "display": null,
       "flex": null,
       "flex_flow": null,
       "grid_area": null,
       "grid_auto_columns": null,
       "grid_auto_flow": null,
       "grid_auto_rows": null,
       "grid_column": null,
       "grid_gap": null,
       "grid_row": null,
       "grid_template_areas": null,
       "grid_template_columns": null,
       "grid_template_rows": null,
       "height": null,
       "justify_content": null,
       "justify_items": null,
       "left": null,
       "margin": null,
       "max_height": null,
       "max_width": null,
       "min_height": null,
       "min_width": null,
       "object_fit": null,
       "object_position": null,
       "order": null,
       "overflow": null,
       "overflow_x": null,
       "overflow_y": null,
       "padding": null,
       "right": null,
       "top": null,
       "visibility": null,
       "width": null
      }
     },
     "7a7e16e1c6504cefa4124fd0adff7db1": {
      "model_module": "@jupyter-widgets/base",
      "model_module_version": "1.2.0",
      "model_name": "LayoutModel",
      "state": {
       "_model_module": "@jupyter-widgets/base",
       "_model_module_version": "1.2.0",
       "_model_name": "LayoutModel",
       "_view_count": null,
       "_view_module": "@jupyter-widgets/base",
       "_view_module_version": "1.2.0",
       "_view_name": "LayoutView",
       "align_content": null,
       "align_items": null,
       "align_self": null,
       "border": null,
       "bottom": null,
       "display": null,
       "flex": null,
       "flex_flow": null,
       "grid_area": null,
       "grid_auto_columns": null,
       "grid_auto_flow": null,
       "grid_auto_rows": null,
       "grid_column": null,
       "grid_gap": null,
       "grid_row": null,
       "grid_template_areas": null,
       "grid_template_columns": null,
       "grid_template_rows": null,
       "height": null,
       "justify_content": null,
       "justify_items": null,
       "left": null,
       "margin": null,
       "max_height": null,
       "max_width": null,
       "min_height": null,
       "min_width": null,
       "object_fit": null,
       "object_position": null,
       "order": null,
       "overflow": null,
       "overflow_x": null,
       "overflow_y": null,
       "padding": null,
       "right": null,
       "top": null,
       "visibility": null,
       "width": null
      }
     },
     "98eac7a88438437fafb678d4ef87071d": {
      "model_module": "@jupyter-widgets/base",
      "model_module_version": "1.2.0",
      "model_name": "LayoutModel",
      "state": {
       "_model_module": "@jupyter-widgets/base",
       "_model_module_version": "1.2.0",
       "_model_name": "LayoutModel",
       "_view_count": null,
       "_view_module": "@jupyter-widgets/base",
       "_view_module_version": "1.2.0",
       "_view_name": "LayoutView",
       "align_content": null,
       "align_items": null,
       "align_self": null,
       "border": null,
       "bottom": null,
       "display": null,
       "flex": null,
       "flex_flow": null,
       "grid_area": null,
       "grid_auto_columns": null,
       "grid_auto_flow": null,
       "grid_auto_rows": null,
       "grid_column": null,
       "grid_gap": null,
       "grid_row": null,
       "grid_template_areas": null,
       "grid_template_columns": null,
       "grid_template_rows": null,
       "height": null,
       "justify_content": null,
       "justify_items": null,
       "left": null,
       "margin": null,
       "max_height": null,
       "max_width": null,
       "min_height": null,
       "min_width": null,
       "object_fit": null,
       "object_position": null,
       "order": null,
       "overflow": null,
       "overflow_x": null,
       "overflow_y": null,
       "padding": null,
       "right": null,
       "top": null,
       "visibility": null,
       "width": null
      }
     },
     "9c51cccf6030479a9cac185c97d4fd2f": {
      "model_module": "@jupyter-widgets/controls",
      "model_module_version": "1.5.0",
      "model_name": "SliderStyleModel",
      "state": {
       "_model_module": "@jupyter-widgets/controls",
       "_model_module_version": "1.5.0",
       "_model_name": "SliderStyleModel",
       "_view_count": null,
       "_view_module": "@jupyter-widgets/base",
       "_view_module_version": "1.2.0",
       "_view_name": "StyleView",
       "description_width": "",
       "handle_color": null
      }
     },
     "be7ee071bc8b4a7a90161ed769eec613": {
      "model_module": "@jupyter-widgets/controls",
      "model_module_version": "1.5.0",
      "model_name": "FloatSliderModel",
      "state": {
       "_dom_classes": [],
       "_model_module": "@jupyter-widgets/controls",
       "_model_module_version": "1.5.0",
       "_model_name": "FloatSliderModel",
       "_view_count": null,
       "_view_module": "@jupyter-widgets/controls",
       "_view_module_version": "1.5.0",
       "_view_name": "FloatSliderView",
       "continuous_update": true,
       "description": "likeli_std",
       "description_tooltip": null,
       "disabled": false,
       "layout": "IPY_MODEL_6d56b0222ce049e7b6ac6e0585b5c110",
       "max": 20.0,
       "min": 0.1,
       "orientation": "horizontal",
       "readout": true,
       "readout_format": ".2f",
       "step": 0.1,
       "style": "IPY_MODEL_e758eda8589b4807941fb5c06caa03ff",
       "value": 10.0
      }
     },
     "c9d0c1c8cca9442da00846bf56b63494": {
      "model_module": "@jupyter-widgets/base",
      "model_module_version": "1.2.0",
      "model_name": "LayoutModel",
      "state": {
       "_model_module": "@jupyter-widgets/base",
       "_model_module_version": "1.2.0",
       "_model_name": "LayoutModel",
       "_view_count": null,
       "_view_module": "@jupyter-widgets/base",
       "_view_module_version": "1.2.0",
       "_view_name": "LayoutView",
       "align_content": null,
       "align_items": null,
       "align_self": null,
       "border": null,
       "bottom": null,
       "display": null,
       "flex": null,
       "flex_flow": null,
       "grid_area": null,
       "grid_auto_columns": null,
       "grid_auto_flow": null,
       "grid_auto_rows": null,
       "grid_column": null,
       "grid_gap": null,
       "grid_row": null,
       "grid_template_areas": null,
       "grid_template_columns": null,
       "grid_template_rows": null,
       "height": null,
       "justify_content": null,
       "justify_items": null,
       "left": null,
       "margin": null,
       "max_height": null,
       "max_width": null,
       "min_height": null,
       "min_width": null,
       "object_fit": null,
       "object_position": null,
       "order": null,
       "overflow": null,
       "overflow_x": null,
       "overflow_y": null,
       "padding": null,
       "right": null,
       "top": null,
       "visibility": null,
       "width": null
      }
     },
     "e74a392b6bd24929809b8535f5a3176d": {
      "model_module": "@jupyter-widgets/controls",
      "model_module_version": "1.5.0",
      "model_name": "CheckboxModel",
      "state": {
       "_dom_classes": [],
       "_model_module": "@jupyter-widgets/controls",
       "_model_module_version": "1.5.0",
       "_model_name": "CheckboxModel",
       "_view_count": null,
       "_view_module": "@jupyter-widgets/controls",
       "_view_module_version": "1.5.0",
       "_view_name": "CheckboxView",
       "description": "legend",
       "description_tooltip": null,
       "disabled": false,
       "indent": true,
       "layout": "IPY_MODEL_7a7e16e1c6504cefa4124fd0adff7db1",
       "style": "IPY_MODEL_5ccd9ba666f04b89a87682f39fbad9ee",
       "value": true
      }
     },
     "e758eda8589b4807941fb5c06caa03ff": {
      "model_module": "@jupyter-widgets/controls",
      "model_module_version": "1.5.0",
      "model_name": "SliderStyleModel",
      "state": {
       "_model_module": "@jupyter-widgets/controls",
       "_model_module_version": "1.5.0",
       "_model_name": "SliderStyleModel",
       "_view_count": null,
       "_view_module": "@jupyter-widgets/base",
       "_view_module_version": "1.2.0",
       "_view_name": "StyleView",
       "description_width": "",
       "handle_color": null
      }
     },
     "edc68cf3ba2348bfae2334bf9bb127cb": {
      "model_module": "@jupyter-widgets/controls",
      "model_module_version": "1.5.0",
      "model_name": "CheckboxModel",
      "state": {
       "_dom_classes": [],
       "_model_module": "@jupyter-widgets/controls",
       "_model_module_version": "1.5.0",
       "_model_name": "CheckboxModel",
       "_view_count": null,
       "_view_module": "@jupyter-widgets/controls",
       "_view_module_version": "1.5.0",
       "_view_name": "CheckboxView",
       "description": "savefigure",
       "description_tooltip": null,
       "disabled": false,
       "indent": true,
       "layout": "IPY_MODEL_72f3e3b10f8442c7ad16507c1c113f90",
       "style": "IPY_MODEL_540c39aa64504174bd977fd2d32dcb9f",
       "value": false
      }
     },
     "f2f80d80f584450f93b626a85647c41d": {
      "model_module": "@jupyter-widgets/controls",
      "model_module_version": "1.5.0",
      "model_name": "SliderStyleModel",
      "state": {
       "_model_module": "@jupyter-widgets/controls",
       "_model_module_version": "1.5.0",
       "_model_name": "SliderStyleModel",
       "_view_count": null,
       "_view_module": "@jupyter-widgets/base",
       "_view_module_version": "1.2.0",
       "_view_name": "StyleView",
       "description_width": "",
       "handle_color": null
      }
     },
     "fe18a2768cd344aa814ee08e31fbc0e3": {
      "model_module": "@jupyter-widgets/controls",
      "model_module_version": "1.5.0",
      "model_name": "FloatSliderModel",
      "state": {
       "_dom_classes": [],
       "_model_module": "@jupyter-widgets/controls",
       "_model_module_version": "1.5.0",
       "_model_name": "FloatSliderModel",
       "_view_count": null,
       "_view_module": "@jupyter-widgets/controls",
       "_view_module_version": "1.5.0",
       "_view_name": "FloatSliderView",
       "continuous_update": true,
       "description": "prior_mean",
       "description_tooltip": null,
       "disabled": false,
       "layout": "IPY_MODEL_98eac7a88438437fafb678d4ef87071d",
       "max": 100.0,
       "min": 10.0,
       "orientation": "horizontal",
       "readout": true,
       "readout_format": ".2f",
       "step": 0.5,
       "style": "IPY_MODEL_9c51cccf6030479a9cac185c97d4fd2f",
       "value": 55.0
      }
     }
    },
    "version_major": 2,
    "version_minor": 0
   }
  }
 },
 "nbformat": 4,
 "nbformat_minor": 4
}
